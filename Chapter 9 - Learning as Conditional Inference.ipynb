{
 "cells": [
  {
   "cell_type": "markdown",
   "metadata": {
    "heading_collapsed": true
   },
   "source": [
    "# Prologue"
   ]
  },
  {
   "cell_type": "markdown",
   "metadata": {
    "hidden": true
   },
   "source": [
    "The line between \"reasoning\" and \"learning\" is unclear in cognition.\n",
    "Just as reasoning can be seen as a form of conditional inference, so can learning: discovering persistent facts about the world (for example, causal processes or causal properties of objects).\n",
    "By saying that we are learning \"persistent\" facts we are indicating that there is something to infer which we expect to be relevant to many observations over time.\n",
    "Thus, we will formulate learning as inference in a model that (1) has a fixed latent value of interest, the *hypothesis*, and (2) has a sequence of observations, the *data points*. \n",
    "\n",
    "When thinking about learning as inference, there are several key questions. First, what can be inferred about the hypothesis given a certain subset of the observed data? For example, in most cases, you cannot learn much about the weight of an object based on its color. However, if there is a correlation between weight and color -- as is the case in many children's toys -- observing color does allow you to learn about weight. \n",
    "\n",
    "Second, what is the relationship between the amount of input (how much data we've observed) and the knowledge gained? In psychology, this relationship is often characterized with a *learning curve*, representing a belief as a function of amount of data. \n",
    "In general, getting more data allows us to update our beliefs. But some data, in some models, has a much bigger effect. \n",
    "In addition, while knowledge often changes gradually as data is accumulated, it sometimes jumps in non-linear ways; these are usually the most psychologically interesting predictions."
   ]
  },
  {
   "cell_type": "markdown",
   "metadata": {
    "heading_collapsed": true
   },
   "source": [
    "# Example: Learning About Coins"
   ]
  },
  {
   "cell_type": "markdown",
   "metadata": {
    "hidden": true
   },
   "source": [
    "As a simple illustration of learning, imagine that a friend pulls a coin out of her pocket and offers it to you to flip.  You flip it five times and observe a set of all heads:\n",
    "\n",
    "`[H, H, H, H, H]`.\n",
    "\n",
    "Does this seem at all surprising?  To most people, flipping five heads in a row is a minor coincidence but nothing to get excited about.  But suppose you flip it five more times and continue to observe only heads.  Now the data set looks like this:\n",
    "\n",
    "`[H, H, H, H, H, H, H, H, H, H]`\n",
    "\n",
    "Most people would find this a highly suspicious coincidence and begin to suspect that perhaps their friend has rigged this coin in some way -- maybe it's a weighted coin that always comes up heads no matter how you flip it.  This inference could be stronger or weaker, of course, depending on what you believe about your friend or how she seems to act; did she offer a large bet that you would flip more heads than tails?  Now you continue to flip five more times and again observe nothing but heads -- so the data set now consists of 15 heads in a row:\n",
    "\n",
    "`[H, H, H, H, H, H, H, H, H, H, H, H, H, H, H]`\n",
    "\n",
    "Regardless of your prior beliefs, it is almost impossible to resist the inference that the coin is a trick coin.\n",
    "\n",
    "This *learning curve* reflects a highly systematic and rational process of conditional inference.\n",
    "<!--\n",
    "Here's how to describe it using a probabilistic program<ref>following on Griffiths and Tenenbaum, \"From mere coincidences to meaningful discoveries\", Cognition, 2007, who present a more in-depth rational analysis and empirical study of people's sense of coincidence</ref>.  Recall how earlier we used stochastic functions with no inputs, or *thunks*, to describe coins of different weights.  Each such function now represents a hypothesis about the process generating our observations.  In the program below, the function `coin` represents these hypotheses.  The higher-order function `make-coin` takes one input, `weight`, and returns a `coin` thunk with that weight embedded in its definition.\n",
    "-->\n",
    "For simplicity let's consider only two hypotheses, two possible definitions of `coin`, representing a fair coin and a trick coin that produces heads 95% of the time. A priori, how likely is any coin offered up by a friend to be a trick coin?  Of course there is no objective or universal answer to that question, but for the sake of illustration let's assume that the *prior probability* of seeing a trick coin is 1 in a 1000, versus 999 in 1000 for a fair coin."
   ]
  },
  {
   "cell_type": "code",
   "execution_count": null,
   "metadata": {
    "hidden": true
   },
   "outputs": [],
   "source": [
    "\n",
    "observed_data = ['h', 'h', 'h', 'h', 'h']\n",
    "\n",
    "fairPrior = 0.999\n",
    "\n",
    "fairness_posterior = Infer({method: 'enumerate'}, function() {\n",
    "  fair = flip(fairPrior)\n",
    "  coin = dist.Bernoulli({p: fair ? 0.5 : 0.95})\n",
    "  obsFn = function(datum){observe(coin, datum == 'h')}\n",
    "  mapData({data: observed_data}, obsFn)\n",
    "  return {fair: fair}\n",
    "})\n",
    "\n",
    "viz(fairness_posterior)\n"
   ]
  },
  {
   "cell_type": "markdown",
   "metadata": {
    "hidden": true
   },
   "source": [
    "Try varying the number of flips and the number of heads observed.  You should be able to reproduce the intuitive learning curve described above.  Observing 5 heads in a row is not enough to suggest a trick coin, although it does raise the hint of this possibility: its chances are now a few percent, approximately 30 times the baseline chance of 1 in a 1000.  After observing 10 heads in a row, the odds of trick coin and fair coin are now roughly comparable, although fair coin is still a little more likely.  After seeing 15 or more heads in a row without any tails, the odds are now strongly in favor of the trick coin.\n",
    "\n",
    "When exploring learning as a conditional inference, we are particularly interested in the dynamics of how inferred hypotheses change as a function of amount of data (often thought of as time the learner spends acquiring data). We can map out the *trajectory* of learning by plotting a summary of the posterior distribution as a function of the amount of observed data. Here we plot the expectation that the coin is fair in the above example:"
   ]
  },
  {
   "cell_type": "code",
   "execution_count": null,
   "metadata": {
    "hidden": true
   },
   "outputs": [],
   "source": [
    "\n",
    "fairness_posterior = function(observed_data) {\n",
    "  return Infer({method: 'enumerate'}, function() {\n",
    "    fair = flip(0.999)\n",
    "    coin = dist.Bernoulli({p: fair ? 0.5 : 0.95})\n",
    "    obsFn = function(datum){observe(coin, datum == 'h')}\n",
    "    mapData({data: observed_data}, obsFn)\n",
    "    return fair\n",
    "  })\n",
    "}\n",
    "\n",
    "\n",
    "true_weight = 0.9\n",
    "full_data_set = repeat(100, function(){flip(true_weight)?'h':'t'})\n",
    "observed_data_sizes = [1,3,6,10,20,30,50,70,100]\n",
    "estimates = map(function(N) {\n",
    "  return expectation(fairness_posterior(full_data_set.slice(0,N)))\n",
    "}, observed_data_sizes)\n",
    "viz.line(observed_data_sizes, estimates)\n"
   ]
  },
  {
   "cell_type": "markdown",
   "metadata": {
    "hidden": true
   },
   "source": [
    "Notice that different runs of this program can give quite different trajectories, but always end up in the same place in the long run. This is because the data set used for learning is different on each run. This is a feature, not a bug: real learners have idiosyncratic experience, even if they are all drawn from the same distribution. Of course, we are often interested in the average behavior of an ideal learner: we could average this plot over many randomly chosen data sets, simulating many different learners. \n",
    "\n",
    "Study how this learning curve depends on the choice of `fairPrior`.   There is certainly a dependence.  If we set `fairPrior` to be 0.5, equal for the two alternative hypotheses, just 5 heads in a row are sufficient to favor the trick coin by a large margin.  If `fairPrior` is 99 in 100, 10 heads in a row are sufficient.  We have to increase `fairPrior` quite a lot, however, before 15 heads in a row is no longer sufficient evidence for a trick coin: even at `fairPrior` = 0.9999, 15 heads without a single tail still weighs in favor of the trick coin.  This is because the evidence in favor of a trick coin accumulates exponentially as the data set increases in size; each successive `h` flip increases the evidence by nearly a factor of 2.\n",
    "\n",
    "Learning is always about the shift from one state of knowledge to another.  The speed of that shift provides a way to diagnose the strength of a learner's initial beliefs.   Here, the fact that somewhere between 10 and 15 heads in a row is sufficient to convince most people that the coin is a trick coin suggests that for most people, the a priori probability of encountering a trick coin in this situation is somewhere between 1 in a 100 and 1 in 10,000---a reasonable range.  Of course, if you begin with the suspicion that any friend who offers you a coin to flip is liable to have a trick coin in his pocket, then just seeing five heads in a row should already make you very suspicious---as we can see by setting `fairPrior` to a value such as 0.9.\n",
    "  "
   ]
  },
  {
   "cell_type": "markdown",
   "metadata": {
    "heading_collapsed": true
   },
   "source": [
    "# Independent and Exchangeable Sequences"
   ]
  },
  {
   "cell_type": "markdown",
   "metadata": {
    "hidden": true
   },
   "source": [
    "Now that we have illustrated the kinds of questions we are interested in asking of learning models, let's delve into the mathematical structure of models for sequences of observations.\n",
    "\n",
    "If the observations have *nothing* to do with each other, except that they have the same distribution, they are called *identically, independently distributed* (usually abbreviated to i.i.d.). For instance the values that come from calling `flip` are i.i.d. To verify this, let's first check whether the distribution of two flips in a sequence look the same (are \"identical\"):"
   ]
  },
  {
   "cell_type": "code",
   "execution_count": null,
   "metadata": {
    "hidden": true
   },
   "outputs": [],
   "source": [
    "\n",
    "gen_sequence = function() {return repeat(2, flip)}\n",
    "sequence_dist = Infer({method: 'enumerate'}, gen_sequence)\n",
    "viz.marginals(sequence_dist)\n"
   ]
  },
  {
   "cell_type": "markdown",
   "metadata": {
    "hidden": true
   },
   "source": [
    "Now let's check that the first and second flips are independent, by conditioning on the first and seeing that the distribution of the second is unchanged:"
   ]
  },
  {
   "cell_type": "code",
   "execution_count": null,
   "metadata": {
    "hidden": true
   },
   "outputs": [],
   "source": [
    "\n",
    "gen_sequence = function() {return repeat(2, flip)}\n",
    "sequence_cond_dist = function(firstVal) {\n",
    "  return Infer({method: 'enumerate'},\n",
    "    function() {\n",
    "      s = gen_sequence()\n",
    "      condition(s[0] == firstVal)\n",
    "      return {second: s[1]\n",
    "  })\n",
    "}\n",
    "\n",
    "viz(sequence_cond_dist(true))\n",
    "viz(sequence_cond_dist(false))\n"
   ]
  },
  {
   "cell_type": "markdown",
   "metadata": {
    "hidden": true
   },
   "source": [
    "It is easy to build other i.i.d. sequences in WebPPL; we simply construct a stochastic thunk (a random function with no arguments) and evaluate it repeatedly. For instance, here is an extremely simple model for the words in a sentence:"
   ]
  },
  {
   "cell_type": "code",
   "execution_count": null,
   "metadata": {
    "hidden": true
   },
   "outputs": [],
   "source": [
    "\n",
    "words = ['chef', 'omelet', 'soup', 'eat', 'work', 'bake', 'stop']\n",
    "probs = [0.0032, 0.4863, 0.0789, 0.0675, 0.1974, 0.1387, 0.0277]\n",
    "thunk = function() {return dist.Categorical({ps: probs, vs: words})\n",
    "\n",
    "repeat(10, thunk)\n"
   ]
  },
  {
   "cell_type": "markdown",
   "metadata": {
    "hidden": true
   },
   "source": [
    "In this example the different words are indeed independent: you can show as above (by conditioning) that the first word tells you nothing about the second word.\n",
    "However, constructing sequences in this way it is easy to accidentally create a sequence that is not entirely independent. For instance:"
   ]
  },
  {
   "cell_type": "code",
   "execution_count": null,
   "metadata": {
    "hidden": true
   },
   "outputs": [],
   "source": [
    "\n",
    "words = ['chef', 'omelet', 'soup', 'eat', 'work', 'bake', 'stop']\n",
    "probs = (flip() ?\n",
    "             [0.0032, 0.4863, 0.0789, 0.0675, 0.1974, 0.1387, 0.0277] :\n",
    "             [0.3699, 0.1296, 0.0278, 0.4131, 0.0239, 0.0159, 0.0194])\n",
    "thunk = function() {return dist.Categorical({ps: probs, vs: words})\n",
    "\n",
    "repeat(10, thunk)\n"
   ]
  },
  {
   "cell_type": "markdown",
   "metadata": {
    "hidden": true
   },
   "source": [
    "While the sequence looks very similar, the words are not independent: learning about the first word tells us something about the `probs`, which in turn tells us about the second word. Let's show this in a slightly simpler example:"
   ]
  },
  {
   "cell_type": "code",
   "execution_count": null,
   "metadata": {
    "hidden": true
   },
   "outputs": [],
   "source": [
    "\n",
    "gen_sequence = function() {\n",
    "  prob = flip() ? 0.2 : 0.7\n",
    "  thunk = function() {return flip(prob)}\n",
    "  return repeat(2, thunk)\n",
    "}\n",
    "sequence_cond_dist = function(firstVal) {\n",
    "  return Infer({method: 'enumerate'},\n",
    "    function() {\n",
    "      s = gen_sequence()\n",
    "      condition(s[0] == firstVal)\n",
    "      return {second: s[1]}\n",
    "  }\n",
    "\n",
    "\n",
    "viz(sequence_cond_dist(true))\n",
    "viz(sequence_cond_dist(false))\n"
   ]
  },
  {
   "cell_type": "markdown",
   "metadata": {
    "hidden": true
   },
   "source": [
    "Conditioning on the first value tells us something about the second. This model is thus not i.i.d., but it does have a slightly weaker property: it is [exchangeable](https://en.wikipedia.org/wiki/Exchangeable_random_variables), meaning that the probability of a sequence of values remains the same if permuted into any order. When modeling learning it is often reasonable that the order of observations doesn't matter---and hence that the distribution is exchangeable.\n",
    "\n",
    "It turns out that exchangeable sequences can always be modeled in the form used for the last example:\n",
    "[de Finetti's theorem](https://en.wikipedia.org/wiki/De_Finetti%27s_theorem) says that, under certain technical conditions, any exchangeable sequence can be represented as follows, for some `latentPrior` distribution and observation function `f`:\n",
    "\n",
    "```python\n",
    "latent = sample(latentPrior)\n",
    "thunk = function() {return f(latent)}\n",
    "sequence = repeat(2,thunk)\n",
    "```"
   ]
  },
  {
   "cell_type": "markdown",
   "metadata": {
    "heading_collapsed": true,
    "hidden": true
   },
   "source": [
    "## Example: Polya's urn"
   ]
  },
  {
   "cell_type": "markdown",
   "metadata": {
    "hidden": true
   },
   "source": [
    "A classic example is Polya's urn: Imagine an urn that contains some number of white and black balls. On each step we draw a random ball from the urn, note its color, and return it to the urn along with *another* ball of that color. Here is this model in WebPPL:"
   ]
  },
  {
   "cell_type": "code",
   "execution_count": null,
   "metadata": {
    "hidden": true
   },
   "outputs": [],
   "source": [
    "\n",
    "urnSeq = function(urn, numsamples) {\n",
    "  if(numsamples == 0) {\n",
    "    return []\n",
    "  } else {\n",
    "    ball = uniformDraw(urn)\n",
    "    return ball+urnSeq(urn.concat([ball]), numsamples-1)\n",
    "  }\n",
    "}\n",
    "\n",
    "urnDist = Infer({method: 'enumerate'},\n",
    "                    function(){return urnSeq(['b', 'w'],3)})\n",
    "\n",
    "viz(urnDist)\n"
   ]
  },
  {
   "cell_type": "markdown",
   "metadata": {
    "hidden": true
   },
   "source": [
    "Polya's urn is an examples of a \"rich get richer\" dynamic, which has many applications for modeling the real world.\n",
    "Examining the distribution on sequences, it appears that this model is exchangeable---permutations of a sequence all have the same probability (e.g., `bbw`, `bwb`, `wbb` have the same probability; `bww`, `wbw`, `wwb` do too). (Challenge: Can you prove this mathematically?)\n",
    "\n",
    "\n",
    "Because the distribution is exchangeable, we know that there must be an alterative representation in terms of a latent quantity followed by independent samples. The de Finetti representation of this model is:"
   ]
  },
  {
   "cell_type": "code",
   "execution_count": null,
   "metadata": {
    "hidden": true
   },
   "outputs": [],
   "source": [
    "\n",
    "urn_deFinetti = function(urn, numsamples) {\n",
    "  numWhite = sum(map(function(b){return b=='w'},urn))\n",
    "  numBlack = urn.length - numWhite\n",
    "  latentPrior = Beta({a: numWhite, b: numBlack})\n",
    "  latent = sample(latentPrior)\n",
    "  return repeat(numsamples, function() {return flip(latent) ? 'b' : 'w'}).join(\"\")\n",
    "}\n",
    "\n",
    "urnDist = Infer({method: 'forward', samples: 10000},\n",
    "                    function(){return urn_deFinetti(['b', 'w'],3)})\n",
    "\n",
    "viz(urnDist)\n"
   ]
  },
  {
   "cell_type": "markdown",
   "metadata": {
    "hidden": true
   },
   "source": [
    "We sample a shared latent parameter -- in this case, a sample from a Beta distribution -- generating the sequence samples independently given this parameter. We obtain the same distribution on sequences of draws. (Challenge: show mathematically that these two representations give the same distribution.)"
   ]
  },
  {
   "cell_type": "markdown",
   "metadata": {
    "heading_collapsed": true,
    "hidden": true
   },
   "source": [
    "## Ideal learners"
   ]
  },
  {
   "cell_type": "markdown",
   "metadata": {
    "hidden": true
   },
   "source": [
    "Recall that we aimed to formulate learning as inference in a model that has a fixed latent value of interest and a sequence of observations. \n",
    "We now know that this will be possible anytime we are willing to assume the data are exchangeable.\n",
    "\n",
    "Many Bayesian models of learning are formulated in this way. We often write this in the pattern of Bayes' rule:\n",
    "\n",
    "```python\n",
    "Infer({...}, function() {\n",
    "  hypothesis = sample(prior)\n",
    "  obsFn = function(datum){...uses hypothesis...}\n",
    "  mapData({data: observed_data}, obsFn)\n",
    "  return hypothesis\n",
    "}\n",
    "```\n",
    "\n",
    "The `prior` samples a hypothesis from the *hypothesis space*.\n",
    "This distribution expresses our prior knowledge about how the process we observe is likely to work, before we have observed any data.\n",
    "The function `obsFn` captures the relation between the `hypothesis` and a single `datum`, and will usually contain an `observe` statement.\n",
    "(The marginal probability function for `obsFn` is called the *likelihood*. Sometimes `obsFn` itself is colloquially called the likelihood, too.)\n",
    "Here we have used the special operator [`mapData`](http://webppl.readthedocs.io/en/master/functions/arrays.html?highlight=mapData) whose meaning is the same as `map`. We use `mapData` both to remind ourselves that we are expressing the special pattern of observing a sequence of observations, and because some inference algorithms can use this hint to do better learning.\n",
    "\n",
    "Overall this setup of prior, likelihood, and a sequence of observed data (which implies an exchangeable distribution on data!) describes an *ideal learner*."
   ]
  },
  {
   "cell_type": "markdown",
   "metadata": {
    "heading_collapsed": true
   },
   "source": [
    "# Example: Subjective Randomness"
   ]
  },
  {
   "cell_type": "markdown",
   "metadata": {
    "hidden": true
   },
   "source": [
    "What does a random sequence look like? Is 00101 more random than 00000? Is the former a better example of a sequence coming from a fair coin than the latter? Most people say so, but notice that if you flip a fair coin, these two sequences are equally probable. Yet these intuitions about randomness are pervasive and often misunderstood: In 1936 the Zenith corporation attempted to test the hypothesis the people are sensitive to psychic transmissions. During a radio program, a group of psychics would attempt to transmit a randomly drawn sequence of ones and zeros to the listeners. Listeners were asked to write down and then mail in the sequence they perceived. The data thus generated showed no systematic effect of the transmitted sequence---but it did show a strong preference for certain sequences [@Goodfellow1938].\n",
    "The preferred sequences included 00101, 00110, 01100, and 01101.\n",
    "\n",
    "@Griffiths2001 suggested that we can explain this bias if people are considering not the probability of the sequence under a fair-coin process, but the probability that the sequence would have come from a fair process as opposed to a non-uniform (trick) process:"
   ]
  },
  {
   "cell_type": "code",
   "execution_count": null,
   "metadata": {
    "hidden": true
   },
   "outputs": [],
   "source": [
    "\n",
    "is_fair_dist = function(sequence) {\n",
    "  return Infer({method: 'enumerate'},\n",
    "    function () {\n",
    "      is_fair = flip()\n",
    "      real_weight = is_fair ? 0.5 : 0.2\n",
    "      coin = dist.Bernoulli({p: real_weight})\n",
    "      mapData({data: sequence},function(d){observe(coin, d)})\n",
    "      return is_fair\n",
    "  })\n",
    "}\n",
    "\n",
    "print(\"00101 is fair?\")\n",
    "viz(is_fair_dist([false, false, true, false, true]))\n",
    "print(\"00000 is fair?\")\n",
    "viz(is_fair_dist([false, false, false, false, false]))\n"
   ]
  },
  {
   "cell_type": "markdown",
   "metadata": {
    "hidden": true
   },
   "source": [
    "This model posits that when considering randomness people are more concerned with distinguishing a \"truly random\" generative process from a trick process. How do these inferences depend on the amount of data? Explore the learning trajectories of this model."
   ]
  },
  {
   "cell_type": "markdown",
   "metadata": {
    "heading_collapsed": true
   },
   "source": [
    "# Learning a Continuous Parameter"
   ]
  },
  {
   "cell_type": "markdown",
   "metadata": {
    "hidden": true
   },
   "source": [
    "The previous examples represent perhaps simple cases of learning.  Typical learning problems in human cognition or AI are more complex in many ways.  For one, learners are almost always confronted with more than two hypotheses about the causal structure that might underlie their observations.  Indeed, hypothesis spaces for learning are often infinite.  Countably infinite hypothesis spaces are encountered in models of learning for domains traditionally considered to depend on \"discrete\" or \"symbolic\" knowledge; hypothesis spaces of grammars in language acquisition are a canonical example.  Hypothesis spaces for learning in domains traditionally considered more \"continuous\", such as perception or motor control, are typically uncountable and parametrized by one or more continuous dimensions.  In causal learning, both discrete and continuous hypothesis spaces typically arise.  (In statistics, making conditional inferences over continuous hypothesis spaces given data is often called *parameter estimation*.)\n",
    "\n",
    "We can explore a basic case of learning with continuous hypothesis spaces by slightly enriching our coin flipping example.  Suppose instead of simply flipping a coin to determine which of two coin weights to use, we can choose *any* coin weight between 0 and 1.\n",
    "The following program computes conditional inferences about the weight of a coin drawn from a *prior distribution* described by the `Uniform` function, conditioned on a set of observed flips."
   ]
  },
  {
   "cell_type": "code",
   "execution_count": null,
   "metadata": {
    "hidden": true
   },
   "outputs": [],
   "source": [
    "\n",
    "observed_data = ['h', 'h', 'h', 'h', 'h']\n",
    "\n",
    "weightPosterior = Infer({method: 'rejection', samples: 1000}, function() {\n",
    "  coinWeight = sample(dist.Uniform({a: 0, b: 1}))\n",
    "  coin = dist.Bernoulli({p: coinWeight})\n",
    "  obsFn = function(datum){observe(coin, datum == 'h')}\n",
    "  mapData({data: observed_data}, obsFn)\n",
    "  return coinWeight\n",
    "})\n",
    "\n",
    "viz(weightPosterior)\n"
   ]
  },
  {
   "cell_type": "markdown",
   "metadata": {
    "hidden": true
   },
   "source": [
    "<!--\n",
    "Because the output of inference is a set of conditional samples, and each sample is drawn from the uncountable interval $$[0,1]$$, we cannot expect that any of these samples will correspond exactly to the true coin weight or the single most likely value.\n",
    "By binning the samples, however, we can get a meaningful estimate of how likely the coin weight is to fall in any subinterval of $[0,1]$.  We call the distribution of samples produced by conditional inference on data the *conditional distribution*, or sometimes the *posterior distribution*, to contrast with the prior distribution expressing our a priori beliefs.   The code above illustrates both prior and conditional distributions, each with a histogram of 1000 samples.\n",
    "-->\n",
    "Experiment with different data sets, varying both the number of flips and the relative proportion of heads and tails.  How does the shape of the conditional distribution change?  The location of its peak reflects a reasonable \"best guess\" about the underlying coin weight.  It will be roughly equal to the proportion of heads observed, reflecting the fact that our prior knowledge is basically uninformative; a priori, any value of `coinWeight` is equally likely.  The spread of the conditional distribution reflects a notion of confidence in our beliefs about the coin weight.  The distribution becomes more sharply peaked as we observe more data, because each flip, as an independent sample of the process we are learning about, provides additional evidence of the process's unknown parameters.\n",
    "\n",
    " We can again look at the learning trajectory in this example:"
   ]
  },
  {
   "cell_type": "code",
   "execution_count": null,
   "metadata": {
    "hidden": true
   },
   "outputs": [],
   "source": [
    "\n",
    "weightPosterior = function(observed_data){\n",
    "  return Infer({method: 'MCMC', samples: 1000}, function() {\n",
    "    coinWeight = sample(dist.Uniform({a: 0, b: 1}))\n",
    "    coin = dist.Bernoulli({p: coinWeight})\n",
    "    obsFn = function(datum){observe(coin, datum=='h')}\n",
    "    mapData({data: observed_data}, obsFn)\n",
    "    return coinWeight\n",
    "  })\n",
    "}\n",
    "\n",
    "full_data_set = repeat(100, function(){return 'h'})\n",
    "observed_data_sizes = [0,1,2,4,8,16,25,30,50,70,100]\n",
    "estimates = map(function(N) {\n",
    "  return expectation(weightPosterior(full_data_set.slice(0,N)))\n",
    "}, observed_data_sizes)\n",
    "viz.line(observed_data_sizes, estimates)\n"
   ]
  },
  {
   "cell_type": "markdown",
   "metadata": {
    "hidden": true
   },
   "source": [
    "It is easy to see that this model doesn't really capture our intuitions about coins, or at least not in everyday scenarios.  Imagine that you have just received a quarter in change from a store -- or even better, taken it from a nicely wrapped-up roll of quarters that you have just picked up from a bank.  Your prior expectation at this point is that the coin is almost surely fair.  If you flip it 10 times and get 7 heads out of 10, you'll think nothing of it; that could easily happen with a fair coin and there is no reason to suspect the weight of this particular coin is anything other than 0.5.  But running the above query with uniform prior beliefs on the coin weight, you'll guess the weight in this case is around 0.7. Our hypothesis generating function needs to be able to draw `coinWeight` not from a uniform distribution, but from some other function that can encode various expectations about how likely the coin is to be fair, skewed towards heads or tails, and so on. \n",
    "\n",
    "One option is the Beta distribution. The Beta distribution takes parameters `a` and `b`, which describe the prior toward `true` and `false`. (When `a` and `b` are integers they can be can be thought of as *prior* observations.)"
   ]
  },
  {
   "cell_type": "code",
   "execution_count": null,
   "metadata": {
    "hidden": true
   },
   "outputs": [],
   "source": [
    "\n",
    "pseudoCounts = {a: 10, b: 10\n",
    "\n",
    "weightPosterior = function(observed_data){\n",
    "  return Infer({method: 'MCMC', burn:1000, samples: 1000}, function() {\n",
    "    coinWeight = beta(pseudoCounts)\n",
    "    coin = dist.Bernoulli({p: coinWeight})\n",
    "    obsFn = function(datum){observe(coin, datum=='h')}\n",
    "    mapData({data: observed_data}, obsFn)\n",
    "    return coinWeight\n",
    "  })\n",
    "}\n",
    "\n",
    "full_data_set = repeat(100, function(){return 'h'}\n",
    "observed_data_sizes = [0,1,2,4,6,8,10,20,30,40,50,70,100\n",
    "estimates = map(function(N) {\n",
    "  return expectation(weightPosterior(full_data_set.slice(0,N)))\n",
    "}, observed_data_sizes\n",
    "viz.line(observed_data_sizes, estimates\n"
   ]
  },
  {
   "cell_type": "markdown",
   "metadata": {
    "hidden": true
   },
   "source": [
    "We are getting closer, in that learning is far more conservative. In fact, it is too conservative: after getting heads 100 times in a row, most humans will conclude the coin can *only* come up heads. The model, in contrast, still expects the coin to come up tails around 10% of the time. \n",
    "\n",
    "We can of course decrease our priors `a` and `b` to get faster learning, but then we will just go back to our earlier problem. We would like instead to encode in our prior the idea that fair coins (probability 0.5) are much more likely than even moderately unfair coins."
   ]
  },
  {
   "cell_type": "markdown",
   "metadata": {
    "hidden": true
   },
   "source": [
    "## A More Structured Hypothesis Space"
   ]
  },
  {
   "cell_type": "markdown",
   "metadata": {
    "hidden": true
   },
   "source": [
    "The following model explicitly builds in the prior belief that fair coins are likely, and that all unfair coins are equally likely as each other:"
   ]
  },
  {
   "cell_type": "code",
   "execution_count": null,
   "metadata": {
    "hidden": true
   },
   "outputs": [],
   "source": [
    "\n",
    "weightPosterior = function(observed_data){\n",
    "  return Infer({method: 'MCMC', burn:1000, samples: 10000}, function() {\n",
    "    is_fair = flip(0.999)\n",
    "    real_weight = is_fair ? 0.5 : dist.Uniform({a:0, b:1})\n",
    "    coin = dist.Bernoulli({p: real_weight})\n",
    "    obsFn = function(datum){observe(coin, datum=='h')}\n",
    "    mapData({data: observed_data}, obsFn)\n",
    "    return real_weight\n",
    "  })\n",
    "}\n",
    "\n",
    "full_data_set = repeat(50, function(){return 'h'}\n",
    "observed_data_sizes = [0,1,2,4,6,8,10,12,15,20,25,30,40,50\n",
    "estimates = map(function(N) {\n",
    "  return expectation(weightPosterior(full_data_set.slice(0,N)))\n",
    "}, observed_data_sizes\n",
    "viz.line(observed_data_sizes, estimates\n"
   ]
  },
  {
   "cell_type": "markdown",
   "metadata": {
    "hidden": true
   },
   "source": [
    " \n",
    "This model stubbornly believes the coin is fair until around 10 successive heads have been observed. After that, it rapidly concludes that the coin can only come up heads. The shape of this learning trajectory is much closer to what we would expect for humans. \n",
    "This model is a simple example of a *hierarchical prior* which we explore in detail in a later chapter.\n",
    "\n",
    "<!--\n",
    "Importantly, the model *can* infer an intermediate weight such as 0.85, albeit with some reluctance:\n",
    "\n",
    "\n",
    "\n",
    "```python \n",
    "\n",
    "### fold:\n",
    "makeCoin = function(weight) {\n",
    "  return function() {\n",
    "    return flip(weight) ? 'h' : 't\n",
    "  }\n",
    "\n",
    "### \n",
    "\n",
    "priors = {fair:.999, allHeads:.0005, allTails:.00025, bent:.00025}\n",
    "drawWeight = function(priors){\n",
    "  type = sample(dist.Categorical({vs: ['fair', 'allHeads', 'allTails', 'bent'], ps:[priors.fair, priors.allHeads, priors.allTails, priors.bent]}))\n",
    "  return (type == 'fair') ? 0.5 : \n",
    "         (type == 'allHeads') ? 1.0 :\n",
    "         (type == 'allTails') ? 0.0 :\n",
    "         sample(dist.Uniform({a:0, b:1}))\n",
    "}\n",
    "\n",
    "weightPosterior = function(observed_data){\n",
    "  return Infer({method: 'MCMC', burn:2500, samples: 500, lag:100}, function() {\n",
    "    coinWeight = drawWeight(priors)\n",
    "    coinDist = dist.Bernoulli({p: coinWeight})\n",
    "    obsFn = function(datum){observe(coinDist, datum=='h')}\n",
    "    mapData({data: observed_data}, obsFn)\n",
    "    return coinWeight\n",
    "  })\n",
    "}\n",
    "\n",
    "coin = makeCoin(.85)\n",
    "full_data_set = repeat(200, function(){return coin()}\n",
    "observed_data_sizes = [0,2,4,6,10,15,20,25,30,40,50,75,100,200\n",
    "estimates = map(function(N) {\n",
    "  return expectation(weightPosterior(full_data_set.slice(0,N)))\n",
    "}, observed_data_sizes\n",
    "viz.line(observed_data_sizes, estimates\n",
    "```\n",
    "\n",
    "\n",
    "Once again, it takes us a little while to begin to suspect the coin isn't fair. However, once we make that conclusion, we rapidly shift our beliefs about the coin's weight. Interestingly, the speed at which we reject the 'fair coin' hypothesis is related to how far the coin's actual weight is from 0.5 (Why?):\n",
    "\n",
    "\n",
    "```python\n",
    "\n",
    "### fold:\n",
    "makeCoin = function(weight) {\n",
    "  return function() {\n",
    "    return flip(weight) ? 'h' : 't\n",
    "  }\n",
    "\n",
    "### \n",
    "\n",
    "priors = {fair:.999, allHeads:.0005, allTails:.00025, bent:.00025}\n",
    "drawWeight = function(priors){\n",
    "  type = sample(dist.Categorical({vs: ['fair', 'allHeads', 'allTails', 'bent'], ps:[priors.fair, priors.allHeads, priors.allTails, priors.bent]}))\n",
    "  return (type == 'fair') ? 0.5 : \n",
    "         (type == 'allHeads') ? 1.0 :\n",
    "         (type == 'allTails') ? 0.0 :\n",
    "         sample(dist.Uniform({a:0, b:1}))\n",
    "}\n",
    "\n",
    "weightPosterior = function(observed_data){\n",
    "  return Infer({method: 'MCMC', burn:2500, samples: 500, lag:100}, function() {\n",
    "    coinWeight = drawWeight(priors)\n",
    "    coinDist = dist.Bernoulli({p: coinWeight})\n",
    "    obsFn = function(datum){observe(coinDist, datum=='h')}\n",
    "    mapData({data: observed_data}, obsFn)\n",
    "    return coinWeight\n",
    "  })\n",
    "}\n",
    "\n",
    "coin = makeCoin(.7)\n",
    "full_data_set = repeat(200, function(){return coin()}\n",
    "observed_data_sizes = [0,2,4,6,10,15,20,25,30,40,50,75,100,200\n",
    "estimates = map(function(N) {\n",
    "  return expectation(weightPosterior(full_data_set.slice(0,N)))\n",
    "}, observed_data_sizes\n",
    "viz.line(observed_data_sizes, estimates\n",
    "\n",
    "\n",
    "```\n",
    "\n",
    "\n",
    "-->\n",
    "\n",
    "note: lots commented out here\n",
    "\n",
    "<!--TODO: add above explorations as HW problem? here or in heirarchical section?-->"
   ]
  },
  {
   "cell_type": "markdown",
   "metadata": {
    "hidden": true
   },
   "source": [
    "## Example: Estimating Causal Power"
   ]
  },
  {
   "cell_type": "markdown",
   "metadata": {
    "hidden": true
   },
   "source": [
    "<!-- Not really the most compelling example. Maybe cut??\n",
    "NDG: it's here to get ready for causal support later... we could explain better why this is interesting, eg connect more explicitly to cheng and RW? Perhaps model some of Cheng's actual data?-->\n",
    "\n",
    "\n",
    "Modeling beliefs about coins makes for clear examples, but it's obviously not a very important cognitive problem. However, many important cognitive problems have a remarkably similar structure.\n",
    "\n",
    "For instance, a common problem for cognition is *causal learning*: from observed evidence about the co-occurrence of events, attempt to infer the causal structure relating them. An especially simple case that has been studied by psychologists is *elemental causal induction*: causal learning when there are only two events, a potential cause C and a potential effect E. Cheng and colleagues @cheng1997covariation have suggested assuming that C and background effects can both cause E, with a noisy-or interaction. Causal learning then becomes an example of parameter learning,  where the parameter is the \"causal power\" of C to cause E:"
   ]
  },
  {
   "cell_type": "code",
   "execution_count": null,
   "metadata": {
    "hidden": true
   },
   "outputs": [],
   "source": [
    "\n",
    "observed_data = [{C:true, E:true}, {C:true, E:true}, {C:false, E:false}, {C:true, E:true}]\n",
    "\n",
    "causalPowerPost = Infer({method: 'MCMC', samples: 10000}, function() {\n",
    "  # Causal power of C to cause E\n",
    "  cp = dist.Uniform(0, 1)\n",
    "\n",
    "  # Background probability of E\n",
    "  b = dist.Uniform(0, 1)\n",
    "\n",
    "  obsFn = function(datum) {\n",
    "    # The noisy causal relation to get E given C\n",
    "    E = (datum.C and flip(cp)) or flip(b)\n",
    "    condition( E == datum.E)\n",
    "  }\n",
    "\n",
    "  mapData({data: observed_data}, obsFn)\n",
    "\n",
    "  return {causal_power: cp}\n",
    "}\n",
    "\n",
    "viz(causalPowerPost)\n"
   ]
  },
  {
   "cell_type": "markdown",
   "metadata": {
    "hidden": true
   },
   "source": [
    "Experiment with this model: when does it conclude that a causal relation is likely (high `cp`)? Does this match your intuitions? What role does the background rate `b` play? What happens if you change the functional relationship in `obsFn`?"
   ]
  }
 ],
 "metadata": {
  "kernelspec": {
   "display_name": "Python 3",
   "language": "python",
   "name": "python3"
  },
  "language_info": {
   "codemirror_mode": {
    "name": "ipython",
    "version": 3
   },
   "file_extension": ".py",
   "mimetype": "text/x-python",
   "name": "python",
   "nbconvert_exporter": "python",
   "pygments_lexer": "ipython3",
   "version": "3.7.1"
  },
  "toc": {
   "base_numbering": 1,
   "nav_menu": {},
   "number_sections": true,
   "sideBar": true,
   "skip_h1_title": false,
   "title_cell": "Table of Contents",
   "title_sidebar": "Contents",
   "toc_cell": false,
   "toc_position": {},
   "toc_section_display": true,
   "toc_window_display": false
  },
  "varInspector": {
   "cols": {
    "lenName": 16,
    "lenType": 16,
    "lenVar": 40
   },
   "kernels_config": {
    "python": {
     "delete_cmd_postfix": "",
     "delete_cmd_prefix": "del ",
     "library": "var_list.py",
     "varRefreshCmd": "print(var_dic_list())"
    },
    "r": {
     "delete_cmd_postfix": ") ",
     "delete_cmd_prefix": "rm(",
     "library": "var_list.r",
     "varRefreshCmd": "cat(var_dic_list()) "
    }
   },
   "types_to_exclude": [
    "module",
    "function",
    "builtin_function_or_method",
    "instance",
    "_Feature"
   ],
   "window_display": false
  }
 },
 "nbformat": 4,
 "nbformat_minor": 2
}
