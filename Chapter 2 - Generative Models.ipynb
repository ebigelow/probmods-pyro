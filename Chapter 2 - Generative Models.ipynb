{
 "cells": [
  {
   "cell_type": "code",
   "execution_count": 1,
   "metadata": {
    "ExecuteTime": {
     "end_time": "2019-07-07T16:15:50.862983Z",
     "start_time": "2019-07-07T16:15:50.627061Z"
    }
   },
   "outputs": [],
   "source": [
    "%matplotlib inline\n",
    "import matplotlib.pyplot as plt\n",
    "import numpy as np"
   ]
  },
  {
   "cell_type": "code",
   "execution_count": 2,
   "metadata": {
    "ExecuteTime": {
     "end_time": "2019-07-07T16:15:51.186312Z",
     "start_time": "2019-07-07T16:15:50.864598Z"
    }
   },
   "outputs": [],
   "source": [
    "import pyro\n",
    "import pyro.distributions as dist\n",
    "import torch"
   ]
  },
  {
   "cell_type": "code",
   "execution_count": 3,
   "metadata": {
    "ExecuteTime": {
     "end_time": "2019-07-07T16:15:51.192922Z",
     "start_time": "2019-07-07T16:15:51.188826Z"
    }
   },
   "outputs": [],
   "source": [
    "# torch.distributions.Bernoulli(0.3).sample()\n",
    "def flip(p=0.5):\n",
    "    return torch.distributions.Bernoulli(p).sample()\n",
    "\n",
    "def pflip(p=0.5, var='flip'):\n",
    "    return pyro.sample(var, dist.Bernoulli(p))\n",
    "\n",
    "def repeat(f, n):\n",
    "    return [f() for _ in range(n)]\n",
    "\n",
    "def viz(data, to_type=(lambda v: v), plot_args={}):\n",
    "    # Histogram\n",
    "    if type(data) is list:\n",
    "        data = [to_type(d) for d in data]\n",
    "        return plt.hist(data, weights=np.ones(len(data))/float(len(data)), **plot_args)\n",
    "    \n",
    "    if isinstance(data, pyro.distributions.Distribution):\n",
    "        d = {to_type(s): float(data.log_prob(s).exp()) for s in data.enumerate_support()}\n",
    "        return plt.bar(*zip(*d.items()))\n",
    "        \n",
    "        \n",
    "    \n",
    "    "
   ]
  },
  {
   "cell_type": "code",
   "execution_count": 40,
   "metadata": {
    "ExecuteTime": {
     "end_time": "2019-07-07T15:44:33.678625Z",
     "start_time": "2019-07-07T15:44:33.673572Z"
    }
   },
   "outputs": [
    {
     "data": {
      "text/plain": [
       "tensor(3.)"
      ]
     },
     "execution_count": 40,
     "metadata": {},
     "output_type": "execute_result"
    }
   ],
   "source": [
    "flip() + flip() + flip()"
   ]
  },
  {
   "cell_type": "code",
   "execution_count": 137,
   "metadata": {
    "ExecuteTime": {
     "end_time": "2019-07-07T16:07:27.261696Z",
     "start_time": "2019-07-07T16:07:27.006544Z"
    },
    "scrolled": true
   },
   "outputs": [
    {
     "data": {
      "text/plain": [
       "(array([0.123, 0.   , 0.   , 0.374, 0.   , 0.   , 0.372, 0.   , 0.   ,\n",
       "        0.131]), array([0. , 0.3, 0.6, 0.9, 1.2, 1.5, 1.8, 2.1, 2.4, 2.7, 3. ],\n",
       "       dtype=float32), <a list of 10 Patch objects>)"
      ]
     },
     "execution_count": 137,
     "metadata": {},
     "output_type": "execute_result"
    },
    {
     "data": {
      "image/png": "[encoded data removed]",
      "text/plain": [
       "<Figure size 432x288 with 1 Axes>"
      ]
     },
     "metadata": {
      "needs_background": "light"
     },
     "output_type": "display_data"
    }
   ],
   "source": [
    "sumFlips = lambda: flip() + flip() + flip()\n",
    "viz(repeat(sumFlips, 1000))"
   ]
  },
  {
   "cell_type": "code",
   "execution_count": 94,
   "metadata": {
    "ExecuteTime": {
     "end_time": "2019-07-07T15:54:21.955400Z",
     "start_time": "2019-07-07T15:54:21.950736Z"
    }
   },
   "outputs": [
    {
     "data": {
      "text/plain": [
       "6"
      ]
     },
     "execution_count": 94,
     "metadata": {},
     "output_type": "execute_result"
    }
   ],
   "source": [
    "noisy_double = lambda x: (x+x if flip() else x)\n",
    "noisy_double(3)"
   ]
  },
  {
   "cell_type": "code",
   "execution_count": 101,
   "metadata": {
    "ExecuteTime": {
     "end_time": "2019-07-07T15:56:33.664946Z",
     "start_time": "2019-07-07T15:56:33.395218Z"
    }
   },
   "outputs": [
    {
     "data": {
      "text/plain": [
       "(array([0.6, 0. , 0. , 0. , 0. , 0. , 0. , 0. , 0. , 0.4]),\n",
       " array([0. , 0.1, 0.2, 0.3, 0.4, 0.5, 0.6, 0.7, 0.8, 0.9, 1. ]),\n",
       " <a list of 10 Patch objects>)"
      ]
     },
     "execution_count": 101,
     "metadata": {},
     "output_type": "execute_result"
    },
    {
     "data": {
      "image/png": "[encoded data removed]",
      "text/plain": [
       "<Figure size 432x288 with 1 Axes>"
      ]
     },
     "metadata": {
      "needs_background": "light"
     },
     "output_type": "display_data"
    }
   ],
   "source": [
    "fair_coin = lambda: ('h' if flip(0.5) else 't')\n",
    "viz(repeat(fair_coin, 20))"
   ]
  },
  {
   "cell_type": "code",
   "execution_count": 107,
   "metadata": {
    "ExecuteTime": {
     "end_time": "2019-07-07T15:57:05.828069Z",
     "start_time": "2019-07-07T15:57:05.681484Z"
    }
   },
   "outputs": [
    {
     "data": {
      "text/plain": [
       "(array([0.99, 0.  , 0.  , 0.  , 0.  , 0.  , 0.  , 0.  , 0.  , 0.01]),\n",
       " array([0. , 0.1, 0.2, 0.3, 0.4, 0.5, 0.6, 0.7, 0.8, 0.9, 1. ]),\n",
       " <a list of 10 Patch objects>)"
      ]
     },
     "execution_count": 107,
     "metadata": {},
     "output_type": "execute_result"
    },
    {
     "data": {
      "image/png": "[encoded data removed]",
      "text/plain": [
       "<Figure size 432x288 with 1 Axes>"
      ]
     },
     "metadata": {
      "needs_background": "light"
     },
     "output_type": "display_data"
    }
   ],
   "source": [
    "fair_coin = lambda: ('h' if flip(0.95) else 't')\n",
    "viz(repeat(fair_coin, 100))"
   ]
  },
  {
   "cell_type": "code",
   "execution_count": 108,
   "metadata": {
    "ExecuteTime": {
     "end_time": "2019-07-07T15:59:07.301863Z",
     "start_time": "2019-07-07T15:59:07.152265Z"
    }
   },
   "outputs": [
    {
     "data": {
      "text/plain": [
       "(array([0.5, 0. , 0. , 0. , 0. , 0. , 0. , 0. , 0. , 0.5]),\n",
       " array([0. , 0.1, 0.2, 0.3, 0.4, 0.5, 0.6, 0.7, 0.8, 0.9, 1. ]),\n",
       " <a list of 10 Patch objects>)"
      ]
     },
     "execution_count": 108,
     "metadata": {},
     "output_type": "execute_result"
    },
    {
     "data": {
      "image/png": "[encoded data removed]",
      "text/plain": [
       "<Figure size 432x288 with 1 Axes>"
      ]
     },
     "metadata": {
      "needs_background": "light"
     },
     "output_type": "display_data"
    }
   ],
   "source": [
    "def make_coin(weight): \n",
    "    return lambda: ('h' if flip(weight) else 't')\n",
    "\n",
    "fair_coin = make_coin(0.5);\n",
    "viz(repeat(fair_coin, 20))"
   ]
  },
  {
   "cell_type": "code",
   "execution_count": 109,
   "metadata": {
    "ExecuteTime": {
     "end_time": "2019-07-07T15:59:10.787191Z",
     "start_time": "2019-07-07T15:59:10.641621Z"
    }
   },
   "outputs": [
    {
     "data": {
      "text/plain": [
       "(array([0.95, 0.  , 0.  , 0.  , 0.  , 0.  , 0.  , 0.  , 0.  , 0.05]),\n",
       " array([0. , 0.1, 0.2, 0.3, 0.4, 0.5, 0.6, 0.7, 0.8, 0.9, 1. ]),\n",
       " <a list of 10 Patch objects>)"
      ]
     },
     "execution_count": 109,
     "metadata": {},
     "output_type": "execute_result"
    },
    {
     "data": {
      "image/png": "[encoded data removed]",
      "text/plain": [
       "<Figure size 432x288 with 1 Axes>"
      ]
     },
     "metadata": {
      "needs_background": "light"
     },
     "output_type": "display_data"
    }
   ],
   "source": [
    "trick_coin = make_coin(0.95);\n",
    "viz(repeat(trick_coin, 20))"
   ]
  },
  {
   "cell_type": "code",
   "execution_count": 112,
   "metadata": {
    "ExecuteTime": {
     "end_time": "2019-07-07T15:59:22.826225Z",
     "start_time": "2019-07-07T15:59:22.672975Z"
    }
   },
   "outputs": [
    {
     "data": {
      "text/plain": [
       "(array([0.4, 0. , 0. , 0. , 0. , 0. , 0. , 0. , 0. , 0.6]),\n",
       " array([0. , 0.1, 0.2, 0.3, 0.4, 0.5, 0.6, 0.7, 0.8, 0.9, 1. ]),\n",
       " <a list of 10 Patch objects>)"
      ]
     },
     "execution_count": 112,
     "metadata": {},
     "output_type": "execute_result"
    },
    {
     "data": {
      "image/png": "[encoded data removed]",
      "text/plain": [
       "<Figure size 432x288 with 1 Axes>"
      ]
     },
     "metadata": {
      "needs_background": "light"
     },
     "output_type": "display_data"
    }
   ],
   "source": [
    "bent_coin = make_coin(0.25);\n",
    "\n",
    "viz(repeat(bent_coin, 20))"
   ]
  },
  {
   "cell_type": "code",
   "execution_count": 119,
   "metadata": {
    "ExecuteTime": {
     "end_time": "2019-07-07T16:01:33.140904Z",
     "start_time": "2019-07-07T16:01:32.985231Z"
    }
   },
   "outputs": [
    {
     "data": {
      "text/plain": [
       "(array([0.65, 0.  , 0.  , 0.  , 0.  , 0.  , 0.  , 0.  , 0.  , 0.35]),\n",
       " array([0. , 0.1, 0.2, 0.3, 0.4, 0.5, 0.6, 0.7, 0.8, 0.9, 1. ]),\n",
       " <a list of 10 Patch objects>)"
      ]
     },
     "execution_count": 119,
     "metadata": {},
     "output_type": "execute_result"
    },
    {
     "data": {
      "image/png": "[encoded data removed]",
      "text/plain": [
       "<Figure size 432x288 with 1 Axes>"
      ]
     },
     "metadata": {
      "needs_background": "light"
     },
     "output_type": "display_data"
    }
   ],
   "source": [
    "def make_coin(weight): \n",
    "    return lambda: ('h' if flip(weight) else 't')\n",
    "\n",
    "def bend(coin):\n",
    "    return lambda: (make_coin(0.7)() if (coin() == 'h') else make_coin(0.1)())\n",
    "\n",
    "fair_coin = make_coin(0.5)\n",
    "bent_coin = bend(fair_coin)\n",
    "viz(repeat(bent_coin, 100))"
   ]
  },
  {
   "cell_type": "code",
   "execution_count": 156,
   "metadata": {
    "ExecuteTime": {
     "end_time": "2019-07-07T16:09:12.942740Z",
     "start_time": "2019-07-07T16:09:12.718381Z"
    }
   },
   "outputs": [
    {
     "data": {
      "text/plain": [
       "(array([0.01, 0.02, 0.  , 0.05, 0.  , 0.28, 0.  , 0.23, 0.  , 0.31, 0.1 ]),\n",
       " array([ 4.       ,  4.5454545,  5.090909 ,  5.6363635,  6.181818 ,\n",
       "         6.7272725,  7.2727275,  7.818182 ,  8.363636 ,  8.909091 ,\n",
       "         9.454545 , 10.       ], dtype=float32),\n",
       " <a list of 11 Patch objects>)"
      ]
     },
     "execution_count": 156,
     "metadata": {},
     "output_type": "execute_result"
    },
    {
     "data": {
      "image/png": "[encoded data removed]",
      "text/plain": [
       "<Figure size 432x288 with 1 Axes>"
      ]
     },
     "metadata": {
      "needs_background": "light"
     },
     "output_type": "display_data"
    }
   ],
   "source": [
    "def make_coin(weight): \n",
    "    return lambda: flip(weight)\n",
    "coin = make_coin(0.8)\n",
    "\n",
    "viz(repeat(lambda: sum(repeat(coin, 10)), 100), plot_args={'bins': 11})"
   ]
  },
  {
   "cell_type": "code",
   "execution_count": 168,
   "metadata": {
    "ExecuteTime": {
     "end_time": "2019-07-07T16:10:08.859899Z",
     "start_time": "2019-07-07T16:10:08.855259Z"
    }
   },
   "outputs": [
    {
     "name": "stdout",
     "output_type": "stream",
     "text": [
      "True\n"
     ]
    }
   ],
   "source": [
    "lung_cancer = flip(0.01)\n",
    "cold = flip(0.2)\n",
    "cough = (cold or lung_cancer)\n",
    "print(bool(cough))"
   ]
  },
  {
   "cell_type": "code",
   "execution_count": 184,
   "metadata": {
    "ExecuteTime": {
     "end_time": "2019-07-07T16:13:14.213471Z",
     "start_time": "2019-07-07T16:13:14.199473Z"
    }
   },
   "outputs": [
    {
     "data": {
      "text/plain": [
       "{'cough': False,\n",
       " 'fever': False,\n",
       " 'chest_pain': False,\n",
       " 'shortness_of_breath': False}"
      ]
     },
     "execution_count": 184,
     "metadata": {},
     "output_type": "execute_result"
    }
   ],
   "source": [
    "lung_cancer = flip(0.01)\n",
    "TB = flip(0.005)\n",
    "stomach_flu = flip(0.1)\n",
    "cold = flip(0.2)\n",
    "other = flip(0.1)\n",
    "\n",
    "cough = (\n",
    "    (cold and flip(0.5)) or\n",
    "    (lung_cancer and flip(0.3)) or\n",
    "    (TB and flip(0.7)) or\n",
    "    (other and flip(0.01)))\n",
    "\n",
    "fever = (\n",
    "    (cold and flip(0.3)) or\n",
    "    (stomach_flu and flip(0.5)) or\n",
    "    (TB and flip(0.1)) or\n",
    "    (other and flip(0.01)))\n",
    "\n",
    "chest_pain = (\n",
    "    (lung_cancer and flip(0.5)) or\n",
    "    (TB and flip(0.5)) or\n",
    "    (other and flip(0.01)))\n",
    "\n",
    "shortness_of_breath = (\n",
    "    (lung_cancer and flip(0.5)) or\n",
    "    (TB and flip(0.2)) or\n",
    "    (other and flip(0.01)))\n",
    "\n",
    "symptoms = {\n",
    "  'cough': bool(cough),\n",
    "  'fever': bool(fever),\n",
    "  'chest_pain': bool(chest_pain),\n",
    "  'shortness_of_breath': bool(shortness_of_breath),\n",
    "}\n",
    "\n",
    "symptoms"
   ]
  },
  {
   "cell_type": "code",
   "execution_count": 8,
   "metadata": {
    "ExecuteTime": {
     "end_time": "2019-07-07T16:16:23.859942Z",
     "start_time": "2019-07-07T16:16:23.679078Z"
    }
   },
   "outputs": [
    {
     "data": {
      "text/plain": [
       "(array([0.2 , 0.  , 0.  , 0.28, 0.  , 0.  , 0.24, 0.  , 0.  , 0.28]),\n",
       " array([0. , 0.3, 0.6, 0.9, 1.2, 1.5, 1.8, 2.1, 2.4, 2.7, 3. ]),\n",
       " <a list of 10 Patch objects>)"
      ]
     },
     "execution_count": 8,
     "metadata": {},
     "output_type": "execute_result"
    },
    {
     "data": {
      "image/png": "[encoded data removed]",
      "text/plain": [
       "<Figure size 432x288 with 1 Axes>"
      ]
     },
     "metadata": {
      "needs_background": "light"
     },
     "output_type": "display_data"
    }
   ],
   "source": [
    "random_pair = lambda: (bool(flip()), bool(flip()))\n",
    "viz(repeat(random_pair, 100), to_type=str)"
   ]
  },
  {
   "cell_type": "markdown",
   "metadata": {},
   "source": [
    "# Distributions in pyro"
   ]
  },
  {
   "cell_type": "code",
   "execution_count": 16,
   "metadata": {
    "ExecuteTime": {
     "end_time": "2019-07-07T16:18:20.857867Z",
     "start_time": "2019-07-07T16:18:20.854508Z"
    }
   },
   "outputs": [],
   "source": [
    "d = dist.Bernoulli(0.5)"
   ]
  },
  {
   "cell_type": "code",
   "execution_count": 25,
   "metadata": {
    "ExecuteTime": {
     "end_time": "2019-07-07T16:18:56.110837Z",
     "start_time": "2019-07-07T16:18:56.106044Z"
    }
   },
   "outputs": [
    {
     "data": {
      "text/plain": [
       "tensor(-0.6931)"
      ]
     },
     "execution_count": 25,
     "metadata": {},
     "output_type": "execute_result"
    }
   ],
   "source": [
    "d.log_prob(False)"
   ]
  },
  {
   "cell_type": "code",
   "execution_count": null,
   "metadata": {},
   "outputs": [],
   "source": []
  },
  {
   "cell_type": "code",
   "execution_count": 30,
   "metadata": {
    "ExecuteTime": {
     "end_time": "2019-07-07T16:19:49.455601Z",
     "start_time": "2019-07-07T16:19:49.451257Z"
    }
   },
   "outputs": [
    {
     "data": {
      "text/plain": [
       "pyro.distributions.torch.Bernoulli"
      ]
     },
     "execution_count": 30,
     "metadata": {},
     "output_type": "execute_result"
    }
   ],
   "source": [
    "type(d)"
   ]
  },
  {
   "cell_type": "code",
   "execution_count": 33,
   "metadata": {
    "ExecuteTime": {
     "end_time": "2019-07-07T16:21:10.666064Z",
     "start_time": "2019-07-07T16:21:10.661364Z"
    }
   },
   "outputs": [
    {
     "data": {
      "text/plain": [
       "0.2500235913930103"
      ]
     },
     "execution_count": 33,
     "metadata": {},
     "output_type": "execute_result"
    }
   ],
   "source": [
    "plt.np.exp((-0.6931)*2)"
   ]
  },
  {
   "cell_type": "code",
   "execution_count": 45,
   "metadata": {
    "ExecuteTime": {
     "end_time": "2019-07-07T16:24:12.985761Z",
     "start_time": "2019-07-07T16:24:12.980084Z"
    }
   },
   "outputs": [
    {
     "data": {
      "text/plain": [
       "{tensor(0.): 0.5, tensor(1.): 0.5}"
      ]
     },
     "execution_count": 45,
     "metadata": {},
     "output_type": "execute_result"
    }
   ],
   "source": []
  },
  {
   "cell_type": "code",
   "execution_count": 54,
   "metadata": {
    "ExecuteTime": {
     "end_time": "2019-07-07T16:27:06.209459Z",
     "start_time": "2019-07-07T16:27:06.002079Z"
    }
   },
   "outputs": [
    {
     "name": "stdout",
     "output_type": "stream",
     "text": [
      "sample  tensor(0.)\n",
      "log prob  tensor(-0.6931)\n"
     ]
    },
    {
     "data": {
      "text/plain": [
       "<BarContainer object of 2 artists>"
      ]
     },
     "execution_count": 54,
     "metadata": {},
     "output_type": "execute_result"
    },
    {
     "data": {
      "image/png": "[encoded data removed]",
      "text/plain": [
       "<Figure size 432x288 with 1 Axes>"
      ]
     },
     "metadata": {
      "needs_background": "light"
     },
     "output_type": "display_data"
    }
   ],
   "source": [
    "# make a distribution using the Bernoulli constructor:\n",
    "d = dist.Bernoulli(0.5)\n",
    "\n",
    "# sample from it with the sample operator:\n",
    "print('sample ', d.sample())\n",
    "\n",
    "# compute the log-probability of sampling true:\n",
    "print('log prob ', d.log_prob(False))\n",
    "\n",
    "# visualize the distribution:\n",
    "viz(d)"
   ]
  },
  {
   "cell_type": "code",
   "execution_count": 61,
   "metadata": {
    "ExecuteTime": {
     "end_time": "2019-07-07T16:29:58.014063Z",
     "start_time": "2019-07-07T16:29:58.008030Z"
    }
   },
   "outputs": [
    {
     "name": "stdout",
     "output_type": "stream",
     "text": [
      "sample  tensor(-0.0935)\n",
      "foo  tensor(-0.4446)\n"
     ]
    }
   ],
   "source": [
    "# create a gaussian distribution:\n",
    "d = dist.Normal(0, 1)\n",
    "\n",
    "# sample from it:\n",
    "print('sample ', d.sample())\n",
    "\n",
    "# and build more complex processes!\n",
    "foo = lambda: dist.Normal(0, 1).sample() * dist.Normal(0, 1).sample()\n",
    "print('foo ', foo())"
   ]
  },
  {
   "cell_type": "markdown",
   "metadata": {},
   "source": [
    "# Marginal distributions: `Infer`"
   ]
  },
  {
   "cell_type": "code",
   "execution_count": 62,
   "metadata": {
    "ExecuteTime": {
     "end_time": "2019-07-07T22:08:25.104411Z",
     "start_time": "2019-07-07T22:08:25.098647Z"
    }
   },
   "outputs": [],
   "source": [
    "# a complex function, that specifies a complex sampling process:\n",
    "def foo():\n",
    "    a = pyro.sample('a', dist.Normal(0, 1))\n",
    "    b = pyro.sample('b', dist.Normal(0, 1))\n",
    "    return a * b\n",
    "\n",
    "# # make the marginal distributions on return values explicit:\n",
    "# var d = Infer({method: 'forward', samples: 1000}, foo)\n",
    "\n",
    "# # now we can use d as we would any other distribution:\n",
    "# print( sample(d) )\n",
    "# viz(d)"
   ]
  },
  {
   "cell_type": "code",
   "execution_count": 69,
   "metadata": {
    "ExecuteTime": {
     "end_time": "2019-07-07T22:09:21.432346Z",
     "start_time": "2019-07-07T22:09:20.529052Z"
    }
   },
   "outputs": [
    {
     "data": {
      "text/plain": [
       "(array([  3.,   0.,   3.,   1.,   4.,   0.,   6.,  16.,  11.,  37.,  73.,\n",
       "        151., 348., 157.,  70.,  38.,  31.,  27.,  14.,   1.,   1.,   3.,\n",
       "          3.,   0.,   2.]),\n",
       " array([-5.3401237 , -4.9145975 , -4.489071  , -4.0635448 , -3.6380184 ,\n",
       "        -3.212492  , -2.7869656 , -2.3614392 , -1.935913  , -1.5103867 ,\n",
       "        -1.0848603 , -0.659334  , -0.23380765,  0.19171867,  0.617245  ,\n",
       "         1.0427713 ,  1.4682977 ,  1.893824  ,  2.3193502 ,  2.7448766 ,\n",
       "         3.170403  ,  3.5959294 ,  4.021456  ,  4.446982  ,  4.8725085 ,\n",
       "         5.2980347 ], dtype=float32),\n",
       " <a list of 25 Patch objects>)"
      ]
     },
     "execution_count": 69,
     "metadata": {},
     "output_type": "execute_result"
    },
    {
     "data": {
      "image/png": "[encoded data removed]",
      "text/plain": [
       "<Figure size 432x288 with 1 Axes>"
      ]
     },
     "metadata": {
      "needs_background": "light"
     },
     "output_type": "display_data"
    }
   ],
   "source": [
    "# make the marginal distributions on return values explicit:\n",
    "posterior = pyro.infer.Importance(foo, num_samples=1000)\n",
    "marginal = pyro.infer.EmpiricalMarginal(posterior.run())\n",
    "plt.hist(marginal.sample(torch.Size([1000])), bins=25)"
   ]
  },
  {
   "cell_type": "markdown",
   "metadata": {},
   "source": [
    "# Stochastic recursion"
   ]
  },
  {
   "cell_type": "markdown",
   "metadata": {},
   "source": [
    "```javascript\n",
    "var geometric = function (p) {\n",
    "    flip(p) ? 0 : 1 + geometric(p);\n",
    "};\n",
    "var g = Infer({method: 'forward', samples: 1000},\n",
    "              function(){return geometric(0.6)})\n",
    "viz(g)\n",
    "\n",
    "```"
   ]
  },
  {
   "cell_type": "code",
   "execution_count": 75,
   "metadata": {
    "ExecuteTime": {
     "end_time": "2019-07-07T22:15:32.811927Z",
     "start_time": "2019-07-07T22:15:32.168169Z"
    }
   },
   "outputs": [
    {
     "data": {
      "text/plain": [
       "<BarContainer object of 7 artists>"
      ]
     },
     "execution_count": 75,
     "metadata": {},
     "output_type": "execute_result"
    },
    {
     "data": {
      "image/png": "[encoded data removed]",
      "text/plain": [
       "<Figure size 432x288 with 1 Axes>"
      ]
     },
     "metadata": {
      "needs_background": "light"
     },
     "output_type": "display_data"
    }
   ],
   "source": [
    "def geometric(p, t=0):\n",
    "    x = pyro.sample(f\"x_{t}\", pyro.distributions.Bernoulli(p))\n",
    "    return torch.tensor(0) if x else 1 + geometric(p, t + 1)\n",
    "\n",
    "# make the marginal distributions on return values explicit:\n",
    "g = pyro.infer.Importance(geometric, num_samples=1000)\n",
    "marginal = pyro.infer.EmpiricalMarginal(g.run(0.6))\n",
    "samples = marginal.sample(torch.Size([1000]))\n",
    "\n",
    "labels, counts = np.unique(samples, return_counts=True, axis=0)\n",
    "probs = counts / np.sum(counts)\n",
    "plt.bar(range(len(labels)), probs, align='center', tick_label=[str(w) for w in labels])"
   ]
  },
  {
   "cell_type": "markdown",
   "metadata": {},
   "source": [
    "# Persistent Randomness"
   ]
  },
  {
   "cell_type": "markdown",
   "metadata": {},
   "source": [
    "```javascript\n",
    "var eyeColor = mem(function (person) {\n",
    "    return uniformDraw(['blue', 'green', 'brown']);\n",
    "});\n",
    "[eyeColor('bob'), eyeColor('alice'), eyeColor('bob')];\n",
    "```"
   ]
  },
  {
   "cell_type": "code",
   "execution_count": 126,
   "metadata": {
    "ExecuteTime": {
     "end_time": "2019-07-07T22:33:23.668117Z",
     "start_time": "2019-07-07T22:33:23.664148Z"
    }
   },
   "outputs": [],
   "source": [
    "import functools\n",
    "    \n",
    "def memoize(fn=None, **kwargs):\n",
    "    if fn is None:\n",
    "        return lambda _fn: memoize(_fn, **kwargs)\n",
    "    return functools.lru_cache(**kwargs)(fn)"
   ]
  },
  {
   "cell_type": "code",
   "execution_count": 134,
   "metadata": {
    "ExecuteTime": {
     "end_time": "2019-07-07T22:34:00.039685Z",
     "start_time": "2019-07-07T22:34:00.033879Z"
    }
   },
   "outputs": [
    {
     "data": {
      "text/plain": [
       "[tensor(8),\n",
       " tensor(5),\n",
       " tensor(1),\n",
       " tensor(3),\n",
       " tensor(5),\n",
       " tensor(6),\n",
       " tensor(3),\n",
       " tensor(5),\n",
       " tensor(2),\n",
       " tensor(9)]"
      ]
     },
     "execution_count": 134,
     "metadata": {},
     "output_type": "execute_result"
    }
   ],
   "source": [
    "def cat(n=10):\n",
    "    return dist.Categorical(torch.ones(n)).sample()\n",
    "\n",
    "[cat() for _ in range(10)]"
   ]
  },
  {
   "cell_type": "code",
   "execution_count": 137,
   "metadata": {
    "ExecuteTime": {
     "end_time": "2019-07-07T22:34:02.262688Z",
     "start_time": "2019-07-07T22:34:02.256306Z"
    }
   },
   "outputs": [
    {
     "data": {
      "text/plain": [
       "[tensor(5),\n",
       " tensor(5),\n",
       " tensor(5),\n",
       " tensor(5),\n",
       " tensor(5),\n",
       " tensor(5),\n",
       " tensor(5),\n",
       " tensor(5),\n",
       " tensor(5),\n",
       " tensor(5)]"
      ]
     },
     "execution_count": 137,
     "metadata": {},
     "output_type": "execute_result"
    }
   ],
   "source": [
    "@memoize\n",
    "def memcat(n=10):\n",
    "    return dist.Categorical(torch.ones(n)).sample()\n",
    "\n",
    "[memcat() for _ in range(10)]"
   ]
  },
  {
   "cell_type": "markdown",
   "metadata": {},
   "source": [
    "# Intuitive Physics Example"
   ]
  },
  {
   "cell_type": "markdown",
   "metadata": {},
   "source": [
    "```javascript\n",
    "var listMin = function(xs) {\n",
    "  if (xs.length == 1) {\n",
    "    return xs[0]\n",
    "  } else {\n",
    "    return Math.min(xs[0], listMin(rest(xs)))\n",
    "  }\n",
    "}\n",
    "\n",
    "var ground = {shape: 'rect', static: true, dims: [worldWidth, 10],\n",
    "              x: worldWidth/2, y: worldHeight+6};\n",
    "\n",
    "var stableWorld = [\n",
    "  ground,\n",
    "  {shape: 'rect', static: false, dims: [60, 22], x: 175, y: 473},\n",
    "  {shape: 'rect', static: false, dims: [50, 38], x: 159.97995044874122, y: 413},\n",
    "  {shape: 'rect', static: false, dims: [40, 35], x: 166.91912737427202, y: 340},\n",
    "  {shape: 'rect', static: false, dims: [30, 29], x: 177.26195677111082, y: 276},\n",
    "  {shape: 'rect', static: false, dims: [11, 17], x: 168.51354470809122, y: 230}\n",
    "]\n",
    "\n",
    "var almostUnstableWorld = [\n",
    "  ground,\n",
    "  {shape: 'rect', static: false, dims: [24, 22], x: 175, y: 473},\n",
    "  {shape: 'rect', static: false, dims: [15, 38], x: 159.97995044874122, y: 413},\n",
    "  {shape: 'rect', static: false, dims: [11, 35], x: 166.91912737427202, y: 340},\n",
    "  {shape: 'rect', static: false, dims: [11, 29], x: 177.26195677111082, y: 276},\n",
    "  {shape: 'rect', static: false, dims: [11, 17], x: 168.51354470809122, y: 230}\n",
    "]\n",
    "\n",
    "var unstableWorld = [\n",
    "  ground,\n",
    "  {shape: 'rect', static: false, dims: [60, 22], x: 175, y: 473},\n",
    "  {shape: 'rect', static: false, dims: [50, 38], x: 90, y: 413},\n",
    "  {shape: 'rect', static: false, dims: [40, 35], x: 140, y: 340},\n",
    "  {shape: 'rect', static: false, dims: [10, 29], x: 177.26195677111082, y: 276},\n",
    "  {shape: 'rect', static: false, dims: [50, 17], x: 140, y: 230}\n",
    "]\n",
    "\n",
    "var doesTowerFall = function (initialW, finalW) {\n",
    "  var highestY = function (w) { listMin(map(function(obj) { return obj.y }, w)) }\n",
    "  var approxEqual = function (a, b) { Math.abs(a - b) < 1.0 }\n",
    "  !approxEqual(highestY(initialW), highestY(finalW))\n",
    "}\n",
    "\n",
    "var noisify = function (world) {\n",
    "  var perturbX = function (obj) {\n",
    "    var noiseWidth = 10\n",
    "    obj.static ? obj : _.extend({}, obj, {x: uniform(obj.x - noiseWidth, obj.x + noiseWidth) })\n",
    "  }\n",
    "  map(perturbX, world)\n",
    "}\n",
    "\n",
    "var run = function(world) {\n",
    "  var initialWorld = noisify(world)\n",
    "  var finalWorld = physics.run(1000, initialWorld)\n",
    "  doesTowerFall(initialWorld, finalWorld)\n",
    "}\n",
    "\n",
    "viz(\n",
    "  Infer({method: 'forward', samples: 100},\n",
    "        function() { run(stableWorld) }))\n",
    "viz(\n",
    "  Infer({method: 'forward', samples: 100},\n",
    "        function() { run(almostUnstableWorld) }))\n",
    "viz(\n",
    "  Infer({method: 'forward', samples: 100},\n",
    "        function() { run(unstableWorld) }))\n",
    "\n",
    "// uncomment any of these that you'd like to see for yourself\n",
    "// physics.animate(1000, stableWorld)\n",
    "// physics.animate(1000, almostUnstableWorld)\n",
    "// physics.animate(1000, unstableWorld)\n",
    "```"
   ]
  },
  {
   "cell_type": "code",
   "execution_count": null,
   "metadata": {},
   "outputs": [],
   "source": []
  }
 ],
 "metadata": {
  "kernelspec": {
   "display_name": "Python 3",
   "language": "python",
   "name": "python3"
  },
  "language_info": {
   "codemirror_mode": {
    "name": "ipython",
    "version": 3
   },
   "file_extension": ".py",
   "mimetype": "text/x-python",
   "name": "python",
   "nbconvert_exporter": "python",
   "pygments_lexer": "ipython3",
   "version": "3.7.1"
  },
  "toc": {
   "base_numbering": 1,
   "nav_menu": {},
   "number_sections": true,
   "sideBar": true,
   "skip_h1_title": false,
   "title_cell": "Table of Contents",
   "title_sidebar": "Contents",
   "toc_cell": false,
   "toc_position": {},
   "toc_section_display": true,
   "toc_window_display": false
  },
  "varInspector": {
   "cols": {
    "lenName": 16,
    "lenType": 16,
    "lenVar": 40
   },
   "kernels_config": {
    "python": {
     "delete_cmd_postfix": "",
     "delete_cmd_prefix": "del ",
     "library": "var_list.py",
     "varRefreshCmd": "print(var_dic_list())"
    },
    "r": {
     "delete_cmd_postfix": ") ",
     "delete_cmd_prefix": "rm(",
     "library": "var_list.r",
     "varRefreshCmd": "cat(var_dic_list()) "
    }
   },
   "types_to_exclude": [
    "module",
    "function",
    "builtin_function_or_method",
    "instance",
    "_Feature"
   ],
   "window_display": false
  }
 },
 "nbformat": 4,
 "nbformat_minor": 2
}
