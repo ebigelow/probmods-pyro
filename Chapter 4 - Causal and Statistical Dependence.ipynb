{
 "cells": [
  {
   "cell_type": "markdown",
   "metadata": {},
   "source": [
    "# TODO\n",
    "\n",
    "- [ ] viz_marginals?\n",
    "    - [ ] should we have Infer and viz code to handle if model returns a dict of results – is this possible?\n",
    "- [x] test results vs. PMC\n",
    "- [ ] replace WebPPL refs with Pyro"
   ]
  },
  {
   "cell_type": "markdown",
   "metadata": {},
   "source": [
    "# Setup"
   ]
  },
  {
   "cell_type": "code",
   "execution_count": 7,
   "metadata": {
    "ExecuteTime": {
     "end_time": "2019-08-26T05:11:35.199804Z",
     "start_time": "2019-08-26T05:11:35.189324Z"
    }
   },
   "outputs": [],
   "source": [
    "import torch\n",
    "import pyro\n",
    "pyro.enable_validation()\n",
    "\n",
    "from pmc_webppl import flip, pflip, repeat, memoize, factor, cond_var, condition, expectation, Infer, viz\n",
    "\n",
    "%matplotlib inline"
   ]
  },
  {
   "cell_type": "markdown",
   "metadata": {},
   "source": [
    "# Causal Dependence"
   ]
  },
  {
   "cell_type": "markdown",
   "metadata": {},
   "source": [
    "Probabilistic programs encode knowledge about the world in the form of causal models, and it is useful to understand how their function relates to their structure by thinking about some of the intuitive properties of causal relations.\n",
    "Causal relations are local, modular, and directed.\n",
    "They are *modular* in the sense that any two arbitrary events in the world are most likely causally unrelated, or independent.\n",
    "\n",
    "If they are related, or dependent, the relation is only very weak and liable to be ignored in our mental models.\n",
    "Causal structure is *local* in the sense that many events that are related are not related directly: They are connected only through causal chains of several steps, a series of intermediate and more local dependencies.\n",
    "And the basic dependencies are *directed*: when we say that A causes B, it means something different than saying that B causes A.\n",
    "\n",
    "The *causal influence* flows only one way along a causal relation---we expect that manipulating the cause will change the effect, but not vice versa---but *information* can flow both ways---learning about either event will give us information about the other.\n",
    "\n",
    "<br>\n",
    "\n",
    "Let's examine this notion of \"causal dependence\" a little more carefully.\n",
    " What does it mean to believe that A depends causally on B?  Viewing cognition through the lens of probabilistic programs, the most basic notions of causal dependence are in terms of the structure of the program and the flow of evaluation (or \"control\") in its execution.\n",
    "\n",
    "We say that expression A causally depends on expression B if it is necessary to evaluate B in order to evaluate A.\n",
    "(More precisely, expression A depends on expression B if it is ever necessary to evaluate B in order to evaluate A.) For instance, in this program `A` depends on `B` but not on `C` (the final expression depends on both `A` and `C`):"
   ]
  },
  {
   "cell_type": "code",
   "execution_count": 4,
   "metadata": {
    "ExecuteTime": {
     "end_time": "2019-08-26T03:22:22.120850Z",
     "start_time": "2019-08-26T03:22:22.115025Z"
    }
   },
   "outputs": [
    {
     "data": {
      "text/plain": [
       "tensor(0.)"
      ]
     },
     "execution_count": 4,
     "metadata": {},
     "output_type": "execute_result"
    }
   ],
   "source": [
    "C = flip()\n",
    "B = flip()\n",
    "A = flip(0.1) if B else flip(0.4)\n",
    "\n",
    "A or C"
   ]
  },
  {
   "cell_type": "markdown",
   "metadata": {},
   "source": [
    "Note that causal dependence order is weaker than a notion of ordering in time---one expression might happen to be evaluated before another in time (for instance `C` before `A`), but without the second expression requiring the first. (This notion of causal dependence is related to the notion of [flow dependence](http://en.wikipedia.org/wiki/Dependence_analysis) in the programming language literature.)\n",
    "\n",
    "For example, consider a simpler variant of our medical diagnosis scenario:"
   ]
  },
  {
   "cell_type": "code",
   "execution_count": 12,
   "metadata": {
    "ExecuteTime": {
     "end_time": "2019-08-26T05:16:04.953251Z",
     "start_time": "2019-08-26T05:16:02.441024Z"
    }
   },
   "outputs": [
    {
     "data": {
      "application/vnd.jupyter.widget-view+json": {
       "model_id": "09e9885cb6104a8d855a9b34e037951e",
       "version_major": 2,
       "version_minor": 0
      },
      "text/plain": [
       "HBox(children=(IntProgress(value=0, max=1000), HTML(value='')))"
      ]
     },
     "metadata": {},
     "output_type": "display_data"
    },
    {
     "data": {
      "image/png": "[encoded data removed]",
      "text/plain": [
       "<Figure size 432x288 with 1 Axes>"
      ]
     },
     "metadata": {
      "needs_background": "light"
     },
     "output_type": "display_data"
    },
    {
     "data": {
      "application/vnd.jupyter.widget-view+json": {
       "model_id": "56a2d2d6cfce48308d4dc1785358bc62",
       "version_major": 2,
       "version_minor": 0
      },
      "text/plain": [
       "HBox(children=(IntProgress(value=0, max=1000), HTML(value='')))"
      ]
     },
     "metadata": {},
     "output_type": "display_data"
    },
    {
     "data": {
      "image/png": "[encoded data removed]",
      "text/plain": [
       "<Figure size 432x288 with 1 Axes>"
      ]
     },
     "metadata": {
      "needs_background": "light"
     },
     "output_type": "display_data"
    }
   ],
   "source": [
    "def model():\n",
    "    smokes = pflip('smokes', 0.2)\n",
    "    lung_disease = ((smokes and pflip('smokes_ld', 0.1)) or \n",
    "                    pflip('ld', 0.001))\n",
    "    cold = pflip('cold', 0.02)\n",
    "    cough = ((cold and pflip('ld_cold', 0.5)) or\n",
    "             (lung_disease and pflip('ld_cough', 0.5)) or \n",
    "             pflip('cough', 0.001))\n",
    "    fever = ((cold and pflip('cold_fever', 0.3)) or \n",
    "             pflip('fever', 0.01))\n",
    "    chest_pain = ((lung_disease and pflip('ld_chest_pain', 0.2)) or \n",
    "                  pflip('chest_pain', 0.01))\n",
    "    shortness_of_breath = ((lung_disease and pflip('ld_breath', 0.2)) or \n",
    "                           pflip('breath', 0.01))\n",
    "\n",
    "    return torch.tensor([cold, lung_disease])\n",
    "\n",
    "\n",
    "conditioned_model = pyro.condition(model, data={\"cough\": torch.Tensor([1])})\n",
    "\n",
    "d = Infer(lambda: conditioned_model()[0])\n",
    "viz(d, title='cold')\n",
    "d = Infer(lambda: conditioned_model()[1])\n",
    "viz(d, title='lung disease')"
   ]
  },
  {
   "cell_type": "markdown",
   "metadata": {},
   "source": [
    "Here, `cough` depends causally on both `lungDisease` and `cold`, while `fever` depends causally on `cold` but not `lungDisease`.\n",
    "We can see that `cough` depends causally on `smokes` but only indirectly: although `cough` does not call `smokes` directly, in order to evaluate whether a patient coughs, we first have to evaluate the expression `lungDisease` that must itself evaluate `smokes`.\n",
    "\n",
    "\n",
    "We haven't made the notion of \"direct\" causal dependence precise: do we want to say that `cough` depends directly on `cold`, or only directly on the expression `(cold && flip(0.5)) || ...`? This can be resolved in several ways that all result in similar intuitions.\n",
    "For instance, we could first re-write the program into a form where each intermediate expression is named (called A-normal form) and then say direct dependence is when one expression immediately includes the name of another.\n",
    "\n",
    "\n",
    "There are several special situations that are worth mentioning.\n",
    "In some cases, whether expression A requires expression B will depend on the value of some third expression C.\n",
    " For example, here is a particular way of writing a noisy-AND relationship:"
   ]
  },
  {
   "cell_type": "code",
   "execution_count": 38,
   "metadata": {
    "ExecuteTime": {
     "end_time": "2019-08-28T00:17:18.736727Z",
     "start_time": "2019-08-28T00:17:18.730521Z"
    }
   },
   "outputs": [
    {
     "name": "stdout",
     "output_type": "stream",
     "text": [
      "C: True\n",
      "B: False\n",
      "A: False\n"
     ]
    }
   ],
   "source": [
    "C = bool(flip())\n",
    "B = bool(flip())\n",
    "A = ((bool(flip(.85)) if B else False) if C else False)\n",
    "\n",
    "print(f'C: {C}')\n",
    "print(f'B: {B}')\n",
    "print(f'A: {A}')"
   ]
  },
  {
   "cell_type": "markdown",
   "metadata": {},
   "source": [
    "A always requires C, but only evaluates B if C returns true.\n",
    "Under the above definition of causal dependence A depends on B (as well as C).\n",
    "However, one could imagine a more fine-grained notion of causal dependence that would be useful here: we could say that A depends causally on B only in certain *contexts* (just those where C happens to return true and thus A calls B).\n",
    "\n",
    "Another nuance is that an expression that occurs inside a function body may get evaluated several times in a program execution.\n",
    "In such cases it is useful to speak of causal dependence between specific evaluations of two expressions.\n",
    "(However, note that if a specific evaluation of A depends on a specific evaluation of B, then any other specific evaluation of A will depend on *some* specific evaluation of B.\n",
    "Why?)"
   ]
  },
  {
   "cell_type": "markdown",
   "metadata": {},
   "source": [
    "## Detecting Dependence Through Intervention"
   ]
  },
  {
   "cell_type": "markdown",
   "metadata": {},
   "source": [
    "The causal dependence structure is not always immediately clear from examining a program, particularly where there are complex functions calls.\n",
    "Another way to detect (or according to some philosophers, such as Jim Woodward, to *define*) causal dependence is more operational, in terms of \"difference making\": If we manipulate A, does B tend to change? By *manipulate* here we don't mean an assumption in the sense of `condition`.\n",
    "Instead we mean actually edit, or *intervene on*, the program in order to make an expression have a particular value independent of its (former) causes.\n",
    "If setting A to different values in this way changes the distribution of values of B, then B causally depends on A."
   ]
  },
  {
   "cell_type": "code",
   "execution_count": 45,
   "metadata": {
    "ExecuteTime": {
     "end_time": "2019-08-28T00:33:38.247240Z",
     "start_time": "2019-08-28T00:33:37.931853Z"
    }
   },
   "outputs": [
    {
     "data": {
      "application/vnd.jupyter.widget-view+json": {
       "model_id": "c5d73175a8da404c949bf3457682e3f3",
       "version_major": 2,
       "version_minor": 0
      },
      "text/plain": [
       "HBox(children=(IntProgress(value=0, max=1000), HTML(value='')))"
      ]
     },
     "metadata": {},
     "output_type": "display_data"
    },
    {
     "data": {
      "image/png": "[encoded data removed]",
      "text/plain": [
       "<Figure size 432x288 with 1 Axes>"
      ]
     },
     "metadata": {
      "needs_background": "light"
     },
     "output_type": "display_data"
    },
    {
     "data": {
      "application/vnd.jupyter.widget-view+json": {
       "model_id": "660741aa2c97454a81b7368d381ebce8",
       "version_major": 2,
       "version_minor": 0
      },
      "text/plain": [
       "HBox(children=(IntProgress(value=0, max=1000), HTML(value='')))"
      ]
     },
     "metadata": {},
     "output_type": "display_data"
    },
    {
     "data": {
      "image/png": "[encoded data removed]",
      "text/plain": [
       "<Figure size 432x288 with 1 Axes>"
      ]
     },
     "metadata": {
      "needs_background": "light"
     },
     "output_type": "display_data"
    }
   ],
   "source": [
    "def B_do_A(A_val):\n",
    "    def model():\n",
    "        C = pflip('C', 0.5)\n",
    "        B = pflip('B', .1) if A_val else pflip('B', .4)\n",
    "        return B\n",
    "    return Infer(model, posterior_method='enumerate')\n",
    "\n",
    "viz(B_do_A(True))\n",
    "viz(B_do_A(False))"
   ]
  },
  {
   "cell_type": "markdown",
   "metadata": {},
   "source": [
    "This method is known in the causal Bayesian network literature as the \"do operator\" or graph surgery (Pearl, 1988).\n",
    "It is also the basis for interesting theories of counterfactual reasoning by Pearl and colleagues (Halpern, Hitchcock and others).\n",
    "\n",
    "For example, this code represents whether a patient is likely to have a cold or a cough *a priori*, without conditions or observations:"
   ]
  },
  {
   "cell_type": "code",
   "execution_count": 41,
   "metadata": {
    "ExecuteTime": {
     "end_time": "2019-08-28T00:23:15.357869Z",
     "start_time": "2019-08-28T00:23:11.427107Z"
    }
   },
   "outputs": [
    {
     "data": {
      "application/vnd.jupyter.widget-view+json": {
       "model_id": "ed34becbf70c4728bd080e8c7f87b7e4",
       "version_major": 2,
       "version_minor": 0
      },
      "text/plain": [
       "HBox(children=(IntProgress(value=0, max=1000), HTML(value='')))"
      ]
     },
     "metadata": {},
     "output_type": "display_data"
    },
    {
     "data": {
      "image/png": "[encoded data removed]",
      "text/plain": [
       "<Figure size 432x288 with 1 Axes>"
      ]
     },
     "metadata": {
      "needs_background": "light"
     },
     "output_type": "display_data"
    },
    {
     "data": {
      "application/vnd.jupyter.widget-view+json": {
       "model_id": "8fbbbe4964a541c0a736b85e53c499ce",
       "version_major": 2,
       "version_minor": 0
      },
      "text/plain": [
       "HBox(children=(IntProgress(value=0, max=1000), HTML(value='')))"
      ]
     },
     "metadata": {},
     "output_type": "display_data"
    },
    {
     "data": {
      "image/png": "[encoded data removed]",
      "text/plain": [
       "<Figure size 432x288 with 1 Axes>"
      ]
     },
     "metadata": {
      "needs_background": "light"
     },
     "output_type": "display_data"
    }
   ],
   "source": [
    "def model():\n",
    "    smokes = pflip('smokes', 0.2)\n",
    "    lung_disease = ((smokes and pflip('smokes_ld', 0.1)) or \n",
    "                    pflip('ld', 0.001))\n",
    "    cold = pflip('cold', 0.02)\n",
    "    \n",
    "    \n",
    "    cough = ((cold and pflip('ld_cold', 0.5)) or\n",
    "             (lung_disease and pflip('ld_cough', 0.5)) or \n",
    "             pflip('cough', 0.001))\n",
    "    fever = ((cold and pflip('cold_fever', 0.3)) or \n",
    "             pflip('fever', 0.01))\n",
    "    chest_pain = ((lung_disease and pflip('ld_chest_pain', 0.2)) or \n",
    "                  pflip('chest_pain', 0.01))\n",
    "    shortness_of_breath = ((lung_disease and pflip('ld_breath', 0.2)) or \n",
    "                           pflip('breath', 0.01))\n",
    "\n",
    "    return torch.tensor([cold, cough])\n",
    "\n",
    "\n",
    "d = Infer(lambda: model()[0], \n",
    "          posterior_method='enumerate')\n",
    "viz(d, title='cold')\n",
    "\n",
    "d = Infer(lambda: model()[1], \n",
    "          posterior_method='enumerate')\n",
    "viz(d, title='cough')"
   ]
  },
  {
   "cell_type": "markdown",
   "metadata": {},
   "source": [
    "Imagine we now *give* our hypothetical patient a  cold---for example, by exposing him to a strong cocktail of cold viruses.\n",
    "We should not model this as an observation (e.g. by conditioning on having a cold), because we have taken direct action to change the normal causal structure.\n",
    "Instead we implement intervention by directly editing the program: try to first do `var cold = true`, then do `var cold = false`:"
   ]
  },
  {
   "cell_type": "code",
   "execution_count": 43,
   "metadata": {
    "ExecuteTime": {
     "end_time": "2019-08-28T00:25:12.419609Z",
     "start_time": "2019-08-28T00:25:10.308938Z"
    }
   },
   "outputs": [
    {
     "data": {
      "application/vnd.jupyter.widget-view+json": {
       "model_id": "1dc413548de34cfc8a4524ee1f04777f",
       "version_major": 2,
       "version_minor": 0
      },
      "text/plain": [
       "HBox(children=(IntProgress(value=0, max=1000), HTML(value='')))"
      ]
     },
     "metadata": {},
     "output_type": "display_data"
    },
    {
     "data": {
      "image/png": "[encoded data removed]",
      "text/plain": [
       "<Figure size 432x288 with 1 Axes>"
      ]
     },
     "metadata": {
      "needs_background": "light"
     },
     "output_type": "display_data"
    },
    {
     "data": {
      "application/vnd.jupyter.widget-view+json": {
       "model_id": "1e3a729c55d8458e90cdab0fe0b12c5b",
       "version_major": 2,
       "version_minor": 0
      },
      "text/plain": [
       "HBox(children=(IntProgress(value=0, max=1000), HTML(value='')))"
      ]
     },
     "metadata": {},
     "output_type": "display_data"
    },
    {
     "data": {
      "image/png": "[encoded data removed]",
      "text/plain": [
       "<Figure size 432x288 with 1 Axes>"
      ]
     },
     "metadata": {
      "needs_background": "light"
     },
     "output_type": "display_data"
    }
   ],
   "source": [
    "def model():\n",
    "    smokes = pflip('smokes', 0.2)\n",
    "    lung_disease = ((smokes and pflip('smokes_ld', 0.1)) or \n",
    "                    pflip('ld', 0.001))\n",
    "    cold = True\n",
    "    \n",
    "    \n",
    "    cough = ((cold and pflip('ld_cold', 0.5)) or\n",
    "             (lung_disease and pflip('ld_cough', 0.5)) or \n",
    "             pflip('cough', 0.001))\n",
    "    fever = ((cold and pflip('cold_fever', 0.3)) or \n",
    "             pflip('fever', 0.01))\n",
    "    chest_pain = ((lung_disease and pflip('ld_chest_pain', 0.2)) or \n",
    "                  pflip('chest_pain', 0.01))\n",
    "    shortness_of_breath = ((lung_disease and pflip('ld_breath', 0.2)) or \n",
    "                           pflip('breath', 0.01))\n",
    "\n",
    "    return torch.tensor([cold, cough])\n",
    "\n",
    "d = Infer(lambda: model()[0], posterior_method='enumerate')\n",
    "viz(d, title='cold')\n",
    "d = Infer(lambda: model()[1], posterior_method='enumerate')\n",
    "viz(d, title='cough')"
   ]
  },
  {
   "cell_type": "markdown",
   "metadata": {},
   "source": [
    "You should see that the distribution on `cough` changes: coughing becomes more likely if we know that a patient has been given a cold by external intervention.\n",
    "But the reverse is not true:\n",
    "Try forcing the patient to have a  cough (e.g., with some unusual drug or by exposure to some cough-inducing dust) by writing `var cough = true`: the distribution on `cold` is unaffected.\n",
    "We have captured a familiar fact: treating the symptoms of a disease directly doesn't cure the disease (taking cough medicine doesn't make your cold go away), but treating the disease *does* relieve the symptoms.\n",
    "\n",
    "Verify in the program above that the method of manipulation works also to identify causal relations that are only indirect: for example, force a patient to smoke and show that it increases their probability of coughing, but not vice versa.\n",
    "\n",
    "If we are given a program representing a causal model, and the model is simple enough, it is straightforward to read off causal dependencies from the program code itself.\n",
    "However, the notion of causation as difference-making may be easier to compute in much larger, more complex models---and it does not require an analysis of the program code.\n",
    "As long as we can modify (or imagine modifying) the definitions in the program and can run the resulting model, we can compute whether two events or functions are causally related by the difference-making criterion."
   ]
  },
  {
   "cell_type": "markdown",
   "metadata": {},
   "source": [
    "# Statistical Dependence"
   ]
  },
  {
   "cell_type": "markdown",
   "metadata": {},
   "source": [
    "One often hears the warning, \"correlation does not imply causation\".\n",
    "\n",
    "By \"correlation\" we mean a different kind of dependence between events or functions---*statistical dependence*.\n",
    "We say that A and B are statistically dependent, if learning information about A tells us something about B, and vice versa.\n",
    "\n",
    "In the language of webppl: using `condition` to make an assumption about A changes the value expected for B.\n",
    "Statistical dependence is a *symmetric* relation between events referring to how information flows between them when we observe or reason about them.\n",
    "(If conditioning on A changes B, then conditioning on B also changes A.\n",
    "Why?)\n",
    "\n",
    "The fact that we need to be warned against confusing statistical and causal dependence suggests they are related, and indeed, they are.\n",
    "In general, if A causes B, then A and B will be statistically dependent.\n",
    "(One might even say the two notions are \"causally related\", in the sense that causal dependencies give rise to statistical dependencies.)\n",
    "\n",
    "Diagnosing statistical dependence using `condition` is similar to diagnosing causal dependence through intervention. We condition on various values of the possible statistical dependent, here `A`, and see whether it changes the distribution on the target, here `B`:"
   ]
  },
  {
   "cell_type": "code",
   "execution_count": 47,
   "metadata": {
    "ExecuteTime": {
     "end_time": "2019-08-28T00:35:05.980680Z",
     "start_time": "2019-08-28T00:35:05.597251Z"
    }
   },
   "outputs": [
    {
     "data": {
      "application/vnd.jupyter.widget-view+json": {
       "model_id": "eaa2d403ea5a4b7ebabcd90e8c2bba85",
       "version_major": 2,
       "version_minor": 0
      },
      "text/plain": [
       "HBox(children=(IntProgress(value=0, max=1000), HTML(value='')))"
      ]
     },
     "metadata": {},
     "output_type": "display_data"
    },
    {
     "data": {
      "image/png": "[encoded data removed]",
      "text/plain": [
       "<Figure size 432x288 with 1 Axes>"
      ]
     },
     "metadata": {
      "needs_background": "light"
     },
     "output_type": "display_data"
    },
    {
     "data": {
      "application/vnd.jupyter.widget-view+json": {
       "model_id": "7343c4a9555740bab10a8f2d85899fb4",
       "version_major": 2,
       "version_minor": 0
      },
      "text/plain": [
       "HBox(children=(IntProgress(value=0, max=1000), HTML(value='')))"
      ]
     },
     "metadata": {},
     "output_type": "display_data"
    },
    {
     "data": {
      "image/png": "[encoded data removed]",
      "text/plain": [
       "<Figure size 432x288 with 1 Axes>"
      ]
     },
     "metadata": {
      "needs_background": "light"
     },
     "output_type": "display_data"
    }
   ],
   "source": [
    "def B_cond_A(A_val):\n",
    "    def model():\n",
    "        C = pflip('C', .5)\n",
    "        A = pflip('A', .5)\n",
    "        B = pflip('B', .1) if A else pflip('B', .4)\n",
    "        condition('A_val', float(A == A_val))\n",
    "        return B\n",
    "    return Infer(model)\n",
    "\n",
    "viz(B_cond_A(True))\n",
    "viz(B_cond_A(False))"
   ]
  },
  {
   "cell_type": "markdown",
   "metadata": {},
   "source": [
    "Because the two distributions on `B` (when we have different information about `A`) are different, we can conclude that `B` statistically depends on `A`.\n",
    "Do the same procedure for testing if `A` statistically depends on `B`.\n",
    "How is this similar (and different) from the causal dependence between these two?\n",
    "As an exercise, make a version of the above medical example to test the statistical dependence between `cough` and `cold`.\n",
    "Verify that statistical dependence holds symmetrically for events that are connected by an indirect causal chain, such as `smokes` and `coughs`.\n",
    "\n",
    "Correlation is not just a symmetrized version of causality.\n",
    "Two events may be statistically dependent even if there is no causal chain running between them, as long as they have a common cause (direct or indirect).\n",
    "That is, two expressions in a WebPPL program can be statistically dependent if one calls the other, directly or indirectly, *or* if they both at some point in their evaluation histories refer to some other expression (a \"common cause\").\n",
    "Here is an example of statistical dependence generated by a common cause:"
   ]
  },
  {
   "cell_type": "code",
   "execution_count": 49,
   "metadata": {
    "ExecuteTime": {
     "end_time": "2019-08-28T00:36:15.077825Z",
     "start_time": "2019-08-28T00:36:14.740601Z"
    }
   },
   "outputs": [
    {
     "data": {
      "application/vnd.jupyter.widget-view+json": {
       "model_id": "2761892250204034be12b54cb65390bf",
       "version_major": 2,
       "version_minor": 0
      },
      "text/plain": [
       "HBox(children=(IntProgress(value=0, max=1000), HTML(value='')))"
      ]
     },
     "metadata": {},
     "output_type": "display_data"
    },
    {
     "data": {
      "image/png": "[encoded data removed]",
      "text/plain": [
       "<Figure size 432x288 with 1 Axes>"
      ]
     },
     "metadata": {
      "needs_background": "light"
     },
     "output_type": "display_data"
    },
    {
     "data": {
      "application/vnd.jupyter.widget-view+json": {
       "model_id": "63001ce13a924c179612113b2f1e453e",
       "version_major": 2,
       "version_minor": 0
      },
      "text/plain": [
       "HBox(children=(IntProgress(value=0, max=1000), HTML(value='')))"
      ]
     },
     "metadata": {},
     "output_type": "display_data"
    },
    {
     "data": {
      "image/png": "[encoded data removed]",
      "text/plain": [
       "<Figure size 432x288 with 1 Axes>"
      ]
     },
     "metadata": {
      "needs_background": "light"
     },
     "output_type": "display_data"
    }
   ],
   "source": [
    "def B_cond_A(A_val):\n",
    "    def model():\n",
    "        C = pflip('C', .5)\n",
    "        A = pflip('A', .5) if C else pflip('A', .9)\n",
    "        B = pflip('B', .1) if C else pflip('B', .4)\n",
    "        condition('A_val', float(bool(A) == A_val))\n",
    "        return B\n",
    "    return Infer(model)\n",
    "\n",
    "viz(B_cond_A(True))\n",
    "viz(B_cond_A(False))"
   ]
  },
  {
   "cell_type": "markdown",
   "metadata": {},
   "source": [
    "Situations like this are extremely common.\n",
    "In the medical example above, `cough` and `fever` are not causally dependent but they are statistically dependent, because they both depend on `cold`; likewise for `chestPain` and `shortnessOfBreath` which both depend on `lungDisease`.\n",
    "Here we can read off these facts from the program definitions, but more generally all of these relations can be diagnosed by reasoning using `Infer`.\n",
    "\n",
    "Successful learning and reasoning with causal models typically depends on exploiting the close coupling between causation and correlation.\n",
    "Causal relations are typically unobservable, while correlations are observable from data.\n",
    "Noticing patterns of correlation is thus often the beginning of causal learning, or discovering what causes what.\n",
    "On the other hand, with a causal model already in place, reasoning about the statistical dependencies implied by the model allows us to predict many aspects of the world not directly observed from those aspects we do observe."
   ]
  },
  {
   "cell_type": "markdown",
   "metadata": {},
   "source": [
    "# Graphical Notations for Dependence"
   ]
  },
  {
   "cell_type": "markdown",
   "metadata": {},
   "source": [
    "*Graphical models* are an extremely important idea in modern machine learning: a graphical diagram is used to represent the direct dependence structure between random choices in a probabilistic model.\n",
    "A special case are *Bayesian networks*, in which there is a node for each random variable (an expression in our terms) and a link between two nodes if there is a direct conditional dependence between them (a direct causal dependence in our terms).\n",
    "The sets of nodes and links define a *directed acyclic graph* (hence the term graphical model), a data structure over which many efficient algorithms can be defined.\n",
    "Each node has a *conditional probability table* (CPT), which represents the probability distribution of that node, given values of its parents.\n",
    "The joint probability distribution over random variables is given by the product of the conditional distributions for each variable in the graph.\n",
    "\n",
    "The figure below defines a Bayesian network for the medical diagnosis example.\n",
    "The graph contains a node for each `var` statement in our WebPPL program, with links to that node from each variable that appears in the assignment expression.\n",
    "There is a probability table (\"CPT\") for each node, with a column for each value of the variable, and a row for each combination of values for its parents in the graph."
   ]
  },
  {
   "cell_type": "markdown",
   "metadata": {},
   "source": [
    "![A Bayes net for the medical diagnosis example.]({{site.baseurl}}/assets/img/Med-diag-bnet1.jpg)\n",
    "\n",
    "<br> <br> <br> \n",
    "<font size=\"30\" color=\"red\">TODO</font>\n",
    "<br> <br> <br> "
   ]
  },
  {
   "cell_type": "markdown",
   "metadata": {},
   "source": [
    "Simple generative models will have a corresponding graphical model that captures all of the dependencies (and *in*dependencies) of the model, without capturing the precise *form* of these functions.\n",
    "For example, while the graphical model shown above faithfully represents the probability distribution encoded by the WebPPL program, it captures the *noisy-OR* form of the causal dependencies only implicitly.\n",
    "As a result, the CPTs provide a less compact representation of the conditional probabilities than the WebPPL model.\n",
    "\n",
    "For instance, the CPT for `cough` specifies 4 parameters -- one for each pair of values of `lungDisease` and `cold` (the second entry in each row is determined by the constraint that the conditional distribution of `cough` must sum to 1).\n",
    "\n",
    "In contrast, the `var` statement for `cough` in WebPPL specifies only 3 parameters: the base rate of `cough`, and the strength with which `lungDisease` and `cold` cause `cough`.\n",
    "This difference becomes more pronounced for noisy-OR relations with many causes -- the size of the CPT for a node will be exponential in the number of parents, while the number of terms in the noisy-OR expression in WebPPL for that node will be linear in the number of causal dependencies (why?).\n",
    "As we will see, this has important implications for the ability to learn the values of the parameters from data.\n",
    "\n",
    "More complicated generative models, which can be expressed as probabilistic programs, often don't have such a graphical model (or rather they have many approximations, none of which captures all independencies).\n",
    "\n",
    "Recursive models generally give rise to such ambiguous (or loopy) Bayes nets."
   ]
  },
  {
   "cell_type": "code",
   "execution_count": null,
   "metadata": {},
   "outputs": [],
   "source": []
  }
 ],
 "metadata": {
  "kernelspec": {
   "display_name": "Python 3",
   "language": "python",
   "name": "python3"
  },
  "language_info": {
   "codemirror_mode": {
    "name": "ipython",
    "version": 3
   },
   "file_extension": ".py",
   "mimetype": "text/x-python",
   "name": "python",
   "nbconvert_exporter": "python",
   "pygments_lexer": "ipython3",
   "version": "3.7.1"
  },
  "toc": {
   "base_numbering": 1,
   "nav_menu": {},
   "number_sections": true,
   "sideBar": true,
   "skip_h1_title": false,
   "title_cell": "Table of Contents",
   "title_sidebar": "Contents",
   "toc_cell": false,
   "toc_position": {},
   "toc_section_display": true,
   "toc_window_display": false
  },
  "varInspector": {
   "cols": {
    "lenName": 16,
    "lenType": 16,
    "lenVar": 40
   },
   "kernels_config": {
    "python": {
     "delete_cmd_postfix": "",
     "delete_cmd_prefix": "del ",
     "library": "var_list.py",
     "varRefreshCmd": "print(var_dic_list())"
    },
    "r": {
     "delete_cmd_postfix": ") ",
     "delete_cmd_prefix": "rm(",
     "library": "var_list.r",
     "varRefreshCmd": "cat(var_dic_list()) "
    }
   },
   "types_to_exclude": [
    "module",
    "function",
    "builtin_function_or_method",
    "instance",
    "_Feature"
   ],
   "window_display": false
  }
 },
 "nbformat": 4,
 "nbformat_minor": 2
}
