{
 "cells": [
  {
   "cell_type": "code",
   "execution_count": 1,
   "metadata": {
    "ExecuteTime": {
     "end_time": "2019-07-10T02:27:51.617169Z",
     "start_time": "2019-07-10T02:27:50.888983Z"
    }
   },
   "outputs": [],
   "source": [
    "%matplotlib inline\n",
    "import matplotlib.pyplot as plt\n",
    "import numpy as np\n",
    "\n",
    "import torch\n",
    "import pyro\n",
    "import pyro.distributions as dist\n",
    "\n",
    "import functools"
   ]
  },
  {
   "cell_type": "code",
   "execution_count": null,
   "metadata": {
    "ExecuteTime": {
     "end_time": "2019-07-10T02:27:51.630953Z",
     "start_time": "2019-07-10T02:27:51.618935Z"
    }
   },
   "outputs": [],
   "source": [
    "def flip(p=0.5):\n",
    "    return torch.distributions.Bernoulli(p).sample()\n",
    "\n",
    "def pflip(p=0.5, var='flip'):\n",
    "    return pyro.sample(var, dist.Bernoulli(p))\n",
    "\n",
    "def repeat(f, n):\n",
    "    return [f() for _ in range(n)]\n",
    "\n",
    "def memoize(fn=None, **kwargs):\n",
    "    if fn is None:\n",
    "        return lambda _fn: memoize(_fn, **kwargs)\n",
    "    return functools.lru_cache(**kwargs)(fn)\n",
    "\n",
    "def viz(data, to_type=(lambda v: v), plot_args={}):\n",
    "    # Histogram\n",
    "    if type(data) in (list, torch.Tensor):\n",
    "        data = [to_type(d) for d in data]\n",
    "        return plt.hist(data, weights=np.ones(len(data))/float(len(data)), **plot_args)\n",
    "    \n",
    "    if isinstance(data, pyro.distributions.Distribution):\n",
    "        d = {to_type(s): float(data.log_prob(s).exp()) for s in data.enumerate_support()}\n",
    "        return plt.bar(*zip(*d.items()))\n",
    "    \n",
    "def Infer(model, num_samples=1000):\n",
    "    posterior = pyro.infer.Importance(model, num_samples=num_samples)\n",
    "    marginal = pyro.infer.EmpiricalMarginal(posterior.run())\n",
    "    samples = marginal.sample(torch.Size([num_samples]))\n",
    "    return samples"
   ]
  },
  {
   "cell_type": "code",
   "execution_count": 4,
   "metadata": {
    "ExecuteTime": {
     "end_time": "2019-07-10T02:28:21.661360Z",
     "start_time": "2019-07-10T02:28:21.655216Z"
    }
   },
   "outputs": [],
   "source": [
    "# New functions\n",
    "\n",
    "def factor(name, value):\n",
    "    \"\"\"\n",
    "    Like factor in webPPL, adds a scalar weight to the log-probability of the trace\n",
    "    \"\"\"\n",
    "    value = value if torch.is_tensor(value) else torch.Tensor([value])\n",
    "    d = dist.Bernoulli(logits=value)\n",
    "    pyro.sample(name, d, obs=torch.ones((value.size() or 1)))\n",
    "    \n",
    "def condition(name, cond):\n",
    "    value = (-99999 if cond else 0)\n",
    "    d = dist.Bernoulli(logits=value)\n",
    "    pyro.sample(name, d, obs=torch.ones(1))"
   ]
  },
  {
   "cell_type": "markdown",
   "metadata": {},
   "source": [
    "# Hypothetical Reasoning with Infer"
   ]
  },
  {
   "cell_type": "code",
   "execution_count": 128,
   "metadata": {
    "ExecuteTime": {
     "end_time": "2019-07-07T23:45:23.082008Z",
     "start_time": "2019-07-07T23:45:22.692568Z"
    }
   },
   "outputs": [
    {
     "data": {
      "text/plain": [
       "(array([153.,   0.,   0., 366.,   0.,   0., 383.,   0.,   0.,  98.]),\n",
       " array([0. , 0.3, 0.6, 0.9, 1.2, 1.5, 1.8, 2.1, 2.4, 2.7, 3. ],\n",
       "       dtype=float32),\n",
       " <a list of 10 Patch objects>)"
      ]
     },
     "execution_count": 128,
     "metadata": {},
     "output_type": "execute_result"
    },
    {
     "data": {
      "image/png": "[encoded data removed]",
      "text/plain": [
       "<Figure size 432x288 with 1 Axes>"
      ]
     },
     "metadata": {
      "needs_background": "light"
     },
     "output_type": "display_data"
    }
   ],
   "source": [
    "def model():\n",
    "    A = flip()\n",
    "    B = flip()\n",
    "    C = flip()\n",
    "    return A + B + C\n",
    "\n",
    "# make the marginal distributions on return values explicit\n",
    "num_samples = 1000\n",
    "\n",
    "posterior = pyro.infer.Importance(model, num_samples=num_samples)\n",
    "marginal = pyro.infer.EmpiricalMarginal(posterior.run())\n",
    "samples = marginal.sample(torch.Size([num_samples]))\n",
    "\n",
    "plt.hist(samples, bins=10)"
   ]
  },
  {
   "cell_type": "code",
   "execution_count": 25,
   "metadata": {
    "ExecuteTime": {
     "end_time": "2019-07-07T23:55:58.880911Z",
     "start_time": "2019-07-07T23:55:58.276021Z"
    },
    "scrolled": true
   },
   "outputs": [
    {
     "data": {
      "text/plain": [
       "(array([0.239, 0.   , 0.   , 0.   , 0.   , 0.   , 0.   , 0.   , 0.   ,\n",
       "        0.761]), array([0. , 0.1, 0.2, 0.3, 0.4, 0.5, 0.6, 0.7, 0.8, 0.9, 1. ],\n",
       "       dtype=float32), <a list of 10 Patch objects>)"
      ]
     },
     "execution_count": 25,
     "metadata": {},
     "output_type": "execute_result"
    },
    {
     "data": {
      "image/png": "[encoded data removed]",
      "text/plain": [
       "<Figure size 432x288 with 1 Axes>"
      ]
     },
     "metadata": {
      "needs_background": "light"
     },
     "output_type": "display_data"
    }
   ],
   "source": [
    "# TODO\n",
    "#\n",
    "# def model():\n",
    "#     A = pflip(var='A')\n",
    "#     B = pflip(var='B')\n",
    "#     C = pflip(var='C')\n",
    "#     D = pyro.param('D', (A+B+C))\n",
    "#     return A\n",
    "#\n",
    "# conditioned_model = pyro.condition(model, data={'D': torch.tensor(3.0)})\n",
    "\n",
    "\n",
    "def conditioned_model():\n",
    "    A = flip()\n",
    "    B = flip()\n",
    "    C = flip()\n",
    "    \n",
    "    d = (A+B+C)\n",
    "#     factor('D', (-99999 if d<2 else 0))\n",
    "#     condition('D', (d < 2))\n",
    "    D = pyro.sample('D', dist.Bernoulli(logits=(-99999 if d<2 else 0)), obs=torch.ones(1))\n",
    "    return A\n",
    "\n",
    "# make the marginal distributions on return values explicit\n",
    "viz(Infer(conditioned_model, num_samples=1000))"
   ]
  },
  {
   "cell_type": "markdown",
   "metadata": {
    "heading_collapsed": true
   },
   "source": [
    "# Rejection sampling"
   ]
  },
  {
   "cell_type": "markdown",
   "metadata": {
    "hidden": true
   },
   "source": [
    "Is this possible?\n",
    "\n",
    "```javascript\n",
    "var model = function () {\n",
    "    var A = flip()\n",
    "    var B = flip()\n",
    "    var C = flip()\n",
    "    var D = A + B + C\n",
    "    condition(D >= 2)\n",
    "    return A\n",
    "}\n",
    "var dist = Infer({method: 'rejection', samples: 100}, model)\n",
    "viz(dist)\n",
    "\n",
    "```"
   ]
  },
  {
   "cell_type": "markdown",
   "metadata": {},
   "source": [
    "# Posterior Inference"
   ]
  },
  {
   "cell_type": "code",
   "execution_count": 27,
   "metadata": {
    "ExecuteTime": {
     "end_time": "2019-07-07T23:57:41.859256Z",
     "start_time": "2019-07-07T23:57:41.377134Z"
    }
   },
   "outputs": [
    {
     "data": {
      "text/plain": [
       "(array([0.895, 0.   , 0.   , 0.   , 0.   , 0.   , 0.   , 0.   , 0.   ,\n",
       "        0.105]), array([0. , 0.1, 0.2, 0.3, 0.4, 0.5, 0.6, 0.7, 0.8, 0.9, 1. ],\n",
       "       dtype=float32), <a list of 10 Patch objects>)"
      ]
     },
     "execution_count": 27,
     "metadata": {},
     "output_type": "execute_result"
    },
    {
     "data": {
      "image/png": "[encoded data removed]",
      "text/plain": [
       "<Figure size 432x288 with 1 Axes>"
      ]
     },
     "metadata": {
      "needs_background": "light"
     },
     "output_type": "display_data"
    }
   ],
   "source": [
    "observed_data = True\n",
    "prior = flip\n",
    "likelihood = lambda h: (flip(0.9) if h else flip(0.1))\n",
    "\n",
    "def model():\n",
    "    hypothesis = prior()\n",
    "    data = likelihood(hypothesis)\n",
    "    condition('likelihood', data == observed_data)\n",
    "    # condition(data == observed_data)\n",
    "    return hypothesis\n",
    "\n",
    "posterior = Infer(model)\n",
    "viz(posterior)"
   ]
  },
  {
   "cell_type": "code",
   "execution_count": 28,
   "metadata": {
    "ExecuteTime": {
     "end_time": "2019-07-09T05:40:54.880129Z",
     "start_time": "2019-07-09T05:40:53.776852Z"
    }
   },
   "outputs": [
    {
     "data": {
      "text/plain": [
       "(array([0.002, 0.019, 0.054, 0.128, 0.17 , 0.251, 0.234, 0.076, 0.045,\n",
       "        0.021]),\n",
       " array([-0.09795149, -0.04285875,  0.01223398,  0.06732672,  0.12241945,\n",
       "         0.1775122 ,  0.23260492,  0.28769767,  0.3427904 ,  0.39788315,\n",
       "         0.45297587], dtype=float32),\n",
       " <a list of 10 Patch objects>)"
      ]
     },
     "execution_count": 28,
     "metadata": {},
     "output_type": "execute_result"
    },
    {
     "data": {
      "image/png": "[encoded data removed]",
      "text/plain": [
       "<Figure size 432x288 with 1 Axes>"
      ]
     },
     "metadata": {
      "needs_background": "light"
     },
     "output_type": "display_data"
    }
   ],
   "source": [
    "def model():\n",
    "    true_x = dist.Normal(0, 1).sample()\n",
    "    \n",
    "    # WebPPL: observe(dist.Normal(true_x, 0.1), 0.2)\n",
    "    pyro.sample('obs_x', dist.Normal(true_x, 0.1), obs=0.2)\n",
    "    \n",
    "    return true_x\n",
    "\n",
    "viz(Infer(model))"
   ]
  },
  {
   "cell_type": "code",
   "execution_count": 43,
   "metadata": {
    "ExecuteTime": {
     "end_time": "2019-07-09T05:46:53.593129Z",
     "start_time": "2019-07-09T05:46:52.984248Z"
    }
   },
   "outputs": [
    {
     "data": {
      "text/plain": [
       "(array([0.768, 0.   , 0.   , 0.   , 0.   , 0.   , 0.   , 0.   , 0.   ,\n",
       "        0.232]), array([0. , 0.1, 0.2, 0.3, 0.4, 0.5, 0.6, 0.7, 0.8, 0.9, 1. ],\n",
       "       dtype=float32), <a list of 10 Patch objects>)"
      ]
     },
     "execution_count": 43,
     "metadata": {},
     "output_type": "execute_result"
    },
    {
     "data": {
      "image/png": "[encoded data removed]",
      "text/plain": [
       "<Figure size 432x288 with 1 Axes>"
      ]
     },
     "metadata": {
      "needs_background": "light"
     },
     "output_type": "display_data"
    }
   ],
   "source": [
    "def f():\n",
    "    A = flip()\n",
    "    B = flip()\n",
    "    C = flip()\n",
    "    condition('D', A + B + C >= 2)\n",
    "    return A\n",
    "\n",
    "d = Infer(f)\n",
    "viz(d)"
   ]
  },
  {
   "cell_type": "code",
   "execution_count": 49,
   "metadata": {
    "ExecuteTime": {
     "end_time": "2019-07-09T05:48:06.527325Z",
     "start_time": "2019-07-09T05:47:58.493293Z"
    },
    "scrolled": false
   },
   "outputs": [
    {
     "data": {
      "text/plain": [
       "(array([0.3965, 0.    , 0.    , 0.    , 0.    , 0.    , 0.    , 0.    ,\n",
       "        0.    , 0.6035]),\n",
       " array([0. , 0.1, 0.2, 0.3, 0.4, 0.5, 0.6, 0.7, 0.8, 0.9, 1. ],\n",
       "       dtype=float32),\n",
       " <a list of 10 Patch objects>)"
      ]
     },
     "execution_count": 49,
     "metadata": {},
     "output_type": "execute_result"
    },
    {
     "data": {
      "image/png": "[encoded data removed]",
      "text/plain": [
       "<Figure size 432x288 with 1 Axes>"
      ]
     },
     "metadata": {
      "needs_background": "light"
     },
     "output_type": "display_data"
    }
   ],
   "source": [
    "# TODO: why is this prob (~0.4) lower than PCM+WebPPL (~0.27)?\n",
    "def f():\n",
    "    A = flip()\n",
    "    factor('B', (1 if A else 0))\n",
    "    return A\n",
    "\n",
    "d = Infer(f, num_samples=int(1e4))\n",
    "viz(d)"
   ]
  },
  {
   "cell_type": "markdown",
   "metadata": {},
   "source": [
    "# Example: Reasoning About Tug of War"
   ]
  },
  {
   "cell_type": "code",
   "execution_count": 68,
   "metadata": {
    "ExecuteTime": {
     "end_time": "2019-07-10T02:09:13.427394Z",
     "start_time": "2019-07-10T02:09:13.334187Z"
    }
   },
   "outputs": [
    {
     "data": {
      "text/plain": [
       "[[\"winner(['alice', 'bob'], ['sue', 'tom'])\", ['alice', 'bob']],\n",
       " [\"winner(['alice', 'bob'], ['sue', 'tom'])\", ['alice', 'bob']],\n",
       " [\"winner(['alice', 'sue'], ['bob', 'tom'])\", ['alice', 'sue']],\n",
       " [\"winner(['alice', 'sue'], ['bob', 'tom'])\", ['alice', 'sue']],\n",
       " [\"winner(['alice', 'tom'], ['bob', 'sue'])\", ['bob', 'sue']],\n",
       " [\"winner(['alice', 'tom'], ['bob', 'sue'])\", ['bob', 'sue']]]"
      ]
     },
     "execution_count": 68,
     "metadata": {},
     "output_type": "execute_result"
    }
   ],
   "source": [
    "@memoize\n",
    "def strength(person):\n",
    "    return abs(dist.Normal(1, 1).sample())\n",
    "\n",
    "def lazy(person):\n",
    "    return flip(1 / 3.)\n",
    "\n",
    "def pulling(person):\n",
    "    return (strength(person) / 2 if lazy(person) else strength(person))\n",
    "\n",
    "def total_pulling(team):\n",
    "    return sum(map(pulling, team))\n",
    "\n",
    "def winner(team1, team2):\n",
    "    return team1 if (total_pulling(team1) > total_pulling(team2)) else team2\n",
    "\n",
    "[\n",
    "    winner(['alice', 'bob'], ['sue', 'tom']),\n",
    "    winner(['alice', 'bob'], ['sue', 'tom']),\n",
    "    winner(['alice', 'sue'], ['bob', 'tom']),\n",
    "    winner(['alice', 'sue'], ['bob', 'tom']),\n",
    "    winner(['alice', 'tom'], ['bob', 'sue']),\n",
    "    winner(['alice', 'tom'], ['bob', 'sue'])\n",
    "]"
   ]
  },
  {
   "cell_type": "code",
   "execution_count": 79,
   "metadata": {
    "ExecuteTime": {
     "end_time": "2019-07-10T02:22:37.470425Z",
     "start_time": "2019-07-10T02:22:35.794303Z"
    }
   },
   "outputs": [
    {
     "data": {
      "text/plain": [
       "(array([0.119, 0.075, 0.099, 0.1  , 0.052, 0.061, 0.049, 0.055, 0.051,\n",
       "        0.036, 0.04 , 0.011, 0.034, 0.031, 0.039, 0.042, 0.029, 0.01 ,\n",
       "        0.004, 0.009, 0.011, 0.007, 0.005, 0.006, 0.009, 0.001, 0.   ,\n",
       "        0.   , 0.005, 0.01 ]),\n",
       " array([0.00305009, 0.09784786, 0.19264562, 0.2874434 , 0.38224116,\n",
       "        0.47703895, 0.5718367 , 0.6666345 , 0.76143223, 0.85623   ,\n",
       "        0.9510278 , 1.0458256 , 1.1406233 , 1.2354211 , 1.3302189 ,\n",
       "        1.4250166 , 1.5198144 , 1.6146122 , 1.70941   , 1.8042077 ,\n",
       "        1.8990055 , 1.9938033 , 2.088601  , 2.1833987 , 2.2781966 ,\n",
       "        2.3729944 , 2.467792  , 2.56259   , 2.6573877 , 2.7521853 ,\n",
       "        2.8469832 ], dtype=float32),\n",
       " <a list of 30 Patch objects>)"
      ]
     },
     "execution_count": 79,
     "metadata": {},
     "output_type": "execute_result"
    },
    {
     "data": {
      "image/png": "[encoded data removed]",
      "text/plain": [
       "<Figure size 432x288 with 1 Axes>"
      ]
     },
     "metadata": {
      "needs_background": "light"
     },
     "output_type": "display_data"
    }
   ],
   "source": [
    "def model():\n",
    "    \n",
    "    @memoize\n",
    "    def strength(person):\n",
    "        return abs(dist.Normal(1, 1).sample())\n",
    "\n",
    "    def lazy(person): \n",
    "        return flip(1 / 3.)\n",
    "    \n",
    "    def pulling(person): \n",
    "        return strength(person) / 2 if lazy(person) else strength(person)\n",
    "    \n",
    "    def total_pulling(team): \n",
    "        return sum(map(pulling, team))\n",
    "    \n",
    "    def winner(team1, team2): \n",
    "        return team1 if (total_pulling(team1) > total_pulling(team2)) else team2 \n",
    "    \n",
    "    def beat(team1, team2): \n",
    "        return winner(team1, team2) == team1\n",
    "\n",
    "    condition('beats_1', beat(['bob', 'mary'], ['tom', 'sue']))\n",
    "    condition('beats_2', beat(['bob', 'sue'],  ['tom', 'jim']))\n",
    "    return strength('bob')\n",
    "\n",
    "# {method: 'MCMC', kernel: 'MH', samples: 25000}\n",
    "d = Infer(model)\n",
    "# print('Expected strength: ' + expectation(d))\n",
    "\n",
    "viz(d, plot_args={'bins': 30})"
   ]
  },
  {
   "cell_type": "code",
   "execution_count": 82,
   "metadata": {
    "ExecuteTime": {
     "end_time": "2019-07-10T02:23:43.863382Z",
     "start_time": "2019-07-10T02:23:38.195762Z"
    }
   },
   "outputs": [
    {
     "data": {
      "text/plain": [
       "(array([0.936, 0.   , 0.   , 0.   , 0.   , 0.   , 0.   , 0.   , 0.   ,\n",
       "        0.   , 0.   , 0.   , 0.   , 0.   , 0.   , 0.   , 0.   , 0.   ,\n",
       "        0.   , 0.   , 0.   , 0.   , 0.   , 0.   , 0.   , 0.   , 0.   ,\n",
       "        0.   , 0.   , 0.064]),\n",
       " array([0.        , 0.03333333, 0.06666667, 0.1       , 0.13333333,\n",
       "        0.16666667, 0.2       , 0.23333333, 0.26666667, 0.3       ,\n",
       "        0.33333333, 0.36666667, 0.4       , 0.43333333, 0.46666667,\n",
       "        0.5       , 0.53333333, 0.56666667, 0.6       , 0.63333333,\n",
       "        0.66666667, 0.7       , 0.73333333, 0.76666667, 0.8       ,\n",
       "        0.83333333, 0.86666667, 0.9       , 0.93333333, 0.96666667,\n",
       "        1.        ]),\n",
       " <a list of 30 Patch objects>)"
      ]
     },
     "execution_count": 82,
     "metadata": {},
     "output_type": "execute_result"
    },
    {
     "data": {
      "image/png": "[encoded data removed]",
      "text/plain": [
       "<Figure size 432x288 with 1 Axes>"
      ]
     },
     "metadata": {
      "needs_background": "light"
     },
     "output_type": "display_data"
    }
   ],
   "source": [
    "def model():\n",
    "\n",
    "    @memoize\n",
    "    def strength(person):\n",
    "        return abs(dist.Normal(1, 1).sample())\n",
    "\n",
    "    def lazy(person): \n",
    "        return flip(1 / 3.)\n",
    "    \n",
    "    def pulling(person): \n",
    "        return strength(person) / 2 if lazy(person) else strength(person)\n",
    "    \n",
    "    def total_pulling(team): \n",
    "        return sum(map(pulling, team))\n",
    "    \n",
    "    def winner(team1, team2): \n",
    "        return team1 if (total_pulling(team1) > total_pulling(team2)) else team2 \n",
    "    \n",
    "    def beat(team1, team2): \n",
    "        return torch.tensor(winner(team1, team2) == team1)\n",
    "\n",
    "    condition('stronger', strength('mary') >= strength('sue'))\n",
    "    condition('beats', beat(['bob'], ['jim']))\n",
    "    return beat(['bob', 'mary'], ['jim', 'sue'])\n",
    "\n",
    "d = Infer(model)\n",
    "viz(d, plot_args={'bins': 30})"
   ]
  },
  {
   "cell_type": "markdown",
   "metadata": {
    "ExecuteTime": {
     "end_time": "2019-07-10T02:24:51.205512Z",
     "start_time": "2019-07-10T02:24:51.202789Z"
    }
   },
   "source": [
    "# Example: Inverse intuitive physics"
   ]
  },
  {
   "cell_type": "code",
   "execution_count": 4,
   "metadata": {
    "ExecuteTime": {
     "end_time": "2019-07-11T04:10:51.549799Z",
     "start_time": "2019-07-11T04:10:51.547540Z"
    }
   },
   "outputs": [],
   "source": [
    "import sys\n",
    "sys.path.append('/Users/big/lib/PyroBPL/env/lib/python3.7/site-packages')\n",
    "import pymunk"
   ]
  },
  {
   "cell_type": "code",
   "execution_count": null,
   "metadata": {},
   "outputs": [],
   "source": [
    "# TODO"
   ]
  },
  {
   "cell_type": "markdown",
   "metadata": {},
   "source": [
    "# Example: Causal Inference in Medical Diagnosis"
   ]
  },
  {
   "cell_type": "code",
   "execution_count": 11,
   "metadata": {
    "ExecuteTime": {
     "end_time": "2019-07-10T02:32:04.622220Z",
     "start_time": "2019-07-10T02:31:56.719406Z"
    }
   },
   "outputs": [
    {
     "data": {
      "text/plain": [
       "(array([0.998, 0.   , 0.   , 0.   , 0.   , 0.   , 0.   , 0.   , 0.   ,\n",
       "        0.002]), array([0. , 0.1, 0.2, 0.3, 0.4, 0.5, 0.6, 0.7, 0.8, 0.9, 1. ],\n",
       "       dtype=float32), <a list of 10 Patch objects>)"
      ]
     },
     "execution_count": 11,
     "metadata": {},
     "output_type": "execute_result"
    },
    {
     "data": {
      "image/png": "[encoded data removed]",
      "text/plain": [
       "<Figure size 432x288 with 1 Axes>"
      ]
     },
     "metadata": {
      "needs_background": "light"
     },
     "output_type": "display_data"
    }
   ],
   "source": [
    "# TODO - results are wrong\n",
    "\n",
    "def f():\n",
    "    breast_cancer = flip(0.01)\n",
    "    positive_mammogram = flip(0.8) if breast_cancer else flip(0.096)\n",
    "    condition('p', positive_mammogram)\n",
    "    return breast_cancer\n",
    "   \n",
    "d = Infer(f, num_samples=10000)\n",
    "viz(d)"
   ]
  },
  {
   "cell_type": "code",
   "execution_count": 18,
   "metadata": {
    "ExecuteTime": {
     "end_time": "2019-07-10T02:32:51.211100Z",
     "start_time": "2019-07-10T02:32:50.618473Z"
    }
   },
   "outputs": [
    {
     "data": {
      "text/plain": [
       "(array([0.936, 0.   , 0.   , 0.   , 0.   , 0.   , 0.   , 0.   , 0.   ,\n",
       "        0.064]), array([0. , 0.1, 0.2, 0.3, 0.4, 0.5, 0.6, 0.7, 0.8, 0.9, 1. ],\n",
       "       dtype=float32), <a list of 10 Patch objects>)"
      ]
     },
     "execution_count": 18,
     "metadata": {},
     "output_type": "execute_result"
    },
    {
     "data": {
      "image/png": "[encoded data removed]",
      "text/plain": [
       "<Figure size 432x288 with 1 Axes>"
      ]
     },
     "metadata": {
      "needs_background": "light"
     },
     "output_type": "display_data"
    }
   ],
   "source": [
    "# TODO: also not working right..? or is WebPPL wrong???\n",
    "\n",
    "def f():\n",
    "    breast_cancer = flip(0.01)\n",
    "    benign_cyst = flip(0.2)\n",
    "    positive_mammogram = (breast_cancer and flip(0.8)) or (benign_cyst and flip(0.5))\n",
    "    condition('p', positive_mammogram)\n",
    "    return breast_cancer\n",
    "\n",
    "d = Infer(f)\n",
    "viz(d)"
   ]
  },
  {
   "cell_type": "code",
   "execution_count": 19,
   "metadata": {
    "ExecuteTime": {
     "end_time": "2019-07-10T03:34:13.425920Z",
     "start_time": "2019-07-10T03:34:12.687610Z"
    }
   },
   "outputs": [
    {
     "data": {
      "text/plain": [
       "(array([0.998, 0.   , 0.   , 0.   , 0.   , 0.   , 0.   , 0.   , 0.   ,\n",
       "        0.002]), array([0. , 0.1, 0.2, 0.3, 0.4, 0.5, 0.6, 0.7, 0.8, 0.9, 1. ],\n",
       "       dtype=float32), <a list of 10 Patch objects>)"
      ]
     },
     "execution_count": 19,
     "metadata": {},
     "output_type": "execute_result"
    },
    {
     "data": {
      "image/png": "[encoded data removed]",
      "text/plain": [
       "<Figure size 432x288 with 1 Axes>"
      ]
     },
     "metadata": {
      "needs_background": "light"
     },
     "output_type": "display_data"
    }
   ],
   "source": [
    "def f():\n",
    "    lung_cancer = flip(0.01)\n",
    "    TB = flip(0.005)\n",
    "    cold = flip(0.2)\n",
    "    stomach_flu = flip(0.1)\n",
    "    other = flip(0.1)\n",
    "\n",
    "    cough = ((cold and flip(0.5)) or\n",
    "             (lung_cancer and flip(0.3)) or\n",
    "             (TB and flip(0.7)) or\n",
    "             (other and flip(0.01)))\n",
    "\n",
    "    fever = ((cold and flip(0.3)) or\n",
    "             (stomach_flu and flip(0.5)) or\n",
    "             (TB and flip(0.2)) or\n",
    "             (other and flip(0.01)))\n",
    "\n",
    "    chest_pain = ((lung_cancer and flip(0.4)) or\n",
    "                  (TB and flip(0.5)) or\n",
    "                  (other and flip(0.01)))\n",
    "\n",
    "    shortness_of_breath = ((lung_cancer and flip(0.4)) or\n",
    "                           (TB and flip(0.5)) or\n",
    "                           (other and flip(0.01)))\n",
    "\n",
    "    condition('x', cough and fever and chest_pain and shortness_of_breath)\n",
    "    return lung_cancer #{lung_cancer: lung_cancer, TB: TB}\n",
    "\n",
    "d = Infer(f)\n",
    "viz(d)"
   ]
  },
  {
   "cell_type": "code",
   "execution_count": 22,
   "metadata": {
    "ExecuteTime": {
     "end_time": "2019-07-10T03:37:08.109079Z",
     "start_time": "2019-07-10T03:37:07.199014Z"
    }
   },
   "outputs": [
    {
     "data": {
      "text/plain": [
       "(array([0.986, 0.   , 0.   , 0.   , 0.   , 0.   , 0.   , 0.   , 0.   ,\n",
       "        0.014]), array([0. , 0.1, 0.2, 0.3, 0.4, 0.5, 0.6, 0.7, 0.8, 0.9, 1. ],\n",
       "       dtype=float32), <a list of 10 Patch objects>)"
      ]
     },
     "execution_count": 22,
     "metadata": {},
     "output_type": "execute_result"
    },
    {
     "data": {
      "image/png": "[encoded data removed]",
      "text/plain": [
       "<Figure size 432x288 with 1 Axes>"
      ]
     },
     "metadata": {
      "needs_background": "light"
     },
     "output_type": "display_data"
    }
   ],
   "source": [
    "def f():\n",
    "    works_in_hospital = flip(0.01)\n",
    "    smokes = flip(0.2)\n",
    "    \n",
    "    lung_cancer = flip(0.01) or (smokes and flip(0.02))\n",
    "    TB = flip(0.005) or (works_in_hospital and flip(0.01))\n",
    "    cold = flip(0.2) or (works_in_hospital and flip(0.25))\n",
    "    \n",
    "    stomach_flu = flip(0.1)\n",
    "    other = flip(0.1)\n",
    "\n",
    "    cough = ((cold and flip(0.5)) or\n",
    "             (lung_cancer and flip(0.3)) or\n",
    "             (TB and flip(0.7)) or\n",
    "             (other and flip(0.01)))\n",
    "\n",
    "    fever = ((cold and flip(0.3)) or\n",
    "             (stomach_flu and flip(0.5)) or\n",
    "             (TB and flip(0.2)) or\n",
    "             (other and flip(0.01)))\n",
    "\n",
    "    chest_pain = ((lung_cancer and flip(0.4)) or\n",
    "                  (TB and flip(0.5)) or\n",
    "                  (other and flip(0.01)))\n",
    "\n",
    "    shortness_of_breath = ((lung_cancer and flip(0.4)) or\n",
    "                           (TB and flip(0.5)) or\n",
    "                           (other and flip(0.01)))\n",
    "\n",
    "    condition('x', cough and chest_pain and shortness_of_breath)\n",
    "#     condition('x', cough and fever and chest_pain and shortness_of_breath)\n",
    "    return lung_cancer #{lung_cancer: lung_cancer, TB: TB}\n",
    "\n",
    "\n",
    "d = Infer(f)\n",
    "viz(d)"
   ]
  },
  {
   "cell_type": "code",
   "execution_count": null,
   "metadata": {},
   "outputs": [],
   "source": []
  }
 ],
 "metadata": {
  "kernelspec": {
   "display_name": "Python 3",
   "language": "python",
   "name": "python3"
  },
  "language_info": {
   "codemirror_mode": {
    "name": "ipython",
    "version": 3
   },
   "file_extension": ".py",
   "mimetype": "text/x-python",
   "name": "python",
   "nbconvert_exporter": "python",
   "pygments_lexer": "ipython3",
   "version": "3.7.1"
  },
  "toc": {
   "base_numbering": 1,
   "nav_menu": {},
   "number_sections": true,
   "sideBar": true,
   "skip_h1_title": false,
   "title_cell": "Table of Contents",
   "title_sidebar": "Contents",
   "toc_cell": false,
   "toc_position": {},
   "toc_section_display": true,
   "toc_window_display": false
  },
  "varInspector": {
   "cols": {
    "lenName": 16,
    "lenType": 16,
    "lenVar": 40
   },
   "kernels_config": {
    "python": {
     "delete_cmd_postfix": "",
     "delete_cmd_prefix": "del ",
     "library": "var_list.py",
     "varRefreshCmd": "print(var_dic_list())"
    },
    "r": {
     "delete_cmd_postfix": ") ",
     "delete_cmd_prefix": "rm(",
     "library": "var_list.r",
     "varRefreshCmd": "cat(var_dic_list()) "
    }
   },
   "types_to_exclude": [
    "module",
    "function",
    "builtin_function_or_method",
    "instance",
    "_Feature"
   ],
   "window_display": false
  }
 },
 "nbformat": 4,
 "nbformat_minor": 2
}
