{
 "cells": [
  {
   "cell_type": "markdown",
   "metadata": {
    "ExecuteTime": {
     "end_time": "2019-08-02T04:06:28.444932Z",
     "start_time": "2019-08-02T04:06:28.431732Z"
    }
   },
   "source": [
    "# TODO\n",
    "\n",
    "\n",
    "- [ ] change pflip(p, var) to pflip(var, p)\n",
    "- [x] `expectation` operator\n",
    "- [ ] enumerate 4.5 mins for medical+hospital example\n",
    "- [ ] physics simulation"
   ]
  },
  {
   "cell_type": "code",
   "execution_count": 1,
   "metadata": {
    "ExecuteTime": {
     "end_time": "2019-08-08T05:29:22.918074Z",
     "start_time": "2019-08-08T05:29:22.022318Z"
    }
   },
   "outputs": [],
   "source": [
    "%matplotlib inline\n",
    "import matplotlib.pyplot as plt\n",
    "import numpy as np\n",
    "\n",
    "import torch\n",
    "import pyro\n",
    "import pyro.distributions as dist\n",
    "import pyro.infer.mcmc\n",
    "from pyro import poutine\n",
    "pyro.enable_validation()\n",
    "\n",
    "import functools\n",
    "import uuid\n",
    "\n",
    "from pmc_webppl import flip, pflip, repeat, memoize, factor, cond_var, condition, expectation, Infer, viz"
   ]
  },
  {
   "cell_type": "markdown",
   "metadata": {
    "heading_collapsed": true
   },
   "source": [
    "# Hypothetical Reasoning with Infer"
   ]
  },
  {
   "cell_type": "code",
   "execution_count": 2,
   "metadata": {
    "ExecuteTime": {
     "end_time": "2019-08-08T05:29:23.098028Z",
     "start_time": "2019-08-08T05:29:22.919546Z"
    },
    "hidden": true
   },
   "outputs": [
    {
     "data": {
      "image/png": "[encoded data removed]",
      "text/plain": [
       "<Figure size 432x288 with 1 Axes>"
      ]
     },
     "metadata": {
      "needs_background": "light"
     },
     "output_type": "display_data"
    }
   ],
   "source": [
    "def model():\n",
    "    A = pflip('A', 0.5)\n",
    "    B = pflip('B', 0.5)\n",
    "    C = pflip('C', 0.5)\n",
    "    return A + B + C\n",
    "\n",
    "# make the marginal distributions on return values explicit\n",
    "d = Infer(model, posterior_method='enumerate')\n",
    "viz(d)"
   ]
  },
  {
   "cell_type": "code",
   "execution_count": 3,
   "metadata": {
    "ExecuteTime": {
     "end_time": "2019-08-08T05:29:23.250049Z",
     "start_time": "2019-08-08T05:29:23.099962Z"
    },
    "hidden": true,
    "scrolled": true
   },
   "outputs": [
    {
     "data": {
      "image/png": "[encoded data removed]",
      "text/plain": [
       "<Figure size 432x288 with 1 Axes>"
      ]
     },
     "metadata": {
      "needs_background": "light"
     },
     "output_type": "display_data"
    }
   ],
   "source": [
    "def model():\n",
    "    A = pflip('A', 0.5)\n",
    "    B = pflip('B', 0.5)\n",
    "    C = pflip('C', 0.5)\n",
    "    D = pyro.sample('D', dist.Normal(A + B + C, 1e-15))\n",
    "    return A\n",
    "\n",
    "conditioned_model = pyro.condition(model, data={'D': torch.tensor(2)})\n",
    "\n",
    "d = Infer(conditioned_model, posterior_method='enumerate')\n",
    "viz(d)"
   ]
  },
  {
   "cell_type": "code",
   "execution_count": 4,
   "metadata": {
    "ExecuteTime": {
     "end_time": "2019-08-08T05:29:23.403462Z",
     "start_time": "2019-08-08T05:29:23.252204Z"
    },
    "hidden": true,
    "scrolled": false
   },
   "outputs": [
    {
     "data": {
      "image/png": "[encoded data removed]",
      "text/plain": [
       "<Figure size 432x288 with 1 Axes>"
      ]
     },
     "metadata": {
      "needs_background": "light"
     },
     "output_type": "display_data"
    }
   ],
   "source": [
    "def conditioned_model2():\n",
    "    A = pflip('A', 0.5)\n",
    "    B = pflip('B', 0.5)\n",
    "    C = pflip('C', 0.5)\n",
    "    D = pyro.sample('D', dist.Normal(A + B + C, 1e-15), obs=torch.tensor(2))\n",
    "    return A\n",
    "\n",
    "d = Infer(conditioned_model2, posterior_method='enumerate')\n",
    "viz(d)"
   ]
  },
  {
   "cell_type": "markdown",
   "metadata": {
    "heading_collapsed": true
   },
   "source": [
    "# Rejection sampling"
   ]
  },
  {
   "cell_type": "code",
   "execution_count": 5,
   "metadata": {
    "ExecuteTime": {
     "end_time": "2019-08-08T05:29:23.813162Z",
     "start_time": "2019-08-08T05:29:23.405211Z"
    },
    "hidden": true
   },
   "outputs": [
    {
     "data": {
      "image/png": "[encoded data removed]",
      "text/plain": [
       "<Figure size 432x288 with 1 Axes>"
      ]
     },
     "metadata": {
      "needs_background": "light"
     },
     "output_type": "display_data"
    }
   ],
   "source": [
    "def conditioned_model_sample():\n",
    "    A = flip(0.5)\n",
    "    B = flip(0.5)\n",
    "    C = flip(0.5)\n",
    "    D = A + B + C\n",
    "    if D >= 2:\n",
    "        return A\n",
    "    return conditioned_model_sample()\n",
    "\n",
    "viz(repeat(conditioned_model_sample, 1000))"
   ]
  },
  {
   "cell_type": "code",
   "execution_count": 6,
   "metadata": {
    "ExecuteTime": {
     "end_time": "2019-08-08T05:29:30.349658Z",
     "start_time": "2019-08-08T05:29:23.814823Z"
    },
    "hidden": true
   },
   "outputs": [
    {
     "data": {
      "application/vnd.jupyter.widget-view+json": {
       "model_id": "d8fa131f436c4ce79db560b6efec961d",
       "version_major": 2,
       "version_minor": 0
      },
      "text/plain": [
       "HBox(children=(IntProgress(value=0, max=1000), HTML(value='')))"
      ]
     },
     "metadata": {},
     "output_type": "display_data"
    },
    {
     "name": "stdout",
     "output_type": "stream",
     "text": [
      "\n"
     ]
    },
    {
     "data": {
      "image/png": "[encoded data removed]",
      "text/plain": [
       "<Figure size 432x288 with 1 Axes>"
      ]
     },
     "metadata": {
      "needs_background": "light"
     },
     "output_type": "display_data"
    }
   ],
   "source": [
    "viz(Infer(conditioned_model, posterior_method='rejection'))"
   ]
  },
  {
   "cell_type": "code",
   "execution_count": 7,
   "metadata": {
    "ExecuteTime": {
     "end_time": "2019-08-08T05:29:37.436809Z",
     "start_time": "2019-08-08T05:29:30.351179Z"
    },
    "hidden": true
   },
   "outputs": [
    {
     "data": {
      "application/vnd.jupyter.widget-view+json": {
       "model_id": "1979207a6b0a4de98a8fe39447814c8e",
       "version_major": 2,
       "version_minor": 0
      },
      "text/plain": [
       "HBox(children=(IntProgress(value=0, max=1000), HTML(value='')))"
      ]
     },
     "metadata": {},
     "output_type": "display_data"
    },
    {
     "name": "stdout",
     "output_type": "stream",
     "text": [
      "\n"
     ]
    },
    {
     "data": {
      "image/png": "[encoded data removed]",
      "text/plain": [
       "<Figure size 432x288 with 1 Axes>"
      ]
     },
     "metadata": {
      "needs_background": "light"
     },
     "output_type": "display_data"
    }
   ],
   "source": [
    "viz(Infer(conditioned_model2, posterior_method='rejection'))"
   ]
  },
  {
   "cell_type": "markdown",
   "metadata": {
    "heading_collapsed": true
   },
   "source": [
    "# Posterior Inference"
   ]
  },
  {
   "cell_type": "code",
   "execution_count": 8,
   "metadata": {
    "ExecuteTime": {
     "end_time": "2019-08-08T05:29:37.683846Z",
     "start_time": "2019-08-08T05:29:37.439381Z"
    },
    "hidden": true
   },
   "outputs": [
    {
     "name": "stderr",
     "output_type": "stream",
     "text": [
      "/Users/big/lib/pyro/tutorial/source/PMC/pmc_webppl.py:41: UserWarning: To copy construct from a tensor, it is recommended to use sourceTensor.clone().detach() or sourceTensor.clone().detach().requires_grad_(True), rather than torch.tensor(sourceTensor).\n",
      "  pyro.sample(name, dist.Normal(torch.tensor(var), torch.tensor(normal_std)),\n"
     ]
    },
    {
     "data": {
      "image/png": "[encoded data removed]",
      "text/plain": [
       "<Figure size 432x288 with 1 Axes>"
      ]
     },
     "metadata": {
      "needs_background": "light"
     },
     "output_type": "display_data"
    }
   ],
   "source": [
    "observed_data = True\n",
    "prior = lambda: pflip('prior', 0.5)\n",
    "likelihood = lambda h: (pflip('h', 0.9) if h else pflip('h', 0.1))\n",
    "\n",
    "def model():\n",
    "    hypothesis = prior()\n",
    "    data = likelihood(hypothesis)\n",
    "#     pyro.sample('cond', dist.Normal(data, 1e-15), obs=torch.tensor(observed_data))\n",
    "    condition('cond', data, observed_data)\n",
    "    return hypothesis\n",
    "\n",
    "posterior = Infer(model)\n",
    "viz(posterior)"
   ]
  },
  {
   "cell_type": "markdown",
   "metadata": {
    "heading_collapsed": true
   },
   "source": [
    "# Conditions and observations"
   ]
  },
  {
   "cell_type": "code",
   "execution_count": 9,
   "metadata": {
    "ExecuteTime": {
     "end_time": "2019-08-08T05:29:38.272766Z",
     "start_time": "2019-08-08T05:29:37.686577Z"
    },
    "hidden": true
   },
   "outputs": [
    {
     "data": {
      "image/png": "[encoded data removed]",
      "text/plain": [
       "<Figure size 432x288 with 1 Axes>"
      ]
     },
     "metadata": {
      "needs_background": "light"
     },
     "output_type": "display_data"
    }
   ],
   "source": [
    "def conditioned_model():\n",
    "    true_x = dist.Normal(0, 1).sample()      #pyro.sample('true_x', dist.Normal(0, 1))\n",
    "    pyro.sample('obs_x', dist.Normal(true_x, 0.1), obs=torch.tensor(0.2))\n",
    "    return true_x\n",
    "\n",
    "viz(Infer(conditioned_model, posterior_method='forward', draw_samples=True))"
   ]
  },
  {
   "cell_type": "code",
   "execution_count": 10,
   "metadata": {
    "ExecuteTime": {
     "end_time": "2019-08-08T05:29:38.426154Z",
     "start_time": "2019-08-08T05:29:38.274854Z"
    },
    "hidden": true
   },
   "outputs": [
    {
     "data": {
      "image/png": "[encoded data removed]",
      "text/plain": [
       "<Figure size 432x288 with 1 Axes>"
      ]
     },
     "metadata": {
      "needs_background": "light"
     },
     "output_type": "display_data"
    }
   ],
   "source": [
    "def model():\n",
    "    A = pflip('A', 0.5)\n",
    "    B = pflip('B', 0.5)\n",
    "    C = pflip('C', 0.5)\n",
    "    D = int(A + B + C >= 2)\n",
    "    pyro.sample('D', dist.Normal(D, 1e-15))\n",
    "    return A\n",
    "\n",
    "conditioned_model = pyro.condition(model, data={'D': torch.tensor(2)})\n",
    "\n",
    "d = Infer(conditioned_model, posterior_method='enumerate')\n",
    "viz(d)"
   ]
  },
  {
   "cell_type": "markdown",
   "metadata": {
    "heading_collapsed": true
   },
   "source": [
    "# Factors"
   ]
  },
  {
   "cell_type": "code",
   "execution_count": 11,
   "metadata": {
    "ExecuteTime": {
     "end_time": "2019-08-08T05:29:38.562244Z",
     "start_time": "2019-08-08T05:29:38.427764Z"
    },
    "hidden": true,
    "scrolled": false
   },
   "outputs": [
    {
     "data": {
      "image/png": "[encoded data removed]",
      "text/plain": [
       "<Figure size 432x288 with 1 Axes>"
      ]
     },
     "metadata": {
      "needs_background": "light"
     },
     "output_type": "display_data"
    }
   ],
   "source": [
    "def model():\n",
    "    A = flip()\n",
    "    factor('B', (0 if A else -99999))\n",
    "    return A\n",
    "\n",
    "d = Infer(model, num_samples=int(1e4))\n",
    "viz(d)"
   ]
  },
  {
   "cell_type": "code",
   "execution_count": 12,
   "metadata": {
    "ExecuteTime": {
     "end_time": "2019-08-08T05:29:38.705088Z",
     "start_time": "2019-08-08T05:29:38.564022Z"
    },
    "hidden": true
   },
   "outputs": [
    {
     "data": {
      "image/png": "[encoded data removed]",
      "text/plain": [
       "<Figure size 432x288 with 1 Axes>"
      ]
     },
     "metadata": {
      "needs_background": "light"
     },
     "output_type": "display_data"
    }
   ],
   "source": [
    "def model():\n",
    "    A = pflip('A', 0.5)\n",
    "    factor('B', (0 if A else -1))\n",
    "    return A\n",
    "\n",
    "d = Infer(model, num_samples=int(1e4))\n",
    "viz(d)"
   ]
  },
  {
   "cell_type": "markdown",
   "metadata": {
    "heading_collapsed": true
   },
   "source": [
    "# Example: Reasoning About Tug of War"
   ]
  },
  {
   "cell_type": "code",
   "execution_count": 13,
   "metadata": {
    "ExecuteTime": {
     "end_time": "2019-08-08T05:29:38.724740Z",
     "start_time": "2019-08-08T05:29:38.707210Z"
    },
    "hidden": true
   },
   "outputs": [
    {
     "data": {
      "text/plain": [
       "[['alice', 'bob'],\n",
       " ['alice', 'bob'],\n",
       " ['alice', 'sue'],\n",
       " ['alice', 'sue'],\n",
       " ['alice', 'tom'],\n",
       " ['alice', 'tom']]"
      ]
     },
     "execution_count": 13,
     "metadata": {},
     "output_type": "execute_result"
    }
   ],
   "source": [
    "@memoize\n",
    "def strength(person):\n",
    "    return abs(dist.Normal(1, 1).sample())\n",
    "\n",
    "def lazy(person):\n",
    "    return flip(1 / 3.)\n",
    "\n",
    "def pulling(person):\n",
    "    return (strength(person) / 2 if lazy(person) else strength(person))\n",
    "\n",
    "def total_pulling(team):\n",
    "    return sum(map(pulling, team))\n",
    "\n",
    "def winner(team1, team2):\n",
    "    return team1 if (total_pulling(team1) > total_pulling(team2)) else team2\n",
    "\n",
    "[\n",
    "    winner(['alice', 'bob'], ['sue', 'tom']),\n",
    "    winner(['alice', 'bob'], ['sue', 'tom']),\n",
    "    winner(['alice', 'sue'], ['bob', 'tom']),\n",
    "    winner(['alice', 'sue'], ['bob', 'tom']),\n",
    "    winner(['alice', 'tom'], ['bob', 'sue']),\n",
    "    winner(['alice', 'tom'], ['bob', 'sue'])\n",
    "]"
   ]
  },
  {
   "cell_type": "code",
   "execution_count": 14,
   "metadata": {
    "ExecuteTime": {
     "end_time": "2019-08-08T05:29:52.267936Z",
     "start_time": "2019-08-08T05:29:38.726704Z"
    },
    "hidden": true
   },
   "outputs": [
    {
     "data": {
      "application/vnd.jupyter.widget-view+json": {
       "model_id": "e77de3ffe16c4d7181e178307c2a10ad",
       "version_major": 2,
       "version_minor": 0
      },
      "text/plain": [
       "HBox(children=(IntProgress(value=0, max=1000), HTML(value='')))"
      ]
     },
     "metadata": {},
     "output_type": "display_data"
    },
    {
     "name": "stdout",
     "output_type": "stream",
     "text": [
      "\n",
      "Expected strength: 1.5148286819458008\n"
     ]
    },
    {
     "data": {
      "image/png": "[encoded data removed]",
      "text/plain": [
       "<Figure size 432x288 with 1 Axes>"
      ]
     },
     "metadata": {
      "needs_background": "light"
     },
     "output_type": "display_data"
    }
   ],
   "source": [
    "def model():\n",
    "    \n",
    "    @memoize\n",
    "    def strength(person):\n",
    "        return pyro.sample(f'strength_{person}', dist.Normal(1, 1)).abs()\n",
    "\n",
    "    def lazy(person): \n",
    "        return flip(1 / 3.)\n",
    "    \n",
    "    def pulling(person): \n",
    "        return strength(person) / 2 if lazy(person) else strength(person)\n",
    "    \n",
    "    def total_pulling(team): \n",
    "        return sum(map(pulling, team))\n",
    "    \n",
    "    def winner(team1, team2): \n",
    "        return team1 if (total_pulling(team1) > total_pulling(team2)) else team2 \n",
    "    \n",
    "    def beat(team1, team2): \n",
    "        return winner(team1, team2) == team1\n",
    "\n",
    "    condition('beats_1', beat(['bob', 'mary'], ['tom', 'sue']))\n",
    "    condition('beats_2', beat(['bob', 'sue'],  ['tom', 'jim']))\n",
    "    return strength('bob')\n",
    "\n",
    "# d = Infer(model, posterior_method='MCMC', num_samples=1000)\n",
    "d = Infer(model, posterior_method='rejection', num_samples=1000)\n",
    "\n",
    "print('Expected strength: {}'.format(d.mean))\n",
    "viz(d)#, plot_args={'bins': 30})"
   ]
  },
  {
   "cell_type": "code",
   "execution_count": 15,
   "metadata": {
    "ExecuteTime": {
     "end_time": "2019-08-08T05:30:05.984641Z",
     "start_time": "2019-08-08T05:29:52.269527Z"
    },
    "hidden": true,
    "scrolled": false
   },
   "outputs": [
    {
     "data": {
      "application/vnd.jupyter.widget-view+json": {
       "model_id": "16acafd36cca4b08a84a5f87073bac1c",
       "version_major": 2,
       "version_minor": 0
      },
      "text/plain": [
       "HBox(children=(IntProgress(value=0, max=1000), HTML(value='')))"
      ]
     },
     "metadata": {},
     "output_type": "display_data"
    },
    {
     "name": "stdout",
     "output_type": "stream",
     "text": [
      "\n",
      "Expectation of first team winning: 0.921\n"
     ]
    },
    {
     "data": {
      "image/png": "[encoded data removed]",
      "text/plain": [
       "<Figure size 432x288 with 1 Axes>"
      ]
     },
     "metadata": {
      "needs_background": "light"
     },
     "output_type": "display_data"
    }
   ],
   "source": [
    "def model():\n",
    "\n",
    "    @memoize\n",
    "    def strength(person):\n",
    "        return pyro.sample(f'strength_{person}', dist.Normal(1, 1)).abs()\n",
    "\n",
    "    def lazy(person): \n",
    "        return flip(1 / 3.)\n",
    "    \n",
    "    def pulling(person): \n",
    "        return strength(person) / 2 if lazy(person) else strength(person)\n",
    "    \n",
    "    def total_pulling(team): \n",
    "        return sum(map(pulling, team))\n",
    "    \n",
    "    def winner(team1, team2): \n",
    "        return team1 if (total_pulling(team1) > total_pulling(team2)) else team2 \n",
    "    \n",
    "    def beat(team1, team2): \n",
    "        return torch.tensor(winner(team1, team2) == team1, dtype=torch.int)\n",
    "\n",
    "    condition('stronger', strength('mary') >= strength('sue'))\n",
    "    condition('beats', beat(['bob'], ['jim']))\n",
    "    return beat(['bob', 'mary'], ['jim', 'sue'])\n",
    "\n",
    "\n",
    "d = Infer(model, posterior_method='rejection', num_samples=1000)\n",
    "\n",
    "\n",
    "support = d.enumerate_support().tolist()\n",
    "m = sum(support) / len(support)\n",
    "\n",
    "print('Expectation of first team winning: {}'.format(m))\n",
    "viz(d)"
   ]
  },
  {
   "cell_type": "markdown",
   "metadata": {
    "ExecuteTime": {
     "end_time": "2019-08-02T05:03:52.515255Z",
     "start_time": "2019-08-02T05:03:42.271853Z"
    },
    "hidden": true
   },
   "source": [
    "hidden: doing these jointly in a single model with pyro.condition. there must be a better way to do this.\n",
    "\n",
    "<!--\n",
    "def model():\n",
    "    \n",
    "    @memoize\n",
    "    def strength(person):\n",
    "        return pyro.sample(f'strength_{person}', dist.Normal(1, 1)).abs()\n",
    "\n",
    "    def lazy(person): \n",
    "        return flip(1 / 3.)\n",
    "    \n",
    "    def pulling(person): \n",
    "        return strength(person) / 2 if lazy(person) else strength(person)\n",
    "    \n",
    "    def total_pulling(team): \n",
    "        return sum(map(pulling, team))\n",
    "    \n",
    "    def winner(team1, team2): \n",
    "        return team1 if (total_pulling(team1) > total_pulling(team2)) else team2 \n",
    "    \n",
    "    def beat(team1, team2): \n",
    "        return torch.tensor(winner(team1, team2) == team1, dtype=torch.float)  #winner(team1, team2) == team1\n",
    "\n",
    "    cond_var('beats_1', beat(['bob', 'mary'], ['tom', 'sue']))\n",
    "    cond_var('beats_2', beat(['bob', 'sue'],  ['tom', 'jim']))\n",
    "    cond_var('stronger', torch.tensor(strength('mary') >= strength('sue'), dtype=torch.float))\n",
    "    cond_var('beats', beat(['bob'], ['jim']))\n",
    "    \n",
    "    return strength('bob'), beat(['bob', 'mary'], ['jim', 'sue'])\n",
    "\n",
    "\n",
    "conditioned_model = pyro.condition(lambda: model()[0], \n",
    "                                   data={'beats_1': torch.tensor(1), \n",
    "                                         'beats_2': torch.tensor(1)})\n",
    "d = Infer(conditioned_model, posterior_method='rejection', num_samples=1000)\n",
    "print('Expected strength: {}'.format(d.mean))\n",
    "viz(d, plot_args={'bins': 30})\n",
    "\n",
    "\n",
    "conditioned_model = pyro.condition(lambda: model()[1], \n",
    "                                   data={'stronger': torch.tensor(1), \n",
    "                                         'beats': torch.tensor(1)})\n",
    "d = Infer(conditioned_model, posterior_method='rejection', num_samples=1000)\n",
    "viz(d, plot_args={'bins': 30})\n",
    "\n",
    "-->"
   ]
  },
  {
   "cell_type": "markdown",
   "metadata": {},
   "source": [
    "# Example: Causal Inference in Medical Diagnosis"
   ]
  },
  {
   "cell_type": "code",
   "execution_count": 25,
   "metadata": {
    "ExecuteTime": {
     "end_time": "2019-08-08T05:48:32.696358Z",
     "start_time": "2019-08-08T05:48:32.451445Z"
    },
    "scrolled": true
   },
   "outputs": [
    {
     "data": {
      "image/png": "[encoded data removed]",
      "text/plain": [
       "<Figure size 432x288 with 1 Axes>"
      ]
     },
     "metadata": {
      "needs_background": "light"
     },
     "output_type": "display_data"
    }
   ],
   "source": [
    "def model():\n",
    "    breast_cancer = pflip('breast_cancer', 0.01)\n",
    "    pm_prob = 0.8 if breast_cancer else 0.096\n",
    "    positive_mammogram = pflip('positive_mammogram', pm_prob)\n",
    "    condition('p', positive_mammogram)\n",
    "    return breast_cancer\n",
    "   \n",
    "d = Infer(model, posterior_method='enumerate', num_samples=1000)\n",
    "viz(d, title='Breast Cancer')"
   ]
  },
  {
   "cell_type": "code",
   "execution_count": 26,
   "metadata": {
    "ExecuteTime": {
     "end_time": "2019-08-08T05:48:46.035259Z",
     "start_time": "2019-08-08T05:48:45.515459Z"
    }
   },
   "outputs": [
    {
     "data": {
      "image/png": "[encoded data removed]",
      "text/plain": [
       "<Figure size 432x288 with 1 Axes>"
      ]
     },
     "metadata": {
      "needs_background": "light"
     },
     "output_type": "display_data"
    }
   ],
   "source": [
    "def model():\n",
    "    breast_cancer = pflip('breast_cancer', 0.01)\n",
    "    benign_cyst = pflip('benign_cyst', 0.2)\n",
    "    pm_prob = ((breast_cancer and pflip('bc2', 0.8)) or \n",
    "               (benign_cyst and pflip('bc1', 0.5)))\n",
    "    \n",
    "    positive_mammogram = pflip('positive_mammogram', pm_prob)\n",
    "    condition('p', positive_mammogram)\n",
    "    return breast_cancer\n",
    "   \n",
    "d = Infer(model, posterior_method='enumerate', num_samples=1000)\n",
    "viz(d, title='Breast Cancer')"
   ]
  },
  {
   "cell_type": "code",
   "execution_count": 18,
   "metadata": {
    "ExecuteTime": {
     "end_time": "2019-08-08T05:30:25.118788Z",
     "start_time": "2019-08-08T05:30:06.460733Z"
    }
   },
   "outputs": [],
   "source": [
    "def model():\n",
    "    lung_cancer = pflip('lung_cancer', 0.01)\n",
    "    tb = pflip('tb', 0.005)\n",
    "    cold = pflip('cold', 0.2)\n",
    "    stomach_flu = pflip('stomach_flu', 0.1)\n",
    "    other = pflip('other', 0.1)\n",
    "\n",
    "    cough = ((cold and pflip('cold-cough', 0.5)) or\n",
    "             (lung_cancer and pflip('lung_cancer-cough', 0.3)) or\n",
    "             (tb and pflip('tb-cough', 0.7)) or\n",
    "             (other and pflip('other-cough', 0.01)))\n",
    "\n",
    "    fever = ((cold and pflip('cold-fever', 0.3)) or\n",
    "             (stomach_flu and pflip('stomach_flu-fever', 0.5)) or\n",
    "             (tb and pflip('tb-fever', 0.2)) or\n",
    "             (other and pflip('other-fever', 0.01)))\n",
    "\n",
    "    chest_pain = ((lung_cancer and pflip('lung_cancer-chest_pain', 0.4)) or\n",
    "                  (tb and pflip('tb-chest_pain', 0.5)) or\n",
    "                  (other and pflip('other-chest_pain', 0.01)))\n",
    "\n",
    "    shortness_of_breath = ((lung_cancer and pflip('lung_cancer-breath', 0.4)) or\n",
    "                           (tb and pflip('tb-breath', 0.5)) or\n",
    "                           (other and pflip('other-breath', 0.01)))\n",
    "\n",
    "    condition('symptoms', cough and fever and chest_pain and shortness_of_breath)\n",
    "    return lung_cancer, tb\n",
    "\n",
    "d_cancer = Infer(lambda: model()[0], posterior_method='enumerate', num_samples=1000)\n",
    "d_tb = Infer(lambda: model()[1], posterior_method='enumerate', num_samples=1000)"
   ]
  },
  {
   "cell_type": "code",
   "execution_count": 19,
   "metadata": {
    "ExecuteTime": {
     "end_time": "2019-08-08T05:30:29.545415Z",
     "start_time": "2019-08-08T05:30:25.120453Z"
    }
   },
   "outputs": [
    {
     "data": {
      "image/png": "[encoded data removed]",
      "text/plain": [
       "<Figure size 432x288 with 1 Axes>"
      ]
     },
     "metadata": {
      "needs_background": "light"
     },
     "output_type": "display_data"
    }
   ],
   "source": [
    "viz(d_cancer, title='Lung Cancer')"
   ]
  },
  {
   "cell_type": "code",
   "execution_count": 20,
   "metadata": {
    "ExecuteTime": {
     "end_time": "2019-08-08T05:30:34.382334Z",
     "start_time": "2019-08-08T05:30:29.547645Z"
    }
   },
   "outputs": [
    {
     "data": {
      "image/png": "[encoded data removed]",
      "text/plain": [
       "<Figure size 432x288 with 1 Axes>"
      ]
     },
     "metadata": {
      "needs_background": "light"
     },
     "output_type": "display_data"
    }
   ],
   "source": [
    "viz(d_tb, title='TB')"
   ]
  },
  {
   "cell_type": "code",
   "execution_count": 13,
   "metadata": {
    "ExecuteTime": {
     "end_time": "2019-08-04T17:17:40.285982Z",
     "start_time": "2019-08-04T17:13:10.340016Z"
    }
   },
   "outputs": [
    {
     "name": "stderr",
     "output_type": "stream",
     "text": [
      "/Users/big/lib/pyro/env/lib/python3.7/site-packages/ipykernel_launcher.py:27: UserWarning: To copy construct from a tensor, it is recommended to use sourceTensor.clone().detach() or sourceTensor.clone().detach().requires_grad_(True), rather than torch.tensor(sourceTensor).\n"
     ]
    }
   ],
   "source": [
    "def model():\n",
    "    works_in_hospital = pflip('hospital', 0.01)\n",
    "    smokes = pflip('smokes', 0.2)\n",
    "    \n",
    "    lung_cancer = (pflip('lung_cancer', 0.01) or \n",
    "                   (smokes and pflip('hospital-lung_cancer', 0.01)))\n",
    "    tb = (pflip('tb', 0.005) or \n",
    "          (works_in_hospital and pflip('hospital-tb', 0.01)))\n",
    "    cold = (pflip('cold', 0.2) or \n",
    "            (works_in_hospital and pflip('hospital-cold', 0.25)))\n",
    "    stomach_flu = pflip('stomach_flu', 0.1)\n",
    "    other = pflip('other', 0.1)\n",
    "\n",
    "    cough = ((cold and pflip('cold-cough', 0.5)) or\n",
    "             (lung_cancer and pflip('lung_cancer-cough', 0.3)) or\n",
    "             (tb and pflip('tb-cough', 0.7)) or\n",
    "             (other and pflip('other-cough', 0.01)))\n",
    "\n",
    "    fever = ((cold and pflip('cold-fever', 0.3)) or\n",
    "             (stomach_flu and pflip('stomach_flu-fever', 0.5)) or\n",
    "             (tb and pflip('tb-fever', 0.2)) or\n",
    "             (other and pflip('other-fever', 0.01)))\n",
    "\n",
    "    chest_pain = ((lung_cancer and pflip('lung_cancer-chest_pain', 0.4)) or\n",
    "                  (tb and pflip('tb-chest_pain', 0.5)) or\n",
    "                  (other and pflip('other-chest_pain', 0.01)))\n",
    "\n",
    "    shortness_of_breath = ((lung_cancer and pflip('lung_cancer-breath', 0.4)) or\n",
    "                           (tb and pflip('tb-breath', 0.5)) or\n",
    "                           (other and pflip('other-breath', 0.01)))\n",
    "\n",
    "\n",
    "    condition('symptoms', cough and chest_pain and shortness_of_breath)\n",
    "    return lung_cancer, tb\n",
    "\n",
    "\n",
    "d_cancer = Infer(lambda: model()[0], posterior_method='enumerate', num_samples=1000)\n",
    "d_tb = Infer(lambda: model()[1], posterior_method='enumerate', num_samples=1000)"
   ]
  },
  {
   "cell_type": "code",
   "execution_count": 14,
   "metadata": {
    "ExecuteTime": {
     "end_time": "2019-08-08T05:30:29.545415Z",
     "start_time": "2019-08-08T05:30:25.120453Z"
    },
    "scrolled": true
   },
   "outputs": [
    {
     "data": {
      "image/png": "[encoded data removed]",
      "text/plain": [
       "<Figure size 432x288 with 1 Axes>"
      ]
     },
     "metadata": {
      "needs_background": "light"
     },
     "output_type": "display_data"
    }
   ],
   "source": [
    "viz(d_cancer, title='Lung Cancer')"
   ]
  },
  {
   "cell_type": "code",
   "execution_count": 15,
   "metadata": {
    "ExecuteTime": {
     "end_time": "2019-08-08T05:30:34.382334Z",
     "start_time": "2019-08-08T05:30:29.547645Z"
    }
   },
   "outputs": [
    {
     "data": {
      "image/png": "[encoded data removed]",
      "text/plain": [
       "<Figure size 432x288 with 1 Axes>"
      ]
     },
     "metadata": {
      "needs_background": "light"
     },
     "output_type": "display_data"
    }
   ],
   "source": [
    "viz(d_tb, title='TB')"
   ]
  },
  {
   "cell_type": "markdown",
   "metadata": {
    "ExecuteTime": {
     "end_time": "2019-07-10T02:24:51.205512Z",
     "start_time": "2019-07-10T02:24:51.202789Z"
    },
    "heading_collapsed": true
   },
   "source": [
    "# Example: Inverse intuitive physics"
   ]
  },
  {
   "cell_type": "code",
   "execution_count": 3,
   "metadata": {
    "ExecuteTime": {
     "end_time": "2019-08-02T05:42:02.730843Z",
     "start_time": "2019-08-02T05:42:02.506688Z"
    },
    "hidden": true
   },
   "outputs": [
    {
     "name": "stdout",
     "output_type": "stream",
     "text": [
      "Loading chipmunk for Darwin (64bit) [/Users/big/lib/PyroBPL/env/lib/python3.7/site-packages/pymunk/libchipmunk.dylib]\n"
     ]
    }
   ],
   "source": [
    "import sys\n",
    "sys.path.append('/Users/big/lib/PyroBPL/env/lib/python3.7/site-packages')\n",
    "import pymunk"
   ]
  },
  {
   "cell_type": "code",
   "execution_count": null,
   "metadata": {
    "hidden": true
   },
   "outputs": [],
   "source": [
    "# makes a floor with evenly spaced buckets\n",
    "def bins(xmin, xmax, width):\n",
    "    if (xmax < xmin + width):  # floor\n",
    "        return {'shape': 'rect', 'static': true, 'dims': [400, 10], 'x': 175, 'y': 500}\n",
    "    return [{'shape': 'rect', 'static': true, dims: [1, 10], x: xmin, y: 490}] \\\n",
    "            .concat(bins(xmin + width, xmax, width))   # bins\n",
    "\n",
    "# add two fixed circles\n",
    "world = [\n",
    "    {shape: 'circle', static: true, dims: [60], x: 60, y: 200},\n",
    "    {shape: 'circle', static: true, dims: [30], x: 300, y: 300}\n",
    "].concat(bins(-1000, 1000, 25))\n",
    "\n",
    "randomBlock = function () {\n",
    "  return {shape: 'circle', static: false, dims: [10], x: uniform(0, worldWidth), y: 0}\n",
    "}\n"
   ]
  },
  {
   "cell_type": "code",
   "execution_count": null,
   "metadata": {
    "hidden": true
   },
   "outputs": [],
   "source": [
    "# makes a floor with evenly spaced buckets\n",
    "def bins(xmin, xmax, width):\n",
    "    if (xmax < xmin + width):  # floor\n",
    "        return {'shape': 'rect', 'static': true, 'dims': [400, 10], 'x': 175, 'y': 500}\n",
    "    return [{'shape': 'rect', 'static': true, dims: [1, 10], x: xmin, y: 490}] \\\n",
    "            .concat(bins(xmin + width, xmax, width))   # bins\n",
    "\n",
    "# add two fixed circles\n",
    "world = [\n",
    "    {shape: 'circle', static: true, dims: [60], x: 60, y: 200},\n",
    "    {shape: 'circle', static: true, dims: [30], x: 300, y: 300}\n",
    "].concat(bins(-1000, 1000, 25))\n",
    "\n",
    "randomBlock = function () {\n",
    "  return {shape: 'circle', static: false, dims: [10], x: uniform(0, worldWidth), y: 0}\n",
    "}\n",
    "\n",
    "getBallX = function(world) {\n",
    "  ball = filter(function(obj) { return !obj.static }, world)[0];\n",
    "  return ball.x;\n",
    "}\n",
    "\n",
    "observedX = 160;\n",
    "\n",
    "model = function() {\n",
    "  initState = world.concat([randomBlock()])\n",
    "  initX = getBallX(initState);\n",
    "  finalState = physics.run(1000, initState);\n",
    "  finalX = getBallX(finalState);\n",
    "  observe(Gaussian({mu: finalX, sigma: 10}), observedX)\n",
    "  return {initX: initX}\n",
    "}\n",
    "\n",
    "initialXDist = Infer(\n",
    "  {method: 'MCMC',\n",
    "   samples: 100,\n",
    "   lag: 10,\n",
    "   callbacks: [editor.MCMCProgress()]\n",
    "  },\n",
    "  model);\n",
    "\n",
    "viz.density(initialXDist, {bounds: [0,350]})"
   ]
  },
  {
   "cell_type": "code",
   "execution_count": 3,
   "metadata": {
    "ExecuteTime": {
     "end_time": "2019-08-02T05:20:40.042701Z",
     "start_time": "2019-08-02T05:20:39.644441Z"
    },
    "hidden": true
   },
   "outputs": [],
   "source": [
    "%matplotlib inline"
   ]
  },
  {
   "cell_type": "code",
   "execution_count": null,
   "metadata": {
    "hidden": true
   },
   "outputs": [],
   "source": [
    "### Physics stuff\n",
    "space = pm.Space()\n",
    "space.gravity = (0.0, -1900.0)\n",
    "space.damping = 0.999 # to prevent it from blowing up.\n",
    "mouse_body = pm.Body(body_type=pm.Body.KINEMATIC)\n",
    "\n",
    "bodies = []\n",
    "for x in range(-100,150,50):\n",
    "    x += width / 2\n",
    "    offset_y = height/2\n",
    "    mass = 10\n",
    "    radius = 25\n",
    "    moment = pm.moment_for_circle(mass, 0, radius, (0,0))\n",
    "    body = pm.Body(mass, moment)\n",
    "    body.position = (x,-125+offset_y)\n",
    "    body.start_position = Vec2d(body.position)\n",
    "    shape = pm.Circle(body, radius)\n",
    "    shape.elasticity = 0.9999999\n",
    "    space.add(body, shape)\n",
    "    bodies.append(body)\n",
    "    pj = pm.PinJoint(space.static_body, body, (x,125+offset_y), (0,0))\n",
    "    space.add(pj)\n",
    "    \n",
    "while True: \n",
    "    space.step(1/50.0) #3"
   ]
  },
  {
   "cell_type": "code",
   "execution_count": 8,
   "metadata": {
    "ExecuteTime": {
     "end_time": "2019-08-02T05:43:43.311321Z",
     "start_time": "2019-08-02T05:43:43.305480Z"
    },
    "hidden": true
   },
   "outputs": [],
   "source": [
    "def add_ball(space, x, y, radius=14, mass=1):\n",
    "    # Add a ball to the given space.\n",
    "    inertia = pymunk.moment_for_circle(mass, 0, radius, (0,0))\n",
    "    body = pymunk.Body(mass, inertia)\n",
    "    body.position = x, y\n",
    "    shape = pymunk.Circle(body, radius, (0,0))\n",
    "    space.add(body, shape)\n",
    "    return shape"
   ]
  },
  {
   "cell_type": "code",
   "execution_count": 7,
   "metadata": {
    "ExecuteTime": {
     "end_time": "2019-08-02T05:43:10.274853Z",
     "start_time": "2019-08-02T05:43:10.248462Z"
    },
    "hidden": true
   },
   "outputs": [
    {
     "name": "stdout",
     "output_type": "stream",
     "text": [
      "{'threaded': False, '_space': <cdata 'cpSpace *' 0x7ff6facf7f40>, '_handlers': {}, '_post_step_callbacks': {}, '_removed_shapes': {}, '_shapes': {}, '_bodies': set(), '_static_body': None, '_constraints': set(), '_in_step': False, '_add_later': set(), '_remove_later': set()}\n",
      "{'threaded': False, '_space': <cdata 'cpSpace *' 0x7ff6facf7f40>, '_handlers': {}, '_post_step_callbacks': {}, '_removed_shapes': {}, '_shapes': {}, '_bodies': set(), '_static_body': None, '_constraints': set(), '_in_step': False, '_add_later': set(), '_remove_later': set()}\n",
      "{'threaded': False, '_space': <cdata 'cpSpace *' 0x7ff6facf7f40>, '_handlers': {}, '_post_step_callbacks': {}, '_removed_shapes': {}, '_shapes': {}, '_bodies': set(), '_static_body': None, '_constraints': set(), '_in_step': False, '_add_later': set(), '_remove_later': set()}\n",
      "{'threaded': False, '_space': <cdata 'cpSpace *' 0x7ff6facf7f40>, '_handlers': {}, '_post_step_callbacks': {}, '_removed_shapes': {}, '_shapes': {}, '_bodies': set(), '_static_body': None, '_constraints': set(), '_in_step': False, '_add_later': set(), '_remove_later': set()}\n",
      "{'threaded': False, '_space': <cdata 'cpSpace *' 0x7ff6facf7f40>, '_handlers': {}, '_post_step_callbacks': {}, '_removed_shapes': {}, '_shapes': {}, '_bodies': set(), '_static_body': None, '_constraints': set(), '_in_step': False, '_add_later': set(), '_remove_later': set()}\n",
      "{'threaded': False, '_space': <cdata 'cpSpace *' 0x7ff6facf7f40>, '_handlers': {}, '_post_step_callbacks': {}, '_removed_shapes': {}, '_shapes': {}, '_bodies': set(), '_static_body': None, '_constraints': set(), '_in_step': False, '_add_later': set(), '_remove_later': set()}\n",
      "{'threaded': False, '_space': <cdata 'cpSpace *' 0x7ff6facf7f40>, '_handlers': {}, '_post_step_callbacks': {}, '_removed_shapes': {}, '_shapes': {}, '_bodies': set(), '_static_body': None, '_constraints': set(), '_in_step': False, '_add_later': set(), '_remove_later': set()}\n",
      "{'threaded': False, '_space': <cdata 'cpSpace *' 0x7ff6facf7f40>, '_handlers': {}, '_post_step_callbacks': {}, '_removed_shapes': {}, '_shapes': {}, '_bodies': set(), '_static_body': None, '_constraints': set(), '_in_step': False, '_add_later': set(), '_remove_later': set()}\n",
      "{'threaded': False, '_space': <cdata 'cpSpace *' 0x7ff6facf7f40>, '_handlers': {}, '_post_step_callbacks': {}, '_removed_shapes': {}, '_shapes': {}, '_bodies': set(), '_static_body': None, '_constraints': set(), '_in_step': False, '_add_later': set(), '_remove_later': set()}\n",
      "{'threaded': False, '_space': <cdata 'cpSpace *' 0x7ff6facf7f40>, '_handlers': {}, '_post_step_callbacks': {}, '_removed_shapes': {}, '_shapes': {}, '_bodies': set(), '_static_body': None, '_constraints': set(), '_in_step': False, '_add_later': set(), '_remove_later': set()}\n",
      "{'threaded': False, '_space': <cdata 'cpSpace *' 0x7ff6facf7f40>, '_handlers': {}, '_post_step_callbacks': {}, '_removed_shapes': {}, '_shapes': {}, '_bodies': set(), '_static_body': None, '_constraints': set(), '_in_step': False, '_add_later': set(), '_remove_later': set()}\n",
      "{'threaded': False, '_space': <cdata 'cpSpace *' 0x7ff6facf7f40>, '_handlers': {}, '_post_step_callbacks': {}, '_removed_shapes': {}, '_shapes': {}, '_bodies': set(), '_static_body': None, '_constraints': set(), '_in_step': False, '_add_later': set(), '_remove_later': set()}\n",
      "{'threaded': False, '_space': <cdata 'cpSpace *' 0x7ff6facf7f40>, '_handlers': {}, '_post_step_callbacks': {}, '_removed_shapes': {}, '_shapes': {}, '_bodies': set(), '_static_body': None, '_constraints': set(), '_in_step': False, '_add_later': set(), '_remove_later': set()}\n",
      "{'threaded': False, '_space': <cdata 'cpSpace *' 0x7ff6facf7f40>, '_handlers': {}, '_post_step_callbacks': {}, '_removed_shapes': {}, '_shapes': {}, '_bodies': set(), '_static_body': None, '_constraints': set(), '_in_step': False, '_add_later': set(), '_remove_later': set()}\n",
      "{'threaded': False, '_space': <cdata 'cpSpace *' 0x7ff6facf7f40>, '_handlers': {}, '_post_step_callbacks': {}, '_removed_shapes': {}, '_shapes': {}, '_bodies': set(), '_static_body': None, '_constraints': set(), '_in_step': False, '_add_later': set(), '_remove_later': set()}\n",
      "{'threaded': False, '_space': <cdata 'cpSpace *' 0x7ff6facf7f40>, '_handlers': {}, '_post_step_callbacks': {}, '_removed_shapes': {}, '_shapes': {}, '_bodies': set(), '_static_body': None, '_constraints': set(), '_in_step': False, '_add_later': set(), '_remove_later': set()}\n",
      "{'threaded': False, '_space': <cdata 'cpSpace *' 0x7ff6facf7f40>, '_handlers': {}, '_post_step_callbacks': {}, '_removed_shapes': {}, '_shapes': {}, '_bodies': set(), '_static_body': None, '_constraints': set(), '_in_step': False, '_add_later': set(), '_remove_later': set()}\n",
      "{'threaded': False, '_space': <cdata 'cpSpace *' 0x7ff6facf7f40>, '_handlers': {}, '_post_step_callbacks': {}, '_removed_shapes': {}, '_shapes': {}, '_bodies': set(), '_static_body': None, '_constraints': set(), '_in_step': False, '_add_later': set(), '_remove_later': set()}\n",
      "{'threaded': False, '_space': <cdata 'cpSpace *' 0x7ff6facf7f40>, '_handlers': {}, '_post_step_callbacks': {}, '_removed_shapes': {}, '_shapes': {}, '_bodies': set(), '_static_body': None, '_constraints': set(), '_in_step': False, '_add_later': set(), '_remove_later': set()}\n",
      "{'threaded': False, '_space': <cdata 'cpSpace *' 0x7ff6facf7f40>, '_handlers': {}, '_post_step_callbacks': {}, '_removed_shapes': {}, '_shapes': {}, '_bodies': set(), '_static_body': None, '_constraints': set(), '_in_step': False, '_add_later': set(), '_remove_later': set()}\n",
      "{'threaded': False, '_space': <cdata 'cpSpace *' 0x7ff6facf7f40>, '_handlers': {}, '_post_step_callbacks': {}, '_removed_shapes': {}, '_shapes': {}, '_bodies': set(), '_static_body': None, '_constraints': set(), '_in_step': False, '_add_later': set(), '_remove_later': set()}\n",
      "{'threaded': False, '_space': <cdata 'cpSpace *' 0x7ff6facf7f40>, '_handlers': {}, '_post_step_callbacks': {}, '_removed_shapes': {}, '_shapes': {}, '_bodies': set(), '_static_body': None, '_constraints': set(), '_in_step': False, '_add_later': set(), '_remove_later': set()}\n",
      "{'threaded': False, '_space': <cdata 'cpSpace *' 0x7ff6facf7f40>, '_handlers': {}, '_post_step_callbacks': {}, '_removed_shapes': {}, '_shapes': {}, '_bodies': set(), '_static_body': None, '_constraints': set(), '_in_step': False, '_add_later': set(), '_remove_later': set()}\n",
      "{'threaded': False, '_space': <cdata 'cpSpace *' 0x7ff6facf7f40>, '_handlers': {}, '_post_step_callbacks': {}, '_removed_shapes': {}, '_shapes': {}, '_bodies': set(), '_static_body': None, '_constraints': set(), '_in_step': False, '_add_later': set(), '_remove_later': set()}\n",
      "{'threaded': False, '_space': <cdata 'cpSpace *' 0x7ff6facf7f40>, '_handlers': {}, '_post_step_callbacks': {}, '_removed_shapes': {}, '_shapes': {}, '_bodies': set(), '_static_body': None, '_constraints': set(), '_in_step': False, '_add_later': set(), '_remove_later': set()}\n",
      "{'threaded': False, '_space': <cdata 'cpSpace *' 0x7ff6facf7f40>, '_handlers': {}, '_post_step_callbacks': {}, '_removed_shapes': {}, '_shapes': {}, '_bodies': set(), '_static_body': None, '_constraints': set(), '_in_step': False, '_add_later': set(), '_remove_later': set()}\n",
      "{'threaded': False, '_space': <cdata 'cpSpace *' 0x7ff6facf7f40>, '_handlers': {}, '_post_step_callbacks': {}, '_removed_shapes': {}, '_shapes': {}, '_bodies': set(), '_static_body': None, '_constraints': set(), '_in_step': False, '_add_later': set(), '_remove_later': set()}\n",
      "{'threaded': False, '_space': <cdata 'cpSpace *' 0x7ff6facf7f40>, '_handlers': {}, '_post_step_callbacks': {}, '_removed_shapes': {}, '_shapes': {}, '_bodies': set(), '_static_body': None, '_constraints': set(), '_in_step': False, '_add_later': set(), '_remove_later': set()}\n",
      "{'threaded': False, '_space': <cdata 'cpSpace *' 0x7ff6facf7f40>, '_handlers': {}, '_post_step_callbacks': {}, '_removed_shapes': {}, '_shapes': {}, '_bodies': set(), '_static_body': None, '_constraints': set(), '_in_step': False, '_add_later': set(), '_remove_later': set()}\n",
      "{'threaded': False, '_space': <cdata 'cpSpace *' 0x7ff6facf7f40>, '_handlers': {}, '_post_step_callbacks': {}, '_removed_shapes': {}, '_shapes': {}, '_bodies': set(), '_static_body': None, '_constraints': set(), '_in_step': False, '_add_later': set(), '_remove_later': set()}\n",
      "{'threaded': False, '_space': <cdata 'cpSpace *' 0x7ff6facf7f40>, '_handlers': {}, '_post_step_callbacks': {}, '_removed_shapes': {}, '_shapes': {}, '_bodies': set(), '_static_body': None, '_constraints': set(), '_in_step': False, '_add_later': set(), '_remove_later': set()}\n",
      "{'threaded': False, '_space': <cdata 'cpSpace *' 0x7ff6facf7f40>, '_handlers': {}, '_post_step_callbacks': {}, '_removed_shapes': {}, '_shapes': {}, '_bodies': set(), '_static_body': None, '_constraints': set(), '_in_step': False, '_add_later': set(), '_remove_later': set()}\n",
      "{'threaded': False, '_space': <cdata 'cpSpace *' 0x7ff6facf7f40>, '_handlers': {}, '_post_step_callbacks': {}, '_removed_shapes': {}, '_shapes': {}, '_bodies': set(), '_static_body': None, '_constraints': set(), '_in_step': False, '_add_later': set(), '_remove_later': set()}\n",
      "{'threaded': False, '_space': <cdata 'cpSpace *' 0x7ff6facf7f40>, '_handlers': {}, '_post_step_callbacks': {}, '_removed_shapes': {}, '_shapes': {}, '_bodies': set(), '_static_body': None, '_constraints': set(), '_in_step': False, '_add_later': set(), '_remove_later': set()}\n",
      "{'threaded': False, '_space': <cdata 'cpSpace *' 0x7ff6facf7f40>, '_handlers': {}, '_post_step_callbacks': {}, '_removed_shapes': {}, '_shapes': {}, '_bodies': set(), '_static_body': None, '_constraints': set(), '_in_step': False, '_add_later': set(), '_remove_later': set()}\n",
      "{'threaded': False, '_space': <cdata 'cpSpace *' 0x7ff6facf7f40>, '_handlers': {}, '_post_step_callbacks': {}, '_removed_shapes': {}, '_shapes': {}, '_bodies': set(), '_static_body': None, '_constraints': set(), '_in_step': False, '_add_later': set(), '_remove_later': set()}\n",
      "{'threaded': False, '_space': <cdata 'cpSpace *' 0x7ff6facf7f40>, '_handlers': {}, '_post_step_callbacks': {}, '_removed_shapes': {}, '_shapes': {}, '_bodies': set(), '_static_body': None, '_constraints': set(), '_in_step': False, '_add_later': set(), '_remove_later': set()}\n",
      "{'threaded': False, '_space': <cdata 'cpSpace *' 0x7ff6facf7f40>, '_handlers': {}, '_post_step_callbacks': {}, '_removed_shapes': {}, '_shapes': {}, '_bodies': set(), '_static_body': None, '_constraints': set(), '_in_step': False, '_add_later': set(), '_remove_later': set()}\n",
      "{'threaded': False, '_space': <cdata 'cpSpace *' 0x7ff6facf7f40>, '_handlers': {}, '_post_step_callbacks': {}, '_removed_shapes': {}, '_shapes': {}, '_bodies': set(), '_static_body': None, '_constraints': set(), '_in_step': False, '_add_later': set(), '_remove_later': set()}\n",
      "{'threaded': False, '_space': <cdata 'cpSpace *' 0x7ff6facf7f40>, '_handlers': {}, '_post_step_callbacks': {}, '_removed_shapes': {}, '_shapes': {}, '_bodies': set(), '_static_body': None, '_constraints': set(), '_in_step': False, '_add_later': set(), '_remove_later': set()}\n",
      "{'threaded': False, '_space': <cdata 'cpSpace *' 0x7ff6facf7f40>, '_handlers': {}, '_post_step_callbacks': {}, '_removed_shapes': {}, '_shapes': {}, '_bodies': set(), '_static_body': None, '_constraints': set(), '_in_step': False, '_add_later': set(), '_remove_later': set()}\n",
      "{'threaded': False, '_space': <cdata 'cpSpace *' 0x7ff6facf7f40>, '_handlers': {}, '_post_step_callbacks': {}, '_removed_shapes': {}, '_shapes': {}, '_bodies': set(), '_static_body': None, '_constraints': set(), '_in_step': False, '_add_later': set(), '_remove_later': set()}\n",
      "{'threaded': False, '_space': <cdata 'cpSpace *' 0x7ff6facf7f40>, '_handlers': {}, '_post_step_callbacks': {}, '_removed_shapes': {}, '_shapes': {}, '_bodies': set(), '_static_body': None, '_constraints': set(), '_in_step': False, '_add_later': set(), '_remove_later': set()}\n",
      "{'threaded': False, '_space': <cdata 'cpSpace *' 0x7ff6facf7f40>, '_handlers': {}, '_post_step_callbacks': {}, '_removed_shapes': {}, '_shapes': {}, '_bodies': set(), '_static_body': None, '_constraints': set(), '_in_step': False, '_add_later': set(), '_remove_later': set()}\n",
      "{'threaded': False, '_space': <cdata 'cpSpace *' 0x7ff6facf7f40>, '_handlers': {}, '_post_step_callbacks': {}, '_removed_shapes': {}, '_shapes': {}, '_bodies': set(), '_static_body': None, '_constraints': set(), '_in_step': False, '_add_later': set(), '_remove_later': set()}\n",
      "{'threaded': False, '_space': <cdata 'cpSpace *' 0x7ff6facf7f40>, '_handlers': {}, '_post_step_callbacks': {}, '_removed_shapes': {}, '_shapes': {}, '_bodies': set(), '_static_body': None, '_constraints': set(), '_in_step': False, '_add_later': set(), '_remove_later': set()}\n",
      "{'threaded': False, '_space': <cdata 'cpSpace *' 0x7ff6facf7f40>, '_handlers': {}, '_post_step_callbacks': {}, '_removed_shapes': {}, '_shapes': {}, '_bodies': set(), '_static_body': None, '_constraints': set(), '_in_step': False, '_add_later': set(), '_remove_later': set()}\n",
      "{'threaded': False, '_space': <cdata 'cpSpace *' 0x7ff6facf7f40>, '_handlers': {}, '_post_step_callbacks': {}, '_removed_shapes': {}, '_shapes': {}, '_bodies': set(), '_static_body': None, '_constraints': set(), '_in_step': False, '_add_later': set(), '_remove_later': set()}\n",
      "{'threaded': False, '_space': <cdata 'cpSpace *' 0x7ff6facf7f40>, '_handlers': {}, '_post_step_callbacks': {}, '_removed_shapes': {}, '_shapes': {}, '_bodies': set(), '_static_body': None, '_constraints': set(), '_in_step': False, '_add_later': set(), '_remove_later': set()}\n",
      "{'threaded': False, '_space': <cdata 'cpSpace *' 0x7ff6facf7f40>, '_handlers': {}, '_post_step_callbacks': {}, '_removed_shapes': {}, '_shapes': {}, '_bodies': set(), '_static_body': None, '_constraints': set(), '_in_step': False, '_add_later': set(), '_remove_later': set()}\n",
      "{'threaded': False, '_space': <cdata 'cpSpace *' 0x7ff6facf7f40>, '_handlers': {}, '_post_step_callbacks': {}, '_removed_shapes': {}, '_shapes': {}, '_bodies': set(), '_static_body': None, '_constraints': set(), '_in_step': False, '_add_later': set(), '_remove_later': set()}\n",
      "{'threaded': False, '_space': <cdata 'cpSpace *' 0x7ff6facf7f40>, '_handlers': {}, '_post_step_callbacks': {}, '_removed_shapes': {}, '_shapes': {}, '_bodies': set(), '_static_body': None, '_constraints': set(), '_in_step': False, '_add_later': set(), '_remove_later': set()}\n",
      "{'threaded': False, '_space': <cdata 'cpSpace *' 0x7ff6facf7f40>, '_handlers': {}, '_post_step_callbacks': {}, '_removed_shapes': {}, '_shapes': {}, '_bodies': set(), '_static_body': None, '_constraints': set(), '_in_step': False, '_add_later': set(), '_remove_later': set()}\n",
      "{'threaded': False, '_space': <cdata 'cpSpace *' 0x7ff6facf7f40>, '_handlers': {}, '_post_step_callbacks': {}, '_removed_shapes': {}, '_shapes': {}, '_bodies': set(), '_static_body': None, '_constraints': set(), '_in_step': False, '_add_later': set(), '_remove_later': set()}\n",
      "{'threaded': False, '_space': <cdata 'cpSpace *' 0x7ff6facf7f40>, '_handlers': {}, '_post_step_callbacks': {}, '_removed_shapes': {}, '_shapes': {}, '_bodies': set(), '_static_body': None, '_constraints': set(), '_in_step': False, '_add_later': set(), '_remove_later': set()}\n",
      "{'threaded': False, '_space': <cdata 'cpSpace *' 0x7ff6facf7f40>, '_handlers': {}, '_post_step_callbacks': {}, '_removed_shapes': {}, '_shapes': {}, '_bodies': set(), '_static_body': None, '_constraints': set(), '_in_step': False, '_add_later': set(), '_remove_later': set()}\n",
      "{'threaded': False, '_space': <cdata 'cpSpace *' 0x7ff6facf7f40>, '_handlers': {}, '_post_step_callbacks': {}, '_removed_shapes': {}, '_shapes': {}, '_bodies': set(), '_static_body': None, '_constraints': set(), '_in_step': False, '_add_later': set(), '_remove_later': set()}\n",
      "{'threaded': False, '_space': <cdata 'cpSpace *' 0x7ff6facf7f40>, '_handlers': {}, '_post_step_callbacks': {}, '_removed_shapes': {}, '_shapes': {}, '_bodies': set(), '_static_body': None, '_constraints': set(), '_in_step': False, '_add_later': set(), '_remove_later': set()}\n",
      "{'threaded': False, '_space': <cdata 'cpSpace *' 0x7ff6facf7f40>, '_handlers': {}, '_post_step_callbacks': {}, '_removed_shapes': {}, '_shapes': {}, '_bodies': set(), '_static_body': None, '_constraints': set(), '_in_step': False, '_add_later': set(), '_remove_later': set()}\n",
      "{'threaded': False, '_space': <cdata 'cpSpace *' 0x7ff6facf7f40>, '_handlers': {}, '_post_step_callbacks': {}, '_removed_shapes': {}, '_shapes': {}, '_bodies': set(), '_static_body': None, '_constraints': set(), '_in_step': False, '_add_later': set(), '_remove_later': set()}\n",
      "{'threaded': False, '_space': <cdata 'cpSpace *' 0x7ff6facf7f40>, '_handlers': {}, '_post_step_callbacks': {}, '_removed_shapes': {}, '_shapes': {}, '_bodies': set(), '_static_body': None, '_constraints': set(), '_in_step': False, '_add_later': set(), '_remove_later': set()}\n",
      "{'threaded': False, '_space': <cdata 'cpSpace *' 0x7ff6facf7f40>, '_handlers': {}, '_post_step_callbacks': {}, '_removed_shapes': {}, '_shapes': {}, '_bodies': set(), '_static_body': None, '_constraints': set(), '_in_step': False, '_add_later': set(), '_remove_later': set()}\n",
      "{'threaded': False, '_space': <cdata 'cpSpace *' 0x7ff6facf7f40>, '_handlers': {}, '_post_step_callbacks': {}, '_removed_shapes': {}, '_shapes': {}, '_bodies': set(), '_static_body': None, '_constraints': set(), '_in_step': False, '_add_later': set(), '_remove_later': set()}\n",
      "{'threaded': False, '_space': <cdata 'cpSpace *' 0x7ff6facf7f40>, '_handlers': {}, '_post_step_callbacks': {}, '_removed_shapes': {}, '_shapes': {}, '_bodies': set(), '_static_body': None, '_constraints': set(), '_in_step': False, '_add_later': set(), '_remove_later': set()}\n",
      "{'threaded': False, '_space': <cdata 'cpSpace *' 0x7ff6facf7f40>, '_handlers': {}, '_post_step_callbacks': {}, '_removed_shapes': {}, '_shapes': {}, '_bodies': set(), '_static_body': None, '_constraints': set(), '_in_step': False, '_add_later': set(), '_remove_later': set()}\n",
      "{'threaded': False, '_space': <cdata 'cpSpace *' 0x7ff6facf7f40>, '_handlers': {}, '_post_step_callbacks': {}, '_removed_shapes': {}, '_shapes': {}, '_bodies': set(), '_static_body': None, '_constraints': set(), '_in_step': False, '_add_later': set(), '_remove_later': set()}\n",
      "{'threaded': False, '_space': <cdata 'cpSpace *' 0x7ff6facf7f40>, '_handlers': {}, '_post_step_callbacks': {}, '_removed_shapes': {}, '_shapes': {}, '_bodies': set(), '_static_body': None, '_constraints': set(), '_in_step': False, '_add_later': set(), '_remove_later': set()}\n",
      "{'threaded': False, '_space': <cdata 'cpSpace *' 0x7ff6facf7f40>, '_handlers': {}, '_post_step_callbacks': {}, '_removed_shapes': {}, '_shapes': {}, '_bodies': set(), '_static_body': None, '_constraints': set(), '_in_step': False, '_add_later': set(), '_remove_later': set()}\n",
      "{'threaded': False, '_space': <cdata 'cpSpace *' 0x7ff6facf7f40>, '_handlers': {}, '_post_step_callbacks': {}, '_removed_shapes': {}, '_shapes': {}, '_bodies': set(), '_static_body': None, '_constraints': set(), '_in_step': False, '_add_later': set(), '_remove_later': set()}\n",
      "{'threaded': False, '_space': <cdata 'cpSpace *' 0x7ff6facf7f40>, '_handlers': {}, '_post_step_callbacks': {}, '_removed_shapes': {}, '_shapes': {}, '_bodies': set(), '_static_body': None, '_constraints': set(), '_in_step': False, '_add_later': set(), '_remove_later': set()}\n",
      "{'threaded': False, '_space': <cdata 'cpSpace *' 0x7ff6facf7f40>, '_handlers': {}, '_post_step_callbacks': {}, '_removed_shapes': {}, '_shapes': {}, '_bodies': set(), '_static_body': None, '_constraints': set(), '_in_step': False, '_add_later': set(), '_remove_later': set()}\n",
      "{'threaded': False, '_space': <cdata 'cpSpace *' 0x7ff6facf7f40>, '_handlers': {}, '_post_step_callbacks': {}, '_removed_shapes': {}, '_shapes': {}, '_bodies': set(), '_static_body': None, '_constraints': set(), '_in_step': False, '_add_later': set(), '_remove_later': set()}\n",
      "{'threaded': False, '_space': <cdata 'cpSpace *' 0x7ff6facf7f40>, '_handlers': {}, '_post_step_callbacks': {}, '_removed_shapes': {}, '_shapes': {}, '_bodies': set(), '_static_body': None, '_constraints': set(), '_in_step': False, '_add_later': set(), '_remove_later': set()}\n",
      "{'threaded': False, '_space': <cdata 'cpSpace *' 0x7ff6facf7f40>, '_handlers': {}, '_post_step_callbacks': {}, '_removed_shapes': {}, '_shapes': {}, '_bodies': set(), '_static_body': None, '_constraints': set(), '_in_step': False, '_add_later': set(), '_remove_later': set()}\n",
      "{'threaded': False, '_space': <cdata 'cpSpace *' 0x7ff6facf7f40>, '_handlers': {}, '_post_step_callbacks': {}, '_removed_shapes': {}, '_shapes': {}, '_bodies': set(), '_static_body': None, '_constraints': set(), '_in_step': False, '_add_later': set(), '_remove_later': set()}\n",
      "{'threaded': False, '_space': <cdata 'cpSpace *' 0x7ff6facf7f40>, '_handlers': {}, '_post_step_callbacks': {}, '_removed_shapes': {}, '_shapes': {}, '_bodies': set(), '_static_body': None, '_constraints': set(), '_in_step': False, '_add_later': set(), '_remove_later': set()}\n",
      "{'threaded': False, '_space': <cdata 'cpSpace *' 0x7ff6facf7f40>, '_handlers': {}, '_post_step_callbacks': {}, '_removed_shapes': {}, '_shapes': {}, '_bodies': set(), '_static_body': None, '_constraints': set(), '_in_step': False, '_add_later': set(), '_remove_later': set()}\n",
      "{'threaded': False, '_space': <cdata 'cpSpace *' 0x7ff6facf7f40>, '_handlers': {}, '_post_step_callbacks': {}, '_removed_shapes': {}, '_shapes': {}, '_bodies': set(), '_static_body': None, '_constraints': set(), '_in_step': False, '_add_later': set(), '_remove_later': set()}\n",
      "{'threaded': False, '_space': <cdata 'cpSpace *' 0x7ff6facf7f40>, '_handlers': {}, '_post_step_callbacks': {}, '_removed_shapes': {}, '_shapes': {}, '_bodies': set(), '_static_body': None, '_constraints': set(), '_in_step': False, '_add_later': set(), '_remove_later': set()}\n",
      "{'threaded': False, '_space': <cdata 'cpSpace *' 0x7ff6facf7f40>, '_handlers': {}, '_post_step_callbacks': {}, '_removed_shapes': {}, '_shapes': {}, '_bodies': set(), '_static_body': None, '_constraints': set(), '_in_step': False, '_add_later': set(), '_remove_later': set()}\n",
      "{'threaded': False, '_space': <cdata 'cpSpace *' 0x7ff6facf7f40>, '_handlers': {}, '_post_step_callbacks': {}, '_removed_shapes': {}, '_shapes': {}, '_bodies': set(), '_static_body': None, '_constraints': set(), '_in_step': False, '_add_later': set(), '_remove_later': set()}\n",
      "{'threaded': False, '_space': <cdata 'cpSpace *' 0x7ff6facf7f40>, '_handlers': {}, '_post_step_callbacks': {}, '_removed_shapes': {}, '_shapes': {}, '_bodies': set(), '_static_body': None, '_constraints': set(), '_in_step': False, '_add_later': set(), '_remove_later': set()}\n",
      "{'threaded': False, '_space': <cdata 'cpSpace *' 0x7ff6facf7f40>, '_handlers': {}, '_post_step_callbacks': {}, '_removed_shapes': {}, '_shapes': {}, '_bodies': set(), '_static_body': None, '_constraints': set(), '_in_step': False, '_add_later': set(), '_remove_later': set()}\n",
      "{'threaded': False, '_space': <cdata 'cpSpace *' 0x7ff6facf7f40>, '_handlers': {}, '_post_step_callbacks': {}, '_removed_shapes': {}, '_shapes': {}, '_bodies': set(), '_static_body': None, '_constraints': set(), '_in_step': False, '_add_later': set(), '_remove_later': set()}\n",
      "{'threaded': False, '_space': <cdata 'cpSpace *' 0x7ff6facf7f40>, '_handlers': {}, '_post_step_callbacks': {}, '_removed_shapes': {}, '_shapes': {}, '_bodies': set(), '_static_body': None, '_constraints': set(), '_in_step': False, '_add_later': set(), '_remove_later': set()}\n",
      "{'threaded': False, '_space': <cdata 'cpSpace *' 0x7ff6facf7f40>, '_handlers': {}, '_post_step_callbacks': {}, '_removed_shapes': {}, '_shapes': {}, '_bodies': set(), '_static_body': None, '_constraints': set(), '_in_step': False, '_add_later': set(), '_remove_later': set()}\n",
      "{'threaded': False, '_space': <cdata 'cpSpace *' 0x7ff6facf7f40>, '_handlers': {}, '_post_step_callbacks': {}, '_removed_shapes': {}, '_shapes': {}, '_bodies': set(), '_static_body': None, '_constraints': set(), '_in_step': False, '_add_later': set(), '_remove_later': set()}\n",
      "{'threaded': False, '_space': <cdata 'cpSpace *' 0x7ff6facf7f40>, '_handlers': {}, '_post_step_callbacks': {}, '_removed_shapes': {}, '_shapes': {}, '_bodies': set(), '_static_body': None, '_constraints': set(), '_in_step': False, '_add_later': set(), '_remove_later': set()}\n",
      "{'threaded': False, '_space': <cdata 'cpSpace *' 0x7ff6facf7f40>, '_handlers': {}, '_post_step_callbacks': {}, '_removed_shapes': {}, '_shapes': {}, '_bodies': set(), '_static_body': None, '_constraints': set(), '_in_step': False, '_add_later': set(), '_remove_later': set()}\n",
      "{'threaded': False, '_space': <cdata 'cpSpace *' 0x7ff6facf7f40>, '_handlers': {}, '_post_step_callbacks': {}, '_removed_shapes': {}, '_shapes': {}, '_bodies': set(), '_static_body': None, '_constraints': set(), '_in_step': False, '_add_later': set(), '_remove_later': set()}\n",
      "{'threaded': False, '_space': <cdata 'cpSpace *' 0x7ff6facf7f40>, '_handlers': {}, '_post_step_callbacks': {}, '_removed_shapes': {}, '_shapes': {}, '_bodies': set(), '_static_body': None, '_constraints': set(), '_in_step': False, '_add_later': set(), '_remove_later': set()}\n",
      "{'threaded': False, '_space': <cdata 'cpSpace *' 0x7ff6facf7f40>, '_handlers': {}, '_post_step_callbacks': {}, '_removed_shapes': {}, '_shapes': {}, '_bodies': set(), '_static_body': None, '_constraints': set(), '_in_step': False, '_add_later': set(), '_remove_later': set()}\n",
      "{'threaded': False, '_space': <cdata 'cpSpace *' 0x7ff6facf7f40>, '_handlers': {}, '_post_step_callbacks': {}, '_removed_shapes': {}, '_shapes': {}, '_bodies': set(), '_static_body': None, '_constraints': set(), '_in_step': False, '_add_later': set(), '_remove_later': set()}\n",
      "{'threaded': False, '_space': <cdata 'cpSpace *' 0x7ff6facf7f40>, '_handlers': {}, '_post_step_callbacks': {}, '_removed_shapes': {}, '_shapes': {}, '_bodies': set(), '_static_body': None, '_constraints': set(), '_in_step': False, '_add_later': set(), '_remove_later': set()}\n",
      "{'threaded': False, '_space': <cdata 'cpSpace *' 0x7ff6facf7f40>, '_handlers': {}, '_post_step_callbacks': {}, '_removed_shapes': {}, '_shapes': {}, '_bodies': set(), '_static_body': None, '_constraints': set(), '_in_step': False, '_add_later': set(), '_remove_later': set()}\n",
      "{'threaded': False, '_space': <cdata 'cpSpace *' 0x7ff6facf7f40>, '_handlers': {}, '_post_step_callbacks': {}, '_removed_shapes': {}, '_shapes': {}, '_bodies': set(), '_static_body': None, '_constraints': set(), '_in_step': False, '_add_later': set(), '_remove_later': set()}\n",
      "{'threaded': False, '_space': <cdata 'cpSpace *' 0x7ff6facf7f40>, '_handlers': {}, '_post_step_callbacks': {}, '_removed_shapes': {}, '_shapes': {}, '_bodies': set(), '_static_body': None, '_constraints': set(), '_in_step': False, '_add_later': set(), '_remove_later': set()}\n",
      "{'threaded': False, '_space': <cdata 'cpSpace *' 0x7ff6facf7f40>, '_handlers': {}, '_post_step_callbacks': {}, '_removed_shapes': {}, '_shapes': {}, '_bodies': set(), '_static_body': None, '_constraints': set(), '_in_step': False, '_add_later': set(), '_remove_later': set()}\n",
      "{'threaded': False, '_space': <cdata 'cpSpace *' 0x7ff6facf7f40>, '_handlers': {}, '_post_step_callbacks': {}, '_removed_shapes': {}, '_shapes': {}, '_bodies': set(), '_static_body': None, '_constraints': set(), '_in_step': False, '_add_later': set(), '_remove_later': set()}\n",
      "{'threaded': False, '_space': <cdata 'cpSpace *' 0x7ff6facf7f40>, '_handlers': {}, '_post_step_callbacks': {}, '_removed_shapes': {}, '_shapes': {}, '_bodies': set(), '_static_body': None, '_constraints': set(), '_in_step': False, '_add_later': set(), '_remove_later': set()}\n"
     ]
    }
   ],
   "source": [
    "import sys\n",
    "import pygame\n",
    "from pygame.locals import *\n",
    "import pymunk as pm #1\n",
    "\n",
    "space = pm.Space()\n",
    "space.gravity = (0.0, -900.0)\n",
    "\n",
    "\n",
    "\n",
    "for i in range(100):\n",
    "    space.step(1/50.0)\n",
    "    print(space.__dict__)\n"
   ]
  },
  {
   "cell_type": "code",
   "execution_count": null,
   "metadata": {
    "hidden": true
   },
   "outputs": [],
   "source": []
  }
 ],
 "metadata": {
  "kernelspec": {
   "display_name": "Python 3",
   "language": "python",
   "name": "python3"
  },
  "language_info": {
   "codemirror_mode": {
    "name": "ipython",
    "version": 3
   },
   "file_extension": ".py",
   "mimetype": "text/x-python",
   "name": "python",
   "nbconvert_exporter": "python",
   "pygments_lexer": "ipython3",
   "version": "3.7.1"
  },
  "toc": {
   "base_numbering": 1,
   "nav_menu": {},
   "number_sections": true,
   "sideBar": true,
   "skip_h1_title": false,
   "title_cell": "Table of Contents",
   "title_sidebar": "Contents",
   "toc_cell": false,
   "toc_position": {},
   "toc_section_display": true,
   "toc_window_display": false
  },
  "varInspector": {
   "cols": {
    "lenName": 16,
    "lenType": 16,
    "lenVar": 40
   },
   "kernels_config": {
    "python": {
     "delete_cmd_postfix": "",
     "delete_cmd_prefix": "del ",
     "library": "var_list.py",
     "varRefreshCmd": "print(var_dic_list())"
    },
    "r": {
     "delete_cmd_postfix": ") ",
     "delete_cmd_prefix": "rm(",
     "library": "var_list.r",
     "varRefreshCmd": "cat(var_dic_list()) "
    }
   },
   "types_to_exclude": [
    "module",
    "function",
    "builtin_function_or_method",
    "instance",
    "_Feature"
   ],
   "window_display": false
  }
 },
 "nbformat": 4,
 "nbformat_minor": 2
}
