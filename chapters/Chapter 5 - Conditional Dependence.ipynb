{
 "cells": [
  {
   "cell_type": "markdown",
   "metadata": {},
   "source": [
    "# TODO\n",
    "\n",
    "- [x] results match probmods.org\n",
    "- [ ] plots for observed_luminance section look weird\n",
    "- [ ] images\n",
    "- [ ] `expectation(..)`\n",
    "- [ ] replace WebPPL refs with Pyro"
   ]
  },
  {
   "cell_type": "markdown",
   "metadata": {},
   "source": [
    "## Setup"
   ]
  },
  {
   "cell_type": "code",
   "execution_count": 1,
   "metadata": {
    "ExecuteTime": {
     "end_time": "2019-09-01T02:13:52.746211Z",
     "start_time": "2019-09-01T02:13:52.143078Z"
    }
   },
   "outputs": [],
   "source": [
    "import numpy as np\n",
    "import matplotlib.pyplot as plt\n",
    "%matplotlib inline\n",
    "\n",
    "import torch\n",
    "import pyro\n",
    "import pyro.distributions as dist\n",
    "pyro.enable_validation()\n",
    "\n",
    "from pmc_webppl import (\n",
    "    flip, pflip, repeat, memoize, \n",
    "    factor, cond_var, condition, expectation, \n",
    "    Infer, viz, viz_heatmap)"
   ]
  },
  {
   "cell_type": "markdown",
   "metadata": {},
   "source": [
    "# From *A Priori* Dependence to Conditional Dependence"
   ]
  },
  {
   "cell_type": "markdown",
   "metadata": {},
   "source": [
    "The relationships between causal structure and statistical dependence become particularly interesting and subtle when we look at the effects of additional observations or assumptions.\n",
    "\n",
    "Events that are statistically dependent *a priori* may become independent when we condition on some observation; this is called *screening off*.\n",
    "\n",
    "Also, events that are statistically independent *a priori* may become dependent when we condition on observations; this is known as *explaining away*.\n",
    "The dynamics of screening off and explaining away are extremely important for understanding patterns of inference---reasoning and learning---in probabilistic models."
   ]
  },
  {
   "cell_type": "markdown",
   "metadata": {
    "heading_collapsed": true
   },
   "source": [
    "## Screening off"
   ]
  },
  {
   "cell_type": "markdown",
   "metadata": {
    "hidden": true
   },
   "source": [
    "*Screening off* refers to a pattern of statistical inference that is quite common in both scientific and intuitive reasoning.\n",
    "If the statistical dependence between two events A and B is only indirect, mediated strictly by one or more other events C, then conditioning on (observing) C should render A and B statistically independent.\n",
    "This can occur if A and B are connected by one or more causal chains, and all such chains run through the set of events C, or if C comprises all of the common causes of A and B.\n",
    "\n",
    "For instance, let's look again at our common cause example, this time assuming that we *already* know the value of `C`:"
   ]
  },
  {
   "cell_type": "code",
   "execution_count": 9,
   "metadata": {
    "ExecuteTime": {
     "end_time": "2019-08-29T02:35:16.841722Z",
     "start_time": "2019-08-29T02:35:16.238777Z"
    },
    "hidden": true
   },
   "outputs": [
    {
     "data": {
      "application/vnd.jupyter.widget-view+json": {
       "model_id": "679ed950bd2f442eb0763289aca6e179",
       "version_major": 2,
       "version_minor": 0
      },
      "text/plain": [
       "HBox(children=(IntProgress(value=0, max=100000), HTML(value='')))"
      ]
     },
     "metadata": {},
     "output_type": "display_data"
    },
    {
     "name": "stdout",
     "output_type": "stream",
     "text": [
      "tensor(1.) tensor(1.)\n",
      "tensor(1.) tensor(0.)\n",
      "tensor(1.) tensor(1.)\n",
      "tensor(1.) tensor(0.)\n",
      "tensor(0.) tensor(1.)\n",
      "tensor(0.) tensor(0.)\n",
      "tensor(0.) tensor(1.)\n",
      "tensor(0.) tensor(0.)\n"
     ]
    },
    {
     "data": {
      "image/png": "[encoded data removed]",
      "text/plain": [
       "<Figure size 432x288 with 1 Axes>"
      ]
     },
     "metadata": {
      "needs_background": "light"
     },
     "output_type": "display_data"
    },
    {
     "data": {
      "application/vnd.jupyter.widget-view+json": {
       "model_id": "1e0b8ac10a6d42c5855aacb0135350d4",
       "version_major": 2,
       "version_minor": 0
      },
      "text/plain": [
       "HBox(children=(IntProgress(value=0, max=100000), HTML(value='')))"
      ]
     },
     "metadata": {},
     "output_type": "display_data"
    },
    {
     "name": "stdout",
     "output_type": "stream",
     "text": [
      "tensor(1.) tensor(1.)\n",
      "tensor(1.) tensor(0.)\n",
      "tensor(1.) tensor(1.)\n",
      "tensor(1.) tensor(0.)\n",
      "tensor(0.) tensor(1.)\n",
      "tensor(0.) tensor(0.)\n",
      "tensor(0.) tensor(1.)\n",
      "tensor(0.) tensor(0.)\n"
     ]
    },
    {
     "data": {
      "image/png": "[encoded data removed]",
      "text/plain": [
       "<Figure size 432x288 with 1 Axes>"
      ]
     },
     "metadata": {
      "needs_background": "light"
     },
     "output_type": "display_data"
    }
   ],
   "source": [
    "def B_cond_A(A_val):\n",
    "    def model():\n",
    "        C = pflip('C', .5)\n",
    "        B = pflip('B', .5) if C else pflip('B', .9)\n",
    "        A = pflip('A', .1) if C else pflip('A', .4)\n",
    "        condition('C_true', bool(C))\n",
    "        condition('A_val', bool(A) == A_val)\n",
    "        print(C, A)\n",
    "        return B\n",
    "    return Infer(model)  # enumerate\n",
    "    \n",
    "\n",
    "viz(B_cond_A(True))\n",
    "viz(B_cond_A(False))"
   ]
  },
  {
   "cell_type": "markdown",
   "metadata": {
    "hidden": true
   },
   "source": [
    "We see that `A` an `B` are statistically *independent* given knowledge of `C`.\n",
    "\n",
    "Screening off is a purely statistical phenomenon.\n",
    "For example, consider the the causal chain model, where A directly causes C, which in turn directly causes B.\n",
    "Here, when we observe C -- the event that mediates an *indirect* causal relation between A and B -- A and B are still causally dependent in our model of the world: it is just our beliefs about the states of A and B that become uncorrelated.\n",
    "\n",
    "There is also an analogous causal phenomenon.\n",
    "If we can actually manipulate or *intervene* on the causal system, and set the value of C to some known value, then A and B become both statistically and causally independent (by intervening on C, we break the causal link between A and C)."
   ]
  },
  {
   "cell_type": "markdown",
   "metadata": {
    "heading_collapsed": true
   },
   "source": [
    "## Explaining away"
   ]
  },
  {
   "cell_type": "markdown",
   "metadata": {
    "hidden": true
   },
   "source": [
    "\"Explaining away\" [@Pearl1988] refers to a complementary pattern of statistical inference which is somewhat more subtle than screening off.\n",
    "\n",
    "If two events A and B are statistically (and hence causally) independent, but they are both causes of one or more other events C, then conditioning on (observing) C can render A and B statistically dependent.\n",
    "Here is an example where `A` and `B` have a common *effect*:"
   ]
  },
  {
   "cell_type": "code",
   "execution_count": 20,
   "metadata": {
    "ExecuteTime": {
     "end_time": "2019-08-29T02:43:16.091047Z",
     "start_time": "2019-08-29T02:43:15.715914Z"
    },
    "hidden": true
   },
   "outputs": [
    {
     "data": {
      "application/vnd.jupyter.widget-view+json": {
       "model_id": "af3ef64ab46b41b2ad7ad2af13d9a4b5",
       "version_major": 2,
       "version_minor": 0
      },
      "text/plain": [
       "HBox(children=(IntProgress(value=0, max=100000), HTML(value='')))"
      ]
     },
     "metadata": {},
     "output_type": "display_data"
    },
    {
     "data": {
      "image/png": "[encoded data removed]",
      "text/plain": [
       "<Figure size 432x288 with 1 Axes>"
      ]
     },
     "metadata": {
      "needs_background": "light"
     },
     "output_type": "display_data"
    },
    {
     "data": {
      "application/vnd.jupyter.widget-view+json": {
       "model_id": "366390f9212c486aa1e4976d05a1a003",
       "version_major": 2,
       "version_minor": 0
      },
      "text/plain": [
       "HBox(children=(IntProgress(value=0, max=100000), HTML(value='')))"
      ]
     },
     "metadata": {},
     "output_type": "display_data"
    },
    {
     "data": {
      "image/png": "[encoded data removed]",
      "text/plain": [
       "<Figure size 432x288 with 1 Axes>"
      ]
     },
     "metadata": {
      "needs_background": "light"
     },
     "output_type": "display_data"
    }
   ],
   "source": [
    "def B_cond_A(A_val):\n",
    "    def model():\n",
    "        A = pflip('A', .5)\n",
    "        B = pflip('B', .5)\n",
    "        C = pflip('C', (.9 if (A or B) else .2))\n",
    "        condition('C_true', bool(C))\n",
    "        condition('A_val', bool(A) == A_val)\n",
    "        return B\n",
    "    return Infer(model)  # enumerate\n",
    "    \n",
    "\n",
    "viz(B_cond_A(True))\n",
    "viz(B_cond_A(False))"
   ]
  },
  {
   "cell_type": "markdown",
   "metadata": {
    "hidden": true
   },
   "source": [
    "As with screening off, we only induce statistical dependence from learning about `C`, not causal dependence: when we observe `C`, `A` and `B` remain causally independent in our model of the world; it is our beliefs about A and B that become correlated.\n",
    "\n",
    "<!--\n",
    "This is an important point, but I'm not sure how to work it in. It should also be made more general, beyond linguistics:\n",
    "In models in cognitive science in general and linguistics in particular this kind of independence is often reflected in a certain *modularity* in the system. For instance, in generative models of language it is often assumed that phonology and semantics don't interact directly, but only through the syntax.\n",
    "-->\n",
    "\n",
    "We can express the general phenomenon of explaining away with the following schematic WebPPL query:\n",
    "\n",
    "```python\n",
    "def model():\n",
    "    a = ...\n",
    "    b = ...\n",
    "    data = f(a, b)\n",
    "    condition('data', bool(data == some_val and a == some_other_val))\n",
    "    return b\n",
    "\n",
    "Infer(model)\n",
    "```\n",
    "\n",
    "We have defined two independent variables `a` and `b` both of which are used to define the value of our data.\n",
    "If we condition on `data` and `a` the posterior distribution on `b` will now be dependent on `a`: observing additional information about `a` changes our conclusions about `b`.\n",
    "\n",
    "The most typical pattern of explaining away we see in causal reasoning is a kind of *anti-correlation*: the probabilities of two possible causes for the same effect increase when the effect is observed, but they are conditionally anti-correlated, so that observing additional evidence in favor of one cause should lower our degree of belief in the other cause.\n",
    "(This pattern is where the term explaining away comes from.)\n",
    "However, the coupling induced by conditioning on common effects depends on the nature of the interaction between the causes, it is not always an anti-correlation.\n",
    "Explaining away takes the form of an anti-correlation when the causes interact in a roughly disjunctive or additive form: the effect tends to happen if any cause happens; or the effect happens if the sum of some continuous influences exceeds a threshold.\n",
    "The following simple mathematical examples show this and other patterns.\n",
    "\n",
    "Suppose we condition on observing the sum of two integers drawn uniformly from 0 to 9:"
   ]
  },
  {
   "cell_type": "code",
   "execution_count": 147,
   "metadata": {
    "ExecuteTime": {
     "end_time": "2019-09-01T00:33:02.775521Z",
     "start_time": "2019-09-01T00:33:02.473061Z"
    },
    "hidden": true
   },
   "outputs": [
    {
     "data": {
      "application/vnd.jupyter.widget-view+json": {
       "model_id": "f9a6a48d464842c9bcac6caa90c9d49a",
       "version_major": 2,
       "version_minor": 0
      },
      "text/plain": [
       "HBox(children=(IntProgress(value=0), HTML(value='')))"
      ]
     },
     "metadata": {},
     "output_type": "display_data"
    },
    {
     "data": {
      "text/plain": [
       "<matplotlib.image.AxesImage at 0x11faa5da0>"
      ]
     },
     "execution_count": 147,
     "metadata": {},
     "output_type": "execute_result"
    },
    {
     "data": {
      "image/png": "[encoded data removed]",
      "text/plain": [
       "<Figure size 432x288 with 1 Axes>"
      ]
     },
     "metadata": {
      "needs_background": "light"
     },
     "output_type": "display_data"
    }
   ],
   "source": [
    "def model():\n",
    "    A = pyro.sample('A', dist.Categorical(torch.ones(10)))\n",
    "    B = pyro.sample('B', dist.Categorical(torch.ones(10)))\n",
    "    condition('AB', bool(A + B == 9))\n",
    "    return torch.tensor([A, B])\n",
    "\n",
    "sum_posterior = Infer(model, num_samples=100)\n",
    "\n",
    "\n",
    "viz_heatmap(sum_posterior)\n",
    "# TODO: scatter plot"
   ]
  },
  {
   "cell_type": "markdown",
   "metadata": {
    "hidden": true
   },
   "source": [
    "This gives perfect anti-correlation in conditional inferences for `A` and `B`. But suppose we instead condition on observing that `A` and `B` are equal:"
   ]
  },
  {
   "cell_type": "code",
   "execution_count": 149,
   "metadata": {
    "ExecuteTime": {
     "end_time": "2019-09-01T00:34:03.614542Z",
     "start_time": "2019-09-01T00:34:03.309329Z"
    },
    "hidden": true
   },
   "outputs": [
    {
     "data": {
      "application/vnd.jupyter.widget-view+json": {
       "model_id": "03ae2a57f9934c2598a73bf347d45066",
       "version_major": 2,
       "version_minor": 0
      },
      "text/plain": [
       "HBox(children=(IntProgress(value=0), HTML(value='')))"
      ]
     },
     "metadata": {},
     "output_type": "display_data"
    },
    {
     "data": {
      "text/plain": [
       "<matplotlib.image.AxesImage at 0x123389898>"
      ]
     },
     "execution_count": 149,
     "metadata": {},
     "output_type": "execute_result"
    },
    {
     "data": {
      "image/png": "[encoded data removed]",
      "text/plain": [
       "<Figure size 432x288 with 1 Axes>"
      ]
     },
     "metadata": {
      "needs_background": "light"
     },
     "output_type": "display_data"
    }
   ],
   "source": [
    "def model():\n",
    "    A = pyro.sample('A', dist.Categorical(torch.ones(10)))\n",
    "    B = pyro.sample('B', dist.Categorical(torch.ones(10)))\n",
    "    condition('AB', bool(A == B))\n",
    "    return torch.tensor([A, B])\n",
    "\n",
    "\n",
    "sum_posterior = Infer(model, num_samples=100)\n",
    "\n",
    "\n",
    "viz_heatmap(sum_posterior)\n",
    "\n",
    "# plt.title('A')\n",
    "# viz(sum_posterior[:, 0])\n",
    "# plt.title('B')\n",
    "# viz(sum_posterior[:, 1])\n",
    "# TODO sometimes this scatter plot is easier to interpret:\n",
    "# viz.scatter(sum_posterior.support())"
   ]
  },
  {
   "cell_type": "markdown",
   "metadata": {
    "hidden": true
   },
   "source": [
    "Now, of course, A and B go from being independent a priori to being perfectly correlated in the conditional distribution.\n",
    "Try out these other conditions to see other possible patterns of conditional dependence for *a priori* independent functions:\n",
    "\n",
    "* `abs(A - B) < 2`\n",
    "* `(A + B >= 9) and (A + B <= 11)`\n",
    "* `abs(A - B) == 3`\n",
    "* `(A - B) % 10 == 3` (Note: `%` means \"remainder when divided by...\")\n",
    "* `A % 2 == B % 2`\n",
    "* `A % 5 == B % 5`"
   ]
  },
  {
   "cell_type": "markdown",
   "metadata": {
    "heading_collapsed": true
   },
   "source": [
    "## Non-monotonic Reasoning"
   ]
  },
  {
   "cell_type": "markdown",
   "metadata": {
    "hidden": true
   },
   "source": [
    "One reason explaining away is an important phenomenon in probabilistic inference is that it is an example of *non-monotonic* reasoning.\n",
    "\n",
    "In formal logic, a theory is said to be monotonic if adding an assumption (or formula) to the theory never reduces the set of conclusions that can be drawn.\n",
    "\n",
    "Most traditional logics (e.g.\n",
    "First Order) are monotonic, but human reasoning does not seem to be.\n",
    "For instance, if I tell you that Tweety is a bird, you conclude that he can fly; if I now tell you that Tweety is an *ostrich* you retract the conclusion that he can fly.\n",
    "\n",
    "Over the years many non-monotonic logics have been introduced to model aspects of human reasoning.\n",
    "One of the first reasons that probabilistic reasoning with Bayesian networks was recognized as important for AI was that it could perspicuously capture these patterns of reasoning [see for instance @Pearl1988].\n",
    "\n",
    "<br>\n",
    "\n",
    "Another way to think about monotonicity is by considering the trajectory of our belief in a specific proposition, as we gain additional relevant information.\n",
    "\n",
    "In traditional logic, there are only three states of belief: true, false, and unknown (when neither a proposition nor its negation can be proven).\n",
    "As we learn more about the world, maintaining logical consistency requires that our belief in any proposition only move from unknown to true or false.\n",
    "That is our \"confidence\" in any conclusion only increases (and only does so in one giant leap from unknown to true or false).\n",
    "\n",
    "In a probabilistic approach, by contrast, belief comes in a whole spectrum of degrees.\n",
    "We can think of confidence as a measure of how far our beliefs are from a uniform distribution---how close to the extremes of 0 or 1.\n",
    "\n",
    "In probabilistic inference, unlike in traditional logic, our confidence in a proposition can both increase and decrease.\n",
    "Even fairly simple probabilistic models can induce complex explaining-away dynamics that lead our degree of belief in a proposition to reverse directions multiple times as observations accumulate."
   ]
  },
  {
   "cell_type": "markdown",
   "metadata": {
    "heading_collapsed": true
   },
   "source": [
    "## Example: Medical Diagnosis"
   ]
  },
  {
   "cell_type": "markdown",
   "metadata": {
    "hidden": true
   },
   "source": [
    "The medical scenario is a great model to explore screening off and explaining away.\n",
    "In this model `smokes` is statistically dependent on several symptoms---`cough`, `chest_pain`, and `shortness_of_breath`---due to a causal chain between them mediated by `lung_disease`.\n",
    "We can see this easily by conditioning on these symptoms and looking at `smokes`:"
   ]
  },
  {
   "cell_type": "code",
   "execution_count": 3,
   "metadata": {
    "ExecuteTime": {
     "end_time": "2019-09-01T00:46:02.768069Z",
     "start_time": "2019-09-01T00:46:00.497390Z"
    },
    "hidden": true
   },
   "outputs": [
    {
     "data": {
      "application/vnd.jupyter.widget-view+json": {
       "model_id": "8256c679da0a4795b4d30dc400b6b5a0",
       "version_major": 2,
       "version_minor": 0
      },
      "text/plain": [
       "HBox(children=(IntProgress(value=0, max=1000), HTML(value='')))"
      ]
     },
     "metadata": {},
     "output_type": "display_data"
    },
    {
     "name": "stdout",
     "output_type": "stream",
     "text": [
      "\n"
     ]
    },
    {
     "data": {
      "image/png": "[encoded data removed]",
      "text/plain": [
       "<Figure size 432x288 with 1 Axes>"
      ]
     },
     "metadata": {
      "needs_background": "light"
     },
     "output_type": "display_data"
    }
   ],
   "source": [
    "def model():\n",
    "    smokes = pflip('smokes', 0.2)\n",
    "    lung_disease = ((smokes and pflip('smokes_ld', 0.1)) or \n",
    "                    pflip('ld', 0.001))\n",
    "    cold = pflip('cold', 0.02)\n",
    "    \n",
    "    cough = ((cold and pflip('ld_cold', 0.5)) or\n",
    "             (lung_disease and pflip('ld_cough', 0.5)) or \n",
    "             pflip('cough', 0.001))\n",
    "    fever = ((cold and pflip('cold_fever', 0.3)) or \n",
    "             pflip('fever', 0.01))\n",
    "    chest_pain = ((lung_disease and pflip('ld_chest_pain', 0.2)) or \n",
    "                  pflip('chest_pain', 0.01))\n",
    "    shortness_of_breath = ((lung_disease and pflip('ld_breath', 0.2)) or \n",
    "                           pflip('breath', 0.01))\n",
    "    \n",
    "    condition('symptoms', bool(cough and chest_pain and shortness_of_breath))\n",
    "\n",
    "    return torch.tensor([smokes])\n",
    "\n",
    "d = Infer(model, num_samples=1000)\n",
    "viz(d, title='p(smokes)')"
   ]
  },
  {
   "cell_type": "markdown",
   "metadata": {
    "hidden": true
   },
   "source": [
    "The conditional probability of `smokes` is much higher than the base rate, 0.2, because observing all these symptoms gives strong evidence for smoking.\n",
    "See how much evidence the different symptoms contribute by dropping them out of the conditioning set. (For instance, try conditioning on `cough and chest_pain`, or just `cough`; you should observe the probability of `smokes` decrease as fewer symptoms are observed.)\n",
    "\n",
    "Now, suppose we condition also on knowledge about the function that mediates these causal links: `lung_disease`.\n",
    "Is there still an informational dependence between these various symptoms and `smokes`?  In the Inference below, try adding and removing various symptoms (`cough`, `chest_pain`, `shortness_of_breath`) but maintaining the observation `lung_disease`:"
   ]
  },
  {
   "cell_type": "code",
   "execution_count": 4,
   "metadata": {
    "ExecuteTime": {
     "end_time": "2019-09-01T00:47:17.573382Z",
     "start_time": "2019-09-01T00:47:15.635227Z"
    },
    "hidden": true
   },
   "outputs": [
    {
     "data": {
      "application/vnd.jupyter.widget-view+json": {
       "model_id": "648087d162ca45f4bc1f33a96745a9dc",
       "version_major": 2,
       "version_minor": 0
      },
      "text/plain": [
       "HBox(children=(IntProgress(value=0, max=1000), HTML(value='')))"
      ]
     },
     "metadata": {},
     "output_type": "display_data"
    },
    {
     "name": "stdout",
     "output_type": "stream",
     "text": [
      "\n"
     ]
    },
    {
     "data": {
      "image/png": "[encoded data removed]",
      "text/plain": [
       "<Figure size 432x288 with 1 Axes>"
      ]
     },
     "metadata": {
      "needs_background": "light"
     },
     "output_type": "display_data"
    }
   ],
   "source": [
    "\n",
    "def model():\n",
    "    smokes = pflip('smokes', 0.2)\n",
    "    lung_disease = ((smokes and pflip('smokes_ld', 0.1)) or \n",
    "                    pflip('ld', 0.001))\n",
    "    cold = pflip('cold', 0.02)\n",
    "    \n",
    "    cough = ((cold and pflip('ld_cold', 0.5)) or\n",
    "             (lung_disease and pflip('ld_cough', 0.5)) or \n",
    "             pflip('cough', 0.001))\n",
    "    fever = ((cold and pflip('cold_fever', 0.3)) or \n",
    "             pflip('fever', 0.01))\n",
    "    chest_pain = ((lung_disease and pflip('ld_chest_pain', 0.2)) or \n",
    "                  pflip('chest_pain', 0.01))\n",
    "    shortness_of_breath = ((lung_disease and pflip('ld_breath', 0.2)) or \n",
    "                           pflip('breath', 0.01))\n",
    "    \n",
    "    condition('symptoms', bool(\n",
    "        lung_disease and cough and chest_pain and shortness_of_breath))\n",
    "\n",
    "    return torch.tensor([smokes])\n",
    "\n",
    "d = Infer(model, num_samples=1000)\n",
    "viz(d, title='p(smokes)')\n"
   ]
  },
  {
   "cell_type": "markdown",
   "metadata": {
    "hidden": true
   },
   "source": [
    "You should see an effect of whether the patient has lung disease on conditional inferences about smoking---a person is judged to be substantially more likely to be a smoker if they have lung disease than otherwise---but there are no separate effects of chest pain, shortness of breath, or cough over and above the evidence provided by knowing whether the patient has lung-disease.\n",
    "The intermediate variable lung disease *screens off* the root cause (smoking) from the more distant effects (coughing, chest pain and shortness of breath).\n",
    "\n",
    "Here is a concrete example of explaining away in our medical scenario.\n",
    "Having a cold and having lung disease are *a priori* independent both causally and statistically.\n",
    "But because they are both causes of coughing if we observe `cough` then `cold` and `lung_disease` become statistically dependent.\n",
    "That is, learning something about whether a patient has `cold` or `lung_disease` will, in the presence of their common effect `cough`, convey information about the other condition. `cold` and `lungCancer` are *a priori* independent, but *conditionally dependent* given `cough`.\n",
    "\n",
    "To illustrate, observe how the probabilities of `cold` and `lung_disease` change when we observe `cough` is true:"
   ]
  },
  {
   "cell_type": "code",
   "execution_count": 2,
   "metadata": {
    "ExecuteTime": {
     "end_time": "2019-09-01T00:59:24.682060Z",
     "start_time": "2019-09-01T00:59:22.263805Z"
    },
    "hidden": true
   },
   "outputs": [
    {
     "data": {
      "application/vnd.jupyter.widget-view+json": {
       "model_id": "596f78990e394df9b65ba0d6a0a722a0",
       "version_major": 2,
       "version_minor": 0
      },
      "text/plain": [
       "HBox(children=(IntProgress(value=0, max=100000), HTML(value='')))"
      ]
     },
     "metadata": {},
     "output_type": "display_data"
    },
    {
     "name": "stdout",
     "output_type": "stream",
     "text": [
      "\n"
     ]
    },
    {
     "data": {
      "image/png": "[encoded data removed]",
      "text/plain": [
       "<Figure size 432x288 with 1 Axes>"
      ]
     },
     "metadata": {
      "needs_background": "light"
     },
     "output_type": "display_data"
    },
    {
     "data": {
      "application/vnd.jupyter.widget-view+json": {
       "model_id": "788b869bac994933a3ce78e3e889adc4",
       "version_major": 2,
       "version_minor": 0
      },
      "text/plain": [
       "HBox(children=(IntProgress(value=0, max=100000), HTML(value='')))"
      ]
     },
     "metadata": {},
     "output_type": "display_data"
    },
    {
     "name": "stdout",
     "output_type": "stream",
     "text": [
      "\n"
     ]
    },
    {
     "data": {
      "image/png": "[encoded data removed]",
      "text/plain": [
       "<Figure size 432x288 with 1 Axes>"
      ]
     },
     "metadata": {
      "needs_background": "light"
     },
     "output_type": "display_data"
    }
   ],
   "source": [
    "def model():\n",
    "    smokes = pflip('smokes', 0.2)\n",
    "    lung_disease = ((smokes and pflip('smokes_ld', 0.1)) or \n",
    "                    pflip('ld', 0.001))\n",
    "    cold = pflip('cold', 0.02)\n",
    "    cough = ((cold and pflip('ld_cold', 0.5)) or\n",
    "             (lung_disease and pflip('ld_cough', 0.5)) or \n",
    "             pflip('cough', 0.001))\n",
    "    fever = ((cold and pflip('cold_fever', 0.3)) or \n",
    "             pflip('fever', 0.01))\n",
    "    chest_pain = ((lung_disease and pflip('ld_chest_pain', 0.2)) or \n",
    "                  pflip('chest_pain', 0.01))\n",
    "    shortness_of_breath = ((lung_disease and pflip('ld_breath', 0.2)) or \n",
    "                           pflip('breath', 0.01))\n",
    "\n",
    "    return torch.tensor([cold, lung_disease])\n",
    "\n",
    "\n",
    "conditioned_model = pyro.condition(model, data={\"cough\": torch.Tensor([1])})\n",
    "\n",
    "d = Infer(lambda: conditioned_model()[0])\n",
    "viz(d, title='cold')\n",
    "d = Infer(lambda: conditioned_model()[1])\n",
    "viz(d, title='lung disease')"
   ]
  },
  {
   "cell_type": "markdown",
   "metadata": {
    "hidden": true
   },
   "source": [
    "Both cold and lung disease are now far more likely that their baseline probability: the probability of having a cold increases from 2% to around 50%; the probability of having lung disease also increases from 2.1% to around 50%.\n",
    "\n",
    "Now suppose we *also* learn that the patient does *not* have a cold."
   ]
  },
  {
   "cell_type": "code",
   "execution_count": 4,
   "metadata": {
    "ExecuteTime": {
     "end_time": "2019-09-01T01:00:59.083957Z",
     "start_time": "2019-09-01T01:00:58.222435Z"
    },
    "hidden": true
   },
   "outputs": [
    {
     "data": {
      "application/vnd.jupyter.widget-view+json": {
       "model_id": "b4e734b534d8457ba256e860664b4cf5",
       "version_major": 2,
       "version_minor": 0
      },
      "text/plain": [
       "HBox(children=(IntProgress(value=0, max=100000), HTML(value='')))"
      ]
     },
     "metadata": {},
     "output_type": "display_data"
    },
    {
     "name": "stdout",
     "output_type": "stream",
     "text": [
      "\n"
     ]
    },
    {
     "data": {
      "image/png": "[encoded data removed]",
      "text/plain": [
       "<Figure size 432x288 with 1 Axes>"
      ]
     },
     "metadata": {
      "needs_background": "light"
     },
     "output_type": "display_data"
    },
    {
     "data": {
      "application/vnd.jupyter.widget-view+json": {
       "model_id": "8e422059357d40e1b9947fc56939b168",
       "version_major": 2,
       "version_minor": 0
      },
      "text/plain": [
       "HBox(children=(IntProgress(value=0, max=100000), HTML(value='')))"
      ]
     },
     "metadata": {},
     "output_type": "display_data"
    },
    {
     "name": "stdout",
     "output_type": "stream",
     "text": [
      "\n"
     ]
    },
    {
     "data": {
      "image/png": "[encoded data removed]",
      "text/plain": [
       "<Figure size 432x288 with 1 Axes>"
      ]
     },
     "metadata": {
      "needs_background": "light"
     },
     "output_type": "display_data"
    }
   ],
   "source": [
    "conditioned_model = pyro.condition(model, data={\"cough\": torch.Tensor([1]),\n",
    "                                                \"cold\": torch.Tensor([0])})\n",
    "\n",
    "d = Infer(lambda: conditioned_model()[0])\n",
    "viz(d, title='cold')\n",
    "d = Infer(lambda: conditioned_model()[1])\n",
    "viz(d, title='lung disease')"
   ]
  },
  {
   "cell_type": "markdown",
   "metadata": {
    "hidden": true
   },
   "source": [
    "The probability of having lung disease increases dramatically.\n",
    "If instead we had observed that the patient does have a cold, the probability of lung cancer returns to its base rate of 2.1%"
   ]
  },
  {
   "cell_type": "code",
   "execution_count": 5,
   "metadata": {
    "ExecuteTime": {
     "end_time": "2019-09-01T01:02:14.135548Z",
     "start_time": "2019-09-01T01:02:12.308636Z"
    },
    "hidden": true
   },
   "outputs": [
    {
     "data": {
      "application/vnd.jupyter.widget-view+json": {
       "model_id": "a23a62255ee0454d8f95fb264f6c04a1",
       "version_major": 2,
       "version_minor": 0
      },
      "text/plain": [
       "HBox(children=(IntProgress(value=0, max=100000), HTML(value='')))"
      ]
     },
     "metadata": {},
     "output_type": "display_data"
    },
    {
     "name": "stdout",
     "output_type": "stream",
     "text": [
      "\n"
     ]
    },
    {
     "data": {
      "image/png": "[encoded data removed]",
      "text/plain": [
       "<Figure size 432x288 with 1 Axes>"
      ]
     },
     "metadata": {
      "needs_background": "light"
     },
     "output_type": "display_data"
    },
    {
     "data": {
      "application/vnd.jupyter.widget-view+json": {
       "model_id": "5cad41c5a8e446999864ef13f2489280",
       "version_major": 2,
       "version_minor": 0
      },
      "text/plain": [
       "HBox(children=(IntProgress(value=0, max=100000), HTML(value='')))"
      ]
     },
     "metadata": {},
     "output_type": "display_data"
    },
    {
     "name": "stdout",
     "output_type": "stream",
     "text": [
      "\n"
     ]
    },
    {
     "data": {
      "image/png": "[encoded data removed]",
      "text/plain": [
       "<Figure size 432x288 with 1 Axes>"
      ]
     },
     "metadata": {
      "needs_background": "light"
     },
     "output_type": "display_data"
    }
   ],
   "source": [
    "conditioned_model = pyro.condition(model, data={\"cough\": torch.Tensor([1]),\n",
    "                                                \"cold\": torch.Tensor([1])})\n",
    "\n",
    "d = Infer(lambda: conditioned_model()[0])\n",
    "viz(d, title='cold')\n",
    "d = Infer(lambda: conditioned_model()[1])\n",
    "viz(d, title='lung disease')"
   ]
  },
  {
   "cell_type": "markdown",
   "metadata": {
    "hidden": true
   },
   "source": [
    "This is the conditional statistical dependence between lung disease and cold, given cough: Learning that the patient does in fact have a cold \"explains away\" the observed cough, so the alternative of lung disease decreases to a much lower value --- roughly back to its 1 in a 1000 rate in the general population.\n",
    "If on the other hand, we had learned that the patient does not have a cold, so the most likely alternative to lung disease is *not* in fact available to \"explain away\" the observed cough, that raises the conditional probability of lung disease dramatically.\n",
    "As an exercise, check that if we remove the observation of coughing, the observation of having a cold or not has no influence on our belief about lung disease; this effect is purely conditional on the observation of a common effect of these two causes.\n",
    "\n",
    "<!--\n",
    "Consider now a patient with a cough who also smokes, you will find that cold and lung disease are roughly equally likely explanations.\n",
    "Or add the observation that the patient has chest pain, so lung disease becomes an even more probable condition than having a cold. These are the settings where explaining away effects will be strongest. Modify the above program to observe that the patient either has a cold or does not have a cold, in addition to having a cough, smoking, and perhaps having chest-pain.\n",
    "\n",
    "E.g., compare these conditioners:\n",
    "  (and smokes cough) with (and smokes cough cold) or\n",
    "                          (and smokes cough (not cold))\n",
    "\n",
    "  (and smokes chest-pain cough) with (and smokes chest-pain cough cold) or\n",
    "                                     (and smokes chest-pain cough (not cold))\n",
    "\n",
    "Notice how far up or down knowledge about whether the patient has a cold can push the conditional belief in having lung disease.\n",
    "-->\n",
    "\n",
    "Explaining away effects can be more indirect.\n",
    "Instead of observing the truth value of `cold`, a direct alternative cause of `cough`, we might simply observe another symptom that provides evidence for `cold`, such as `fever`.\n",
    "Compare these conditions using the above WebPPL program to see an \"explaining away\" conditional dependence in belief between `fever` and `lung_disease`.\n",
    "\n",
    "<!--\n",
    "Replace `(and smokes chest_pain cough)`  with `(and smokes chest-pain cough fever)` or `(and smokes chest-pain cough (not fever))`.\n",
    "In this case, finding out that the patient either does or does not have a fever makes a crucial difference in whether we think that the patient has lung disease...\n",
    "even though fever itself is not at all diagnostic of lung disease, and there is no causal connection between them.\n",
    "-->"
   ]
  },
  {
   "cell_type": "markdown",
   "metadata": {},
   "source": [
    "# Example: Trait Attribution"
   ]
  },
  {
   "cell_type": "markdown",
   "metadata": {},
   "source": [
    "A familiar example of rich patterns of inference comes from reasoning about the causes of students' success and failure in the classroom.\n",
    "Imagine yourself in the position of an interested outside observer---a parent, another teacher, a guidance counselor or college admissions officer---in thinking about these conditional inferences.\n",
    "If a student doesn't pass an exam, what can you say about why he failed?  Maybe he doesn't do his homework, maybe the exam was unfair, or maybe he was just unlucky?"
   ]
  },
  {
   "cell_type": "code",
   "execution_count": 6,
   "metadata": {
    "ExecuteTime": {
     "end_time": "2019-09-01T01:50:53.183615Z",
     "start_time": "2019-09-01T01:50:52.818507Z"
    }
   },
   "outputs": [
    {
     "data": {
      "application/vnd.jupyter.widget-view+json": {
       "model_id": "c71044937e5d47f5962d02d8737a24a2",
       "version_major": 2,
       "version_minor": 0
      },
      "text/plain": [
       "HBox(children=(IntProgress(value=0, max=100000), HTML(value='')))"
      ]
     },
     "metadata": {},
     "output_type": "display_data"
    },
    {
     "name": "stdout",
     "output_type": "stream",
     "text": [
      "\n"
     ]
    },
    {
     "data": {
      "image/png": "[encoded data removed]",
      "text/plain": [
       "<Figure size 432x288 with 1 Axes>"
      ]
     },
     "metadata": {
      "needs_background": "light"
     },
     "output_type": "display_data"
    },
    {
     "data": {
      "application/vnd.jupyter.widget-view+json": {
       "model_id": "9893b619c2964775830851683f61117d",
       "version_major": 2,
       "version_minor": 0
      },
      "text/plain": [
       "HBox(children=(IntProgress(value=0, max=100000), HTML(value='')))"
      ]
     },
     "metadata": {},
     "output_type": "display_data"
    },
    {
     "name": "stdout",
     "output_type": "stream",
     "text": [
      "\n"
     ]
    },
    {
     "data": {
      "image/png": "[encoded data removed]",
      "text/plain": [
       "<Figure size 432x288 with 1 Axes>"
      ]
     },
     "metadata": {
      "needs_background": "light"
     },
     "output_type": "display_data"
    }
   ],
   "source": [
    "def model():\n",
    "    exam_fair = pflip('exam_fair', .8)\n",
    "    does_homework = pflip('does_homework', .8)\n",
    "    pass_exam = pflip('pass_exam',\n",
    "        (0.9 if does_homework else 0.4) \n",
    "        if exam_fair else\n",
    "        (0.6 if does_homework else 0.2)\n",
    "    )\n",
    "    return torch.tensor([does_homework, exam_fair])\n",
    "\n",
    "\n",
    "conditioned_model = pyro.condition(model, data={\"pass_exam\": torch.Tensor([0])})\n",
    "\n",
    "d = Infer(lambda: conditioned_model()[0])\n",
    "viz(d, title='does homework')\n",
    "d = Infer(lambda: conditioned_model()[1])\n",
    "viz(d, title='exam is fair')"
   ]
  },
  {
   "cell_type": "markdown",
   "metadata": {},
   "source": [
    "Now what if you have evidence from several students and several exams? We first re-write the above model to allow many students and exams:"
   ]
  },
  {
   "cell_type": "code",
   "execution_count": 11,
   "metadata": {
    "ExecuteTime": {
     "end_time": "2019-09-01T01:54:06.565863Z",
     "start_time": "2019-09-01T01:54:06.554998Z"
    }
   },
   "outputs": [
    {
     "data": {
      "text/plain": [
       "tensor(1.)"
      ]
     },
     "execution_count": 11,
     "metadata": {},
     "output_type": "execute_result"
    }
   ],
   "source": [
    "exam_fair_ = memoize(lambda exam: pflip(f'{exam}_exam_fair', 0.8))\n",
    "exam_fair_('blah')"
   ]
  },
  {
   "cell_type": "code",
   "execution_count": 3,
   "metadata": {
    "ExecuteTime": {
     "end_time": "2019-09-01T01:58:51.110620Z",
     "start_time": "2019-09-01T01:58:50.747675Z"
    }
   },
   "outputs": [
    {
     "data": {
      "application/vnd.jupyter.widget-view+json": {
       "model_id": "6d3d566a187d455397661c5919e56d30",
       "version_major": 2,
       "version_minor": 0
      },
      "text/plain": [
       "HBox(children=(IntProgress(value=0, max=100000), HTML(value='')))"
      ]
     },
     "metadata": {},
     "output_type": "display_data"
    },
    {
     "name": "stdout",
     "output_type": "stream",
     "text": [
      "\n"
     ]
    },
    {
     "data": {
      "image/png": "[encoded data removed]",
      "text/plain": [
       "<Figure size 432x288 with 1 Axes>"
      ]
     },
     "metadata": {
      "needs_background": "light"
     },
     "output_type": "display_data"
    },
    {
     "data": {
      "application/vnd.jupyter.widget-view+json": {
       "model_id": "6635545ff7e54b148277fb2f37656632",
       "version_major": 2,
       "version_minor": 0
      },
      "text/plain": [
       "HBox(children=(IntProgress(value=0, max=100000), HTML(value='')))"
      ]
     },
     "metadata": {},
     "output_type": "display_data"
    },
    {
     "name": "stdout",
     "output_type": "stream",
     "text": [
      "\n"
     ]
    },
    {
     "data": {
      "image/png": "[encoded data removed]",
      "text/plain": [
       "<Figure size 432x288 with 1 Axes>"
      ]
     },
     "metadata": {
      "needs_background": "light"
     },
     "output_type": "display_data"
    }
   ],
   "source": [
    "def model():\n",
    "    exam_fair = memoize(lambda exam: pflip(f'{exam}_exam_fair', 0.8))\n",
    "    does_homework = memoize(lambda student: pflip(f'{student}_does_homework', 0.8))\n",
    "\n",
    "    def pass_exam(student, exam):\n",
    "        return pflip(f'{student}_pass',\n",
    "            ((0.9 if does_homework(student) else 0.4) \n",
    "            if exam_fair(exam) else\n",
    "            (0.6 if does_homework(student) else 0.2))\n",
    "        )\n",
    "\n",
    "    condition('bill_no_pass', bool(not pass_exam('bill', 'exam1')))\n",
    "\n",
    "    return torch.tensor([does_homework('bill'), exam_fair('exam1')])\n",
    "\n",
    "\n",
    "d = Infer(lambda: model()[0])\n",
    "viz(d, title='bill does homework')\n",
    "d = Infer(lambda: model()[1])\n",
    "viz(d, title='exam1 is fair')"
   ]
  },
  {
   "cell_type": "markdown",
   "metadata": {},
   "source": [
    "Initially we observe that Bill failed exam 1.\n",
    "A priori, we assume that most students do their homework and most exams are fair, but given this one observation it becomes somewhat likely that either the student didn't study or the exam was unfair.\n",
    "\n",
    "Notice that we have set the probabilities in the `pass` function to be asymmetric: whether a student does homework has a greater influence on passing the test than whether the exam is fair.\n",
    "This in turns means that when inferring the *cause* of a failed exam, the model tends to attribute it to the person property (not doing homework) over the situation property (exam being unfair).\n",
    "This asymmetry is an example of the *fundamental attribution bias* [@Ross1977]: we tend to attribute outcomes to personal traits rather than situations.\n",
    "However there are many interacting tendencies (for instance the direction of this bias switches for members of some east-asian cultures).\n",
    "How could you extend the model to account for these interactions?\n",
    "\n",
    "See how conditional inferences about Bill and exam 1 change as you add in more data about this student or this exam, or additional students and exams.\n",
    "Try using each of the below expressions as the condition for the above inference.\n",
    "Try to explain the different inferences that result at each stage.\n",
    "What does each new piece of the larger data set contribute to your intuition about Bill  and exam 1?\n",
    "\n",
    "* `!pass('bill', 'exam1') and !pass('bill', 'exam2')`\n",
    "\n",
    "* `!pass('bill', 'exam1') and !pass('mary', 'exam1') and !pass('tim', 'exam1')`\n",
    "\n",
    "* `!pass('bill', 'exam1') and !pass('bill', 'exam2') and\n",
    "  !pass('mary', 'exam1') and\n",
    "  !pass('tim', 'exam1')`\n",
    "\n",
    "* `!pass('bill', 'exam1') and\n",
    "  !pass('mary', 'exam1') and pass('mary', 'exam2') and pass('mary', 'exam3') and pass('mary', 'exam4') and pass('mary', 'exam5') and\n",
    "  !pass('tim', 'exam1') and pass('tim', 'exam2') and pass('tim', 'exam3') and pass('tim', 'exam4') and pass('tim', 'exam5')`\n",
    "\n",
    "* `!pass('bill', 'exam1') and\n",
    "  pass('mary', 'exam1') and\n",
    "  pass('tim', 'exam1')`\n",
    "\n",
    "* `!pass('bill', 'exam1') and\n",
    "  pass('mary', 'exam1') and pass('mary', 'exam2') and pass('mary', 'exam3') and pass('mary', 'exam4') and pass('mary', 'exam5') and\n",
    "  pass('tim', 'exam1') and pass('tim', 'exam2') and pass('tim', 'exam3') and pass('tim', 'exam4') and pass('tim', 'exam5')`\n",
    "\n",
    "* !`pass('bill', 'exam1') and !pass('bill', 'exam2') and\n",
    "  pass('mary', 'exam1') and pass('mary', 'exam2') and pass('mary', 'exam3') and pass('mary', 'exam4') and pass('mary', 'exam5') and\n",
    "  pass('tim', 'exam1') and pass('tim', 'exam2') and pass('tim', 'exam3') and pass('tim', 'exam4') and pass('tim', 'exam5')`\n",
    "\n",
    "* `!pass('bill', 'exam1') and !pass('bill', 'exam2') and pass('bill', 'exam3') and pass('bill', 'exam4') and pass('bill', 'exam5') and\n",
    "  pass('mary', 'exam1') and pass('mary', 'exam2') and pass('mary', 'exam3') and pass('mary', 'exam4') and pass('mary', 'exam5') and\n",
    "  pass('tim', 'exam1') and pass('tim', 'exam2') and pass('tim', 'exam3') and pass('tim', 'exam4') and pass('tim', 'exam5')`\n",
    "\n",
    "\n",
    "This example is inspired by the work of Harold Kelley (and many others) on causal attribution in social settings [@Kelley1973].\n",
    "Kelley identified three important dimensions of variation in the evidence, which affect the attributions people make of the cause of an outcome.\n",
    "These three dimensions are: Persons---is the outcome consistent across different people in the situation?; Entities---is the outcome consistent for different entities in the situation?; Time---is the outcome consistent over different episodes? These dimensions map onto the different sets of evidence we have just seen---how?\n",
    "\n",
    "<!--- wikipedia:\n",
    "1) Consistency: \"Is the behavior consistent across most people in the given situation?\" 2) Distinctiveness: \"Does the behavior vary across different situations?\" and 3) Consensus: \"Do most people engage in this behavior in this situation?\"\n",
    "--->\n",
    "\n",
    "As in this example, people often have to make inferences about entities and their interactions.\n",
    "Such problems tend to have dense relations between the entities, leading to very challenging explaining away problems.\n",
    "These inferences often come very naturally to people, yet they are computationally difficult.\n",
    "Perhaps these are important problems that our brains have specialized somewhat to solve, or perhaps that they have evolved general solutions to these tough inferences. What do you think?"
   ]
  },
  {
   "cell_type": "markdown",
   "metadata": {},
   "source": [
    "# Example: Of Blickets and Blocking"
   ]
  },
  {
   "cell_type": "markdown",
   "metadata": {},
   "source": [
    "A number of researchers have explored children's causal learning abilities by using the \"blicket detector\" [@Gopnik2000]: a toy box that will light up when certain blocks, the blickets, are put on top of it.\n",
    "Children are shown a set of evidence and then asked which blocks are blickets.\n",
    "\n",
    "For instance, if block A makes the detector go off, it is probably a blicket.\n",
    "Ambiguous patterns are particularly interesting.\n",
    "\n",
    "Imagine that blocks A and B are put on the detector together, making the detector go off; it is fairly likely that A is a blicket.\n",
    "Now B is put on the detector alone, making the detector go off; it is now less plausible that A is a blicket.\n",
    "This is called \"backward blocking\", and it is an example of explaining away.\n",
    "\n",
    "We can capture this set up with a model in which each block has a persistent \"blicket-ness\" property, and the causal power of the block to make the machine go off depends on its blicketness.\n",
    "Finally, the machine goes off if any of the blocks on it is a blicket (but noisily)."
   ]
  },
  {
   "cell_type": "code",
   "execution_count": 7,
   "metadata": {
    "ExecuteTime": {
     "end_time": "2019-09-01T02:03:03.927369Z",
     "start_time": "2019-09-01T02:03:03.695986Z"
    }
   },
   "outputs": [
    {
     "data": {
      "application/vnd.jupyter.widget-view+json": {
       "model_id": "98c81cf2249a4c4c80eb2d9d20b8b98c",
       "version_major": 2,
       "version_minor": 0
      },
      "text/plain": [
       "HBox(children=(IntProgress(value=0, max=100000), HTML(value='')))"
      ]
     },
     "metadata": {},
     "output_type": "display_data"
    },
    {
     "data": {
      "image/png": "[encoded data removed]",
      "text/plain": [
       "<Figure size 432x288 with 1 Axes>"
      ]
     },
     "metadata": {
      "needs_background": "light"
     },
     "output_type": "display_data"
    }
   ],
   "source": [
    "def model():\n",
    "    blicket = memoize(lambda block: pflip(f'{block}_blicket', .4))\n",
    "    power = lambda block: .9 if blicket(block) else .05\n",
    "    def machine(blocks):\n",
    "        return (\n",
    "            pflip(f'{blocks}_ machine', .05) \n",
    "            if len(blocks) == 0 else\n",
    "            (pflip(f'{blocks}_ machine', power(blocks[0])) or \n",
    "             machine(blocks[1:])))\n",
    "    \n",
    "    condition('AB', machine(['A', 'B']))\n",
    "    # condition('B', machine(['B']))         # uncomment to see explaining away!\n",
    "    return torch.tensor([blicket('A')])\n",
    "\n",
    "viz(Infer(model))  # enumerate"
   ]
  },
  {
   "cell_type": "markdown",
   "metadata": {},
   "source": [
    "Try the backward blocking scenario described above.\n",
    "@Sobel2004 tried this with children, finding that four year-olds perform similarly to the model: evidence that B is a blicket explains away the evidence that A and B made the detector go away."
   ]
  },
  {
   "cell_type": "markdown",
   "metadata": {},
   "source": [
    "# A Case Study in Modularity: Visual Perception of Surface Color"
   ]
  },
  {
   "cell_type": "markdown",
   "metadata": {},
   "source": [
    "Visual perception is full of rich conditional inference phenomena, including both screening off and explaining away.\n",
    "Some very impressive demonstrations have been constructed using the perception of surface structure by mid-level vision researchers; see the work of Dan Kersten, David Knill, Ted Adelson, Bart Anderson, Ken Nakayama, among others.\n",
    "\n",
    "Most striking is when conditional inference appears to violate or alter the apparently \"modular\" structure of visual processing.\n",
    "Neuroscientists have developed an understanding of the primate visual system in which processing for different aspects of visual stimuli---color, shape, motion, stereo---appears to be at least somewhat localized in different brain regions.\n",
    "\n",
    "This view is consistent with findings by cognitive psychologists that at least in early vision, these different stimulus dimensions are not integrated but processed in a sequential, modular fashion.\n",
    "Yet vision is at heart about constructing a unified and coherent percept of a three-dimensional scene from the patterns of light falling on our retinas.\n",
    "That is, vision is causal inference on a grand scale.\n",
    "Its output is a rich description of the objects, surface properties and relations in the world that are not themselves directly grasped by the brain but that are the true causes of the input---low-level stimulation of the retina.\n",
    "\n",
    "Solving this problem requires integration of many appearance features across an image, and this results in the potential for massive effects of explaining away and screening off.\n",
    "\n",
    "In vision, the luminance of a surface depends on two factors, the illumination of the surface (how much light is hitting it) and its intrinsic reflectance.\n",
    "The actual luminance is the product of the two factors.\n",
    "Thus luminance is inherently ambiguous.\n",
    "\n",
    "The visual system has to determine what proportion of the luminance is due to reflectance and what proportion is due to the illumination of the scene.\n",
    "This has led to a famous illusion known as the *checker shadow illusion* discovered by Ted Adelson.\n",
    "\n",
    "<font size=\"20\" color=\"red\">TODO - image</font>\n",
    "\n",
    "![Are the two squares the same shade of grey?]({{site.baseurl}}/assets/img/Checkershadow_illusion_small.png)\n",
    "\n",
    "Despite appearances, in the image above both the square labeled A and the square labeled B are actually the same shade of gray.\n",
    "This can be seen in the figure below where they are connected by solid gray bars on either side.\n",
    "\n",
    "\n",
    "<font size=\"20\" color=\"red\">TODO - image</font>\n",
    "\n",
    "![]({{site.baseurl}}/assets/img/Checkershadow_proof_small.png)\n",
    "\n",
    "The presence of the cylinder is providing evidence that the illumination of square B is actually less than that of square A (because it is expected to cast a shadow).\n",
    "Thus we perceive square B as having higher reflectance since its luminance is identical to square A and we believe there is less light hitting it.\n",
    "The following program implements a simple version of this scenario \"before\" we see the shadow cast by the cylinder."
   ]
  },
  {
   "cell_type": "code",
   "execution_count": 4,
   "metadata": {
    "ExecuteTime": {
     "end_time": "2019-09-01T02:16:05.741765Z",
     "start_time": "2019-09-01T02:14:35.379963Z"
    }
   },
   "outputs": [
    {
     "data": {
      "application/vnd.jupyter.widget-view+json": {
       "model_id": "9ea05961d92f497ba6ce4e2d270f7c5d",
       "version_major": 2,
       "version_minor": 0
      },
      "text/plain": [
       "HBox(children=(IntProgress(value=0, max=10000), HTML(value='')))"
      ]
     },
     "metadata": {},
     "output_type": "display_data"
    },
    {
     "data": {
      "image/png": "[encoded data removed]",
      "text/plain": [
       "<Figure size 432x288 with 1 Axes>"
      ]
     },
     "metadata": {
      "needs_background": "light"
     },
     "output_type": "display_data"
    }
   ],
   "source": [
    "observed_luminance = torch.tensor(3)\n",
    "\n",
    "def model():\n",
    "    reflectance = pyro.sample('reflectance', dist.Normal(1, 1))\n",
    "    illumination = pyro.sample('illumination', dist.Normal(3, 1))  # TODO: pyro.sample?\n",
    "    luminance = reflectance * illumination\n",
    "    pyro.sample('luminance', dist.Normal(luminance, 1), obs=observed_luminance)\n",
    "    return reflectance\n",
    "\n",
    "reflectance_posterior = Infer(model, posterior_method='MH', num_samples=10000)\n",
    "\n",
    "# print(expectation(reflectance_posterior))\n",
    "viz(reflectance_posterior)"
   ]
  },
  {
   "cell_type": "markdown",
   "metadata": {},
   "source": [
    "Now let's condition on the presence of the cylinder, by conditioning on the presence of its \"shadow\" (i.e. gaining a noisy observation suggesting that illumination is lower than expected *a priori*):"
   ]
  },
  {
   "cell_type": "code",
   "execution_count": 5,
   "metadata": {
    "ExecuteTime": {
     "end_time": "2019-09-01T02:18:08.695146Z",
     "start_time": "2019-09-01T02:16:20.748845Z"
    }
   },
   "outputs": [
    {
     "data": {
      "application/vnd.jupyter.widget-view+json": {
       "model_id": "e85ce0b3ab99487388b36fc8c02adb19",
       "version_major": 2,
       "version_minor": 0
      },
      "text/plain": [
       "HBox(children=(IntProgress(value=0, max=10000), HTML(value='')))"
      ]
     },
     "metadata": {},
     "output_type": "display_data"
    },
    {
     "data": {
      "image/png": "[encoded data removed]",
      "text/plain": [
       "<Figure size 432x288 with 1 Axes>"
      ]
     },
     "metadata": {
      "needs_background": "light"
     },
     "output_type": "display_data"
    }
   ],
   "source": [
    "observed_luminance = torch.tensor(3)\n",
    "\n",
    "def model():\n",
    "    reflectance = pyro.sample('reflectance', dist.Normal(1, 1))\n",
    "    illumination = pyro.sample('illumination', dist.Normal(3, 1))  # TODO: pyro.sample?\n",
    "    luminance = reflectance * illumination\n",
    "    pyro.sample('luminance', dist.Normal(luminance, 1), obs=observed_luminance)\n",
    "    pyro.sample('illumination_obs', dist.Normal(illumination, 1), obs=torch.tensor(0.5))\n",
    "    return reflectance\n",
    "\n",
    "reflectance_posterior = Infer(model, posterior_method='MH', num_samples=10000)\n",
    "\n",
    "# print(expectation(reflectance_posterior))\n",
    "viz(reflectance_posterior)"
   ]
  },
  {
   "cell_type": "markdown",
   "metadata": {},
   "source": [
    "\n",
    "The variables `reflectance` and `illumination` are conditionally independent in the generative model, but after we condition on `luminance` they become dependent: changing one of them affects the probability of the other.\n",
    "Although the model of (our knowledge of) the world has a certain kind of modularity implied by conditional independence, as soon as we start using the model to do conditional inference on some data, formerly modularly isolated variables can become dependent.\n",
    "This general phenomenon has important consequences for cognitive science.\n",
    "\n",
    "<!--\n",
    "## Other vision examples (to be developed)\n",
    "Kersten's [colored Mach card](http://vision.psych.umn.edu/users/kersten/kersten-lab/Mutual_illumination/BlojKerstenHurlbertDemo99.pdf) illusion is a beautiful example of both explaining away and screening off in visual surface perception, as well as a switch between these two patterns of inference conditioned on an auxiliary variable.\n",
    "Depending on how we perceive the geometry of a surface folded down the middle -- whether it is concave so that the two halves face each other or convex so that they face away -- the perceived colors of the faces will change as the visual system either discounts (explains away) or ignores (screens off) the effects of inter-reflections between the surfaces.\n",
    "\n",
    "The [two cylinders illusion](http://vision.psych.umn.edu/users/kersten/kersten-lab/images/twocylinders.gif) of Kersten is another nice example of explaining away.\n",
    "The gray shading patterns are identical in the left and right images, but on the left the shading is perceived as reflectance difference, while on the right (the \"two cylinders\") the same shading is perceived as due to shape variation on surfaces with uniform reflectance.\n",
    "-->\n",
    "\n",
    "<!--\n",
    "\n",
    "<img src='images/Kersten_et_al_explaining_away.png' width='400' />\n",
    "\n",
    "(This image is from Kersten, Mamassian and Yuille, Annual Review of Psychology 2004)\n",
    "\n",
    "model this using simple 1-dim procedural graphics:\n",
    "   1-dim reflectance (assuming all changes are sharp discrete\n",
    "   1-dim shape assuming all changes are gradual\n",
    "   1-dim lighting assuming a gradient with some slope (1 param) falling off across the image, pos\n",
    "       or neg slope\n",
    "   Contour is described as either constant or sin function, and it is just a noisy diffusion of the\n",
    "     3d shape map:\n",
    "\n",
    "(define x-vals '(0 1 2 3 4 5 6 7 8 9 10 11 12 13 14 15 16 17 18 19 20))\n",
    "(define contour-1 (map (lambda (x) 1) x-vals))\n",
    "(define contour-2 (map (lambda (x) (sin (* (/ (modulo x 10) 10) 3.14159))) x-vals))\n",
    "\n",
    "(define reflectance-changes (map (lambda (x) (- (sample-discrete '(1 20 1)) 1)) x-vals))\n",
    "...\n",
    "\n",
    "write the rendering function: image = illum * reflec * cos surface angle (check this\n",
    "with http://en.wikipedia.org/wiki/Lambertian_reflectance)\n",
    "\n",
    "compute simple discrete derivatives of shape for angle of surface normal\n",
    "\n",
    "condition on effect of observing contour\n",
    "\n",
    "-->"
   ]
  }
 ],
 "metadata": {
  "kernelspec": {
   "display_name": "Python 3",
   "language": "python",
   "name": "python3"
  },
  "language_info": {
   "codemirror_mode": {
    "name": "ipython",
    "version": 3
   },
   "file_extension": ".py",
   "mimetype": "text/x-python",
   "name": "python",
   "nbconvert_exporter": "python",
   "pygments_lexer": "ipython3",
   "version": "3.7.1"
  },
  "toc": {
   "base_numbering": 1,
   "nav_menu": {},
   "number_sections": true,
   "sideBar": true,
   "skip_h1_title": false,
   "title_cell": "Table of Contents",
   "title_sidebar": "Contents",
   "toc_cell": false,
   "toc_position": {},
   "toc_section_display": true,
   "toc_window_display": false
  },
  "varInspector": {
   "cols": {
    "lenName": 16,
    "lenType": 16,
    "lenVar": 40
   },
   "kernels_config": {
    "python": {
     "delete_cmd_postfix": "",
     "delete_cmd_prefix": "del ",
     "library": "var_list.py",
     "varRefreshCmd": "print(var_dic_list())"
    },
    "r": {
     "delete_cmd_postfix": ") ",
     "delete_cmd_prefix": "rm(",
     "library": "var_list.r",
     "varRefreshCmd": "cat(var_dic_list()) "
    }
   },
   "types_to_exclude": [
    "module",
    "function",
    "builtin_function_or_method",
    "instance",
    "_Feature"
   ],
   "window_display": false
  }
 },
 "nbformat": 4,
 "nbformat_minor": 2
}
