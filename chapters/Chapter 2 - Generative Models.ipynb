{
 "cells": [
  {
   "cell_type": "code",
   "execution_count": 1,
   "metadata": {
    "ExecuteTime": {
     "end_time": "2019-09-11T05:34:01.171283Z",
     "start_time": "2019-09-11T05:34:00.176290Z"
    }
   },
   "outputs": [],
   "source": [
    "import functools\n",
    "\n",
    "%matplotlib inline\n",
    "import matplotlib.pyplot as plt\n",
    "import numpy as np\n",
    "from numpy.random import randint\n",
    "\n",
    "import pyro\n",
    "import pyro.distributions as dist\n",
    "import torch\n",
    "\n",
    "import sys; sys.path.append('..')\n",
    "from pyro_webppl import viz\n",
    "\n",
    "# imports for physics example:\n",
    "import pyglet\n",
    "from pyglet.gl import *\n",
    "from pyglet.window import key, mouse\n",
    "\n",
    "import pymunk\n",
    "import pymunk.pyglet_util\n",
    "from pymunk import Vec2d\n",
    "\n",
    "from copy import deepcopy\n",
    "from pyro.infer import Importance, EmpiricalMarginal"
   ]
  },
  {
   "cell_type": "markdown",
   "metadata": {},
   "source": [
    "Here we show a few PyroWebPPL primitives. In later chapters, these will be imported from `pyro_webppl`."
   ]
  },
  {
   "cell_type": "code",
   "execution_count": 8,
   "metadata": {
    "ExecuteTime": {
     "end_time": "2019-09-10T03:07:39.954079Z",
     "start_time": "2019-09-10T03:07:39.949588Z"
    }
   },
   "outputs": [],
   "source": [
    "def flip(p=0.5):\n",
    "    return torch.distributions.Bernoulli(p).sample()\n",
    "\n",
    "def pflip(var='flip', p=0.5):\n",
    "    return pyro.sample(var, dist.Bernoulli(p))\n",
    "\n",
    "def repeat(f, n):\n",
    "    return [f() for _ in range(n)]"
   ]
  },
  {
   "cell_type": "markdown",
   "metadata": {},
   "source": [
    "# Models, simulation, and degrees of belief"
   ]
  },
  {
   "cell_type": "markdown",
   "metadata": {},
   "source": [
    "<!--\n",
    "robert_hawkins [11:49 AM]  \n",
    "a couple issues with the chapter:\n",
    "1. the heading structure is a bit confusing — the “Building Generative Models” section starts with some info on webppl, has a subsection “example: flipping coins”, and then pops out to the outer level for “example: medical diagnosis”. Maybe we could signpost that better, like create a subsection where we explicitly describe webppl, a subsection about sampling, and indent the medical diagnosis example one level?\n",
    "2. the “prediction, simulation, and probabilities” section uses both bayesian and frequentist notions of probability without labeling them or distinguishing them (e.g. “A probability is… a degree of belief”, but “We may define the probability … to be the fraction of times (in the long run) that this value is returned”). It’d be nice to say that these are alternate ways of formalizing probability?\n",
    "3. I like the new \"constructing marginal distributions with `Infer`\" section… Should we rewrite other models in future chapters that use `repeat` to use `forward` instead?\n",
    "-->\n",
    "\n",
    "\n",
    "\n",
    "One view of knowledge is that the mind maintains working models of parts of the world.\n",
    "'Model' in the sense that it captures some of the structure in the world, but not all (and what it captures need not be exactly what is in the world---just what is useful).\n",
    "'Working' in the sense that it can be used to simulate this part of the world, imagining what will follow from different initial conditions.\n",
    "As an example take the Plinko machine: a box with uniformly spaced pegs, with bins at the bottom.\n",
    "Into this box we drop marbles:\n",
    "\n",
    "\n",
    "\n",
    "<img src=\"../img/plinko.gif\" width=\"300\">\n",
    "\n",
    "<a href=\"https://probmods.org/chapters/generative-models.html\"> Interactive example </a>\n",
    "\n",
    "\n",
    "The plinko machine is a 'working model' for many physical processes in which many small perturbations accumulate---for instance a leaf falling from a tree.\n",
    "It is an approximation to these systems because we use a discrete grid (the pegs) and discrete bins.\n",
    "Yet it is useful as a model: for instance, we can ask where we expect a marble to end up depending on where we drop it in, by running the machine several times---simulating the outcome.\n",
    "\n",
    "Imagine that someone has dropped a marble into the plinko machine; before looking at the outcome, you can probably report how much you believe that the ball has landed in each possible bin.\n",
    "Indeed, if you run the plinko machine many times, you will see a shape emerge in the bins.\n",
    "The number of balls in a bin gives you some idea how much you should expect a new marble to end up there.\n",
    "This 'shape of expected outcomes' can be formalized as a probability distribution (described below).\n",
    "Indeed, there is an intimate connection between simulation, expectation or belief, and probability, which we explore in the rest of this section.\n",
    "\n",
    "There is one more thing to note about our Plinko machine above: we are using a computer program to *simulate* the simulation.\n",
    "Computers can be seen as universal simulators.\n",
    "How can we, clearly and precisely, describe the simulation we want a computer to do?"
   ]
  },
  {
   "cell_type": "markdown",
   "metadata": {},
   "source": [
    "# Building Generative Models"
   ]
  },
  {
   "cell_type": "markdown",
   "metadata": {},
   "source": [
    "We wish to describe in formal terms how to generate states of the world.\n",
    "That is, we wish to describe the causal process, or steps that unfold, leading to some potentially observable states.\n",
    "The key idea of this section is that these generative processes can be described as *computations*---computations that involve random choices to capture uncertainty about the process.\n",
    "\n",
    "Programming languages are formal systems for describing what (deterministic) computation a computer should do. Modern programming languages offer a wide variety of different ways to describe computation; each makes some processes simple to describe and others more complex. \n",
    "\n",
    "However, a key tenet of computer science is that all of these languages have the same fundamental power: any computation that can be described with one programming language can described by another. More technically, this Church-Turing thesis posits that many specific computational systems capture the set of all effectively computable procedure - these are called *universal* systems.\n",
    "\n",
    "<!--\n",
    "As our formal model of computation we start with the $$\\lambda$$-calculus, and its embodiment in the LISP family of programming languages.\n",
    "The $$\\lambda$$-calculus is a formal system which was invented by Alonzo Church in 1936 as a way of formalizing the notion of an effectively computable function [@Church1936].\n",
    "The $$\\lambda$$-calculus has only two basic operations for computing: creating and applying functions.\n",
    "Despite this simplicity, it is a *universal* model of computation---it is (conjectured to be) equivalent to all other notions of classical computation.\n",
    "(The $$\\lambda$$-calculus was shown to have the same computational power as the Turing machine, and vice versa, by Alan Turing in his famous paper which introduced the Turing machine [@Turing1937]).\n",
    "-->\n",
    "\n",
    "<!--\n",
    "In 1958 John McCarthy introduced LISP (**LIS**t **P**rocessing), a programming language based on the $$\\lambda$$-calculus.\n",
    "Scheme is a variant of LISP developed by Guy L.\n",
    "Steele and Gerald Jay Sussman with particularly simple syntax and semantics.\n",
    "We will use Scheme-style notation for the $$\\lambda$$-calculus in this tutorial.\n",
    "For a quick introduction to programming in Scheme see [the appendix on Scheme basics](appendix-scheme.html).\n",
    "The Church programming language [@Goodman2008], named in honor of Alonzo Church, is a generalization of Scheme which introduces the notion of probabilistic computation to the language.\n",
    "This addition results in a powerful language for describing generative models.\n",
    "-->\n",
    "\n",
    "<!-- \n",
    "In this book we will build on the JavaScript language, which is a portable and flexible modern programming language.\n",
    "The [WebPPL language](http://webppl.org) takes a subset of JavaScript and extends it with pieces needed to describe *probabilistic* computation.\n",
    "The key idea is that we have primitive operations that describe not only deterministic functions (like `and`) but stochastic operations.\n",
    "In WebPPL, in addition to deterministic functions, we have a set of random functions implementing *random choices.*  These random primitive functions are called *Exchangeable Random Primitives* (XRPs).\n",
    "Application of an XRP results in a *sample* from the probability distribution defined by that XRP.\n",
    "-->\n",
    "\n",
    "<a href=\"http://pyro.ai/\"><img src=\"../img/pyro_logo.png\" width=\"200\"></a>\n",
    "\n",
    "In this book we will build on Pyro, a powerful modern probabilistic programming language (PPL) supporting traditional statical models, to complex neural ML models, as well as hybrids and everything in-between. The Pyro probabilistic programming language extends Python with pieces needed to describe *probabilistic* computation. \n",
    "\n",
    "**Pyro Links**:\n",
    "* [Github](https://github.com/pyro-ppl/pyro)\n",
    "* [Website](http://pyro.ai/)\n",
    "* [Examples and Tutorials](http://pyro.ai/examples/)\n",
    "* [Forum](https://forum.pyro.ai)"
   ]
  },
  {
   "cell_type": "markdown",
   "metadata": {},
   "source": [
    "## PyroWebPPL\n",
    "\n",
    "For this book, we introduce a basic, minimal implementation of [WebPPL](http://webppl.org/) operators using Pyro as a backend for key PPL functionality. Code for this implementation can be found in the `src` directory for this project.\n",
    "\n",
    "The PyroWebPPL examples in this book can serve as a stepping stone to learning Pyro. Readers are encouraged to explore `src/webppl.py` and `src/infer.py` to better understand Pyro. Adventurous readers may add breakpoints or print statements to the source code to examine pyro variables used in the relatively simple examples present in this book."
   ]
  },
  {
   "cell_type": "markdown",
   "metadata": {},
   "source": [
    "## Probabilistic Programming"
   ]
  },
  {
   "cell_type": "markdown",
   "metadata": {},
   "source": [
    "The key idea is that we have primitive operations that describe not only deterministic functions (like `and`) but stochastic operations.\n",
    "\n",
    "\n",
    "For example, the `flip` function can be thought of as simulating a (possibly biased) coin toss (technically `flip` samples from a Bernoulli distribution, which we'll return to shortly):"
   ]
  },
  {
   "cell_type": "code",
   "execution_count": 9,
   "metadata": {
    "ExecuteTime": {
     "end_time": "2019-09-10T03:07:39.966215Z",
     "start_time": "2019-09-10T03:07:39.956537Z"
    }
   },
   "outputs": [
    {
     "data": {
      "text/plain": [
       "tensor(0.)"
      ]
     },
     "execution_count": 9,
     "metadata": {},
     "output_type": "execute_result"
    }
   ],
   "source": [
    "flip()"
   ]
  },
  {
   "cell_type": "markdown",
   "metadata": {},
   "source": [
    "Running this program a few times, we get back a different sample on each execution."
   ]
  },
  {
   "cell_type": "code",
   "execution_count": 10,
   "metadata": {
    "ExecuteTime": {
     "end_time": "2019-09-10T03:07:39.977154Z",
     "start_time": "2019-09-10T03:07:39.968406Z"
    }
   },
   "outputs": [
    {
     "name": "stdout",
     "output_type": "stream",
     "text": [
      "tensor(0.)\n",
      "tensor(0.)\n",
      "tensor(1.)\n",
      "tensor(0.)\n",
      "tensor(1.)\n",
      "tensor(1.)\n",
      "tensor(0.)\n",
      "tensor(0.)\n",
      "tensor(1.)\n",
      "tensor(0.)\n"
     ]
    }
   ],
   "source": [
    "for _ in range(10):\n",
    "    s = flip()\n",
    "    print(s)"
   ]
  },
  {
   "cell_type": "markdown",
   "metadata": {},
   "source": [
    "Notice the parentheses after `flip`, indicating that you are calling the `flip` function, resulting in a sample. Without parentheses `flip` is a *function object* - a representation of the simulator itself, which can be used to get samples.\n",
    "\n",
    "In Pyro, each time you run a program you get a *sample* by simulating the computations and random choices that the program specifies. If you run the program many times, and collect the values in a histogram, you can see what a typical sample looks like:"
   ]
  },
  {
   "cell_type": "code",
   "execution_count": 11,
   "metadata": {
    "ExecuteTime": {
     "end_time": "2019-09-10T03:07:40.179095Z",
     "start_time": "2019-09-10T03:07:39.979567Z"
    }
   },
   "outputs": [
    {
     "data": {
      "image/png": "[encoded data removed]",
      "text/plain": [
       "<Figure size 640x480 with 1 Axes>"
      ]
     },
     "metadata": {},
     "output_type": "display_data"
    }
   ],
   "source": [
    "samples = repeat(flip, 1000)\n",
    "viz(samples)"
   ]
  },
  {
   "cell_type": "markdown",
   "metadata": {},
   "source": [
    "Here we have used the `repeat` procedure which takes a number of repetitions, $K$, and a function (in this case `flip`) and returns a list of $K$ samples from that function.\n",
    "We have used the `viz` function to visualize the results of calling the `flip` function 1000 times.\n",
    "As you can see, the result is an approximately uniform distribution over `true` and `false`.\n",
    "\n",
    "Using `flip` we can construct more complex expressions that describe more complicated sampling processes. For instance here we describe a process that samples a number adding up several flips:"
   ]
  },
  {
   "cell_type": "code",
   "execution_count": 12,
   "metadata": {
    "ExecuteTime": {
     "end_time": "2019-09-10T03:07:40.189771Z",
     "start_time": "2019-09-10T03:07:40.180887Z"
    }
   },
   "outputs": [
    {
     "name": "stdout",
     "output_type": "stream",
     "text": [
      "tensor(2.)\n",
      "tensor(0.)\n",
      "tensor(1.)\n",
      "tensor(3.)\n",
      "tensor(1.)\n",
      "tensor(2.)\n",
      "tensor(1.)\n",
      "tensor(2.)\n",
      "tensor(1.)\n",
      "tensor(2.)\n"
     ]
    }
   ],
   "source": [
    "for _ in range(10):\n",
    "    s = flip() + flip() + flip()\n",
    "    print(s)"
   ]
  },
  {
   "cell_type": "markdown",
   "metadata": {},
   "source": [
    "What if we want to invoke this sampling process multiple times? We would like to construct a stochastic function that adds three random numbers each time it is called.\n",
    "We can use `def` to construct such complex stochastic functions from the primitive ones."
   ]
  },
  {
   "cell_type": "code",
   "execution_count": 13,
   "metadata": {
    "ExecuteTime": {
     "end_time": "2019-09-10T03:07:40.420548Z",
     "start_time": "2019-09-10T03:07:40.191406Z"
    },
    "scrolled": true
   },
   "outputs": [
    {
     "data": {
      "image/png": "[encoded data removed]",
      "text/plain": [
       "<Figure size 640x480 with 1 Axes>"
      ]
     },
     "metadata": {},
     "output_type": "display_data"
    }
   ],
   "source": [
    "sum_flips = lambda: flip() + flip() + flip()\n",
    "viz(repeat(sum_flips, 1000))"
   ]
  },
  {
   "cell_type": "markdown",
   "metadata": {},
   "source": [
    "\n",
    "A function expression with an empty argument list, `def f(): ...`, is called a *thunk*: this is a function that takes no input arguments. If we apply a thunk (to no arguments) we get a return value back, for example `flip()`.\n",
    "<!--A thunk is an object that represents a whole *probability distribution*.-->\n",
    "Complex functions can also have arguments. Here is a stochastic function that will only sometimes double its input:\n"
   ]
  },
  {
   "cell_type": "code",
   "execution_count": 14,
   "metadata": {
    "ExecuteTime": {
     "end_time": "2019-09-10T03:07:40.428745Z",
     "start_time": "2019-09-10T03:07:40.422988Z"
    }
   },
   "outputs": [
    {
     "name": "stdout",
     "output_type": "stream",
     "text": [
      "3\n",
      "6\n",
      "3\n",
      "3\n",
      "6\n",
      "3\n",
      "3\n",
      "6\n",
      "6\n",
      "3\n"
     ]
    }
   ],
   "source": [
    "noisy_double = lambda x: (x+x if flip() else x)\n",
    "\n",
    "for _ in range(10):\n",
    "    s = noisy_double(3)\n",
    "    print(s)"
   ]
  },
  {
   "cell_type": "markdown",
   "metadata": {},
   "source": [
    "\n",
    "By using higher-order functions we can construct and manipulate complex sampling processes.\n",
    "A good example comes from coin flipping..."
   ]
  },
  {
   "cell_type": "markdown",
   "metadata": {},
   "source": [
    "## Example: Flipping Coins"
   ]
  },
  {
   "cell_type": "markdown",
   "metadata": {},
   "source": [
    "The following program defines a fair coin, and flips it 20 times:"
   ]
  },
  {
   "cell_type": "code",
   "execution_count": 15,
   "metadata": {
    "ExecuteTime": {
     "end_time": "2019-09-10T03:07:40.551430Z",
     "start_time": "2019-09-10T03:07:40.431218Z"
    }
   },
   "outputs": [
    {
     "data": {
      "image/png": "[encoded data removed]",
      "text/plain": [
       "<Figure size 640x480 with 1 Axes>"
      ]
     },
     "metadata": {},
     "output_type": "display_data"
    }
   ],
   "source": [
    "fair_coin = lambda: ('heads' if flip(0.5) else 'tails')\n",
    "viz(repeat(fair_coin, 20))"
   ]
  },
  {
   "cell_type": "markdown",
   "metadata": {},
   "source": [
    "This program defines a \"trick\" coin that comes up heads most of the time (95%), and flips it 20 times:"
   ]
  },
  {
   "cell_type": "code",
   "execution_count": 16,
   "metadata": {
    "ExecuteTime": {
     "end_time": "2019-09-10T03:07:40.667676Z",
     "start_time": "2019-09-10T03:07:40.553053Z"
    }
   },
   "outputs": [
    {
     "data": {
      "image/png": "[encoded data removed]",
      "text/plain": [
       "<Figure size 640x480 with 1 Axes>"
      ]
     },
     "metadata": {},
     "output_type": "display_data"
    }
   ],
   "source": [
    "trick_coin = lambda: ('heads' if flip(0.95) else 'tails')\n",
    "viz(repeat(trick_coin, 100))"
   ]
  },
  {
   "cell_type": "markdown",
   "metadata": {},
   "source": [
    "The higher-order function `make_coin` takes in a weight and outputs a function (a thunk) describing a coin with that weight.  Then we can use `make_coin` to make the coins above, or others."
   ]
  },
  {
   "cell_type": "code",
   "execution_count": 17,
   "metadata": {
    "ExecuteTime": {
     "end_time": "2019-09-10T03:07:41.062047Z",
     "start_time": "2019-09-10T03:07:40.669377Z"
    }
   },
   "outputs": [
    {
     "data": {
      "image/png": "[encoded data removed]",
      "text/plain": [
       "<Figure size 640x480 with 1 Axes>"
      ]
     },
     "metadata": {},
     "output_type": "display_data"
    },
    {
     "data": {
      "image/png": "[encoded data removed]",
      "text/plain": [
       "<Figure size 640x480 with 1 Axes>"
      ]
     },
     "metadata": {},
     "output_type": "display_data"
    },
    {
     "data": {
      "image/png": "[encoded data removed]",
      "text/plain": [
       "<Figure size 640x480 with 1 Axes>"
      ]
     },
     "metadata": {},
     "output_type": "display_data"
    }
   ],
   "source": [
    "def make_coin(weight): \n",
    "    return lambda: ('heads' if flip(weight) else 'tails')\n",
    "\n",
    "trick_coin = make_coin(0.95);\n",
    "fair_coin = make_coin(0.5);\n",
    "bent_coin = make_coin(0.25);\n",
    "\n",
    "viz(repeat(fair_coin, 20), title='Fair Coin (50%)')\n",
    "viz(repeat(trick_coin, 20), title='Trick Coin (95%)')\n",
    "viz(repeat(bent_coin, 20), title='Bent Coin (25%)')"
   ]
  },
  {
   "cell_type": "markdown",
   "metadata": {},
   "source": [
    "We can also define a higher-order function that takes a \"coin\" and \"bends it\":"
   ]
  },
  {
   "cell_type": "code",
   "execution_count": 18,
   "metadata": {
    "ExecuteTime": {
     "end_time": "2019-09-10T03:07:41.182216Z",
     "start_time": "2019-09-10T03:07:41.063635Z"
    }
   },
   "outputs": [
    {
     "data": {
      "image/png": "[encoded data removed]",
      "text/plain": [
       "<Figure size 640x480 with 1 Axes>"
      ]
     },
     "metadata": {},
     "output_type": "display_data"
    }
   ],
   "source": [
    "def make_coin(weight): \n",
    "    return lambda: ('heads' if flip(weight) else 'tails')\n",
    "\n",
    "def bend_coin(coin):\n",
    "    return lambda: (make_coin(0.7)() if (coin() == 'heads') else make_coin(0.1)())\n",
    "\n",
    "fair_coin = make_coin(0.5)\n",
    "bent_coin = bend_coin(fair_coin)\n",
    "viz(repeat(bent_coin, 100))"
   ]
  },
  {
   "cell_type": "markdown",
   "metadata": {},
   "source": [
    "Make sure you understand how the `bend_coin` function works! Why are there an \"extra\" pair of parentheses after each `make_coin` statement?\n",
    "\n",
    "Higher-order functions like `for`, `while`, `map`, and `filter` can be quite useful.\n",
    "Here we use them to visualize the number of heads we expect to see if we flip a weighted coin (weight = 0.8) 10 times.\n",
    "We'll repeat this experiment 1000 times and then use `viz` to visualize the results.\n",
    "Try varying the coin weight or the number of repetitions to see how the expected distribution changes."
   ]
  },
  {
   "cell_type": "code",
   "execution_count": 19,
   "metadata": {
    "ExecuteTime": {
     "end_time": "2019-09-10T03:07:41.553350Z",
     "start_time": "2019-09-10T03:07:41.183838Z"
    }
   },
   "outputs": [
    {
     "data": {
      "image/png": "[encoded data removed]",
      "text/plain": [
       "<Figure size 640x480 with 1 Axes>"
      ]
     },
     "metadata": {},
     "output_type": "display_data"
    }
   ],
   "source": [
    "def make_coin(weight): \n",
    "    return lambda: flip(weight)\n",
    "\n",
    "coin = make_coin(0.8)\n",
    "samples_per_exp = 10 \n",
    "num_exps = 1000\n",
    "\n",
    "fn = repeat(lambda: sum(repeat(coin, samples_per_exp)), num_exps)\n",
    "viz(fn, plot_args={'bins': 8})"
   ]
  },
  {
   "cell_type": "markdown",
   "metadata": {},
   "source": [
    "## Example: Causal Models in Medical Diagnosis"
   ]
  },
  {
   "cell_type": "markdown",
   "metadata": {},
   "source": [
    "Generative knowledge is often *causal* knowledge that describes how events or states of the world are related to each other.\n",
    "\n",
    "As an example of how causal knowledge can be encoded in PyroWebPPL expressions, consider a simplified medical scenario:"
   ]
  },
  {
   "cell_type": "code",
   "execution_count": 20,
   "metadata": {
    "ExecuteTime": {
     "end_time": "2019-09-10T03:07:41.558869Z",
     "start_time": "2019-09-10T03:07:41.555094Z"
    }
   },
   "outputs": [
    {
     "name": "stdout",
     "output_type": "stream",
     "text": [
      "True\n"
     ]
    }
   ],
   "source": [
    "lung_cancer = flip(0.01)\n",
    "cold = flip(0.2)\n",
    "cough = (cold or lung_cancer)\n",
    "print(bool(cough))"
   ]
  },
  {
   "cell_type": "markdown",
   "metadata": {},
   "source": [
    "This program models the diseases and symptoms of a patient in a doctor's office.\n",
    "It first specifies the base rates of two diseases the patient could have: lung cancer is rare while a cold is common, and there is an independent chance of having each disease.\n",
    "The program then specifies a process for generating a common symptom of these diseases -- an effect with two possible causes: The patient coughs if they have a cold or lung cancer (or both).\n",
    "\n",
    "Here is a more complex version of this causal model:"
   ]
  },
  {
   "cell_type": "code",
   "execution_count": 21,
   "metadata": {
    "ExecuteTime": {
     "end_time": "2019-09-10T03:07:41.573144Z",
     "start_time": "2019-09-10T03:07:41.561017Z"
    }
   },
   "outputs": [
    {
     "data": {
      "text/plain": [
       "{'cough': False,\n",
       " 'fever': False,\n",
       " 'chest_pain': False,\n",
       " 'shortness_of_breath': False}"
      ]
     },
     "execution_count": 21,
     "metadata": {},
     "output_type": "execute_result"
    }
   ],
   "source": [
    "lung_cancer = flip(0.01)\n",
    "TB = flip(0.005)\n",
    "stomach_flu = flip(0.1)\n",
    "cold = flip(0.2)\n",
    "other = flip(0.1)\n",
    "\n",
    "cough = (\n",
    "    (cold and flip(0.5)) or\n",
    "    (lung_cancer and flip(0.3)) or\n",
    "    (TB and flip(0.7)) or\n",
    "    (other and flip(0.01)))\n",
    "\n",
    "fever = (\n",
    "    (cold and flip(0.3)) or\n",
    "    (stomach_flu and flip(0.5)) or\n",
    "    (TB and flip(0.1)) or\n",
    "    (other and flip(0.01)))\n",
    "\n",
    "chest_pain = (\n",
    "    (lung_cancer and flip(0.5)) or\n",
    "    (TB and flip(0.5)) or\n",
    "    (other and flip(0.01)))\n",
    "\n",
    "shortness_of_breath = (\n",
    "    (lung_cancer and flip(0.5)) or\n",
    "    (TB and flip(0.2)) or\n",
    "    (other and flip(0.01)))\n",
    "\n",
    "symptoms = {\n",
    "  'cough': bool(cough),\n",
    "  'fever': bool(fever),\n",
    "  'chest_pain': bool(chest_pain),\n",
    "  'shortness_of_breath': bool(shortness_of_breath),\n",
    "}\n",
    "\n",
    "symptoms"
   ]
  },
  {
   "cell_type": "markdown",
   "metadata": {},
   "source": [
    "Now there are four possible diseases and four symptoms.\n",
    "Each disease causes a different pattern of symptoms.\n",
    "The causal relations are now probabilistic: Only some patients with a cold have a cough (50%), or a fever (30%).\n",
    "There is also a catch-all disease category \"other\", which has a low probability of causing any symptom.\n",
    "*Noisy logical* functions---functions built from **and** (`&&`), **or** (`||`), and `flip`---provide a simple but expressive way to describe probabilistic causal dependencies between Boolean (true-false valued) variables.\n",
    "\n",
    "When you run the above code, the program generates a list of symptoms for a hypothetical patient.\n",
    "Most likely all the symptoms will be false, as (thankfully) each of these diseases is rare.\n",
    "Experiment with running the program multiple times.\n",
    "Now try modifying the `var` statement for one of the diseases, setting it to be true, to simulate only patients known to have that disease.\n",
    "For example, replace `var lungCancer = flip(0.01)` with `var lungCancer = true`.\n",
    "Run the program several times to observe the characteristic patterns of symptoms for that disease.\n"
   ]
  },
  {
   "cell_type": "markdown",
   "metadata": {},
   "source": [
    "# Prediction, Simulation, and Probabilities"
   ]
  },
  {
   "cell_type": "markdown",
   "metadata": {},
   "source": [
    "Suppose that we flip two fair coins, and return the list of their values:"
   ]
  },
  {
   "cell_type": "code",
   "execution_count": 22,
   "metadata": {
    "ExecuteTime": {
     "end_time": "2019-09-10T03:07:41.580210Z",
     "start_time": "2019-09-10T03:07:41.574988Z"
    }
   },
   "outputs": [
    {
     "data": {
      "text/plain": [
       "[tensor(1.), tensor(0.)]"
      ]
     },
     "execution_count": 22,
     "metadata": {},
     "output_type": "execute_result"
    }
   ],
   "source": [
    "[flip(), flip()]"
   ]
  },
  {
   "cell_type": "markdown",
   "metadata": {},
   "source": [
    "How can we predict the return value of this program?\n",
    "For instance, how likely is it that we will see `[true, false]`?\n",
    "A **probability** is a number between 0 and 1 that expresses the answer to such a question: it is a degree of belief that we will see a given outcome, such as `[true, false]`.\n",
    "The probability of an event $A$ (such as the above program returning `[true, false]`) is usually written as: $P(A)$.\n",
    "\n",
    "A **probability distribution** is the probability of each possible outcome of an event. For instance, we can examine the probability distribution on values that can be returned by the above program by sampling many times and examining the histogram of return values:"
   ]
  },
  {
   "cell_type": "code",
   "execution_count": 23,
   "metadata": {
    "ExecuteTime": {
     "end_time": "2019-09-10T03:07:41.738946Z",
     "start_time": "2019-09-10T03:07:41.582019Z"
    }
   },
   "outputs": [
    {
     "data": {
      "image/png": "[encoded data removed]",
      "text/plain": [
       "<Figure size 640x480 with 1 Axes>"
      ]
     },
     "metadata": {},
     "output_type": "display_data"
    }
   ],
   "source": [
    "random_pair = lambda: (bool(flip()), bool(flip()))\n",
    "\n",
    "n = 1000\n",
    "viz(repeat(random_pair, n), to_type=str)"
   ]
  },
  {
   "cell_type": "markdown",
   "metadata": {},
   "source": [
    "\n",
    "We see by examining this histogram that `[true, false]` comes out about 25% of the time.\n",
    "We may define the probability of a return value to be the fraction of times (in the long run) that this value is returned from evaluating the program -- then the probability of `[true, false]` from the above program is 0.25.\n"
   ]
  },
  {
   "cell_type": "markdown",
   "metadata": {},
   "source": [
    "# Distributions in Pyro"
   ]
  },
  {
   "cell_type": "markdown",
   "metadata": {},
   "source": [
    "An important idea is that `flip` can be thought of in two different ways.\n",
    "From one perspective, `flip` is a procedure which returns a sample from a fair coin.\n",
    "That is, it's a *sampler* or *simulator*. As we saw above we can build more complex samplers by building more complex functions.\n",
    "\n",
    "From another perspective, `flip` is *itself* a characterization of the probability distribution over `true` and `false`.\n",
    "\n",
    "In order to make this view explicit, PyTorch has a special type of **distribution** objects. These are objects that can be sampled from using the `sample` operator, and that can explicitly return the probability of a return value using the `score` method. Distributions are made by a family of distribution constructors:"
   ]
  },
  {
   "cell_type": "code",
   "execution_count": 27,
   "metadata": {
    "ExecuteTime": {
     "end_time": "2019-09-10T03:07:41.853107Z",
     "start_time": "2019-09-10T03:07:41.740532Z"
    }
   },
   "outputs": [
    {
     "name": "stdout",
     "output_type": "stream",
     "text": [
      "type  <class 'pyro.distributions.torch.Bernoulli'>\n",
      "sample  tensor(0.)\n",
      "log prob  tensor(-0.6931)\n"
     ]
    },
    {
     "data": {
      "image/png": "[encoded data removed]",
      "text/plain": [
       "<Figure size 640x480 with 1 Axes>"
      ]
     },
     "metadata": {},
     "output_type": "display_data"
    }
   ],
   "source": [
    "# make a distribution using the Bernoulli constructor:\n",
    "d = dist.Bernoulli(0.5)\n",
    "print('type ', type(d))\n",
    "\n",
    "# sample from it with the sample operator:\n",
    "print('sample ', d.sample())\n",
    "\n",
    "# compute the log-probability of sampling true:\n",
    "print('log prob ', d.log_prob(torch.tensor(1.0)))\n",
    "\n",
    "# visualize the distribution:\n",
    "plt.xticks([0, 1], labels=['heads', 'tails'])\n",
    "viz(d, to_type=float)"
   ]
  },
  {
   "cell_type": "markdown",
   "metadata": {},
   "source": [
    "In fact `flip(x)` is just a helper function that constructs a Bernoulli distribution and samples from it. The function `bernoulli(x)` is an alias for `flip`.\n",
    "\n",
    "There are many other distribution constructors built into Pyro listed [here](http://docs.pyro.ai/en/stable/distributions.html). \n",
    "\n",
    "For instance the Gaussian (also called Normal) distribution is a very common distribution over real numbers:\n",
    "\n",
    "\n",
    "<!-- describe Distribution generators, distirbutions, and sample here. -->"
   ]
  },
  {
   "cell_type": "code",
   "execution_count": 28,
   "metadata": {
    "ExecuteTime": {
     "end_time": "2019-09-10T03:07:41.860283Z",
     "start_time": "2019-09-10T03:07:41.854495Z"
    }
   },
   "outputs": [
    {
     "name": "stdout",
     "output_type": "stream",
     "text": [
      "sample  tensor(0.1262)\n",
      "foo  tensor(1.4472)\n"
     ]
    }
   ],
   "source": [
    "# create a gaussian distribution:\n",
    "d = dist.Normal(0, 1)\n",
    "\n",
    "# sample from it\n",
    "print('sample ', d.sample())\n",
    "\n",
    "# and build more complex processes\n",
    "foo = lambda: dist.Normal(0, 1).sample() * dist.Normal(0, 1).sample()\n",
    "print('foo ', foo())"
   ]
  },
  {
   "cell_type": "markdown",
   "metadata": {
    "ExecuteTime": {
     "end_time": "2019-07-21T23:15:22.445810Z",
     "start_time": "2019-07-21T23:15:22.443221Z"
    }
   },
   "source": [
    "## Constructing marginal distributions: `Infer`"
   ]
  },
  {
   "cell_type": "markdown",
   "metadata": {},
   "source": [
    "Above we described how complex sampling processes can be built as complex functions, and how these sampling processes implicitly specify a distribution on return values (which we examined by sampling many times and building a histogram). \n",
    "\n",
    "This distribution on return values is called the **marginal distribution**, and the PyroWebPPL `Infer` operator gives us a way to make this implicit distribution into an explicit distribution object:"
   ]
  },
  {
   "cell_type": "code",
   "execution_count": 2,
   "metadata": {
    "ExecuteTime": {
     "end_time": "2019-09-10T03:07:41.866367Z",
     "start_time": "2019-09-10T03:07:41.861891Z"
    }
   },
   "outputs": [],
   "source": [
    "def Infer(model, num_samples=1000):\n",
    "    posterior = pyro.infer.Importance(model, num_samples=num_samples)\n",
    "    marginal = pyro.infer.EmpiricalMarginal(posterior.run())\n",
    "    samples = marginal.sample(torch.Size([num_samples]))\n",
    "    return samples.tolist()"
   ]
  },
  {
   "cell_type": "code",
   "execution_count": 30,
   "metadata": {
    "ExecuteTime": {
     "end_time": "2019-09-10T03:07:42.536841Z",
     "start_time": "2019-09-10T03:07:41.868673Z"
    }
   },
   "outputs": [
    {
     "name": "stdout",
     "output_type": "stream",
     "text": [
      "[-1.5131422281265259, 0.08064248412847519, -0.058025866746902466, 0.3957633674144745, 0.5320090055465698]\n"
     ]
    },
    {
     "data": {
      "image/png": "[encoded data removed]",
      "text/plain": [
       "<Figure size 640x480 with 1 Axes>"
      ]
     },
     "metadata": {},
     "output_type": "display_data"
    }
   ],
   "source": [
    "# a complex function, that specifies a complex sampling process:\n",
    "def foo():\n",
    "    a = pyro.sample('a', dist.Normal(0, 1))\n",
    "    b = pyro.sample('b', dist.Normal(0, 1))\n",
    "    return a * b\n",
    "\n",
    "# make the marginal distributions on return values explicit:\n",
    "samples = Infer(foo, num_samples=1000)\n",
    "\n",
    "# now we can use d as we would any other distribution:\n",
    "print(samples[:5])\n",
    "\n",
    "viz(samples, plot_args={'bins': 25})"
   ]
  },
  {
   "cell_type": "markdown",
   "metadata": {
    "ExecuteTime": {
     "end_time": "2019-07-21T23:21:27.867750Z",
     "start_time": "2019-07-21T23:21:27.860034Z"
    }
   },
   "source": [
    "Note that `Infer` took an object describing *how* to construct the marginal distribution (which we will describe more later) and a thunk describing the sampling process, or *model*, of interest.\n",
    "\n",
    "`pyro.sample` lets us sample from a distribution, and build complex sampling processes by using sampling in a program. Conversely, `TracePosterior` and `Marginal` (used here in `Infer`) let us reify the distribution implicitly described by a sampling process. \n",
    "\n",
    "When we think about probabilistic programs we will often move back and forth between these two views, emphasizing either the sampling perspective or the distributional perspective. With suitable restrictions this duality is complete: any Pyro program implicitly represents a distribution and any distribution can be represented by a Pyro program. See `Ackerman 2011` for more details on this duality.\n"
   ]
  },
  {
   "cell_type": "markdown",
   "metadata": {},
   "source": [
    "# The rules of probability"
   ]
  },
  {
   "cell_type": "markdown",
   "metadata": {},
   "source": [
    "While `Infer` lets us build the marginal distribution for even very complicated programs, we can also derive these marginal distributions with the \"rules of probability\". This is intractable for complex processes, but can help us build intuition for how distributions work."
   ]
  },
  {
   "cell_type": "markdown",
   "metadata": {},
   "source": [
    "## Product Rule"
   ]
  },
  {
   "cell_type": "markdown",
   "metadata": {},
   "source": [
    "In the above example we take three steps to compute the output value: we sample from the first `flip()`, then from the second, then we make a list from these values.\n",
    "To make this more clear let us re-write the program as:"
   ]
  },
  {
   "cell_type": "code",
   "execution_count": 31,
   "metadata": {
    "ExecuteTime": {
     "end_time": "2019-09-10T03:07:42.543290Z",
     "start_time": "2019-09-10T03:07:42.538326Z"
    }
   },
   "outputs": [
    {
     "data": {
      "text/plain": [
       "[tensor(1.), tensor(0.)]"
      ]
     },
     "execution_count": 31,
     "metadata": {},
     "output_type": "execute_result"
    }
   ],
   "source": [
    "A = flip()\n",
    "B = flip()\n",
    "C = [A, B]\n",
    "C"
   ]
  },
  {
   "cell_type": "markdown",
   "metadata": {},
   "source": [
    "We can directly observe (as we did above) that the probability of `true` for `A` is 0.5, and the probability of `false` from `B` is 0.5. Can we use these two probabilities to arrive at the probability of 0.25 for the overall outcome `C` = `[true, false]`? Yes, using the *product rule* of probabilities:\n",
    "The probability of two random choices is the product of their individual probabilities.\n",
    "The probability of several random choices together is often called the *joint probability* and written as $P(A,B)$.\n",
    "Since the first and second random choices must each have their specified values in order to get `[true, false]` in the example, the joint probability is their product: 0.25.\n",
    "\n",
    "We must be careful when applying this rule, since the probability of a choice can depend on the probabilities of previous choices. For instance, compute the probability of `[true, false]` resulting from this program:"
   ]
  },
  {
   "cell_type": "code",
   "execution_count": 32,
   "metadata": {
    "ExecuteTime": {
     "end_time": "2019-09-10T03:07:42.553548Z",
     "start_time": "2019-09-10T03:07:42.547280Z"
    }
   },
   "outputs": [
    {
     "data": {
      "text/plain": [
       "[tensor(0.), tensor(0.)]"
      ]
     },
     "execution_count": 32,
     "metadata": {},
     "output_type": "execute_result"
    }
   ],
   "source": [
    "A = flip()\n",
    "B = flip(0.3 if A else 0.7)\n",
    "[A, B]"
   ]
  },
  {
   "cell_type": "markdown",
   "metadata": {},
   "source": [
    "In general, the joint probability of two random choices $A$ and $B$ made sequentially, in that order, can be written as $P(A,B) = P(A) P(B \\vert A)$.\n",
    "This is read as the product of the probability of $A$ and the probability of \"$B$ given $A$\", or \"$B$ conditioned on $A$\".\n",
    "That is, the probability of making choice $B$ given that choice $A$ has been made in a certain way.\n",
    "Only when the second choice does not depend on (or \"look at\") the first choice does this expression reduce to a simple product of the probabilities of each choice individually: $P(A,B) = P(A) P(B)$.\n",
    "\n",
    "What is the relation between $P(A,B)$ and $P(B,A)$, the joint probability of the same choices written in the opposite order?  The only logically consistent definitions of probability require that these two probabilities be equal, so $P(A) P(B \\vert A) = P(B) P(A \\vert B)$.  This is the basis of *Bayes' theorem*, which we will encounter later."
   ]
  },
  {
   "cell_type": "markdown",
   "metadata": {
    "heading_collapsed": true
   },
   "source": [
    "## Sum Rule"
   ]
  },
  {
   "cell_type": "markdown",
   "metadata": {
    "hidden": true
   },
   "source": [
    "Now let's consider an example where we can't determine from the overall return value the sequence of random choices that were made:"
   ]
  },
  {
   "cell_type": "code",
   "execution_count": 33,
   "metadata": {
    "ExecuteTime": {
     "end_time": "2019-09-10T03:07:42.562675Z",
     "start_time": "2019-09-10T03:07:42.557637Z"
    },
    "hidden": true
   },
   "outputs": [
    {
     "data": {
      "text/plain": [
       "tensor(1.)"
      ]
     },
     "execution_count": 33,
     "metadata": {},
     "output_type": "execute_result"
    }
   ],
   "source": [
    "flip() or flip()"
   ]
  },
  {
   "cell_type": "markdown",
   "metadata": {
    "hidden": true
   },
   "source": [
    "We can sample from this program and determine that the probability of returning `true` is about 0.75."
   ]
  },
  {
   "cell_type": "code",
   "execution_count": 34,
   "metadata": {
    "ExecuteTime": {
     "end_time": "2019-09-10T03:07:42.601527Z",
     "start_time": "2019-09-10T03:07:42.564616Z"
    },
    "hidden": true
   },
   "outputs": [
    {
     "data": {
      "text/plain": [
       "0.716"
      ]
     },
     "execution_count": 34,
     "metadata": {},
     "output_type": "execute_result"
    }
   ],
   "source": [
    "np.mean([(flip() or flip()) for _ in range(1000)])"
   ]
  },
  {
   "cell_type": "markdown",
   "metadata": {
    "hidden": true
   },
   "source": [
    "We cannot simply use the product rule to determine this probability because we don't know the sequence of random choices that led to this return value.\n",
    "However we can notice that the program will return true if the two component choices are `[true,true]`, or `[true,false]`, or `[false,true]`. To combine these possibilities we use another rule for probabilities:\n",
    "If there are two alternative sequences of choices that lead to the same return value, the probability of this return value is the sum of the probabilities of the sequences.\n",
    "We can write this using probability notation as: $P(A) = \\sum_{B} P(A,B)$, where we view $A$ as the final value and $B$ as a random choice on the way to that value.\n",
    "Using the product rule we can determine that the probability in the example above is 0.25 for each sequence that leads to return value `true`, then, by the sum rule, the probability of `true` is 0.25+0.25+0.25=0.75.\n",
    "\n",
    "Using the sum rule to compute the probability of a final value is called is sometimes called *marginalization*, because the final distribution is the marginal distribution on final values.\n",
    "From the point of view of sampling processes marginalization is simply ignoring (or not looking at) intermediate random values that are created on the way to a final return value.\n",
    "From the point of view of directly computing probabilities, marginalization is summing over all the possible \"histories\" that could lead to a return value.\n",
    "Putting the product and sum rules together, the marginal probability of return values from a program that we have explored above is the sum over sampling histories of the product over choice probabilities---a computation that can quickly grow unmanageable, but can be approximated by `Infer`."
   ]
  },
  {
   "cell_type": "markdown",
   "metadata": {},
   "source": [
    "# Stochastic recursion"
   ]
  },
  {
   "cell_type": "markdown",
   "metadata": {},
   "source": [
    "[Recursive functions](https://en.wikipedia.org/wiki/Recursion_(computer_science)) are a powerful way to structure computation in deterministic systems.\n",
    "\n",
    "In Pyro it is possible to have a *stochastic* recursion that randomly decides whether to stop.\n",
    "For example, the *geometric distribution* is a probability distribution over the non-negative integers.\n",
    "We imagine flipping a (weighted) coin, returning $N-1$ if the first `1` is on the Nth flip (that is, we return the number of times we get `0` before our first `1`):\n",
    "\n",
    "<!--\n",
    "g = pyro.infer.Importance(geometric, num_samples=1000)\n",
    "marginal = pyro.infer.EmpiricalMarginal(g.run(0.6))\n",
    "samples = marginal.sample(torch.Size([1000]))\n",
    "-->"
   ]
  },
  {
   "cell_type": "code",
   "execution_count": 35,
   "metadata": {
    "ExecuteTime": {
     "end_time": "2019-09-10T03:07:42.934199Z",
     "start_time": "2019-09-10T03:07:42.603032Z"
    }
   },
   "outputs": [
    {
     "data": {
      "text/plain": [
       "<BarContainer object of 7 artists>"
      ]
     },
     "execution_count": 35,
     "metadata": {},
     "output_type": "execute_result"
    },
    {
     "data": {
      "image/png": "[encoded data removed]",
      "text/plain": [
       "<Figure size 640x480 with 1 Axes>"
      ]
     },
     "metadata": {},
     "output_type": "display_data"
    }
   ],
   "source": [
    "def geometric(p, t=0):\n",
    "    # x = pflip(f\"x_{t}\", p)    # equivalent in this case\n",
    "    x = flip(p)\n",
    "    return torch.tensor(0) if x else 1 + geometric(p, t + 1)\n",
    "\n",
    "# make the marginal distributions on return values explicit:\n",
    "samples = Infer(lambda: geometric(p=0.6))\n",
    "\n",
    "labels, counts = np.unique(samples, return_counts=True, axis=0)\n",
    "probs = counts / np.sum(counts)\n",
    "plt.bar(range(len(labels)), probs, align='center', tick_label=[str(w) for w in labels])"
   ]
  },
  {
   "cell_type": "markdown",
   "metadata": {},
   "source": [
    "There is no upper bound on how long the computation can go on, although the probability of reaching some number declines quickly as we go.\n",
    "Indeed, stochastic recursions must be constructed to halt eventually (with probability 1).\n"
   ]
  },
  {
   "cell_type": "markdown",
   "metadata": {},
   "source": [
    "# Persistent Randomness: `memoize`"
   ]
  },
  {
   "cell_type": "code",
   "execution_count": 36,
   "metadata": {
    "ExecuteTime": {
     "end_time": "2019-09-10T03:07:42.938827Z",
     "start_time": "2019-09-10T03:07:42.935672Z"
    }
   },
   "outputs": [],
   "source": [
    "def memoize(fn=None, **kwargs):\n",
    "    if fn is None:\n",
    "        return lambda _fn: memoize(_fn, **kwargs)\n",
    "    return functools.lru_cache(**kwargs)(fn)"
   ]
  },
  {
   "cell_type": "markdown",
   "metadata": {},
   "source": [
    "It is often useful to model a set of objects that each have a randomly chosen property. For instance, describing the eye colors of a set of people:"
   ]
  },
  {
   "cell_type": "code",
   "execution_count": 37,
   "metadata": {
    "ExecuteTime": {
     "end_time": "2019-09-10T03:07:42.948255Z",
     "start_time": "2019-09-10T03:07:42.940384Z"
    }
   },
   "outputs": [
    {
     "name": "stdout",
     "output_type": "stream",
     "text": [
      "bob green\n",
      "alice blue\n",
      "bob green\n"
     ]
    }
   ],
   "source": [
    "EYE_COLORS = ['blue', 'green', 'brown']\n",
    "\n",
    "def eye_color(person):\n",
    "    i = dist.Categorical(torch.ones(3)).sample()\n",
    "    return EYE_COLORS[i]\n",
    "\n",
    "print('bob', eye_color('bob'))\n",
    "print('alice', eye_color('alice'))\n",
    "print('bob', eye_color('bob'))"
   ]
  },
  {
   "cell_type": "markdown",
   "metadata": {},
   "source": [
    "The results of this generative process are clearly wrong: Bob's eye color can change each time we ask about it! What we want is a model in which eye color is random, but *persistent.* We can do this using `memoize`.  `memoize` is a higher order function that takes a procedure and produces a *memoized* version of the procedure.\n",
    "\n",
    "When a stochastic procedure is memoized, it will sample a random value the *first* time it is used with some arguments, but return that same value when called with those arguments thereafter.\n",
    "The resulting memoized procedure has a persistent value within each \"run\" of the generative model (or simulated world). "
   ]
  },
  {
   "cell_type": "markdown",
   "metadata": {},
   "source": [
    "We can draw samples from a categorical distribution with 10 categories:"
   ]
  },
  {
   "cell_type": "code",
   "execution_count": 38,
   "metadata": {
    "ExecuteTime": {
     "end_time": "2019-09-10T03:07:42.958143Z",
     "start_time": "2019-09-10T03:07:42.950494Z"
    }
   },
   "outputs": [
    {
     "data": {
      "text/plain": [
       "[tensor(5),\n",
       " tensor(1),\n",
       " tensor(8),\n",
       " tensor(0),\n",
       " tensor(7),\n",
       " tensor(2),\n",
       " tensor(9),\n",
       " tensor(9),\n",
       " tensor(9),\n",
       " tensor(8)]"
      ]
     },
     "execution_count": 38,
     "metadata": {},
     "output_type": "execute_result"
    }
   ],
   "source": [
    "def cat(n=10):\n",
    "    return dist.Categorical(torch.ones(n)).sample()\n",
    "\n",
    "[cat() for _ in range(10)]"
   ]
  },
  {
   "cell_type": "markdown",
   "metadata": {},
   "source": [
    "Memoizing this function, all draws with equivalent input (i.e. no args) will return the same value"
   ]
  },
  {
   "cell_type": "code",
   "execution_count": 39,
   "metadata": {
    "ExecuteTime": {
     "end_time": "2019-09-10T03:07:42.968331Z",
     "start_time": "2019-09-10T03:07:42.960627Z"
    }
   },
   "outputs": [
    {
     "data": {
      "text/plain": [
       "[tensor(8),\n",
       " tensor(8),\n",
       " tensor(8),\n",
       " tensor(8),\n",
       " tensor(8),\n",
       " tensor(8),\n",
       " tensor(8),\n",
       " tensor(8),\n",
       " tensor(8),\n",
       " tensor(8)]"
      ]
     },
     "execution_count": 39,
     "metadata": {},
     "output_type": "execute_result"
    }
   ],
   "source": [
    "@memoize\n",
    "def memcat(n=10):\n",
    "    return dist.Categorical(torch.ones(n)).sample()\n",
    "\n",
    "[memcat() for _ in range(10)]"
   ]
  },
  {
   "cell_type": "markdown",
   "metadata": {},
   "source": [
    "Now returning to the eye color example, we can represent the notion that eye color is random, but each person has a fixed eye color. No matter how many times we re-run this cell, bob will have the same eye color for both samples."
   ]
  },
  {
   "cell_type": "code",
   "execution_count": 40,
   "metadata": {
    "ExecuteTime": {
     "end_time": "2019-09-10T03:07:42.976548Z",
     "start_time": "2019-09-10T03:07:42.970207Z"
    }
   },
   "outputs": [
    {
     "name": "stdout",
     "output_type": "stream",
     "text": [
      "bob green\n",
      "alice blue\n",
      "bob green\n"
     ]
    }
   ],
   "source": [
    "@memoize\n",
    "def mem_eye_color(person):\n",
    "    i = dist.Categorical(torch.ones(3)).sample()\n",
    "    return EYE_COLORS[i]\n",
    "\n",
    "print('bob', mem_eye_color('bob'))\n",
    "print('alice', mem_eye_color('alice'))\n",
    "print('bob', mem_eye_color('bob'))"
   ]
  },
  {
   "cell_type": "markdown",
   "metadata": {},
   "source": [
    "This type of modeling is called *random world* style `Mcallester (2008)`.\n",
    "\n",
    "Note that we don't have to specify ahead of time the people whose eye color we will ask about: the distribution on eye colors is implicitly defined over the infinite set of possible people, but only constructed \"lazily\" when needed.\n",
    "Memoizing stochastic functions thus provides a powerful toolkit to represent and reason about an unbounded set of properties of an unbounded set of objects.\n",
    "\n",
    "For instance, here we define a function `flip_a_lot` that maps from an integer (or any other value) to a coin flip. We could use it to implicitly represent the $n$th flip of a particular coin, without having to actually flip the coin $n$ times."
   ]
  },
  {
   "cell_type": "code",
   "execution_count": 41,
   "metadata": {
    "ExecuteTime": {
     "end_time": "2019-09-10T03:07:42.986767Z",
     "start_time": "2019-09-10T03:07:42.978500Z"
    }
   },
   "outputs": [
    {
     "data": {
      "text/plain": [
       "[[tensor(1.), tensor(1.), tensor(1.), tensor(1.)],\n",
       " [tensor(1.), tensor(1.), tensor(1.), tensor(1.)]]"
      ]
     },
     "execution_count": 41,
     "metadata": {},
     "output_type": "execute_result"
    }
   ],
   "source": [
    "flip_a_lot = memoize(lambda n: flip())\n",
    "\n",
    "[[flip_a_lot(1), flip_a_lot(12), flip_a_lot(47), flip_a_lot(1548)],\n",
    " [flip_a_lot(1), flip_a_lot(12), flip_a_lot(47), flip_a_lot(1548)]]"
   ]
  },
  {
   "cell_type": "markdown",
   "metadata": {},
   "source": [
    "There are a countably infinite number of such flips, each independent\n",
    "of all the others. The outcome of each, once determined, will always have the same value.\n",
    "\n",
    "In computer science memoization is an important technique for optimizing programs by avoiding repeated work.\n",
    "In the probabilistic setting, such as in Pyro, memoization actually affects the meaning of the memoized function."
   ]
  },
  {
   "cell_type": "markdown",
   "metadata": {
    "heading_collapsed": true
   },
   "source": [
    "# Intuitive Physics Example\n",
    "Humans have a deep intuitive understanding of everyday physics — this allows us to make furniture, appreciate sculpture, and play baseball. How can we describe this intuitive physics? One approach is to posit that humans have a generative model that captures key aspects of real physics, though perhaps with approximations and noise. This mental physics simulator could for instance approximate Newtonian mechanics, allowing us to imagine the future state of a collection of (rigid) bodies. We have included such a 2-dimensional physics simulator using Python's `Pymunk` and `Pyglet` modules.\n",
    "\n",
    "Pymunk is a 2D physics library, which we use to simulate the setup and progression of our 'world' - in this case, a series of stacked blocks. We use Pyglet to handle the animation of the simulation. Here we define a class `Simulate` that takes a collection of physical objects and runs physics 'forward' by some amount of time. We also have the class `Animate`, which does the same, but gives us an animation to see what is happening.) We can use these to imagine the outcome of various initial states, as in the Plink machine example above:"
   ]
  },
  {
   "cell_type": "code",
   "execution_count": 2,
   "metadata": {},
   "outputs": [],
   "source": [
    "# Define some variables\n",
    "WORLD_WIDTH = 400\n",
    "WORLD_HEIGHT = 600\n",
    "FLOOR_HEIGHT = 50\n",
    "X_CENTRE = WORLD_WIDTH/2"
   ]
  },
  {
   "cell_type": "code",
   "execution_count": 3,
   "metadata": {
    "hidden": true
   },
   "outputs": [],
   "source": [
    "def dim():\n",
    "    # function to generate widths/heights of blocks\n",
    "    return randint(50, 100)\n",
    "\n",
    "class Block:\n",
    "    def __init__(self, width=None, height=None, x=0, y=0, is_first=False, is_static=False):\n",
    "        self.w = width\n",
    "        self.h = height\n",
    "        self.x = x\n",
    "        self.y = y\n",
    "        self.is_first = is_first\n",
    "        self.is_static = is_static\n",
    "\n",
    "        if not self.w:\n",
    "            self.w = dim()\n",
    "        if not self.h:\n",
    "            self.h = dim()\n",
    "\n",
    "    def to_tensor(self):\n",
    "        self.w = torch.tensor(self.w)\n",
    "        self.h = torch.tensor(self.h)\n",
    "        self.x = torch.tensor(self.x)\n",
    "        self.y = torch.tensor(self.y)\n",
    "        return self"
   ]
  },
  {
   "cell_type": "code",
   "execution_count": 4,
   "metadata": {},
   "outputs": [],
   "source": [
    "class Simulate:\n",
    "    def __init__(self, world=None, num_blocks=5):\n",
    "        self.world=world\n",
    "        self.num_blocks = num_blocks\n",
    "\n",
    "        # create the simulation world\n",
    "        self.create_world()\n",
    "        \n",
    "    def create_world(self):\n",
    "        # Create the simulation world\n",
    "\n",
    "        self.space = pymunk.Space()\n",
    "        self.space.gravity = Vec2d(0.0, -200.0)\n",
    "        self.space.sleep_time_threshold = 1\n",
    "\n",
    "        # add the floor - other walls/bounds could be added here\n",
    "        static_lines = [\n",
    "            pymunk.Segment(self.space.static_body, Vec2d(-WORLD_WIDTH, FLOOR_HEIGHT), Vec2d(WORLD_WIDTH*2, FLOOR_HEIGHT), 1),\n",
    "        ]\n",
    "\n",
    "        for l in static_lines:\n",
    "            l.friction = 0.3\n",
    "        self.space.add(*static_lines)\n",
    "\n",
    "        # create the blocks\n",
    "\n",
    "        if not self.world:\n",
    "            prev_block = self.add_block(None)\n",
    "            for idx in range(1, self.num_blocks):\n",
    "                next_block = self.add_block(idx, prev_block=prev_block)\n",
    "                prev_block = next_block    \n",
    "\n",
    "        else:\n",
    "            for idx, item in enumerate(self.world):\n",
    "                self.add_block(idx, new_block=item)\n",
    "\n",
    "        return 1\n",
    "\n",
    "    def add_block(self, idx, prev_block=None, new_block=None):\n",
    "        # function for creating and positioning blocks\n",
    "\n",
    "        if new_block == None:\n",
    "            block = Block()\n",
    "            if prev_block == None:\n",
    "                block.is_first = True\n",
    "                Block_x = pyro.sample(\"Block_0_x\", dist.Delta(torch.tensor(X_CENTRE)))\n",
    "                block.x = int(Block_x.item())\n",
    "                block.y = FLOOR_HEIGHT + block.h/2\n",
    "\n",
    "            else:\n",
    "                vals = torch.tensor(list(range(int(np.ceil(prev_block.x - prev_block.w/2)), int(np.floor(prev_block.x + prev_block.w/2)))))\n",
    "                probs = torch.ones(vals.size())\n",
    "                Block_x = pyro.sample(\"Block_{}_x\".format(idx), dist.Empirical(samples=vals, log_weights=probs))\n",
    "                block.x = int(Block_x.item())\n",
    "                # block.x = randint(prev_block.x - prev_block.w/2, prev_block.x + prev_block.w/2)\n",
    "                block.y = prev_block.y + prev_block.h/2 + block.h/2\n",
    "\n",
    "        else:\n",
    "            block = deepcopy(new_block)\n",
    "            Block_x = pyro.sample(\"Block_{}_x\".format(idx), dist.Delta(torch.tensor(block.x)))\n",
    "\n",
    "        # pymunk box coords are at Centre of Mass !\n",
    "\n",
    "        mass = block.w*block.h/100\n",
    "        moment = pymunk.moment_for_box(mass, (block.w, block.h))\n",
    "        body = pymunk.Body(mass, moment)\n",
    "        body.position = Vec2d(block.x, block.y)\n",
    "        shape = pymunk.Poly.create_box(body, (block.w, block.h))\n",
    "        shape.friction = 0.3\n",
    "        shape.color = (randint(50,150), randint(50,150), randint(100,255), 255)\n",
    "        self.space.add(body, shape)\n",
    "        return block\n",
    "\n",
    "\n",
    "    def update(self, dt):\n",
    "        # Here we use a very basic way to keep a set space.step dt.\n",
    "        # For a real game its probably best to do something more complicated.\n",
    "        step_dt = 1 / 250.0\n",
    "        x = 0\n",
    "        while x < dt:\n",
    "            x += step_dt\n",
    "            self.space.step(step_dt)"
   ]
  },
  {
   "cell_type": "code",
   "execution_count": 5,
   "metadata": {},
   "outputs": [],
   "source": [
    "class Animate(pyglet.window.Window):\n",
    "    # main class for animation\n",
    "\n",
    "    def __init__(self, world=None, num_blocks=5):\n",
    "\n",
    "        self.world=world\n",
    "        self.num_blocks=num_blocks\n",
    "\n",
    "        #set the window size\n",
    "        self.window = pyglet.window.Window.__init__(self, width=WORLD_WIDTH, height= WORLD_HEIGHT, vsync=False)\n",
    "        self.set_caption(\"2D Boxes\")\n",
    "\n",
    "        # sets how frequently self.update gets called once sim starts\n",
    "        pyglet.clock.schedule_interval(self.update, 1 / 60.0)\n",
    "        # display FPS\n",
    "        self.fps_display = pyglet.window.FPSDisplay(self)\n",
    "\n",
    "        # create the simulation world\n",
    "        self.simulation = Simulate(self.world, self.num_blocks)\n",
    "        self.simulation.create_world()\n",
    "\n",
    "        # add draw options\n",
    "        self.draw_options = pymunk.pyglet_util.DrawOptions()\n",
    "        self.draw_options.flags = self.draw_options.DRAW_SHAPES\n",
    "\n",
    "        # add some text\n",
    "        self.label = pyglet.text.Label('Hit R to reset', font_name='Times New Roman', font_size=16, x=10, y=WORLD_HEIGHT-25)\n",
    "\n",
    "    def update(self, dt):\n",
    "        self.simulation.update(dt)\n",
    "\n",
    "    def on_key_press(self, symbol, modifiers):\n",
    "        # fire a ball at the blocks to get them to move\n",
    "        if symbol == key.SPACE:\n",
    "            mass = 100\n",
    "            r = 15\n",
    "            moment = pymunk.moment_for_circle(mass, 0, r, (0, 0))\n",
    "            body = pymunk.Body(mass, moment)\n",
    "            body.position = (0, 165)\n",
    "            shape = pymunk.Circle(body, r, (0, 0))\n",
    "            shape.friction = 0.3\n",
    "            shape.color = (255, 150, 150, 255)\n",
    "            self.simulation.space.add(body, shape)\n",
    "            f = 50000\n",
    "            body.apply_impulse_at_local_point((f, 0), (0, 0))\n",
    "\n",
    "        elif symbol == key.R:\n",
    "            self.clear()\n",
    "            self.simulation = Simulate(self.world, self.num_blocks)\n",
    "            self.simulation.create_world()\n",
    "\n",
    "        elif symbol == key.ESCAPE:\n",
    "            self.close()\n",
    "            pyglet.app.exit()\n",
    "            \n",
    "        elif symbol == pyglet.window.key.P:\n",
    "            pyglet.image.get_buffer_manager().get_color_buffer().save(\n",
    "                \"box2d_vertical_stack.png\"\n",
    "            )\n",
    "\n",
    "    def on_draw(self):\n",
    "        self.clear()\n",
    "        # self.fps_display.draw()\n",
    "        self.simulation.space.debug_draw(self.draw_options)\n",
    "        self.label.draw()"
   ]
  },
  {
   "cell_type": "markdown",
   "metadata": {},
   "source": [
    "There are many judgements that you could make with such a physics simulator. [Hamrick et al. (2011)](https://cseweb.ucsd.edu/~gary/cs200/s11/hamrick-etal-cogsci2011.pdf) have explored human intuitions about the stability of block towers. Look at several different random block towers; first judge whether you think the tower is stable, then simulate to find out if it is:"
   ]
  },
  {
   "cell_type": "code",
   "execution_count": 6,
   "metadata": {},
   "outputs": [
    {
     "name": "stderr",
     "output_type": "stream",
     "text": [
      "c:\\Users\\Jonathan\\OneDrive\\University\\4th Year\\4YP\\causal-ml\\lib\\site-packages\\pyglet\\image\\codecs\\wic.py:406: UserWarning: [WinError -2147417850] Cannot change thread mode after it is set\n",
      "  warnings.warn(str(err))\n"
     ]
    }
   ],
   "source": [
    "if __name__ == \"__main__\":\n",
    "    animation = Animate()\n",
    "    pyglet.app.run()"
   ]
  },
  {
   "cell_type": "markdown",
   "metadata": {},
   "source": [
    "Were you often right? Were there some cases of ‘surprisingly stable’ towers? [Hamrick et al. (2011)](https://cseweb.ucsd.edu/~gary/cs200/s11/hamrick-etal-cogsci2011.pdf) account for these cases by positing that people are not entirely sure where the blocks are initially (perhaps due to noise in visual perception). Thus our intuitions of stability are really stability given noise (or the expected stability marginalizing over slightly different initial configurations). We can realize this measure of stability as:"
   ]
  },
  {
   "cell_type": "code",
   "execution_count": 7,
   "metadata": {},
   "outputs": [],
   "source": [
    "def does_tower_fall(initial_w, final_w):\n",
    "    # here we compare the intial and final world states and see whether the highest block is roughly in the same place\n",
    "    def highest_y(w):\n",
    "        return max([b.y for b in w])\n",
    "\n",
    "    def approx_equal(a, b):\n",
    "        return (abs(a - b) < 1)\n",
    "\n",
    "    return not approx_equal(highest_y(initial_w), highest_y(final_w))\n",
    "\n",
    "def noisify(world):\n",
    "    noisy_world = deepcopy(world)\n",
    "\n",
    "    vals = torch.tensor([1.0, 5.0, 10.0], dtype=torch.float)\n",
    "    probs = torch.tensor([0.2, 0.6, 0.2])\n",
    "    noise_width = pyro.sample(\"noise_width\", dist.Empirical(samples=vals, log_weights=probs))\n",
    "    noise_width = float(noise_width.item())\n",
    "\n",
    "    def perturb_x(b):\n",
    "        return randint(b.x - noise_width, b.x + noise_width)\n",
    "    \n",
    "    for b in noisy_world:\n",
    "        b.x = perturb_x(b)\n",
    "\n",
    "    return noisy_world\n",
    "\n",
    "def run_simulation(world):\n",
    "    initial_world = noisify(world)\n",
    "\n",
    "    simulation = Simulate(initial_world)\n",
    "    # probs want to make this a while loop that stops when everything stops moving\n",
    "    for i in range(1000):\n",
    "        simulation.update(1/60.0)\n",
    "\n",
    "    final_world = []\n",
    "    for body in simulation.space._bodies:\n",
    "        final_world.append(Block(x=body.position.x, y=body.position.y))\n",
    "\n",
    "    S = not does_tower_fall(initial_world, final_world)\n",
    "\n",
    "    return S"
   ]
  },
  {
   "cell_type": "code",
   "execution_count": 8,
   "metadata": {},
   "outputs": [],
   "source": [
    "stable_world = [\n",
    "    Block(90, 50, 200, 75),\n",
    "    Block(70, 80, 200, 140),\n",
    "    Block(100, 30, 200, 195),\n",
    "    Block(60, 45, 200, 232.5),\n",
    "    Block(40, 20, 200, 265),\n",
    "]\n",
    "\n",
    "almost_unstable_world = [\n",
    "    Block(90, 50, 200, 75),\n",
    "    Block(50, 70, 210, 135),\n",
    "    Block(40, 40, 190, 190),\n",
    "    Block(20, 80, 185, 250),\n",
    "    Block(80, 20, 190, 300),\n",
    "]\n",
    "\n",
    "unstable_world = [\n",
    "    Block(90, 50, 200, 75),\n",
    "    Block(50, 70, 210, 135),\n",
    "    Block(40, 40, 220, 190),\n",
    "    Block(20, 80, 230, 250),\n",
    "    Block(80, 20, 240, 300),\n",
    "]\n",
    "\n",
    "def model():\n",
    "    s = run_simulation(unstable_world)\n",
    "    Stability = pyro.sample(\"Stability\", dist.Delta(torch.tensor(s)))\n",
    "    return Stability"
   ]
  },
  {
   "cell_type": "code",
   "execution_count": 12,
   "metadata": {},
   "outputs": [
    {
     "name": "stdout",
     "output_type": "stream",
     "text": [
      "{True: 13, False: 7}\n"
     ]
    }
   ],
   "source": [
    "out = {True:0, False:0}\n",
    "for i in range(20):\n",
    "    res = run_simulation(almost_unstable_world)\n",
    "    out[res] = out[res] + 1\n",
    "print(out)"
   ]
  },
  {
   "cell_type": "code",
   "execution_count": 26,
   "metadata": {},
   "outputs": [
    {
     "name": "stdout",
     "output_type": "stream",
     "text": [
      "tensor(0.2000)\n"
     ]
    },
    {
     "data": {
      "image/png": "[encoded data removed]",
      "text/plain": [
       "<Figure size 640x480 with 1 Axes>"
      ]
     },
     "metadata": {},
     "output_type": "display_data"
    }
   ],
   "source": [
    "conditioned_model = pyro.condition(model, {\"noise_width\": torch.tensor(1)})\n",
    "importance = Importance(conditioned_model, guide=None, num_samples=200)\n",
    "# importance = Importance(model, guide=None, num_samples=100)\n",
    "trace_posterior_conditioned = importance.run() # args and kwargs are used if your model function takes any input arguments to run\n",
    "emp_marginal = EmpiricalMarginal(trace_posterior=trace_posterior_conditioned, sites=[\"Stability\"])\n",
    "outcome = torch.tensor([True])\n",
    "\n",
    "log_prob = emp_marginal.log_prob(outcome)\n",
    "p = np.exp(log_prob)\n",
    "print(p)\n",
    "\n",
    "viz(emp_marginal, plot_args={\"tick_label\":[\"False\", \"True\"], \"width\":0.6}, title=\"Probability that model is stable given noise_width=1\")"
   ]
  },
  {
   "cell_type": "code",
   "execution_count": 23,
   "metadata": {},
   "outputs": [
    {
     "ename": "ValueError",
     "evalue": "Expected parameter logits (Tensor of shape (100,)) of distribution Categorical(logits: torch.Size([100])) to satisfy the constraint IndependentConstraint(Real(), 1), but found invalid values:\ntensor([nan, nan, nan, nan, nan, nan, nan, nan, nan, nan, nan, nan, nan, nan, nan, nan, nan, nan, nan, nan, nan, nan, nan, nan,\n        nan, nan, nan, nan, nan, nan, nan, nan, nan, nan, nan, nan, nan, nan, nan, nan, nan, nan, nan, nan, nan, nan, nan, nan,\n        nan, nan, nan, nan, nan, nan, nan, nan, nan, nan, nan, nan, nan, nan, nan, nan, nan, nan, nan, nan, nan, nan, nan, nan,\n        nan, nan, nan, nan, nan, nan, nan, nan, nan, nan, nan, nan, nan, nan, nan, nan, nan, nan, nan, nan, nan, nan, nan, nan,\n        nan, nan, nan, nan])",
     "output_type": "error",
     "traceback": [
      "\u001b[1;31m---------------------------------------------------------------------------\u001b[0m",
      "\u001b[1;31mValueError\u001b[0m                                Traceback (most recent call last)",
      "Cell \u001b[1;32mIn [23], line 4\u001b[0m\n\u001b[0;32m      2\u001b[0m importance \u001b[39m=\u001b[39m Importance(conditioned_model, guide\u001b[39m=\u001b[39m\u001b[39mNone\u001b[39;00m, num_samples\u001b[39m=\u001b[39m\u001b[39m100\u001b[39m)\n\u001b[0;32m      3\u001b[0m \u001b[39m# importance = Importance(model, guide=None, num_samples=100)\u001b[39;00m\n\u001b[1;32m----> 4\u001b[0m trace_posterior_conditioned \u001b[39m=\u001b[39m importance\u001b[39m.\u001b[39;49mrun() \u001b[39m# args and kwargs are used if your model function takes any input arguments to run\u001b[39;00m\n\u001b[0;32m      5\u001b[0m emp_marginal \u001b[39m=\u001b[39m EmpiricalMarginal(trace_posterior\u001b[39m=\u001b[39mtrace_posterior_conditioned, sites\u001b[39m=\u001b[39m[\u001b[39m\"\u001b[39m\u001b[39mnoise_width\u001b[39m\u001b[39m\"\u001b[39m])\n\u001b[0;32m      7\u001b[0m \u001b[39mfor\u001b[39;00m o \u001b[39min\u001b[39;00m [\u001b[39m1.0\u001b[39m, \u001b[39m5.0\u001b[39m, \u001b[39m10.0\u001b[39m]:\n",
      "File \u001b[1;32mc:\\Users\\Jonathan\\OneDrive\\University\\4th Year\\4YP\\causal-ml\\lib\\site-packages\\pyro\\infer\\abstract_infer.py:262\u001b[0m, in \u001b[0;36mTracePosterior.run\u001b[1;34m(self, *args, **kwargs)\u001b[0m\n\u001b[0;32m    260\u001b[0m         \u001b[39mself\u001b[39m\u001b[39m.\u001b[39mchain_ids\u001b[39m.\u001b[39mappend(chain_id)\n\u001b[0;32m    261\u001b[0m         \u001b[39mself\u001b[39m\u001b[39m.\u001b[39m_idx_by_chain[chain_id]\u001b[39m.\u001b[39mappend(i)\n\u001b[1;32m--> 262\u001b[0m \u001b[39mself\u001b[39m\u001b[39m.\u001b[39m_categorical \u001b[39m=\u001b[39m Categorical(logits\u001b[39m=\u001b[39;49mtorch\u001b[39m.\u001b[39;49mtensor(\u001b[39mself\u001b[39;49m\u001b[39m.\u001b[39;49mlog_weights))\n\u001b[0;32m    263\u001b[0m \u001b[39mreturn\u001b[39;00m \u001b[39mself\u001b[39m\n",
      "File \u001b[1;32mc:\\Users\\Jonathan\\OneDrive\\University\\4th Year\\4YP\\causal-ml\\lib\\site-packages\\pyro\\distributions\\distribution.py:24\u001b[0m, in \u001b[0;36mDistributionMeta.__call__\u001b[1;34m(cls, *args, **kwargs)\u001b[0m\n\u001b[0;32m     22\u001b[0m     \u001b[39mif\u001b[39;00m result \u001b[39mis\u001b[39;00m \u001b[39mnot\u001b[39;00m \u001b[39mNone\u001b[39;00m:\n\u001b[0;32m     23\u001b[0m         \u001b[39mreturn\u001b[39;00m result\n\u001b[1;32m---> 24\u001b[0m \u001b[39mreturn\u001b[39;00m \u001b[39msuper\u001b[39m()\u001b[39m.\u001b[39m\u001b[39m__call__\u001b[39m(\u001b[39m*\u001b[39margs, \u001b[39m*\u001b[39m\u001b[39m*\u001b[39mkwargs)\n",
      "File \u001b[1;32mc:\\Users\\Jonathan\\OneDrive\\University\\4th Year\\4YP\\causal-ml\\lib\\site-packages\\torch\\distributions\\categorical.py:64\u001b[0m, in \u001b[0;36mCategorical.__init__\u001b[1;34m(self, probs, logits, validate_args)\u001b[0m\n\u001b[0;32m     62\u001b[0m \u001b[39mself\u001b[39m\u001b[39m.\u001b[39m_num_events \u001b[39m=\u001b[39m \u001b[39mself\u001b[39m\u001b[39m.\u001b[39m_param\u001b[39m.\u001b[39msize()[\u001b[39m-\u001b[39m\u001b[39m1\u001b[39m]\n\u001b[0;32m     63\u001b[0m batch_shape \u001b[39m=\u001b[39m \u001b[39mself\u001b[39m\u001b[39m.\u001b[39m_param\u001b[39m.\u001b[39msize()[:\u001b[39m-\u001b[39m\u001b[39m1\u001b[39m] \u001b[39mif\u001b[39;00m \u001b[39mself\u001b[39m\u001b[39m.\u001b[39m_param\u001b[39m.\u001b[39mndimension() \u001b[39m>\u001b[39m \u001b[39m1\u001b[39m \u001b[39melse\u001b[39;00m torch\u001b[39m.\u001b[39mSize()\n\u001b[1;32m---> 64\u001b[0m \u001b[39msuper\u001b[39;49m(Categorical, \u001b[39mself\u001b[39;49m)\u001b[39m.\u001b[39;49m\u001b[39m__init__\u001b[39;49m(batch_shape, validate_args\u001b[39m=\u001b[39;49mvalidate_args)\n",
      "File \u001b[1;32mc:\\Users\\Jonathan\\OneDrive\\University\\4th Year\\4YP\\causal-ml\\lib\\site-packages\\torch\\distributions\\distribution.py:55\u001b[0m, in \u001b[0;36mDistribution.__init__\u001b[1;34m(self, batch_shape, event_shape, validate_args)\u001b[0m\n\u001b[0;32m     53\u001b[0m         valid \u001b[39m=\u001b[39m constraint\u001b[39m.\u001b[39mcheck(value)\n\u001b[0;32m     54\u001b[0m         \u001b[39mif\u001b[39;00m \u001b[39mnot\u001b[39;00m valid\u001b[39m.\u001b[39mall():\n\u001b[1;32m---> 55\u001b[0m             \u001b[39mraise\u001b[39;00m \u001b[39mValueError\u001b[39;00m(\n\u001b[0;32m     56\u001b[0m                 \u001b[39mf\u001b[39m\u001b[39m\"\u001b[39m\u001b[39mExpected parameter \u001b[39m\u001b[39m{\u001b[39;00mparam\u001b[39m}\u001b[39;00m\u001b[39m \u001b[39m\u001b[39m\"\u001b[39m\n\u001b[0;32m     57\u001b[0m                 \u001b[39mf\u001b[39m\u001b[39m\"\u001b[39m\u001b[39m(\u001b[39m\u001b[39m{\u001b[39;00m\u001b[39mtype\u001b[39m(value)\u001b[39m.\u001b[39m\u001b[39m__name__\u001b[39m\u001b[39m}\u001b[39;00m\u001b[39m of shape \u001b[39m\u001b[39m{\u001b[39;00m\u001b[39mtuple\u001b[39m(value\u001b[39m.\u001b[39mshape)\u001b[39m}\u001b[39;00m\u001b[39m) \u001b[39m\u001b[39m\"\u001b[39m\n\u001b[0;32m     58\u001b[0m                 \u001b[39mf\u001b[39m\u001b[39m\"\u001b[39m\u001b[39mof distribution \u001b[39m\u001b[39m{\u001b[39;00m\u001b[39mrepr\u001b[39m(\u001b[39mself\u001b[39m)\u001b[39m}\u001b[39;00m\u001b[39m \u001b[39m\u001b[39m\"\u001b[39m\n\u001b[0;32m     59\u001b[0m                 \u001b[39mf\u001b[39m\u001b[39m\"\u001b[39m\u001b[39mto satisfy the constraint \u001b[39m\u001b[39m{\u001b[39;00m\u001b[39mrepr\u001b[39m(constraint)\u001b[39m}\u001b[39;00m\u001b[39m, \u001b[39m\u001b[39m\"\u001b[39m\n\u001b[0;32m     60\u001b[0m                 \u001b[39mf\u001b[39m\u001b[39m\"\u001b[39m\u001b[39mbut found invalid values:\u001b[39m\u001b[39m\\n\u001b[39;00m\u001b[39m{\u001b[39;00mvalue\u001b[39m}\u001b[39;00m\u001b[39m\"\u001b[39m\n\u001b[0;32m     61\u001b[0m             )\n\u001b[0;32m     62\u001b[0m \u001b[39msuper\u001b[39m(Distribution, \u001b[39mself\u001b[39m)\u001b[39m.\u001b[39m\u001b[39m__init__\u001b[39m()\n",
      "\u001b[1;31mValueError\u001b[0m: Expected parameter logits (Tensor of shape (100,)) of distribution Categorical(logits: torch.Size([100])) to satisfy the constraint IndependentConstraint(Real(), 1), but found invalid values:\ntensor([nan, nan, nan, nan, nan, nan, nan, nan, nan, nan, nan, nan, nan, nan, nan, nan, nan, nan, nan, nan, nan, nan, nan, nan,\n        nan, nan, nan, nan, nan, nan, nan, nan, nan, nan, nan, nan, nan, nan, nan, nan, nan, nan, nan, nan, nan, nan, nan, nan,\n        nan, nan, nan, nan, nan, nan, nan, nan, nan, nan, nan, nan, nan, nan, nan, nan, nan, nan, nan, nan, nan, nan, nan, nan,\n        nan, nan, nan, nan, nan, nan, nan, nan, nan, nan, nan, nan, nan, nan, nan, nan, nan, nan, nan, nan, nan, nan, nan, nan,\n        nan, nan, nan, nan])"
     ]
    }
   ],
   "source": [
    "conditioned_model = pyro.condition(model, {\"S\": torch.tensor(False)})\n",
    "importance = Importance(conditioned_model, guide=None, num_samples=100)\n",
    "# importance = Importance(model, guide=None, num_samples=100)\n",
    "trace_posterior_conditioned = importance.run() # args and kwargs are used if your model function takes any input arguments to run\n",
    "emp_marginal = EmpiricalMarginal(trace_posterior=trace_posterior_conditioned, sites=[\"noise_width\"])\n",
    "\n",
    "for o in [1.0, 5.0, 10.0]:\n",
    "    outcome = torch.tensor([o])\n",
    "\n",
    "    log_prob = emp_marginal.log_prob(outcome)\n",
    "    p = np.exp(log_prob)\n",
    "    print(\"P(noise_width={}) = {}\".format(o,p))\n",
    "    \n",
    "viz(emp_marginal, plot_args={\"tick_label\":[\"1.0\", \"5.0\", \"10.0\"]}, title=\"Probabilities that noise_width is a particular value given the model was unstable\")"
   ]
  }
 ],
 "metadata": {
  "kernelspec": {
   "display_name": "Python 3.10.4 ('causal-ml')",
   "language": "python",
   "name": "python3"
  },
  "language_info": {
   "codemirror_mode": {
    "name": "ipython",
    "version": 3
   },
   "file_extension": ".py",
   "mimetype": "text/x-python",
   "name": "python",
   "nbconvert_exporter": "python",
   "pygments_lexer": "ipython3",
   "version": "3.10.4"
  },
  "toc": {
   "base_numbering": 1,
   "nav_menu": {},
   "number_sections": true,
   "sideBar": true,
   "skip_h1_title": false,
   "title_cell": "Table of Contents",
   "title_sidebar": "Contents",
   "toc_cell": false,
   "toc_position": {},
   "toc_section_display": true,
   "toc_window_display": false
  },
  "varInspector": {
   "cols": {
    "lenName": 16,
    "lenType": 16,
    "lenVar": 40
   },
   "kernels_config": {
    "python": {
     "delete_cmd_postfix": "",
     "delete_cmd_prefix": "del ",
     "library": "var_list.py",
     "varRefreshCmd": "print(var_dic_list())"
    },
    "r": {
     "delete_cmd_postfix": ") ",
     "delete_cmd_prefix": "rm(",
     "library": "var_list.r",
     "varRefreshCmd": "cat(var_dic_list()) "
    }
   },
   "types_to_exclude": [
    "module",
    "function",
    "builtin_function_or_method",
    "instance",
    "_Feature"
   ],
   "window_display": false
  },
  "vscode": {
   "interpreter": {
    "hash": "0e642de13ed24eb1e8129cfad9323b43f1e482b6af82b8c19b9795c172c70e2a"
   }
  }
 },
 "nbformat": 4,
 "nbformat_minor": 2
}
