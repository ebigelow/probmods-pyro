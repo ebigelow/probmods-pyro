{
 "cells": [
  {
   "cell_type": "markdown",
   "metadata": {},
   "source": [
    "## Imports"
   ]
  },
  {
   "cell_type": "code",
   "execution_count": 1,
   "metadata": {
    "ExecuteTime": {
     "end_time": "2019-09-02T23:00:32.445838Z",
     "start_time": "2019-09-02T23:00:31.251827Z"
    }
   },
   "outputs": [],
   "source": [
    "import functools\n",
    "\n",
    "%matplotlib inline\n",
    "import numpy as np\n",
    "\n",
    "import pyro\n",
    "import pyro.distributions as dist\n",
    "import torch\n",
    "\n",
    "from pyro_webppl import viz"
   ]
  },
  {
   "cell_type": "markdown",
   "metadata": {},
   "source": [
    "Here we show a few PyroWebPPL primitives. In later chapters, these will be imported from `pyro_webppl`."
   ]
  },
  {
   "cell_type": "code",
   "execution_count": 2,
   "metadata": {
    "ExecuteTime": {
     "end_time": "2019-09-02T23:00:32.451701Z",
     "start_time": "2019-09-02T23:00:32.447320Z"
    }
   },
   "outputs": [],
   "source": [
    "def flip(p=0.5):\n",
    "    return torch.distributions.Bernoulli(p).sample()\n",
    "\n",
    "def pflip(var='flip', p=0.5):\n",
    "    return pyro.sample(var, dist.Bernoulli(p))\n",
    "\n",
    "def repeat(f, n):\n",
    "    return [f() for _ in range(n)]"
   ]
  },
  {
   "cell_type": "markdown",
   "metadata": {},
   "source": [
    "# Models, simulation, and degrees of belief"
   ]
  },
  {
   "cell_type": "markdown",
   "metadata": {},
   "source": [
    "<!--\n",
    "robert_hawkins [11:49 AM]  \n",
    "a couple issues with the chapter:\n",
    "1. the heading structure is a bit confusing — the “Building Generative Models” section starts with some info on webppl, has a subsection “example: flipping coins”, and then pops out to the outer level for “example: medical diagnosis”. Maybe we could signpost that better, like create a subsection where we explicitly describe webppl, a subsection about sampling, and indent the medical diagnosis example one level?\n",
    "2. the “prediction, simulation, and probabilities” section uses both bayesian and frequentist notions of probability without labeling them or distinguishing them (e.g. “A probability is… a degree of belief”, but “We may define the probability … to be the fraction of times (in the long run) that this value is returned”). It’d be nice to say that these are alternate ways of formalizing probability?\n",
    "3. I like the new \"constructing marginal distributions with `Infer`\" section… Should we rewrite other models in future chapters that use `repeat` to use `forward` instead?\n",
    "-->\n",
    "\n",
    "\n",
    "\n",
    "One view of knowledge is that the mind maintains working models of parts of the world.\n",
    "'Model' in the sense that it captures some of the structure in the world, but not all (and what it captures need not be exactly what is in the world---just what is useful).\n",
    "'Working' in the sense that it can be used to simulate this part of the world, imagining what will follow from different initial conditions.\n",
    "As an example take the Plinko machine: a box with uniformly spaced pegs, with bins at the bottom.\n",
    "Into this box we can drop marbles:\n",
    "\n",
    "\n",
    "\n",
    "<img src=\"../img/plinko.gif\" width=\"300\">\n",
    "\n",
    "<a href=\"https://probmods.org/chapters/generative-models.html\"> Interactive example </a>\n",
    "\n",
    "\n",
    "The plinko machine is a 'working model' for many physical processes in which many small perturbations accumulate---for instance a leaf falling from a tree.\n",
    "It is an approximation to these systems because we use a discrete grid (the pegs) and discrete bins.\n",
    "Yet it is useful as a model: for instance, we can ask where we expect a marble to end up depending on where we drop it in, by running the machine several times---simulating the outcome.\n",
    "\n",
    "Imagine that someone has dropped a marble into the plinko machine; before looking at the outcome, you can probably report how much you believe that the ball has landed in each possible bin.\n",
    "Indeed, if you run the plinko machine many times, you will see a shape emerge in the bins.\n",
    "The number of balls in a bin gives you some idea how much you should expect a new marble to end up there.\n",
    "This 'shape of expected outcomes' can be formalized as a probability distribution (described below).\n",
    "Indeed, there is an intimate connection between simulation, expectation or belief, and probability, which we explore in the rest of this section.\n",
    "\n",
    "There is one more thing to note about our Plinko machine above: we are using a computer program to *simulate* the simulation.\n",
    "Computers can be seen as universal simulators.\n",
    "How can we, clearly and precisely, describe the simulation we want a computer to do?"
   ]
  },
  {
   "cell_type": "markdown",
   "metadata": {},
   "source": [
    "# Building Generative Models"
   ]
  },
  {
   "cell_type": "markdown",
   "metadata": {},
   "source": [
    "We wish to describe in formal terms how to generate states of the world.\n",
    "That is, we wish to describe the causal process, or steps that unfold, leading to some potentially observable states.\n",
    "The key idea of this section is that these generative processes can be described as *computations*---computations that involve random choices to capture uncertainty about the process.\n",
    "\n",
    "Programming languages are formal systems for describing what (deterministic) computation a computer should do. Modern programming languages offer a wide variety of different ways to describe computation; each makes some processes simple to describe and others more complex. \n",
    "\n",
    "However, a key tenet of computer science is that all of these languages have the same fundamental power: any computation that can be described with one programming language can described by another. More technically, this Church-Turing thesis posits that many specific computational systems capture the set of all effectively computable procedure - these are called *universal* systems.\n",
    "\n",
    "<!--\n",
    "As our formal model of computation we start with the $$\\lambda$$-calculus, and its embodiment in the LISP family of programming languages.\n",
    "The $$\\lambda$$-calculus is a formal system which was invented by Alonzo Church in 1936 as a way of formalizing the notion of an effectively computable function [@Church1936].\n",
    "The $$\\lambda$$-calculus has only two basic operations for computing: creating and applying functions.\n",
    "Despite this simplicity, it is a *universal* model of computation---it is (conjectured to be) equivalent to all other notions of classical computation.\n",
    "(The $$\\lambda$$-calculus was shown to have the same computational power as the Turing machine, and vice versa, by Alan Turing in his famous paper which introduced the Turing machine [@Turing1937]).\n",
    "-->\n",
    "\n",
    "<!--\n",
    "In 1958 John McCarthy introduced LISP (**LIS**t **P**rocessing), a programming language based on the $$\\lambda$$-calculus.\n",
    "Scheme is a variant of LISP developed by Guy L.\n",
    "Steele and Gerald Jay Sussman with particularly simple syntax and semantics.\n",
    "We will use Scheme-style notation for the $$\\lambda$$-calculus in this tutorial.\n",
    "For a quick introduction to programming in Scheme see [the appendix on Scheme basics](appendix-scheme.html).\n",
    "The Church programming language [@Goodman2008], named in honor of Alonzo Church, is a generalization of Scheme which introduces the notion of probabilistic computation to the language.\n",
    "This addition results in a powerful language for describing generative models.\n",
    "-->\n",
    "\n",
    "<!-- \n",
    "In this book we will build on the JavaScript language, which is a portable and flexible modern programming language.\n",
    "The [WebPPL language](http://webppl.org) takes a subset of JavaScript and extends it with pieces needed to describe *probabilistic* computation.\n",
    "The key idea is that we have primitive operations that describe not only deterministic functions (like `and`) but stochastic operations.\n",
    "In WebPPL, in addition to deterministic functions, we have a set of random functions implementing *random choices.*  These random primitive functions are called *Exchangeable Random Primitives* (XRPs).\n",
    "Application of an XRP results in a *sample* from the probability distribution defined by that XRP.\n",
    "-->\n",
    "\n",
    "<a href=\"http://pyro.ai/\"><img src=\"../img/pyro_logo.png\" width=\"200\"></a>\n",
    "\n",
    "In this book we will build on Pyro, a powerful modern probabilistic programming language (PPL) supporting traditional statical models, to complex neural ML models, as well as hybrids and everything in-between. The Pyro probabilistic programming language extends Python with pieces needed to describe *probabilistic* computation. \n",
    "\n",
    "**Pyro Links**:\n",
    "* [Github](https://github.com/pyro-ppl/pyro)\n",
    "* [Website](http://pyro.ai/)\n",
    "* [Examples and Tutorials](http://pyro.ai/examples/)\n",
    "* [Forum](https://forum.pyro.ai)"
   ]
  },
  {
   "cell_type": "markdown",
   "metadata": {},
   "source": [
    "## PyroWebPPL\n",
    "\n",
    "For this book, we introduce a basic, minimal implementation of [WebPPL](http://webppl.org/) operators using Pyro as a backend for key PPL functionality. Code for this implementation can be found in the `src` directory for this project.\n",
    "\n",
    "The PyroWebPPL examples in this book can serve as a stepping stone to learning Pyro. Readers are encouraged to explore `src/webppl.py` and `src/infer.py` to better understand Pyro. Adventurous readers may add breakpoints or print statements to the source code to examine pyro variables used in the relatively simple examples present in this book."
   ]
  },
  {
   "cell_type": "markdown",
   "metadata": {},
   "source": [
    "## Probabilistic Programming"
   ]
  },
  {
   "cell_type": "markdown",
   "metadata": {},
   "source": [
    "The key idea is that we have primitive operations that describe not only deterministic functions (like `and`) but stochastic operations.\n",
    "\n",
    "\n",
    "For example, the `flip` function can be thought of as simulating a (possibly biased) coin toss (technically `flip` samples from a Bernoulli distribution, which we'll return to shortly):"
   ]
  },
  {
   "cell_type": "code",
   "execution_count": 3,
   "metadata": {
    "ExecuteTime": {
     "end_time": "2019-09-02T23:00:32.463491Z",
     "start_time": "2019-09-02T23:00:32.455263Z"
    }
   },
   "outputs": [
    {
     "data": {
      "text/plain": [
       "tensor(1.)"
      ]
     },
     "execution_count": 3,
     "metadata": {},
     "output_type": "execute_result"
    }
   ],
   "source": [
    "flip()"
   ]
  },
  {
   "cell_type": "markdown",
   "metadata": {},
   "source": [
    "Running this program a few times, we get back a different sample on each execution."
   ]
  },
  {
   "cell_type": "code",
   "execution_count": 4,
   "metadata": {
    "ExecuteTime": {
     "end_time": "2019-09-02T23:00:32.474724Z",
     "start_time": "2019-09-02T23:00:32.465913Z"
    }
   },
   "outputs": [
    {
     "name": "stdout",
     "output_type": "stream",
     "text": [
      "tensor(0.)\n",
      "tensor(0.)\n",
      "tensor(1.)\n",
      "tensor(1.)\n",
      "tensor(0.)\n",
      "tensor(0.)\n",
      "tensor(0.)\n",
      "tensor(0.)\n",
      "tensor(0.)\n",
      "tensor(0.)\n"
     ]
    }
   ],
   "source": [
    "for _ in range(10):\n",
    "    s = flip()\n",
    "    print(s)"
   ]
  },
  {
   "cell_type": "markdown",
   "metadata": {},
   "source": [
    "Notice the parentheses after `flip`, indicating that you are calling the `flip` function, resulting in a sample. Without parentheses `flip` is a *function object* - a representation of the simulator itself, which can be used to get samples.\n",
    "\n",
    "In Pyro, each time you run a program you get a *sample* by simulating the computations and random choices that the program specifies. If you run the program many times, and collect the values in a histogram, you can see what a typical sample looks like:"
   ]
  },
  {
   "cell_type": "code",
   "execution_count": 5,
   "metadata": {
    "ExecuteTime": {
     "end_time": "2019-09-02T23:00:32.699300Z",
     "start_time": "2019-09-02T23:00:32.476870Z"
    }
   },
   "outputs": [
    {
     "data": {
      "image/png": "[encoded data removed]",
      "text/plain": [
       "<Figure size 432x288 with 1 Axes>"
      ]
     },
     "metadata": {
      "needs_background": "light"
     },
     "output_type": "display_data"
    }
   ],
   "source": [
    "samples = repeat(flip, 1000)\n",
    "viz(samples)"
   ]
  },
  {
   "cell_type": "markdown",
   "metadata": {},
   "source": [
    "Here we have used the `repeat` procedure which takes a number of repetitions, $K$, and a function (in this case `flip`) and returns a list of $K$ samples from that function.\n",
    "We have used the `viz` function to visualize the results of calling the `flip` function 1000 times.\n",
    "As you can see, the result is an approximately uniform distribution over `true` and `false`.\n",
    "\n",
    "Using `flip` we can construct more complex expressions that describe more complicated sampling processes. For instance here we describe a process that samples a number adding up several flips:"
   ]
  },
  {
   "cell_type": "code",
   "execution_count": 6,
   "metadata": {
    "ExecuteTime": {
     "end_time": "2019-09-02T23:00:32.710989Z",
     "start_time": "2019-09-02T23:00:32.700928Z"
    }
   },
   "outputs": [
    {
     "name": "stdout",
     "output_type": "stream",
     "text": [
      "tensor(3.)\n",
      "tensor(3.)\n",
      "tensor(1.)\n",
      "tensor(1.)\n",
      "tensor(1.)\n",
      "tensor(1.)\n",
      "tensor(2.)\n",
      "tensor(3.)\n",
      "tensor(1.)\n",
      "tensor(2.)\n"
     ]
    }
   ],
   "source": [
    "for _ in range(10):\n",
    "    s = flip() + flip() + flip()\n",
    "    print(s)"
   ]
  },
  {
   "cell_type": "markdown",
   "metadata": {},
   "source": [
    "What if we want to invoke this sampling process multiple times? We would like to construct a stochastic function that adds three random numbers each time it is called.\n",
    "We can use `def` to construct such complex stochastic functions from the primitive ones."
   ]
  },
  {
   "cell_type": "code",
   "execution_count": 7,
   "metadata": {
    "ExecuteTime": {
     "end_time": "2019-09-02T23:00:32.975277Z",
     "start_time": "2019-09-02T23:00:32.712793Z"
    },
    "scrolled": true
   },
   "outputs": [
    {
     "data": {
      "image/png": "[encoded data removed]",
      "text/plain": [
       "<Figure size 432x288 with 1 Axes>"
      ]
     },
     "metadata": {
      "needs_background": "light"
     },
     "output_type": "display_data"
    }
   ],
   "source": [
    "sum_flips = lambda: flip() + flip() + flip()\n",
    "viz(repeat(sum_flips, 1000))"
   ]
  },
  {
   "cell_type": "markdown",
   "metadata": {},
   "source": [
    "\n",
    "A function expression with an empty argument list, `def f(): ...`, is called a *thunk*: this is a function that takes no input arguments. If we apply a thunk (to no arguments) we get a return value back, for example `flip()`.\n",
    "<!--A thunk is an object that represents a whole *probability distribution*.-->\n",
    "Complex functions can also have arguments. Here is a stochastic function that will only sometimes double its input:\n"
   ]
  },
  {
   "cell_type": "code",
   "execution_count": 8,
   "metadata": {
    "ExecuteTime": {
     "end_time": "2019-09-02T23:00:32.984527Z",
     "start_time": "2019-09-02T23:00:32.978065Z"
    }
   },
   "outputs": [
    {
     "name": "stdout",
     "output_type": "stream",
     "text": [
      "6\n",
      "3\n",
      "3\n",
      "6\n",
      "6\n",
      "6\n",
      "3\n",
      "3\n",
      "6\n",
      "6\n"
     ]
    }
   ],
   "source": [
    "noisy_double = lambda x: (x+x if flip() else x)\n",
    "\n",
    "for _ in range(10):\n",
    "    s = noisy_double(3)\n",
    "    print(s)"
   ]
  },
  {
   "cell_type": "markdown",
   "metadata": {},
   "source": [
    "\n",
    "By using higher-order functions we can construct and manipulate complex sampling processes.\n",
    "A good example comes from coin flipping..."
   ]
  },
  {
   "cell_type": "markdown",
   "metadata": {},
   "source": [
    "## Example: Flipping Coins"
   ]
  },
  {
   "cell_type": "markdown",
   "metadata": {},
   "source": [
    "The following program defines a fair coin, and flips it 20 times:"
   ]
  },
  {
   "cell_type": "code",
   "execution_count": 9,
   "metadata": {
    "ExecuteTime": {
     "end_time": "2019-09-02T23:00:33.127380Z",
     "start_time": "2019-09-02T23:00:32.986789Z"
    }
   },
   "outputs": [
    {
     "data": {
      "image/png": "[encoded data removed]",
      "text/plain": [
       "<Figure size 432x288 with 1 Axes>"
      ]
     },
     "metadata": {
      "needs_background": "light"
     },
     "output_type": "display_data"
    }
   ],
   "source": [
    "fair_coin = lambda: ('heads' if flip(0.5) else 'tails')\n",
    "viz(repeat(fair_coin, 20))"
   ]
  },
  {
   "cell_type": "markdown",
   "metadata": {},
   "source": [
    "This program defines a \"trick\" coin that comes up heads most of the time (95%), and flips it 20 times:"
   ]
  },
  {
   "cell_type": "code",
   "execution_count": 10,
   "metadata": {
    "ExecuteTime": {
     "end_time": "2019-09-02T23:00:33.257898Z",
     "start_time": "2019-09-02T23:00:33.128925Z"
    }
   },
   "outputs": [
    {
     "data": {
      "image/png": "[encoded data removed]",
      "text/plain": [
       "<Figure size 432x288 with 1 Axes>"
      ]
     },
     "metadata": {
      "needs_background": "light"
     },
     "output_type": "display_data"
    }
   ],
   "source": [
    "trick_coin = lambda: ('heads' if flip(0.95) else 'tails')\n",
    "viz(repeat(trick_coin, 100))"
   ]
  },
  {
   "cell_type": "markdown",
   "metadata": {},
   "source": [
    "The higher-order function `make_coin` takes in a weight and outputs a function (a thunk) describing a coin with that weight.  Then we can use `make_coin` to make the coins above, or others."
   ]
  },
  {
   "cell_type": "code",
   "execution_count": 11,
   "metadata": {
    "ExecuteTime": {
     "end_time": "2019-09-02T23:00:33.694497Z",
     "start_time": "2019-09-02T23:00:33.259547Z"
    }
   },
   "outputs": [
    {
     "data": {
      "image/png": "[encoded data removed]",
      "text/plain": [
       "<Figure size 432x288 with 1 Axes>"
      ]
     },
     "metadata": {
      "needs_background": "light"
     },
     "output_type": "display_data"
    },
    {
     "data": {
      "image/png": "[encoded data removed]",
      "text/plain": [
       "<Figure size 432x288 with 1 Axes>"
      ]
     },
     "metadata": {
      "needs_background": "light"
     },
     "output_type": "display_data"
    },
    {
     "data": {
      "image/png": "[encoded data removed]",
      "text/plain": [
       "<Figure size 432x288 with 1 Axes>"
      ]
     },
     "metadata": {
      "needs_background": "light"
     },
     "output_type": "display_data"
    }
   ],
   "source": [
    "def make_coin(weight): \n",
    "    return lambda: ('heads' if flip(weight) else 'tails')\n",
    "\n",
    "trick_coin = make_coin(0.95);\n",
    "fair_coin = make_coin(0.5);\n",
    "bent_coin = make_coin(0.25);\n",
    "\n",
    "viz(repeat(fair_coin, 20), title='Fair Coin (50%)')\n",
    "viz(repeat(trick_coin, 20), title='Trick Coin (95%)')\n",
    "viz(repeat(bent_coin, 20), title='Bent Coin (25%)')"
   ]
  },
  {
   "cell_type": "markdown",
   "metadata": {},
   "source": [
    "We can also define a higher-order function that takes a \"coin\" and \"bends it\":"
   ]
  },
  {
   "cell_type": "code",
   "execution_count": 12,
   "metadata": {
    "ExecuteTime": {
     "end_time": "2019-09-02T23:00:33.840975Z",
     "start_time": "2019-09-02T23:00:33.696580Z"
    }
   },
   "outputs": [
    {
     "data": {
      "image/png": "[encoded data removed]",
      "text/plain": [
       "<Figure size 432x288 with 1 Axes>"
      ]
     },
     "metadata": {
      "needs_background": "light"
     },
     "output_type": "display_data"
    }
   ],
   "source": [
    "def make_coin(weight): \n",
    "    return lambda: ('heads' if flip(weight) else 'tails')\n",
    "\n",
    "def bend_coin(coin):\n",
    "    return lambda: (make_coin(0.7)() if (coin() == 'heads') else make_coin(0.1)())\n",
    "\n",
    "fair_coin = make_coin(0.5)\n",
    "bent_coin = bend_coin(fair_coin)\n",
    "viz(repeat(bent_coin, 100))"
   ]
  },
  {
   "cell_type": "markdown",
   "metadata": {},
   "source": [
    "Make sure you understand how the `bend_coin` function works! Why are there an \"extra\" pair of parentheses after each `make_coin` statement?\n",
    "\n",
    "Higher-order functions like `for`, `while`, `map`, and `filter` can be quite useful.\n",
    "Here we use them to visualize the number of heads we expect to see if we flip a weighted coin (weight = 0.8) 10 times.\n",
    "We'll repeat this experiment 1000 times and then use `viz` to visualize the results.\n",
    "Try varying the coin weight or the number of repetitions to see how the expected distribution changes."
   ]
  },
  {
   "cell_type": "code",
   "execution_count": 13,
   "metadata": {
    "ExecuteTime": {
     "end_time": "2019-09-02T23:00:34.274268Z",
     "start_time": "2019-09-02T23:00:33.843016Z"
    }
   },
   "outputs": [
    {
     "data": {
      "image/png": "[encoded data removed]",
      "text/plain": [
       "<Figure size 432x288 with 1 Axes>"
      ]
     },
     "metadata": {
      "needs_background": "light"
     },
     "output_type": "display_data"
    }
   ],
   "source": [
    "def make_coin(weight): \n",
    "    return lambda: flip(weight)\n",
    "\n",
    "coin = make_coin(0.8)\n",
    "samples_per_exp = 10 \n",
    "num_exps = 1000\n",
    "\n",
    "fn = repeat(lambda: sum(repeat(coin, samples_per_exp)), num_exps)\n",
    "viz(fn, plot_args={'bins': 8})"
   ]
  },
  {
   "cell_type": "markdown",
   "metadata": {},
   "source": [
    "## Example: Causal Models in Medical Diagnosis"
   ]
  },
  {
   "cell_type": "markdown",
   "metadata": {},
   "source": [
    "Generative knowledge is often *causal* knowledge that describes how events or states of the world are related to each other.\n",
    "\n",
    "As an example of how causal knowledge can be encoded in PyroWebPPL expressions, consider a simplified medical scenario:"
   ]
  },
  {
   "cell_type": "code",
   "execution_count": 14,
   "metadata": {
    "ExecuteTime": {
     "end_time": "2019-09-02T23:00:34.280376Z",
     "start_time": "2019-09-02T23:00:34.275938Z"
    }
   },
   "outputs": [
    {
     "name": "stdout",
     "output_type": "stream",
     "text": [
      "False\n"
     ]
    }
   ],
   "source": [
    "lung_cancer = flip(0.01)\n",
    "cold = flip(0.2)\n",
    "cough = (cold or lung_cancer)\n",
    "print(bool(cough))"
   ]
  },
  {
   "cell_type": "markdown",
   "metadata": {},
   "source": [
    "This program models the diseases and symptoms of a patient in a doctor's office.\n",
    "It first specifies the base rates of two diseases the patient could have: lung cancer is rare while a cold is common, and there is an independent chance of having each disease.\n",
    "The program then specifies a process for generating a common symptom of these diseases -- an effect with two possible causes: The patient coughs if they have a cold or lung cancer (or both).\n",
    "\n",
    "Here is a more complex version of this causal model:"
   ]
  },
  {
   "cell_type": "code",
   "execution_count": 15,
   "metadata": {
    "ExecuteTime": {
     "end_time": "2019-09-02T23:00:34.294242Z",
     "start_time": "2019-09-02T23:00:34.282383Z"
    }
   },
   "outputs": [
    {
     "data": {
      "text/plain": [
       "{'cough': False,\n",
       " 'fever': False,\n",
       " 'chest_pain': False,\n",
       " 'shortness_of_breath': False}"
      ]
     },
     "execution_count": 15,
     "metadata": {},
     "output_type": "execute_result"
    }
   ],
   "source": [
    "lung_cancer = flip(0.01)\n",
    "TB = flip(0.005)\n",
    "stomach_flu = flip(0.1)\n",
    "cold = flip(0.2)\n",
    "other = flip(0.1)\n",
    "\n",
    "cough = (\n",
    "    (cold and flip(0.5)) or\n",
    "    (lung_cancer and flip(0.3)) or\n",
    "    (TB and flip(0.7)) or\n",
    "    (other and flip(0.01)))\n",
    "\n",
    "fever = (\n",
    "    (cold and flip(0.3)) or\n",
    "    (stomach_flu and flip(0.5)) or\n",
    "    (TB and flip(0.1)) or\n",
    "    (other and flip(0.01)))\n",
    "\n",
    "chest_pain = (\n",
    "    (lung_cancer and flip(0.5)) or\n",
    "    (TB and flip(0.5)) or\n",
    "    (other and flip(0.01)))\n",
    "\n",
    "shortness_of_breath = (\n",
    "    (lung_cancer and flip(0.5)) or\n",
    "    (TB and flip(0.2)) or\n",
    "    (other and flip(0.01)))\n",
    "\n",
    "symptoms = {\n",
    "  'cough': bool(cough),\n",
    "  'fever': bool(fever),\n",
    "  'chest_pain': bool(chest_pain),\n",
    "  'shortness_of_breath': bool(shortness_of_breath),\n",
    "}\n",
    "\n",
    "symptoms"
   ]
  },
  {
   "cell_type": "markdown",
   "metadata": {},
   "source": [
    "Now there are four possible diseases and four symptoms.\n",
    "Each disease causes a different pattern of symptoms.\n",
    "The causal relations are now probabilistic: Only some patients with a cold have a cough (50%), or a fever (30%).\n",
    "There is also a catch-all disease category \"other\", which has a low probability of causing any symptom.\n",
    "*Noisy logical* functions---functions built from **and** (`&&`), **or** (`||`), and `flip`---provide a simple but expressive way to describe probabilistic causal dependencies between Boolean (true-false valued) variables.\n",
    "\n",
    "When you run the above code, the program generates a list of symptoms for a hypothetical patient.\n",
    "Most likely all the symptoms will be false, as (thankfully) each of these diseases is rare.\n",
    "Experiment with running the program multiple times.\n",
    "Now try modifying the `var` statement for one of the diseases, setting it to be true, to simulate only patients known to have that disease.\n",
    "For example, replace `var lungCancer = flip(0.01)` with `var lungCancer = true`.\n",
    "Run the program several times to observe the characteristic patterns of symptoms for that disease.\n"
   ]
  },
  {
   "cell_type": "markdown",
   "metadata": {},
   "source": [
    "# Prediction, Simulation, and Probabilities"
   ]
  },
  {
   "cell_type": "markdown",
   "metadata": {},
   "source": [
    "Suppose that we flip two fair coins, and return the list of their values:"
   ]
  },
  {
   "cell_type": "code",
   "execution_count": 16,
   "metadata": {
    "ExecuteTime": {
     "end_time": "2019-09-02T23:00:34.301240Z",
     "start_time": "2019-09-02T23:00:34.296221Z"
    }
   },
   "outputs": [
    {
     "data": {
      "text/plain": [
       "[tensor(0.), tensor(0.)]"
      ]
     },
     "execution_count": 16,
     "metadata": {},
     "output_type": "execute_result"
    }
   ],
   "source": [
    "[flip(), flip()]"
   ]
  },
  {
   "cell_type": "markdown",
   "metadata": {},
   "source": [
    "How can we predict the return value of this program?\n",
    "For instance, how likely is it that we will see `[true, false]`?\n",
    "A **probability** is a number between 0 and 1 that expresses the answer to such a question: it is a degree of belief that we will see a given outcome, such as `[true, false]`.\n",
    "The probability of an event $A$ (such as the above program returning `[true, false]`) is usually written as: $P(A)$.\n",
    "\n",
    "A **probability distribution** is the probability of each possible outcome of an event. For instance, we can examine the probability distribution on values that can be returned by the above program by sampling many times and examining the histogram of return values:"
   ]
  },
  {
   "cell_type": "code",
   "execution_count": 17,
   "metadata": {
    "ExecuteTime": {
     "end_time": "2019-09-02T23:00:34.489295Z",
     "start_time": "2019-09-02T23:00:34.303691Z"
    }
   },
   "outputs": [
    {
     "data": {
      "image/png": "[encoded data removed]",
      "text/plain": [
       "<Figure size 432x288 with 1 Axes>"
      ]
     },
     "metadata": {
      "needs_background": "light"
     },
     "output_type": "display_data"
    }
   ],
   "source": [
    "random_pair = lambda: (bool(flip()), bool(flip()))\n",
    "\n",
    "n = 1000\n",
    "viz(repeat(random_pair, n), to_type=str)"
   ]
  },
  {
   "cell_type": "markdown",
   "metadata": {},
   "source": [
    "\n",
    "We see by examining this histogram that `[true, false]` comes out about 25% of the time.\n",
    "We may define the probability of a return value to be the fraction of times (in the long run) that this value is returned from evaluating the program -- then the probability of `[true, false]` from the above program is 0.25.\n"
   ]
  },
  {
   "cell_type": "markdown",
   "metadata": {},
   "source": [
    "# Distributions in Pyro"
   ]
  },
  {
   "cell_type": "markdown",
   "metadata": {},
   "source": [
    "An important idea is that `flip` can be thought of in two different ways.\n",
    "From one perspective, `flip` is a procedure which returns a sample from a fair coin.\n",
    "That is, it's a *sampler* or *simulator*. As we saw above we can build more complex samplers by building more complex functions.\n",
    "\n",
    "From another perspective, `flip` is *itself* a characterization of the probability distribution over `true` and `false`.\n",
    "\n",
    "In order to make this view explicit, PyTorch has a special type of **distribution** objects. These are objects that can be sampled from using the `sample` operator, and that can explicitly return the probability of a return value using the `score` method. Distributions are made by a family of distribution constructors:"
   ]
  },
  {
   "cell_type": "code",
   "execution_count": 18,
   "metadata": {
    "ExecuteTime": {
     "end_time": "2019-09-02T23:00:34.604094Z",
     "start_time": "2019-09-02T23:00:34.491414Z"
    }
   },
   "outputs": [
    {
     "name": "stdout",
     "output_type": "stream",
     "text": [
      "type  <class 'pyro.distributions.torch.Bernoulli'>\n",
      "sample  tensor(1.)\n",
      "log prob  tensor(-0.6931)\n"
     ]
    },
    {
     "data": {
      "image/png": "[encoded data removed]",
      "text/plain": [
       "<Figure size 432x288 with 1 Axes>"
      ]
     },
     "metadata": {
      "needs_background": "light"
     },
     "output_type": "display_data"
    }
   ],
   "source": [
    "# make a distribution using the Bernoulli constructor:\n",
    "d = dist.Bernoulli(0.5)\n",
    "print('type ', type(d))\n",
    "\n",
    "# sample from it with the sample operator:\n",
    "print('sample ', d.sample())\n",
    "\n",
    "# compute the log-probability of sampling true:\n",
    "print('log prob ', d.log_prob(False))\n",
    "\n",
    "# visualize the distribution:\n",
    "plt.xticks([0, 1], labels=['heads', 'tails'])\n",
    "viz(d, to_type=float)"
   ]
  },
  {
   "cell_type": "markdown",
   "metadata": {},
   "source": [
    "In fact `flip(x)` is just a helper function that constructs a Bernoulli distribution and samples from it. The function `bernoulli(x)` is an alias for `flip`.\n",
    "\n",
    "There are many other distribution constructors built into Pyro listed [here](http://docs.pyro.ai/en/stable/distributions.html). \n",
    "\n",
    "For instance the Gaussian (also called Normal) distribution is a very common distribution over real numbers:\n",
    "\n",
    "\n",
    "<!-- describe Distribution generators, distirbutions, and sample here. -->"
   ]
  },
  {
   "cell_type": "code",
   "execution_count": 19,
   "metadata": {
    "ExecuteTime": {
     "end_time": "2019-09-02T23:00:34.620323Z",
     "start_time": "2019-09-02T23:00:34.606957Z"
    }
   },
   "outputs": [
    {
     "name": "stdout",
     "output_type": "stream",
     "text": [
      "sample  tensor(-1.1133)\n",
      "foo  tensor(0.3160)\n"
     ]
    }
   ],
   "source": [
    "# create a gaussian distribution:\n",
    "d = dist.Normal(0, 1)\n",
    "\n",
    "# sample from it\n",
    "print('sample ', d.sample())\n",
    "\n",
    "# and build more complex processes\n",
    "foo = lambda: dist.Normal(0, 1).sample() * dist.Normal(0, 1).sample()\n",
    "print('foo ', foo())"
   ]
  },
  {
   "cell_type": "markdown",
   "metadata": {
    "ExecuteTime": {
     "end_time": "2019-07-21T23:15:22.445810Z",
     "start_time": "2019-07-21T23:15:22.443221Z"
    }
   },
   "source": [
    "## Constructing marginal distributions: `Infer`"
   ]
  },
  {
   "cell_type": "markdown",
   "metadata": {},
   "source": [
    "Above we described how complex sampling processes can be built as complex functions, and how these sampling processes implicitly specify a distribution on return values (which we examined by sampling many times and building a histogram). \n",
    "\n",
    "This distribution on return values is called the **marginal distribution**, and the PyroWebPPL `Infer` operator gives us a way to make this implicit distribution into an explicit distribution object:"
   ]
  },
  {
   "cell_type": "code",
   "execution_count": 20,
   "metadata": {
    "ExecuteTime": {
     "end_time": "2019-09-02T23:00:34.628989Z",
     "start_time": "2019-09-02T23:00:34.623334Z"
    }
   },
   "outputs": [],
   "source": [
    "def Infer(model, num_samples=1000):\n",
    "    posterior = pyro.infer.Importance(model, num_samples=num_samples)\n",
    "    marginal = pyro.infer.EmpiricalMarginal(posterior.run())\n",
    "    samples = marginal.sample(torch.Size([num_samples]))\n",
    "    return samples.tolist()"
   ]
  },
  {
   "cell_type": "code",
   "execution_count": 21,
   "metadata": {
    "ExecuteTime": {
     "end_time": "2019-09-02T23:00:35.453989Z",
     "start_time": "2019-09-02T23:00:34.631610Z"
    }
   },
   "outputs": [
    {
     "name": "stdout",
     "output_type": "stream",
     "text": [
      "[-0.5562036633491516, -0.7411863207817078, -0.07634959369897842, -0.3720152974128723, -0.3638993799686432]\n"
     ]
    },
    {
     "data": {
      "image/png": "[encoded data removed]",
      "text/plain": [
       "<Figure size 432x288 with 1 Axes>"
      ]
     },
     "metadata": {
      "needs_background": "light"
     },
     "output_type": "display_data"
    }
   ],
   "source": [
    "# a complex function, that specifies a complex sampling process:\n",
    "def foo():\n",
    "    a = pyro.sample('a', dist.Normal(0, 1))\n",
    "    b = pyro.sample('b', dist.Normal(0, 1))\n",
    "    return a * b\n",
    "\n",
    "# make the marginal distributions on return values explicit:\n",
    "samples = Infer(foo, num_samples=1000)\n",
    "\n",
    "# now we can use d as we would any other distribution:\n",
    "print(samples[:5])\n",
    "\n",
    "viz(samples, plot_args={'bins': 25})"
   ]
  },
  {
   "cell_type": "markdown",
   "metadata": {
    "ExecuteTime": {
     "end_time": "2019-07-21T23:21:27.867750Z",
     "start_time": "2019-07-21T23:21:27.860034Z"
    }
   },
   "source": [
    "Note that `Infer` took an object describing *how* to construct the marginal distribution (which we will describe more later) and a thunk describing the sampling process, or *model*, of interest.\n",
    "\n",
    "`pyro.sample` lets us sample from a distribution, and build complex sampling processes by using sampling in a program. Conversely, `TracePosterior` and `Marginal` (used here in `Infer`) let us reify the distribution implicitly described by a sampling process. \n",
    "\n",
    "When we think about probabilistic programs we will often move back and forth between these two views, emphasizing either the sampling perspective or the distributional perspective. With suitable restrictions this duality is complete: any Pyro program implicitly represents a distribution and any distribution can be represented by a Pyro program. See `Ackerman 2011` for more details on this duality.\n"
   ]
  },
  {
   "cell_type": "markdown",
   "metadata": {},
   "source": [
    "# The rules of probability"
   ]
  },
  {
   "cell_type": "markdown",
   "metadata": {},
   "source": [
    "While `Infer` lets us build the marginal distribution for even very complicated programs, we can also derive these marginal distributions with the \"rules of probability\". This is intractable for complex processes, but can help us build intuition for how distributions work."
   ]
  },
  {
   "cell_type": "markdown",
   "metadata": {},
   "source": [
    "## Product Rule"
   ]
  },
  {
   "cell_type": "markdown",
   "metadata": {},
   "source": [
    "In the above example we take three steps to compute the output value: we sample from the first `flip()`, then from the second, then we make a list from these values.\n",
    "To make this more clear let us re-write the program as:"
   ]
  },
  {
   "cell_type": "code",
   "execution_count": 22,
   "metadata": {
    "ExecuteTime": {
     "end_time": "2019-09-02T23:00:35.462267Z",
     "start_time": "2019-09-02T23:00:35.456765Z"
    }
   },
   "outputs": [
    {
     "data": {
      "text/plain": [
       "[tensor(1.), tensor(1.)]"
      ]
     },
     "execution_count": 22,
     "metadata": {},
     "output_type": "execute_result"
    }
   ],
   "source": [
    "A = flip()\n",
    "B = flip()\n",
    "C = [A, B]\n",
    "C"
   ]
  },
  {
   "cell_type": "markdown",
   "metadata": {},
   "source": [
    "We can directly observe (as we did above) that the probability of `true` for `A` is 0.5, and the probability of `false` from `B` is 0.5. Can we use these two probabilities to arrive at the probability of 0.25 for the overall outcome `C` = `[true, false]`? Yes, using the *product rule* of probabilities:\n",
    "The probability of two random choices is the product of their individual probabilities.\n",
    "The probability of several random choices together is often called the *joint probability* and written as $P(A,B)$.\n",
    "Since the first and second random choices must each have their specified values in order to get `[true, false]` in the example, the joint probability is their product: 0.25.\n",
    "\n",
    "We must be careful when applying this rule, since the probability of a choice can depend on the probabilities of previous choices. For instance, compute the probability of `[true, false]` resulting from this program:"
   ]
  },
  {
   "cell_type": "code",
   "execution_count": 23,
   "metadata": {
    "ExecuteTime": {
     "end_time": "2019-09-02T23:00:35.475856Z",
     "start_time": "2019-09-02T23:00:35.467470Z"
    }
   },
   "outputs": [
    {
     "data": {
      "text/plain": [
       "[tensor(0.), tensor(0.)]"
      ]
     },
     "execution_count": 23,
     "metadata": {},
     "output_type": "execute_result"
    }
   ],
   "source": [
    "A = flip()\n",
    "B = flip(0.3 if A else 0.7)\n",
    "[A, B]"
   ]
  },
  {
   "cell_type": "markdown",
   "metadata": {},
   "source": [
    "In general, the joint probability of two random choices $A$ and $B$ made sequentially, in that order, can be written as $P(A,B) = P(A) P(B \\vert A)$.\n",
    "This is read as the product of the probability of $A$ and the probability of \"$B$ given $A$\", or \"$B$ conditioned on $A$\".\n",
    "That is, the probability of making choice $B$ given that choice $A$ has been made in a certain way.\n",
    "Only when the second choice does not depend on (or \"look at\") the first choice does this expression reduce to a simple product of the probabilities of each choice individually: $P(A,B) = P(A) P(B)$.\n",
    "\n",
    "What is the relation between $P(A,B)$ and $P(B,A)$, the joint probability of the same choices written in the opposite order?  The only logically consistent definitions of probability require that these two probabilities be equal, so $P(A) P(B \\vert A) = P(B) P(A \\vert B)$.  This is the basis of *Bayes' theorem*, which we will encounter later."
   ]
  },
  {
   "cell_type": "markdown",
   "metadata": {
    "heading_collapsed": true
   },
   "source": [
    "## Sum Rule"
   ]
  },
  {
   "cell_type": "markdown",
   "metadata": {
    "hidden": true
   },
   "source": [
    "Now let's consider an example where we can't determine from the overall return value the sequence of random choices that were made:"
   ]
  },
  {
   "cell_type": "code",
   "execution_count": 24,
   "metadata": {
    "ExecuteTime": {
     "end_time": "2019-09-02T23:00:35.492279Z",
     "start_time": "2019-09-02T23:00:35.480992Z"
    },
    "hidden": true
   },
   "outputs": [
    {
     "data": {
      "text/plain": [
       "tensor(1.)"
      ]
     },
     "execution_count": 24,
     "metadata": {},
     "output_type": "execute_result"
    }
   ],
   "source": [
    "flip() or flip()"
   ]
  },
  {
   "cell_type": "markdown",
   "metadata": {
    "hidden": true
   },
   "source": [
    "We can sample from this program and determine that the probability of returning `true` is about 0.75."
   ]
  },
  {
   "cell_type": "code",
   "execution_count": 25,
   "metadata": {
    "ExecuteTime": {
     "end_time": "2019-09-02T23:00:35.554886Z",
     "start_time": "2019-09-02T23:00:35.498317Z"
    },
    "hidden": true
   },
   "outputs": [
    {
     "data": {
      "text/plain": [
       "0.773"
      ]
     },
     "execution_count": 25,
     "metadata": {},
     "output_type": "execute_result"
    }
   ],
   "source": [
    "np.mean([(flip() or flip()) for _ in range(1000)])"
   ]
  },
  {
   "cell_type": "markdown",
   "metadata": {
    "hidden": true
   },
   "source": [
    "We cannot simply use the product rule to determine this probability because we don't know the sequence of random choices that led to this return value.\n",
    "However we can notice that the program will return true if the two component choices are `[true,true]`, or `[true,false]`, or `[false,true]`. To combine these possibilities we use another rule for probabilities:\n",
    "If there are two alternative sequences of choices that lead to the same return value, the probability of this return value is the sum of the probabilities of the sequences.\n",
    "We can write this using probability notation as: $P(A) = \\sum_{B} P(A,B)$, where we view $A$ as the final value and $B$ as a random choice on the way to that value.\n",
    "Using the product rule we can determine that the probability in the example above is 0.25 for each sequence that leads to return value `true`, then, by the sum rule, the probability of `true` is 0.25+0.25+0.25=0.75.\n",
    "\n",
    "Using the sum rule to compute the probability of a final value is called is sometimes called *marginalization*, because the final distribution is the marginal distribution on final values.\n",
    "From the point of view of sampling processes marginalization is simply ignoring (or not looking at) intermediate random values that are created on the way to a final return value.\n",
    "From the point of view of directly computing probabilities, marginalization is summing over all the possible \"histories\" that could lead to a return value.\n",
    "Putting the product and sum rules together, the marginal probability of return values from a program that we have explored above is the sum over sampling histories of the product over choice probabilities---a computation that can quickly grow unmanageable, but can be approximated by `Infer`."
   ]
  },
  {
   "cell_type": "markdown",
   "metadata": {},
   "source": [
    "# Stochastic recursion"
   ]
  },
  {
   "cell_type": "markdown",
   "metadata": {},
   "source": [
    "[Recursive functions](https://en.wikipedia.org/wiki/Recursion_(computer_science)) are a powerful way to structure computation in deterministic systems.\n",
    "\n",
    "In Pyro it is possible to have a *stochastic* recursion that randomly decides whether to stop.\n",
    "For example, the *geometric distribution* is a probability distribution over the non-negative integers.\n",
    "We imagine flipping a (weighted) coin, returning $N-1$ if the first `1` is on the Nth flip (that is, we return the number of times we get `0` before our first `1`):\n",
    "\n",
    "<!--\n",
    "g = pyro.infer.Importance(geometric, num_samples=1000)\n",
    "marginal = pyro.infer.EmpiricalMarginal(g.run(0.6))\n",
    "samples = marginal.sample(torch.Size([1000]))\n",
    "-->"
   ]
  },
  {
   "cell_type": "code",
   "execution_count": 26,
   "metadata": {
    "ExecuteTime": {
     "end_time": "2019-09-02T23:00:36.157227Z",
     "start_time": "2019-09-02T23:00:35.559470Z"
    }
   },
   "outputs": [
    {
     "data": {
      "text/plain": [
       "<BarContainer object of 9 artists>"
      ]
     },
     "execution_count": 26,
     "metadata": {},
     "output_type": "execute_result"
    },
    {
     "data": {
      "image/png": "[encoded data removed]",
      "text/plain": [
       "<Figure size 432x288 with 1 Axes>"
      ]
     },
     "metadata": {
      "needs_background": "light"
     },
     "output_type": "display_data"
    }
   ],
   "source": [
    "def geometric(p, t=0):\n",
    "    # x = pflip(f\"x_{t}\", p)    # equivalent in this case\n",
    "    x = flip(p)\n",
    "    return torch.tensor(0) if x else 1 + geometric(p, t + 1)\n",
    "\n",
    "# make the marginal distributions on return values explicit:\n",
    "samples = Infer(lambda: geometric(p=0.6))\n",
    "\n",
    "labels, counts = np.unique(samples, return_counts=True, axis=0)\n",
    "probs = counts / np.sum(counts)\n",
    "plt.bar(range(len(labels)), probs, align='center', tick_label=[str(w) for w in labels])"
   ]
  },
  {
   "cell_type": "markdown",
   "metadata": {},
   "source": [
    "There is no upper bound on how long the computation can go on, although the probability of reaching some number declines quickly as we go.\n",
    "Indeed, stochastic recursions must be constructed to halt eventually (with probability 1).\n"
   ]
  },
  {
   "cell_type": "markdown",
   "metadata": {},
   "source": [
    "# Persistent Randomness: `memoize`"
   ]
  },
  {
   "cell_type": "code",
   "execution_count": 27,
   "metadata": {
    "ExecuteTime": {
     "end_time": "2019-09-02T23:00:36.164323Z",
     "start_time": "2019-09-02T23:00:36.159555Z"
    }
   },
   "outputs": [],
   "source": [
    "def memoize(fn=None, **kwargs):\n",
    "    if fn is None:\n",
    "        return lambda _fn: memoize(_fn, **kwargs)\n",
    "    return functools.lru_cache(**kwargs)(fn)"
   ]
  },
  {
   "cell_type": "markdown",
   "metadata": {},
   "source": [
    "It is often useful to model a set of objects that each have a randomly chosen property. For instance, describing the eye colors of a set of people:"
   ]
  },
  {
   "cell_type": "code",
   "execution_count": 28,
   "metadata": {
    "ExecuteTime": {
     "end_time": "2019-09-02T23:00:36.178013Z",
     "start_time": "2019-09-02T23:00:36.166966Z"
    }
   },
   "outputs": [
    {
     "name": "stdout",
     "output_type": "stream",
     "text": [
      "bob brown\n",
      "alice green\n",
      "bob green\n"
     ]
    }
   ],
   "source": [
    "EYE_COLORS = ['blue', 'green', 'brown']\n",
    "\n",
    "def eye_color(person):\n",
    "    i = dist.Categorical(torch.ones(3)).sample()\n",
    "    return EYE_COLORS[i]\n",
    "\n",
    "print('bob', eye_color('bob'))\n",
    "print('alice', eye_color('alice'))\n",
    "print('bob', eye_color('bob'))"
   ]
  },
  {
   "cell_type": "markdown",
   "metadata": {},
   "source": [
    "The results of this generative process are clearly wrong: Bob's eye color can change each time we ask about it! What we want is a model in which eye color is random, but *persistent.* We can do this using `memoize`.  `memoize` is a higher order function that takes a procedure and produces a *memoized* version of the procedure.\n",
    "\n",
    "When a stochastic procedure is memoized, it will sample a random value the *first* time it is used with some arguments, but return that same value when called with those arguments thereafter.\n",
    "The resulting memoized procedure has a persistent value within each \"run\" of the generative model (or simulated world). "
   ]
  },
  {
   "cell_type": "markdown",
   "metadata": {},
   "source": [
    "We can draw samples from a categorical distribution with 10 categories:"
   ]
  },
  {
   "cell_type": "code",
   "execution_count": 29,
   "metadata": {
    "ExecuteTime": {
     "end_time": "2019-09-02T23:00:36.193548Z",
     "start_time": "2019-09-02T23:00:36.180420Z"
    }
   },
   "outputs": [
    {
     "data": {
      "text/plain": [
       "[tensor(2),\n",
       " tensor(5),\n",
       " tensor(2),\n",
       " tensor(3),\n",
       " tensor(9),\n",
       " tensor(0),\n",
       " tensor(3),\n",
       " tensor(6),\n",
       " tensor(6),\n",
       " tensor(1)]"
      ]
     },
     "execution_count": 29,
     "metadata": {},
     "output_type": "execute_result"
    }
   ],
   "source": [
    "def cat(n=10):\n",
    "    return dist.Categorical(torch.ones(n)).sample()\n",
    "\n",
    "[cat() for _ in range(10)]"
   ]
  },
  {
   "cell_type": "markdown",
   "metadata": {},
   "source": [
    "Memoizing this function, all draws with equivalent input (i.e. no args) will return the same value"
   ]
  },
  {
   "cell_type": "code",
   "execution_count": 30,
   "metadata": {
    "ExecuteTime": {
     "end_time": "2019-09-02T23:00:36.204460Z",
     "start_time": "2019-09-02T23:00:36.195335Z"
    }
   },
   "outputs": [
    {
     "data": {
      "text/plain": [
       "[tensor(5),\n",
       " tensor(5),\n",
       " tensor(5),\n",
       " tensor(5),\n",
       " tensor(5),\n",
       " tensor(5),\n",
       " tensor(5),\n",
       " tensor(5),\n",
       " tensor(5),\n",
       " tensor(5)]"
      ]
     },
     "execution_count": 30,
     "metadata": {},
     "output_type": "execute_result"
    }
   ],
   "source": [
    "@memoize\n",
    "def memcat(n=10):\n",
    "    return dist.Categorical(torch.ones(n)).sample()\n",
    "\n",
    "[memcat() for _ in range(10)]"
   ]
  },
  {
   "cell_type": "markdown",
   "metadata": {},
   "source": [
    "Now returning to the eye color example, we can represent the notion that eye color is random, but each person has a fixed eye color. No matter how many times we re-run this cell, bob will have the same eye color for both samples."
   ]
  },
  {
   "cell_type": "code",
   "execution_count": 31,
   "metadata": {
    "ExecuteTime": {
     "end_time": "2019-09-02T23:00:36.217963Z",
     "start_time": "2019-09-02T23:00:36.210273Z"
    }
   },
   "outputs": [
    {
     "name": "stdout",
     "output_type": "stream",
     "text": [
      "bob brown\n",
      "alice brown\n",
      "bob brown\n"
     ]
    }
   ],
   "source": [
    "@memoize\n",
    "def mem_eye_color(person):\n",
    "    i = dist.Categorical(torch.ones(3)).sample()\n",
    "    return EYE_COLORS[i]\n",
    "\n",
    "print('bob', mem_eye_color('bob'))\n",
    "print('alice', mem_eye_color('alice'))\n",
    "print('bob', mem_eye_color('bob'))"
   ]
  },
  {
   "cell_type": "markdown",
   "metadata": {},
   "source": [
    "This type of modeling is called *random world* style `Mcallester (2008)`.\n",
    "\n",
    "Note that we don't have to specify ahead of time the people whose eye color we will ask about: the distribution on eye colors is implicitly defined over the infinite set of possible people, but only constructed \"lazily\" when needed.\n",
    "Memoizing stochastic functions thus provides a powerful toolkit to represent and reason about an unbounded set of properties of an unbounded set of objects.\n",
    "\n",
    "For instance, here we define a function `flip_a_lot` that maps from an integer (or any other value) to a coin flip. We could use it to implicitly represent the $n$th flip of a particular coin, without having to actually flip the coin $n$ times."
   ]
  },
  {
   "cell_type": "code",
   "execution_count": 32,
   "metadata": {
    "ExecuteTime": {
     "end_time": "2019-09-02T23:00:36.235782Z",
     "start_time": "2019-09-02T23:00:36.221113Z"
    }
   },
   "outputs": [
    {
     "data": {
      "text/plain": [
       "[[tensor(1.), tensor(0.), tensor(1.), tensor(1.)],\n",
       " [tensor(1.), tensor(0.), tensor(1.), tensor(1.)]]"
      ]
     },
     "execution_count": 32,
     "metadata": {},
     "output_type": "execute_result"
    }
   ],
   "source": [
    "flip_a_lot = memoize(lambda n: flip())\n",
    "\n",
    "[[flip_a_lot(1), flip_a_lot(12), flip_a_lot(47), flip_a_lot(1548)],\n",
    " [flip_a_lot(1), flip_a_lot(12), flip_a_lot(47), flip_a_lot(1548)]]"
   ]
  },
  {
   "cell_type": "markdown",
   "metadata": {},
   "source": [
    "There are a countably infinite number of such flips, each independent\n",
    "of all the others. The outcome of each, once determined, will always have the same value.\n",
    "\n",
    "In computer science memoization is an important technique for optimizing programs by avoiding repeated work.\n",
    "In the probabilistic setting, such as in Pyro, memoization actually affects the meaning of the memoized function."
   ]
  },
  {
   "cell_type": "markdown",
   "metadata": {
    "heading_collapsed": true
   },
   "source": [
    "# Intuitive Physics Example   - TODO"
   ]
  },
  {
   "cell_type": "markdown",
   "metadata": {
    "hidden": true
   },
   "source": [
    "```javascript\n",
    "var listMin = function(xs) {\n",
    "  if (xs.length == 1) {\n",
    "    return xs[0]\n",
    "  } else {\n",
    "    return Math.min(xs[0], listMin(rest(xs)))\n",
    "  }\n",
    "}\n",
    "\n",
    "var ground = {shape: 'rect', static: true, dims: [worldWidth, 10],\n",
    "              x: worldWidth/2, y: worldHeight+6};\n",
    "\n",
    "var stableWorld = [\n",
    "  ground,\n",
    "  {shape: 'rect', static: false, dims: [60, 22], x: 175, y: 473},\n",
    "  {shape: 'rect', static: false, dims: [50, 38], x: 159.97995044874122, y: 413},\n",
    "  {shape: 'rect', static: false, dims: [40, 35], x: 166.91912737427202, y: 340},\n",
    "  {shape: 'rect', static: false, dims: [30, 29], x: 177.26195677111082, y: 276},\n",
    "  {shape: 'rect', static: false, dims: [11, 17], x: 168.51354470809122, y: 230}\n",
    "]\n",
    "\n",
    "var almostUnstableWorld = [\n",
    "  ground,\n",
    "  {shape: 'rect', static: false, dims: [24, 22], x: 175, y: 473},\n",
    "  {shape: 'rect', static: false, dims: [15, 38], x: 159.97995044874122, y: 413},\n",
    "  {shape: 'rect', static: false, dims: [11, 35], x: 166.91912737427202, y: 340},\n",
    "  {shape: 'rect', static: false, dims: [11, 29], x: 177.26195677111082, y: 276},\n",
    "  {shape: 'rect', static: false, dims: [11, 17], x: 168.51354470809122, y: 230}\n",
    "]\n",
    "\n",
    "var unstableWorld = [\n",
    "  ground,\n",
    "  {shape: 'rect', static: false, dims: [60, 22], x: 175, y: 473},\n",
    "  {shape: 'rect', static: false, dims: [50, 38], x: 90, y: 413},\n",
    "  {shape: 'rect', static: false, dims: [40, 35], x: 140, y: 340},\n",
    "  {shape: 'rect', static: false, dims: [10, 29], x: 177.26195677111082, y: 276},\n",
    "  {shape: 'rect', static: false, dims: [50, 17], x: 140, y: 230}\n",
    "]\n",
    "\n",
    "var doesTowerFall = function (initialW, finalW) {\n",
    "  var highestY = function (w) { listMin(map(function(obj) { return obj.y }, w)) }\n",
    "  var approxEqual = function (a, b) { Math.abs(a - b) < 1.0 }\n",
    "  !approxEqual(highestY(initialW), highestY(finalW))\n",
    "}\n",
    "\n",
    "var noisify = function (world) {\n",
    "  var perturbX = function (obj) {\n",
    "    var noiseWidth = 10\n",
    "    obj.static ? obj : _.extend({}, obj, {x: uniform(obj.x - noiseWidth, obj.x + noiseWidth) })\n",
    "  }\n",
    "  map(perturbX, world)\n",
    "}\n",
    "\n",
    "var run = function(world) {\n",
    "  var initialWorld = noisify(world)\n",
    "  var finalWorld = physics.run(1000, initialWorld)\n",
    "  doesTowerFall(initialWorld, finalWorld)\n",
    "}\n",
    "\n",
    "viz(\n",
    "  Infer({method: 'forward', samples: 100},\n",
    "        function() { run(stableWorld) }))\n",
    "viz(\n",
    "  Infer({method: 'forward', samples: 100},\n",
    "        function() { run(almostUnstableWorld) }))\n",
    "viz(\n",
    "  Infer({method: 'forward', samples: 100},\n",
    "        function() { run(unstableWorld) }))\n",
    "\n",
    "// uncomment any of these that you'd like to see for yourself\n",
    "// physics.animate(1000, stableWorld)\n",
    "// physics.animate(1000, almostUnstableWorld)\n",
    "// physics.animate(1000, unstableWorld)\n",
    "```"
   ]
  },
  {
   "cell_type": "code",
   "execution_count": null,
   "metadata": {
    "hidden": true
   },
   "outputs": [],
   "source": []
  }
 ],
 "metadata": {
  "kernelspec": {
   "display_name": "Python 3",
   "language": "python",
   "name": "python3"
  },
  "language_info": {
   "codemirror_mode": {
    "name": "ipython",
    "version": 3
   },
   "file_extension": ".py",
   "mimetype": "text/x-python",
   "name": "python",
   "nbconvert_exporter": "python",
   "pygments_lexer": "ipython3",
   "version": "3.7.1"
  },
  "toc": {
   "base_numbering": 1,
   "nav_menu": {},
   "number_sections": true,
   "sideBar": true,
   "skip_h1_title": false,
   "title_cell": "Table of Contents",
   "title_sidebar": "Contents",
   "toc_cell": false,
   "toc_position": {},
   "toc_section_display": true,
   "toc_window_display": false
  },
  "varInspector": {
   "cols": {
    "lenName": 16,
    "lenType": 16,
    "lenVar": 40
   },
   "kernels_config": {
    "python": {
     "delete_cmd_postfix": "",
     "delete_cmd_prefix": "del ",
     "library": "var_list.py",
     "varRefreshCmd": "print(var_dic_list())"
    },
    "r": {
     "delete_cmd_postfix": ") ",
     "delete_cmd_prefix": "rm(",
     "library": "var_list.r",
     "varRefreshCmd": "cat(var_dic_list()) "
    }
   },
   "types_to_exclude": [
    "module",
    "function",
    "builtin_function_or_method",
    "instance",
    "_Feature"
   ],
   "window_display": false
  }
 },
 "nbformat": 4,
 "nbformat_minor": 2
}
