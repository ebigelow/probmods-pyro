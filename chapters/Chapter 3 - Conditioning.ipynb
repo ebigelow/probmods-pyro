{
 "cells": [
  {
   "cell_type": "code",
   "execution_count": 2,
   "metadata": {
    "ExecuteTime": {
     "end_time": "2019-09-11T04:15:43.975574Z",
     "start_time": "2019-09-11T04:15:42.624937Z"
    }
   },
   "outputs": [],
   "source": [
    "%matplotlib inline\n",
    "import matplotlib.pyplot as plt\n",
    "import numpy as np\n",
    "\n",
    "import torch\n",
    "import pyro\n",
    "import pyro.distributions as dist\n",
    "import pyro.infer.mcmc\n",
    "from pyro import poutine\n",
    "pyro.enable_validation()\n",
    "\n",
    "from pyro_webppl import flip, pflip, repeat, memoize, factor, cond_var, condition, expectation, Infer, viz"
   ]
  },
  {
   "cell_type": "markdown",
   "metadata": {},
   "source": [
    "# Cognition and conditioning\n",
    "\n",
    "We have built up a tool set for constructing probabilistic generative models. These can represent knowledge about causal processes in the world: running one of these programs generates a particular outcome by sampling a \"history\" for that outcome. However, the power of a causal model lies in the flexible ways it can be used to reason about the world. In the\n",
    "last chapter we ran generative models *forward* to reason about outcomes from initial conditions. Generative models also enable reasoning in other ways.\n",
    "For instance, if we have a generative model in which X is the output of a process that depends on Y (say `X = coolFunction(Y)`) we may ask: \"assuming I have observed a certain X, what must Y have been?\" That is we can reason *backward* from outcomes to initial conditions.\n",
    "More generally, we can make hypothetical assumptions and reason about the generative history: \"assuming *something*, how did\n",
    "the generative model run?\"\n",
    "In this section we describe how a wide variety of such hypothetical inferences can be made from a single generative model by *conditioning* the model on an assumed or observed fact.\n",
    "\n",
    "Much of cognition can be understood in terms of conditional inference.  In its most basic form, *causal attribution* is conditional inference: given some observed effects, what were the likely causes?  *Predictions* are conditional inferences in the opposite direction: given that I have observed some cause, what are its likely effects?  These inferences can be described by conditioning a probabilistic program that expresses a causal model.  The acquisition of that causal model, or *learning*, is also conditional inference at a higher level of abstraction: given our general knowledge of how causal relations operate in the world, and some observed events in which candidate causes and effects co-occur in various ways, what specific causal relations are likely to hold between these observed variables?\n",
    "\n",
    "To see how the same concepts apply in a domain that is not usually thought of as causal, consider language.  The core questions of interest in the study of natural language are all at heart conditional inference problems.  Given beliefs about the  structure of my language, and an observed sentence, what should I believe about the syntactic structure of that sentence? This is the *parsing* problem. The complementary problem of *speech production* is related: given the structure of my language (and beliefs about others' beliefs about that), and a particular thought I want to express, how should I encode the thought? Finally, the *acquisition* problem: given some data from a particular language, and perhaps general knowledge about universals of grammar, what should we believe about that language's structure? This problem is simultaneously the problem facing the linguist and the child trying to learn a language.\n",
    "\n",
    "Parallel problems of conditional inference arise in visual perception, social cognition, and virtually every other domain of cognition.  In visual perception, we observe an image or image sequence that is the result of rendering a three-dimensional physical scene onto our two-dimensional retinas.  A probabilistic program can model both the physical processes at work in the world that produce natural scenes, and the imaging processes (the \"graphics\") that generate images from scenes.  *Perception* can then be seen as conditioning this program on some observed output image and inferring the scenes most likely to have given rise to it. \n",
    "\n",
    "When interacting with other people, we observe their actions, which result from a planning process, and often want to guess their desires, beliefs, emotions, or future actions. Planning can be modeled as a program that takes as input an agent's mental states (beliefs, desires, etc.) and produces action sequences---for a rational agent, these will be actions that are likely to produce the agent's desired states reliably and efficiently.  A rational agent can *plan* their actions by conditional inference to infer what steps would be most likely to achieve their desired state.  *Action understanding*, or interpreting an agent's observed behavior, can be expressed as conditioning a planning program (a \"theory of mind\") on observed actions to infer the mental states that most likely gave rise to those actions, and to predict how the agent is likely to act in the future."
   ]
  },
  {
   "cell_type": "markdown",
   "metadata": {},
   "source": [
    "\n",
    "# Hypothetical Reasoning with `Infer`\n",
    "\n",
    "Suppose that we know some fixed fact, and we wish to consider hypotheses about how a generative model could have given rise to that fact. In the last chapter, we met the `Infer` operator for constructing the marginal distribution on return values of a function; with the help of the `condition` operator `Infer` is also able to describe marginal distributions *under some assumption* or condition.\n",
    "\n",
    "Consider the following simple generative model:\n"
   ]
  },
  {
   "cell_type": "code",
   "execution_count": 2,
   "metadata": {
    "ExecuteTime": {
     "end_time": "2019-09-10T04:11:07.568498Z",
     "start_time": "2019-09-10T04:11:07.393746Z"
    }
   },
   "outputs": [
    {
     "data": {
      "application/vnd.jupyter.widget-view+json": {
       "model_id": "c3a3e79375804466871dc0b10c0bf88e",
       "version_major": 2,
       "version_minor": 0
      },
      "text/plain": [
       "HBox(children=(IntProgress(value=0, max=1000), HTML(value='')))"
      ]
     },
     "metadata": {},
     "output_type": "display_data"
    },
    {
     "name": "stdout",
     "output_type": "stream",
     "text": [
      "\n"
     ]
    },
    {
     "data": {
      "image/png": "[encoded data removed]",
      "text/plain": [
       "<Figure size 432x288 with 1 Axes>"
      ]
     },
     "metadata": {
      "needs_background": "light"
     },
     "output_type": "display_data"
    }
   ],
   "source": [
    "def model():\n",
    "    A = pflip('A', 0.5)\n",
    "    B = pflip('B', 0.5)\n",
    "    C = pflip('C', 0.5)\n",
    "    return A + B + C\n",
    "\n",
    "# make the marginal distributions on return values explicit\n",
    "d = Infer(model, posterior_method='enumerate')\n",
    "viz(d)"
   ]
  },
  {
   "cell_type": "markdown",
   "metadata": {},
   "source": [
    "The process described in `model` samples three numbers and adds them (Python converts $\\texttt{True} \\rightarrow 1$ and $\\texttt{False} \\rightarrow 0$ when they enter arithmetic). The value of the final expression here is 0, 1, 2 or 3. A priori, each of the variables `A`, `B`, `C` has .5 probability of being `1` or `0`.  However, suppose that we know that the sum `D` is equal to 3. How does this change the space of possible values that variable `A` could have taken?  `A` (and `B` and `C`) must be equal to 1 for this result to happen. We can see this in the following PyroWebPPL inference, where we use `condition` to express the desired assumption:\n"
   ]
  },
  {
   "cell_type": "code",
   "execution_count": 3,
   "metadata": {
    "ExecuteTime": {
     "end_time": "2019-09-10T04:11:07.745685Z",
     "start_time": "2019-09-10T04:11:07.570483Z"
    },
    "scrolled": false
   },
   "outputs": [
    {
     "data": {
      "application/vnd.jupyter.widget-view+json": {
       "model_id": "7353ee3ae328496aad227d76c2946ddf",
       "version_major": 2,
       "version_minor": 0
      },
      "text/plain": [
       "HBox(children=(IntProgress(value=0, max=1000), HTML(value='')))"
      ]
     },
     "metadata": {},
     "output_type": "display_data"
    },
    {
     "name": "stdout",
     "output_type": "stream",
     "text": [
      "\n"
     ]
    },
    {
     "data": {
      "image/png": "[encoded data removed]",
      "text/plain": [
       "<Figure size 432x288 with 1 Axes>"
      ]
     },
     "metadata": {
      "needs_background": "light"
     },
     "output_type": "display_data"
    }
   ],
   "source": [
    "def model():\n",
    "    A = pflip('A', 0.5)\n",
    "    B = pflip('B', 0.5)\n",
    "    C = pflip('C', 0.5)\n",
    "    condition('D', bool(A + B + C == 3))\n",
    "    return A\n",
    "\n",
    "d = Infer(model, posterior_method='enumerate')\n",
    "viz(d)"
   ]
  },
  {
   "cell_type": "markdown",
   "metadata": {},
   "source": [
    "\n",
    "The output of `Infer` describes appropriate beliefs about the likely value of `A`, conditioned on `D` being equal to 3.\n",
    "\n",
    "Now suppose that we condition on `D` being greater than or equal to 2.  Then `A` need not be 1, but it is more likely than not to be. (Why?) The corresponding plot shows the appropriate distribution of beliefs for `A` conditioned on this new fact:\n"
   ]
  },
  {
   "cell_type": "code",
   "execution_count": 4,
   "metadata": {
    "ExecuteTime": {
     "end_time": "2019-09-10T04:11:07.937663Z",
     "start_time": "2019-09-10T04:11:07.748127Z"
    },
    "scrolled": true
   },
   "outputs": [
    {
     "data": {
      "application/vnd.jupyter.widget-view+json": {
       "model_id": "7b076e48167940d9bc6b601b15651904",
       "version_major": 2,
       "version_minor": 0
      },
      "text/plain": [
       "HBox(children=(IntProgress(value=0, max=1000), HTML(value='')))"
      ]
     },
     "metadata": {},
     "output_type": "display_data"
    },
    {
     "name": "stdout",
     "output_type": "stream",
     "text": [
      "\n"
     ]
    },
    {
     "data": {
      "image/png": "[encoded data removed]",
      "text/plain": [
       "<Figure size 432x288 with 1 Axes>"
      ]
     },
     "metadata": {
      "needs_background": "light"
     },
     "output_type": "display_data"
    }
   ],
   "source": [
    "def model():\n",
    "    A = pflip('A', 0.5)\n",
    "    B = pflip('B', 0.5)\n",
    "    C = pflip('C', 0.5)\n",
    "    condition('D', bool(A + B + C >= 2))\n",
    "    return A\n",
    "\n",
    "d = Infer(model, posterior_method='enumerate')\n",
    "viz(d)"
   ]
  },
  {
   "cell_type": "markdown",
   "metadata": {},
   "source": [
    "Going beyond the basic intuition of \"hypothetical reasoning\", the `Infer` operation in the presence of `condition` can be understood in several, equivalent, ways. We focus on two: the process of *rejection sampling*, and the the mathematical formulation of a *conditional distribution*."
   ]
  },
  {
   "cell_type": "markdown",
   "metadata": {},
   "source": [
    "# Rejection Sampling"
   ]
  },
  {
   "cell_type": "markdown",
   "metadata": {},
   "source": [
    "How can we imagine answering a hypothetical such as those above? We have already seen how to get a sample from a generative model, without constraint, by simply running the evaluation process \"forward\"  (i.e. simulating the process). We can get conditional samples by forward sampling the entire model, but only keeping the sample if the value passed to `condition` is *true*. For instance, to sample from the above model \"A given that D is greater than 2\" we could:"
   ]
  },
  {
   "cell_type": "code",
   "execution_count": 5,
   "metadata": {
    "ExecuteTime": {
     "end_time": "2019-09-10T04:11:08.376675Z",
     "start_time": "2019-09-10T04:11:07.939537Z"
    }
   },
   "outputs": [
    {
     "data": {
      "image/png": "[encoded data removed]",
      "text/plain": [
       "<Figure size 432x288 with 1 Axes>"
      ]
     },
     "metadata": {
      "needs_background": "light"
     },
     "output_type": "display_data"
    }
   ],
   "source": [
    "def conditioned_model_sample():\n",
    "    A = flip(0.5)\n",
    "    B = flip(0.5)\n",
    "    C = flip(0.5)\n",
    "    D = A + B + C\n",
    "    if D >= 2:\n",
    "        return A\n",
    "    return conditioned_model_sample()\n",
    "\n",
    "viz(repeat(conditioned_model_sample, 1000))"
   ]
  },
  {
   "cell_type": "markdown",
   "metadata": {},
   "source": [
    "Notice that we have used a stochastic recursion to sample the model repeatedly until `D >= 2` is `true`, and we then return `A`: we generate and test until the condition is satisfied.\n",
    "This process is known as *rejection sampling*; we can use this technique to make a more general function that implements `Infer`, which we access in PyroWebPPL with the `'rejection'` method:\n"
   ]
  },
  {
   "cell_type": "code",
   "execution_count": 6,
   "metadata": {
    "ExecuteTime": {
     "end_time": "2019-09-10T04:11:08.911566Z",
     "start_time": "2019-09-10T04:11:08.378225Z"
    }
   },
   "outputs": [
    {
     "data": {
      "application/vnd.jupyter.widget-view+json": {
       "model_id": "0e3a259b06ca46ef8ee415fb14a19cfb",
       "version_major": 2,
       "version_minor": 0
      },
      "text/plain": [
       "HBox(children=(IntProgress(value=0), HTML(value='')))"
      ]
     },
     "metadata": {},
     "output_type": "display_data"
    },
    {
     "name": "stdout",
     "output_type": "stream",
     "text": [
      "\n"
     ]
    },
    {
     "data": {
      "image/png": "[encoded data removed]",
      "text/plain": [
       "<Figure size 432x288 with 1 Axes>"
      ]
     },
     "metadata": {
      "needs_background": "light"
     },
     "output_type": "display_data"
    }
   ],
   "source": [
    "d = Infer(model, posterior_method='rejection', num_samples=100)\n",
    "viz(d)"
   ]
  },
  {
   "cell_type": "markdown",
   "metadata": {},
   "source": [
    "## Conditional Distributions"
   ]
  },
  {
   "cell_type": "markdown",
   "metadata": {},
   "source": [
    "The formal definition of *conditional probability* in probability theory is\n",
    "\n",
    "$$ P(A=a \\mid B=b)=\\frac{ P(A=a,B=b)}{P(B=b)} $$\n",
    "\n",
    "Here $P(A=a \\mid B=b)$ is the probability that \"event\" $A$ has value $a$ given that $B$ has value $b$. (The meaning of events $A$ and $B$ must be given elsewhere in this notation, unlike a PyroWebPPL program, which contains the full model specification within the `Infer` call.)\n",
    "The *joint probability*, $P(A=a,B=b)$,  is the probability that $A$ has value $a$ and $B$ has value $b$.\n",
    "So the conditional probability is simply the ratio of the joint probability to the probability of the condition.\n",
    "\n",
    "In the case of a PyroWebPPL `Infer` statement with a `condition`, $A=a$ will be the \"event\" that the return value is $a$, while $B=b$ will be the event that the value passed to condition is `true` (so $b$ is *True*). Because each of these is a regular (unconditional) probability, they and their ratio can often be computed exactly using the rules of probability. In PyroWebPPL the inference method `'enumerate'` attempts to do this calculation (by first enumerating all the possible executions of the model):"
   ]
  },
  {
   "cell_type": "code",
   "execution_count": 7,
   "metadata": {
    "ExecuteTime": {
     "end_time": "2019-09-10T04:11:09.083702Z",
     "start_time": "2019-09-10T04:11:08.913584Z"
    }
   },
   "outputs": [
    {
     "data": {
      "application/vnd.jupyter.widget-view+json": {
       "model_id": "ab8429c064b44caf84bdb808a256aae9",
       "version_major": 2,
       "version_minor": 0
      },
      "text/plain": [
       "HBox(children=(IntProgress(value=0, max=1000), HTML(value='')))"
      ]
     },
     "metadata": {},
     "output_type": "display_data"
    },
    {
     "name": "stdout",
     "output_type": "stream",
     "text": [
      "\n"
     ]
    },
    {
     "data": {
      "image/png": "[encoded data removed]",
      "text/plain": [
       "<Figure size 432x288 with 1 Axes>"
      ]
     },
     "metadata": {
      "needs_background": "light"
     },
     "output_type": "display_data"
    }
   ],
   "source": [
    "d = Infer(model, posterior_method='enumerate', num_samples=1000)\n",
    "viz(d)"
   ]
  },
  {
   "cell_type": "markdown",
   "metadata": {},
   "source": [
    "### Connection to rejection sampling\n",
    "\n",
    "The above notion of conditional distribution in terms of rejection sampling is equivalent to the mathematical definition, when both are well-defined. (There are special cases when only one definition makes sense. For instance, when continuous random choices are used it is possible to find situations where rejection sampling almost never returns a sample but the conditional distribution is still well defined. Why?)\n",
    "\n",
    "Indeed, we can use the process of rejection sampling to understand this alternative definition of the conditional probability $P(A=a \\mid B=b)$. \n",
    "Imagine that we have sampled $N_{total}$ times.\n",
    "We only keep those samples in which the condition is true, say there are $N_{B=True}$ of them.\n",
    "Of these some number $N_{A=a, B=True}$ have the returned value $a$.\n",
    "The ratio \n",
    "\n",
    "$$\\frac{N_{A=a, B=True}}{N_{B=True}} = \\frac{\\frac{N_{A=a, B=True}}{N_{total}}}{\\frac{N_{B=True}}{N_{total}}}$$\n",
    "\n",
    "is the fraction of times that $A=a$ when $B=True$. When the number of samples is very large this converges to $\\frac{P(A=a, B=True)}{P(B=True)}$. Thus the rejection sampling definition of conditional probability implies the above (probability ratio) definition.\n",
    "\n",
    "\n",
    "<!-- FIXME: add a figure with imagined samples to illustrate. -->\n",
    "\n",
    "Try using the formula for conditional probability to compute the probability of the different return values in the above examples. Check that you get the same probability that you observe when using rejection sampling."
   ]
  },
  {
   "cell_type": "markdown",
   "metadata": {},
   "source": [
    "### Bayes Rule\n",
    "\n",
    "One of the most famous rules of probability is *Bayes' rule*, which states:\n",
    "\n",
    "$$P(h \\mid d) = \\frac{P(d \\mid h)P(h)}{P(d)}$$\n",
    "\n",
    "It is first worth noting that this follows immediately from the definition of conditional probability:\n",
    "\n",
    "$$P(h \\mid d) = \\frac{P(d,h)}{P(d)} = \\frac{ P(d, h)P(h) }{ P(d)P(h)} = \\frac{P(d \\mid h)P(h)}{P(d)}$$\n",
    "\n",
    "Next we can ask what this rule means in terms of sampling processes. Consider the program:"
   ]
  },
  {
   "cell_type": "code",
   "execution_count": 8,
   "metadata": {
    "ExecuteTime": {
     "end_time": "2019-09-10T04:11:09.249575Z",
     "start_time": "2019-09-10T04:11:09.085301Z"
    }
   },
   "outputs": [
    {
     "data": {
      "application/vnd.jupyter.widget-view+json": {
       "model_id": "c4d9587ca79b4beba11255a0df308bea",
       "version_major": 2,
       "version_minor": 0
      },
      "text/plain": [
       "HBox(children=(IntProgress(value=0, max=1000), HTML(value='')))"
      ]
     },
     "metadata": {},
     "output_type": "display_data"
    },
    {
     "name": "stdout",
     "output_type": "stream",
     "text": [
      "\n"
     ]
    },
    {
     "data": {
      "image/png": "[encoded data removed]",
      "text/plain": [
       "<Figure size 432x288 with 1 Axes>"
      ]
     },
     "metadata": {
      "needs_background": "light"
     },
     "output_type": "display_data"
    }
   ],
   "source": [
    "observed_data = True\n",
    "prior = lambda: pflip('prior', 0.5)\n",
    "likelihood = lambda h: pflip('h', (0.9 if h else 0.1))\n",
    "\n",
    "def model():\n",
    "    hypothesis = prior()\n",
    "    data = likelihood(hypothesis)\n",
    "    condition('cond', data, observed_data)\n",
    "    return hypothesis\n",
    "\n",
    "posterior = Infer(model)\n",
    "viz(posterior)"
   ]
  },
  {
   "cell_type": "markdown",
   "metadata": {},
   "source": [
    "We have generated a value, the *hypothesis*, from some distribution called the *prior*, then used an observation function `likelihood` which generates data given this hypothesis, the probability of such an observation function is usually called the *likelihood*. Finally we have returned the hypothesis, conditioned on the observation being equal to some observed data---this conditional distribution is called the *posterior*. This is a typical setup in which Bayes' rule is used.\n",
    "\n",
    "Bayes' rule simply says that, in special situations where the model decomposes nicely into a part \"before\" the value to be returned (hypothesis) and a part \"after\" the value to be returned, then the conditional probability can be expressed simply in terms of the prior and likelihood components of the model. This is often a useful way to think about conditional inference in simple settings. However, we will see examples as we go along where Bayes' rule doesn't apply in a simple way, but the conditional distribution is equally well understood in other terms."
   ]
  },
  {
   "cell_type": "markdown",
   "metadata": {},
   "source": [
    "## Other implementations of `Infer`"
   ]
  },
  {
   "cell_type": "markdown",
   "metadata": {},
   "source": [
    "Much of the difficulty of implementing the PyroWebPPL language (or probabilistic models in general) is in finding useful ways to do conditional inference---to implement `Infer`.\n",
    "We have already seen rejection sampling and enumeration, but the AI literature is replete with other algorithms and techniques for dealing with conditional probabilistic inference.\n",
    "Many of these have been adapted into PyroWebPPL to give implementations of `Infer` that may be more efficient in various cases.\n",
    "Switching from one method to another is as simple as changing the options passed to `Infer`. We have already seen two methods: `{method: 'enumerate'}` and `{method: 'rejection', samples: X}`; other methods include `'MCMC'`, `'SMC'`, and `'variational'`.\n",
    "Sometimes we even drop the method argument, asking PyroWebPPL to guess the best inference method (which is can often do).\n",
    "The [Infer documentation](http://docs.webppl.org/en/master/inference/index.html) provides many more usage details.\n",
    "\n",
    "There is an interesting parallel between the `Infer` abstraction, wrapping up the engineering challenge of different inference methods, and the idea of levels of analysis in cognitive science @Marr1982. At the top, or computational level, of analysis we are concerned more with the world knowledge people have and the inferences they license; at the next, algorithmic, level of analysis we are concerned with the details on *how* these inferences are done.\n",
    "In parallel, PyroWebPPL allows us to specify generative knowledge and inference questions, largely abstracting away the methods of inference (they show up only in the options argument to `Infer`, when provided).\n",
    "We will further explore some of the algorithms used in these implementations in [Algorithms for inference](inference-algorithms.html), and ask whether they may be useful algorithmic levels models for human thinking in [Rational process models](process-models.html). For most of this book, however, we work at the computational level, abstracting away from algorithmic details.\n",
    "\n",
    "<!--TODO: add more on the levels of analysis analogy. perhaps in the process models section?-->"
   ]
  },
  {
   "cell_type": "markdown",
   "metadata": {},
   "source": [
    "# Conditions and observations"
   ]
  },
  {
   "cell_type": "markdown",
   "metadata": {},
   "source": [
    "A very common pattern is to condition directly on the value of a sample from some distribution. For instance here we try to recover a true number from a noisy observation of it:"
   ]
  },
  {
   "cell_type": "code",
   "execution_count": null,
   "metadata": {
    "ExecuteTime": {
     "end_time": "2019-09-11T04:17:36.008863Z",
     "start_time": "2019-09-11T04:17:34.735748Z"
    }
   },
   "outputs": [],
   "source": [
    "def conditioned_model():\n",
    "    true_x = dist.Normal(0, 1).sample()\n",
    "    obs_x = pyro.sample('obs_x', dist.Normal(true_x, 0.1))\n",
    "    condition('eq', bool(obs_x==torch.tensor(0.2)))\n",
    "    return true_x\n",
    "\n",
    "# This will keep running until you interrupt the notebook kernel\n",
    "viz(Infer(conditioned_model, posterior_method='rejection', draw_samples=True))"
   ]
  },
  {
   "cell_type": "markdown",
   "metadata": {},
   "source": [
    "\n",
    "You will note that this never finishes. (Why? Think about what rejection sampling tries to do here....)\n",
    "In PyroWebPPL we have a special operator, `observe`, to express the pattern of conditioning on a value sampled directly from a distribution. In addition to being clearer, it also gives the implementation some hints about how to do inference.\n"
   ]
  },
  {
   "cell_type": "code",
   "execution_count": 13,
   "metadata": {
    "ExecuteTime": {
     "end_time": "2019-09-11T04:20:22.313852Z",
     "start_time": "2019-09-11T04:20:21.728767Z"
    }
   },
   "outputs": [
    {
     "data": {
      "image/png": "[encoded data removed]",
      "text/plain": [
       "<Figure size 432x288 with 1 Axes>"
      ]
     },
     "metadata": {
      "needs_background": "light"
     },
     "output_type": "display_data"
    }
   ],
   "source": [
    "# Variant 1: forward inference\n",
    "viz(Infer(conditioned_model, posterior_method='forward', draw_samples=True))"
   ]
  },
  {
   "cell_type": "code",
   "execution_count": 14,
   "metadata": {
    "ExecuteTime": {
     "end_time": "2019-09-11T04:28:33.275294Z",
     "start_time": "2019-09-11T04:28:31.936191Z"
    }
   },
   "outputs": [
    {
     "data": {
      "application/vnd.jupyter.widget-view+json": {
       "model_id": "dcbb4c0e9107485d938ff601c1e0d0c9",
       "version_major": 2,
       "version_minor": 0
      },
      "text/plain": [
       "HBox(children=(IntProgress(value=0, max=1000), HTML(value='')))"
      ]
     },
     "metadata": {},
     "output_type": "display_data"
    },
    {
     "data": {
      "image/png": "[encoded data removed]",
      "text/plain": [
       "<Figure size 432x288 with 1 Axes>"
      ]
     },
     "metadata": {
      "needs_background": "light"
     },
     "output_type": "display_data"
    }
   ],
   "source": [
    "# Variant 2: observe the value\n",
    "def conditioned_model():\n",
    "    true_x = dist.Normal(0, 1).sample()\n",
    "    obs_x = pyro.sample('obs_x', dist.Normal(true_x, 0.1), obs=torch.tensor(0.2))\n",
    "    return true_x\n",
    "\n",
    "viz(Infer(conditioned_model, posterior_method='rejection', draw_samples=True))"
   ]
  },
  {
   "cell_type": "markdown",
   "metadata": {},
   "source": [
    "\n",
    "It is natural and common to condition a generative model on a value for one of the variables declared in this model (i.e. to `observe` its value). However, there are many situations in which we desire the greater expressivity of `condition`; one may wish to ask for more complex hypotheticals: \"what if P,\" where P is a complex proposition composed out of variables declared in the model.\n",
    "Consider the following PyroWebPPL inference:"
   ]
  },
  {
   "cell_type": "code",
   "execution_count": 10,
   "metadata": {
    "ExecuteTime": {
     "end_time": "2019-09-10T04:11:09.976161Z",
     "start_time": "2019-09-10T04:11:09.817829Z"
    }
   },
   "outputs": [
    {
     "data": {
      "application/vnd.jupyter.widget-view+json": {
       "model_id": "4d9606f2f7fa4929945f2ccb1d1818f4",
       "version_major": 2,
       "version_minor": 0
      },
      "text/plain": [
       "HBox(children=(IntProgress(value=0, max=1000), HTML(value='')))"
      ]
     },
     "metadata": {},
     "output_type": "display_data"
    },
    {
     "name": "stdout",
     "output_type": "stream",
     "text": [
      "\n"
     ]
    },
    {
     "data": {
      "image/png": "[encoded data removed]",
      "text/plain": [
       "<Figure size 432x288 with 1 Axes>"
      ]
     },
     "metadata": {
      "needs_background": "light"
     },
     "output_type": "display_data"
    }
   ],
   "source": [
    "def model():\n",
    "    A = pflip('A', 0.5)\n",
    "    B = pflip('B', 0.5)\n",
    "    C = pflip('C', 0.5)\n",
    "    D = int(A + B + C >= 2)\n",
    "    pyro.sample('D', dist.Normal(D, 1e-15))\n",
    "    return A\n",
    "\n",
    "conditioned_model = pyro.condition(model, data={'D': torch.tensor(2)})\n",
    "\n",
    "d = Infer(conditioned_model, posterior_method='enumerate')\n",
    "viz(d)"
   ]
  },
  {
   "cell_type": "markdown",
   "metadata": {},
   "source": [
    "This inference has the same meaning as the earlier example, but the formulation is importantly different. We have directly conditioned on the complex assumption that the sum of these random variables is greater than or equal to 2. This involves a new value or \"random variable\", `A + B + C >= 2` that *did not appear* anywhere in the generative model (the var definitions).\n",
    "We could have instead added a definition `var D = (A + B + C >= 2)` to the generative model and conditioned (or observed) its value.\n",
    "However this intertwines the hypothetical assumption (condition) with the generative model knowledge (definitions), and this is not what we want: we want a simple model which supports many queries, rather than a complex model in which only a prescribed set of queries is allowed.\n",
    "Using `condition` allows the flexibility to build complex random expressions like this as needed, making assumptions that are phrased as complex propositions, rather than simple observations.  Hence the effective number of queries we can construct for most programs will not merely be a large number but countably infinite, much like the sentences in a natural language.  The `Infer` function (in principle, though with variable efficiency) supports correct conditional inference for this infinite array of situations."
   ]
  },
  {
   "cell_type": "markdown",
   "metadata": {},
   "source": [
    "# Factors"
   ]
  },
  {
   "cell_type": "markdown",
   "metadata": {},
   "source": [
    "In PyroWebPPL, `condition` and `observe` are actually special cases of a more general operator: `factor`. Whereas `condition` is like making an assumption that must be true, then `factor` is like making a *soft* assumption that is merely preferred to be true. For instance, suppose we flip a single coin. If we condition on the outcome being heads, then the outcome must be heads: "
   ]
  },
  {
   "cell_type": "code",
   "execution_count": 11,
   "metadata": {
    "ExecuteTime": {
     "end_time": "2019-09-10T04:11:10.140076Z",
     "start_time": "2019-09-10T04:11:09.977966Z"
    },
    "scrolled": false
   },
   "outputs": [
    {
     "data": {
      "application/vnd.jupyter.widget-view+json": {
       "model_id": "ee2fde2eb67e440dac73a09028ffa40a",
       "version_major": 2,
       "version_minor": 0
      },
      "text/plain": [
       "HBox(children=(IntProgress(value=0, max=10000), HTML(value='')))"
      ]
     },
     "metadata": {},
     "output_type": "display_data"
    },
    {
     "name": "stdout",
     "output_type": "stream",
     "text": [
      "\n"
     ]
    },
    {
     "data": {
      "image/png": "[encoded data removed]",
      "text/plain": [
       "<Figure size 432x288 with 1 Axes>"
      ]
     },
     "metadata": {
      "needs_background": "light"
     },
     "output_type": "display_data"
    }
   ],
   "source": [
    "def model():\n",
    "    A = flip()\n",
    "    factor('B', (0 if A else -99999))\n",
    "    return A\n",
    "\n",
    "d = Infer(model, num_samples=int(1e4))\n",
    "viz(d)"
   ]
  },
  {
   "cell_type": "markdown",
   "metadata": {},
   "source": [
    "However, if we swap `condition` for `factor`, we simply make heads more likely:\n"
   ]
  },
  {
   "cell_type": "code",
   "execution_count": 12,
   "metadata": {
    "ExecuteTime": {
     "end_time": "2019-09-10T04:11:10.296056Z",
     "start_time": "2019-09-10T04:11:10.141553Z"
    }
   },
   "outputs": [
    {
     "data": {
      "application/vnd.jupyter.widget-view+json": {
       "model_id": "f59772e873674fc69a4de022c2a215fb",
       "version_major": 2,
       "version_minor": 0
      },
      "text/plain": [
       "HBox(children=(IntProgress(value=0, max=10000), HTML(value='')))"
      ]
     },
     "metadata": {},
     "output_type": "display_data"
    },
    {
     "name": "stdout",
     "output_type": "stream",
     "text": [
      "\n"
     ]
    },
    {
     "data": {
      "image/png": "[encoded data removed]",
      "text/plain": [
       "<Figure size 432x288 with 1 Axes>"
      ]
     },
     "metadata": {
      "needs_background": "light"
     },
     "output_type": "display_data"
    }
   ],
   "source": [
    "def model():\n",
    "    A = pflip('A', 0.5)\n",
    "    factor('B', (0 if A else -1))\n",
    "    return A\n",
    "\n",
    "d = Infer(model, num_samples=int(1e4))\n",
    "viz(d)"
   ]
  },
  {
   "cell_type": "markdown",
   "metadata": {},
   "source": [
    "Technically, `factor(x)` adds `x` to the unnormalized log-probability of the program execution within which it occurs. Thus, to get the new probabilities induced by the `factor` statement we compute the normalizing constant given these log-scores. The resulting probability $P(A=true)$ is:\n",
    "\n",
    "$P(A=true) = \\frac {e^{1}} { (e^{0} + e^{1}) }$\n",
    "\n",
    "Play with this example. Can you revise the example to increase the probability of heads? \n",
    "\n",
    "The `factor` construct is very general. Both `condition` and `observe` can be written easily in terms of `factor`. However models are often clearer when written with the more specialized forms. In machine learning it is common to talk of *directed* and *undirected* generative models; directed models can be thought of as those made from only `sample` and `observe`, while undirected models include `factor` (and often have only factors)."
   ]
  },
  {
   "cell_type": "markdown",
   "metadata": {},
   "source": [
    "# Example: Reasoning about Tug of War"
   ]
  },
  {
   "cell_type": "markdown",
   "metadata": {},
   "source": [
    "Imagine a game of tug of war, where each person may be strong or weak, and may be lazy or not on each match.\n",
    "If a person is lazy they only pull with half their strength.\n",
    "The team that pulls hardest will win.\n",
    "We assume that strength is a continuous property of an individual, and that on any match, each person has a 1 in 3 chance of being lazy.\n",
    "This PyroWebPPL program runs a tournament between several teams, mixing up players across teams.\n",
    "Can you guess who is strong or weak, looking at the tournament results?"
   ]
  },
  {
   "cell_type": "code",
   "execution_count": 13,
   "metadata": {
    "ExecuteTime": {
     "end_time": "2019-09-10T04:11:10.311271Z",
     "start_time": "2019-09-10T04:11:10.298964Z"
    }
   },
   "outputs": [
    {
     "data": {
      "text/plain": [
       "[['alice', 'bob'],\n",
       " ['alice', 'bob'],\n",
       " ['alice', 'sue'],\n",
       " ['alice', 'sue'],\n",
       " ['alice', 'tom'],\n",
       " ['alice', 'tom']]"
      ]
     },
     "execution_count": 13,
     "metadata": {},
     "output_type": "execute_result"
    }
   ],
   "source": [
    "@memoize\n",
    "def strength(person):\n",
    "    return abs(dist.Normal(1, 1).sample())\n",
    "\n",
    "def lazy(person):\n",
    "    return flip(1 / 3.)\n",
    "\n",
    "def pulling(person):\n",
    "    return (strength(person) / 2 if lazy(person) else strength(person))\n",
    "\n",
    "def total_pulling(team):\n",
    "    return sum(map(pulling, team))\n",
    "\n",
    "def winner(team1, team2):\n",
    "    return team1 if (total_pulling(team1) > total_pulling(team2)) else team2\n",
    "\n",
    "[\n",
    "    winner(['alice', 'bob'], ['sue', 'tom']),\n",
    "    winner(['alice', 'bob'], ['sue', 'tom']),\n",
    "    winner(['alice', 'sue'], ['bob', 'tom']),\n",
    "    winner(['alice', 'sue'], ['bob', 'tom']),\n",
    "    winner(['alice', 'tom'], ['bob', 'sue']),\n",
    "    winner(['alice', 'tom'], ['bob', 'sue'])\n",
    "]"
   ]
  },
  {
   "cell_type": "markdown",
   "metadata": {},
   "source": [
    "\n",
    "Notice that `strength` is memoized because this is a property of a person true across many matches, while `lazy` isn't.\n",
    "Each time you run this program, however, a new \"random world\" will be created: people's strengths will be randomly re-generated, then used in all the matches.\n",
    "\n",
    "We can use `Infer` to ask a variety of different questions. For instance, how likely is it that Bob is strong, given that he's been on a series of winning teams? (Note that we have added the helper function `beat` as in \"team1 beat team2\"; this just makes for more compact conditioning statements.)\n",
    "\n"
   ]
  },
  {
   "cell_type": "code",
   "execution_count": 14,
   "metadata": {
    "ExecuteTime": {
     "end_time": "2019-09-10T04:11:21.004992Z",
     "start_time": "2019-09-10T04:11:10.314909Z"
    }
   },
   "outputs": [
    {
     "data": {
      "application/vnd.jupyter.widget-view+json": {
       "model_id": "1e3922c0f1c04d6f9a803b2d723a6cd5",
       "version_major": 2,
       "version_minor": 0
      },
      "text/plain": [
       "HBox(children=(IntProgress(value=0, max=1000), HTML(value='')))"
      ]
     },
     "metadata": {},
     "output_type": "display_data"
    },
    {
     "name": "stdout",
     "output_type": "stream",
     "text": [
      "\n",
      "Expected strength: <built-in method mean of Tensor object at 0x13384a9d8>\n"
     ]
    },
    {
     "data": {
      "image/png": "[encoded data removed]",
      "text/plain": [
       "<Figure size 432x288 with 1 Axes>"
      ]
     },
     "metadata": {
      "needs_background": "light"
     },
     "output_type": "display_data"
    }
   ],
   "source": [
    "def model():\n",
    "    \n",
    "    @memoize\n",
    "    def strength(person):\n",
    "        return pyro.sample(f'strength_{person}', dist.Normal(1, 1)).abs()\n",
    "\n",
    "    def lazy(person): \n",
    "        return flip(1 / 3.)\n",
    "    \n",
    "    def pulling(person): \n",
    "        return strength(person) / 2 if lazy(person) else strength(person)\n",
    "    \n",
    "    def total_pulling(team): \n",
    "        return sum(map(pulling, team))\n",
    "    \n",
    "    def winner(team1, team2): \n",
    "        return team1 if (total_pulling(team1) > total_pulling(team2)) else team2 \n",
    "    \n",
    "    def beat(team1, team2): \n",
    "        return winner(team1, team2) == team1\n",
    "\n",
    "    condition('beats_1', beat(['bob', 'mary'], ['tom', 'sue']))\n",
    "    condition('beats_2', beat(['bob', 'sue'],  ['tom', 'jim']))\n",
    "    return strength('bob')\n",
    "\n",
    "d = Infer(model, posterior_method='rejection', num_samples=1000, draw_samples=True)\n",
    "\n",
    "print('Expected strength: {}'.format(d.mean))\n",
    "viz(d, plot_args={'bins': 50})"
   ]
  },
  {
   "cell_type": "markdown",
   "metadata": {},
   "source": [
    "\n",
    "Try varying the number of different teams and teammates that Bob plays with. How does this change the estimate of Bob's strength?\n",
    "Do these changes agree with your intuitions? Can you modify this example to make laziness a continuous quantity? Can you add a person-specific tendency toward laziness?\n",
    "\n",
    "A model very similar to this was used in @Gerstenberg2012 to predict human judgements about the strength of players in ping-pong tournaments. It achieved very accurate quantitative predictions without many free parameters.\n",
    "\n",
    "<!--TODO: add actual conditions from expt. add actual data here and/or in bda chapter.-->\n",
    "\n",
    "We can form many complex queries from this simple model. We could ask how likely a team of Bob and Mary is to beat a team of Jim and Sue, given that Mary is at least as strong as sue, and Bob beat Jim in a previous direct match up:\n"
   ]
  },
  {
   "cell_type": "code",
   "execution_count": 15,
   "metadata": {
    "ExecuteTime": {
     "end_time": "2019-09-10T04:11:30.195931Z",
     "start_time": "2019-09-10T04:11:21.006977Z"
    },
    "scrolled": false
   },
   "outputs": [
    {
     "data": {
      "application/vnd.jupyter.widget-view+json": {
       "model_id": "95720dff16064684b9cdb7d47b893687",
       "version_major": 2,
       "version_minor": 0
      },
      "text/plain": [
       "HBox(children=(IntProgress(value=0, max=1000), HTML(value='')))"
      ]
     },
     "metadata": {},
     "output_type": "display_data"
    },
    {
     "name": "stdout",
     "output_type": "stream",
     "text": [
      "\n",
      "Expectation of first team winning: 0.9160000085830688\n"
     ]
    },
    {
     "data": {
      "image/png": "[encoded data removed]",
      "text/plain": [
       "<Figure size 432x288 with 1 Axes>"
      ]
     },
     "metadata": {
      "needs_background": "light"
     },
     "output_type": "display_data"
    }
   ],
   "source": [
    "def model():\n",
    "\n",
    "    @memoize\n",
    "    def strength(person):\n",
    "        return pyro.sample(f'strength_{person}', dist.Normal(1, 1)).abs()\n",
    "\n",
    "    def lazy(person): \n",
    "        return flip(1 / 3.)\n",
    "    \n",
    "    def pulling(person): \n",
    "        return strength(person) / 2 if lazy(person) else strength(person)\n",
    "    \n",
    "    def total_pulling(team): \n",
    "        return sum(map(pulling, team))\n",
    "    \n",
    "    def winner(team1, team2): \n",
    "        return team1 if (total_pulling(team1) > total_pulling(team2)) else team2 \n",
    "    \n",
    "    def beat(team1, team2): \n",
    "        return torch.tensor(winner(team1, team2) == team1, dtype=torch.float)\n",
    "\n",
    "    condition('stronger', bool(strength('mary') >= strength('sue')))\n",
    "    condition('beats', beat(['bob'], ['jim']))\n",
    "    return beat(['bob', 'mary'], ['jim', 'sue'])\n",
    "\n",
    "\n",
    "# d = Infer(model, posterior_method='rejection', marginal_method='hash', num_samples=1000)\n",
    "d = Infer(model, posterior_method='rejection', num_samples=1000)\n",
    "\n",
    "support = list(d.enumerate_support())  #.tolist()\n",
    "m = sum(support) / len(support)\n",
    "\n",
    "print('Expectation of first team winning: {}'.format(m))\n",
    "viz(d)"
   ]
  },
  {
   "cell_type": "markdown",
   "metadata": {
    "ExecuteTime": {
     "end_time": "2019-08-02T05:03:52.515255Z",
     "start_time": "2019-08-02T05:03:42.271853Z"
    }
   },
   "source": [
    "hidden: doing these jointly in a single model with pyro.condition. there must be a better way to do this.\n",
    "\n",
    "<!--\n",
    "def model():\n",
    "    \n",
    "    @memoize\n",
    "    def strength(person):\n",
    "        return pyro.sample(f'strength_{person}', dist.Normal(1, 1)).abs()\n",
    "\n",
    "    def lazy(person): \n",
    "        return flip(1 / 3.)\n",
    "    \n",
    "    def pulling(person): \n",
    "        return strength(person) / 2 if lazy(person) else strength(person)\n",
    "    \n",
    "    def total_pulling(team): \n",
    "        return sum(map(pulling, team))\n",
    "    \n",
    "    def winner(team1, team2): \n",
    "        return team1 if (total_pulling(team1) > total_pulling(team2)) else team2 \n",
    "    \n",
    "    def beat(team1, team2): \n",
    "        return torch.tensor(winner(team1, team2) == team1, dtype=torch.float)  #winner(team1, team2) == team1\n",
    "\n",
    "    cond_var('beats_1', beat(['bob', 'mary'], ['tom', 'sue']))\n",
    "    cond_var('beats_2', beat(['bob', 'sue'],  ['tom', 'jim']))\n",
    "    cond_var('stronger', torch.tensor(strength('mary') >= strength('sue'), dtype=torch.float))\n",
    "    cond_var('beats', beat(['bob'], ['jim']))\n",
    "    \n",
    "    return strength('bob'), beat(['bob', 'mary'], ['jim', 'sue'])\n",
    "\n",
    "\n",
    "conditioned_model = pyro.condition(lambda: model()[0], \n",
    "                                   data={'beats_1': torch.tensor(1), \n",
    "                                         'beats_2': torch.tensor(1)})\n",
    "d = Infer(conditioned_model, posterior_method='rejection', num_samples=1000)\n",
    "print('Expected strength: {}'.format(d.mean))\n",
    "viz(d, plot_args={'bins': 30})\n",
    "\n",
    "\n",
    "conditioned_model = pyro.condition(lambda: model()[1], \n",
    "                                   data={'stronger': torch.tensor(1), \n",
    "                                         'beats': torch.tensor(1)})\n",
    "d = Infer(conditioned_model, posterior_method='rejection', num_samples=1000)\n",
    "viz(d, plot_args={'bins': 30})\n",
    "\n",
    "-->"
   ]
  },
  {
   "cell_type": "markdown",
   "metadata": {},
   "source": [
    "# Example: Causal Inference in Medical Diagnosis"
   ]
  },
  {
   "cell_type": "markdown",
   "metadata": {},
   "source": [
    "\n",
    "This classic Bayesian inference task is a special case of conditioning. Kahneman and Tversky, and Gigerenzer and colleagues, have studied how people make simple judgments like the following:\n",
    "\n",
    "> The probability of breast cancer is 1% for a woman at 40 who participates in a routine screening. If a woman has breast cancer, the probability is 80% that she will have a positive mammography. If a woman does not have breast cancer, the probability is 9.6% that she will also have a positive mammography. A woman in this age group had a positive mammography in a routine screening. What is the probability that she actually has breast cancer?\n",
    "\n",
    "What is your intuition? Many people without training in statistical inference judge the probability to be rather high, typically between 0.7 and 0.9. The correct answer is much lower, less than 0.1, as we can see by running this PyroWebPPL inference:"
   ]
  },
  {
   "cell_type": "code",
   "execution_count": 16,
   "metadata": {
    "ExecuteTime": {
     "end_time": "2019-09-10T04:11:30.372535Z",
     "start_time": "2019-09-10T04:11:30.197464Z"
    },
    "scrolled": true
   },
   "outputs": [
    {
     "data": {
      "application/vnd.jupyter.widget-view+json": {
       "model_id": "4028d4a753fa4ad0a6c8a9814b62c8d7",
       "version_major": 2,
       "version_minor": 0
      },
      "text/plain": [
       "HBox(children=(IntProgress(value=0, max=1000), HTML(value='')))"
      ]
     },
     "metadata": {},
     "output_type": "display_data"
    },
    {
     "name": "stdout",
     "output_type": "stream",
     "text": [
      "\n"
     ]
    },
    {
     "data": {
      "image/png": "[encoded data removed]",
      "text/plain": [
       "<Figure size 432x288 with 1 Axes>"
      ]
     },
     "metadata": {
      "needs_background": "light"
     },
     "output_type": "display_data"
    }
   ],
   "source": [
    "def model():\n",
    "    breast_cancer = pflip('breast_cancer', 0.01)\n",
    "    pm_prob = 0.8 if breast_cancer else 0.096\n",
    "    positive_mammogram = pflip('positive_mammogram', pm_prob)\n",
    "    condition('p', positive_mammogram)\n",
    "    return breast_cancer\n",
    "   \n",
    "d = Infer(model, posterior_method='enumerate', num_samples=1000)\n",
    "viz(d, title='Breast Cancer')"
   ]
  },
  {
   "cell_type": "markdown",
   "metadata": {},
   "source": [
    "\n",
    "@Tversky1974 named this kind of judgment error *base rate neglect*, because in order to make the correct judgment, one must realize that the key contrast is between the *base rate* of the disease, 0.01 in this case, and the *false alarm rate* or probability of a positive mammogram given no breast cancer, 0.096.  The false alarm rate (or *FAR* for short) seems low compared to the probability of a positive mammogram given breast cancer (the *likelihood*), but what matters is that it is almost ten times higher than the base rate of the disease.  All three of these quantities are needed to compute the probability of having breast cancer given a positive mammogram using Bayes' rule for posterior conditional probability:\n",
    "\n",
    "$$P(\\text{cancer} \\mid \\text{positive mammogram}) = \\frac{P(\\text{positive mammogram} \\mid \\text{cancer} ) \\times P(\\text{cancer})}{P(\\text{ positive mammogram})}$$\n",
    "\n",
    "$$= \\frac{0.8 \\times 0.01}{0.8 \\times 0.01 + 0.096 \\times 0.99} = 0.078$$\n",
    "\n",
    "@Gigerenzer1995 showed that this kind of judgment can be made much more intuitive to untrained reasoners if the relevant probabilities are presented as \"natural frequencies\", or the sizes of subsets of relevant possible outcomes:\n",
    "\n",
    "> On average, ten out of every 1000 women at age 40 who come in for a routine screen have breast cancer.  Eight out of those ten women will get a positive mammography.  Of the 990 women without breast cancer, 95 will also get a positive mammography. We assembled a sample of 1000 women at age 40 who participated in a routine screening.  How many of those who got a positive mammography do you expect to actually have breast cancer?\n",
    "\n",
    "Now one can practically read off the answer from the problem formulation: 8 out of 103 (95+8) women in this situation will have breast cancer.\n",
    "\n",
    "Gigerenzer (along with Cosmides, Tooby and other colleagues) has argued that this formulation is easier because of evolutionary and computational considerations: human minds have evolved to count and compare natural frequencies of discrete events in the world, not to add, multiply and divide decimal probabilities.  But this argument alone cannot account for the very broad human capacity for causal reasoning.  We routinely make inferences for which we haven't stored up sufficient frequencies of events observed *in the world.* (And often for which no one has told us the relevant frequencies, although perhaps we have been told about degrees of causal strength or base rates in the form of probabilities or other linguistic encoding).\n",
    "\n",
    "However, the basic idea that the mind is good at manipulating frequencies of situations, but bad at arithmetic on continuous probability values, can be extended to cope with novel situations if the frequencies that are manipulated can be frequencies of *imagined* situations. Recall that probabilistic programs explicitly give instructions for sampling imagined situations, and only implicitly specify probability distributions. If human inference is similar to a PyroWebPPL inference then it would readily create and manipulate imagined situations, and this could explain both why the frequency framing of Bayesian probability judgment is natural to people and how people cope with rarer and more novel situations.  The numbers given in the frequency formulation (or close approximations thereof) can be read off a tree of evaluation histories for 1000 calls of the PyroWebPPL program that specifies the causal model for this problem:\n",
    "\n",
    "TODO: image <br>\n",
    "TODO: image <br>\n",
    "TODO: image <br>\n",
    "TODO: image <br>\n",
    "TODO: image <br>\n",
    "TODO: image <br>\n",
    "\n",
    "Each path from root to leaf of this tree represents a sequence of random choices made in evaluating the above program (the first flip for breast-cancer, the second for positive-mammogram), with the number of traversals and the sampled value labeling each edge. (Because this is 1000 *random* samples, the number are close (but not exactly) those in the Gigerenzer, et al, story.) Selecting just the 106 hypothetical cases of women with a positive mammogram, and computing the fraction of those who also have breast cancer (7/106), corresponds exactly to `Infer({method: 'rejection'})`. Thus, we have used the causal representation in the above program to manufacture frequencies which can be used to arrive at the inference that relatively few women with positive mammograms actually have breast cancer.\n",
    "\n",
    "Yet unlike the rejection sampler people are quite bad at reasoning in this scenario. Why? One answer is that people don't represent their knowledge in quite the form of this simple program.\n",
    "Indeed, @Krynski2007 have argued that human statistical judgment is fundamentally based on conditioning more explicit causal models:  they suggested that \"base rate neglect\" and other judgment errors may occur when people are given statistical information that cannot be easily mapped to the parameters of the causal models they intuitively adopt to describe the situation.  In the above example, they suggested that the notion of a false alarm rate is not intuitive to many people---particularly when the false alarm rate is ten times higher than the base rate of the disease that the test is intended to diagnose!  They showed that \"base rate neglect\" could be eliminated by reformulating the breast cancer problem in terms of more intuitive causal models.  For example, consider their version of the breast cancer problem (the exact numbers and wording differed slightly):\n",
    "\n",
    "> 1% of women at age 40 who participate in a routine screening will have breast cancer.  Of those with breast cancer, 80% will receive a positive mammogram.  20% of women at age 40 who participate in a routine screening will have a benign cyst.  Of those with a benign cyst, 50% will receive a positive mammogram due to unusually dense tissue of the cyst.  All others will receive a negative mammogram.  Suppose that a woman in this age group has a positive mammography in a routine screening. What is the probability that she actually has breast cancer?\n",
    "\n",
    "This question is easy for people to answer---empirically, just as easy as the frequency-based formulation given above.  We may conjecture this is because the relevant frequencies can be computed from a simple inference on the following more intuitive causal model:\n"
   ]
  },
  {
   "cell_type": "code",
   "execution_count": 17,
   "metadata": {
    "ExecuteTime": {
     "end_time": "2019-09-10T04:11:30.546313Z",
     "start_time": "2019-09-10T04:11:30.374181Z"
    }
   },
   "outputs": [
    {
     "data": {
      "application/vnd.jupyter.widget-view+json": {
       "model_id": "db3f49865fa544d795602e22ed1aa8a1",
       "version_major": 2,
       "version_minor": 0
      },
      "text/plain": [
       "HBox(children=(IntProgress(value=0, max=1000), HTML(value='')))"
      ]
     },
     "metadata": {},
     "output_type": "display_data"
    },
    {
     "name": "stdout",
     "output_type": "stream",
     "text": [
      "\n"
     ]
    },
    {
     "data": {
      "image/png": "[encoded data removed]",
      "text/plain": [
       "<Figure size 432x288 with 1 Axes>"
      ]
     },
     "metadata": {
      "needs_background": "light"
     },
     "output_type": "display_data"
    }
   ],
   "source": [
    "def model():\n",
    "    breast_cancer = pflip('breast_cancer', 0.01)\n",
    "    benign_cyst = pflip('benign_cyst', 0.2)\n",
    "    pm_prob = ((breast_cancer and pflip('bc2', 0.8)) or \n",
    "               (benign_cyst and pflip('bc1', 0.5)))\n",
    "    \n",
    "    positive_mammogram = pflip('positive_mammogram', pm_prob)\n",
    "    condition('p', positive_mammogram)\n",
    "    return breast_cancer\n",
    "   \n",
    "d = Infer(model, posterior_method='enumerate', num_samples=1000)\n",
    "viz(d, title='Breast Cancer')"
   ]
  },
  {
   "cell_type": "markdown",
   "metadata": {},
   "source": [
    "\n",
    "Because this causal model---this PyroWebPPL program---is more intuitive to people, they can imagine the appropriate situations, despite having been given percentages rather than frequencies.\n",
    "What makes this causal model more intuitive than the one above with an explicitly specified false alarm rate?  Essentially we have replaced probabilistic dependencies on the \"non-occurrence\" of events (e.g., the dependence of a positive mammogram on *not* having breast cancer) with dependencies on explicitly specified alternative causes for observed effects (e.g., the dependence of a positive mammogram on having a benign cyst).\n",
    "\n",
    "A causal model framed in this way can scale up to significantly more complex situations.  Recall our more elaborate medical diagnosis network from the previous section, which was also framed in this way using noisy-logical functions to describe the dependence of symptoms on disease:\n"
   ]
  },
  {
   "cell_type": "code",
   "execution_count": 18,
   "metadata": {
    "ExecuteTime": {
     "end_time": "2019-09-10T04:11:49.276081Z",
     "start_time": "2019-09-10T04:11:30.547977Z"
    }
   },
   "outputs": [
    {
     "data": {
      "application/vnd.jupyter.widget-view+json": {
       "model_id": "c6c89a4cbdbf4a72a844ed252da5b015",
       "version_major": 2,
       "version_minor": 0
      },
      "text/plain": [
       "HBox(children=(IntProgress(value=0, max=3000), HTML(value='')))"
      ]
     },
     "metadata": {},
     "output_type": "display_data"
    },
    {
     "name": "stdout",
     "output_type": "stream",
     "text": [
      "\n"
     ]
    },
    {
     "data": {
      "application/vnd.jupyter.widget-view+json": {
       "model_id": "653902e9c6cb4ccd98f62f75e927db58",
       "version_major": 2,
       "version_minor": 0
      },
      "text/plain": [
       "HBox(children=(IntProgress(value=0, max=3000), HTML(value='')))"
      ]
     },
     "metadata": {},
     "output_type": "display_data"
    },
    {
     "name": "stdout",
     "output_type": "stream",
     "text": [
      "\n"
     ]
    },
    {
     "data": {
      "image/png": "[encoded data removed]",
      "text/plain": [
       "<Figure size 432x288 with 1 Axes>"
      ]
     },
     "metadata": {
      "needs_background": "light"
     },
     "output_type": "display_data"
    },
    {
     "data": {
      "image/png": "[encoded data removed]",
      "text/plain": [
       "<Figure size 432x288 with 1 Axes>"
      ]
     },
     "metadata": {
      "needs_background": "light"
     },
     "output_type": "display_data"
    }
   ],
   "source": [
    "def model():\n",
    "    lung_cancer = pflip('lung_cancer', 0.01)\n",
    "    tb = pflip('tb', 0.005)\n",
    "    cold = pflip('cold', 0.2)\n",
    "    stomach_flu = pflip('stomach_flu', 0.1)\n",
    "    other = pflip('other', 0.1)\n",
    "\n",
    "    cough = ((cold and pflip('cold-cough', 0.5)) or\n",
    "             (lung_cancer and pflip('lung_cancer-cough', 0.3)) or\n",
    "             (tb and pflip('tb-cough', 0.7)) or\n",
    "             (other and pflip('other-cough', 0.01)))\n",
    "\n",
    "    fever = ((cold and pflip('cold-fever', 0.3)) or\n",
    "             (stomach_flu and pflip('stomach_flu-fever', 0.5)) or\n",
    "             (tb and pflip('tb-fever', 0.2)) or\n",
    "             (other and pflip('other-fever', 0.01)))\n",
    "\n",
    "    chest_pain = ((lung_cancer and pflip('lung_cancer-chest_pain', 0.4)) or\n",
    "                  (tb and pflip('tb-chest_pain', 0.5)) or\n",
    "                  (other and pflip('other-chest_pain', 0.01)))\n",
    "\n",
    "    shortness_of_breath = ((lung_cancer and pflip('lung_cancer-breath', 0.4)) or\n",
    "                           (tb and pflip('tb-breath', 0.5)) or\n",
    "                           (other and pflip('other-breath', 0.01)))\n",
    "\n",
    "    condition('symptoms', cough and fever and chest_pain and shortness_of_breath)\n",
    "    return lung_cancer, tb\n",
    "\n",
    "d_cancer = Infer(lambda: model()[0], posterior_method='enumerate', num_samples=3000)\n",
    "d_tb = Infer(lambda: model()[1], posterior_method='enumerate', num_samples=3000)\n",
    "\n",
    "viz(d_cancer, title='Lung Cancer')\n",
    "viz(d_tb, title='TB')"
   ]
  },
  {
   "cell_type": "markdown",
   "metadata": {},
   "source": [
    "\n",
    "You can use this model to infer conditional probabilities for any subset of diseases conditioned on any pattern of symptoms.  Try varying the symptoms in the conditioning set or the diseases in the inference, and see how the model's inferences compare with your intuitions.  For example, what happens to inferences about lung cancer and TB in the above model if you remove chest pain and shortness of breath as symptoms?  (Why?  Consider the alternative explanations.)  More generally, we can condition on any set of events -- any combination of symptoms and diseases -- and query any others.  We can also condition on the negation of an event (using the JavaScript negation operator `!`): how does the probability of lung cancer (versus TB) change if we observe that the patient does *not* have a fever (i.e. `condition(!fever)`), does *not* have a cough, or does not have either symptom?\n",
    "\n",
    "As we discussed above, PyroWebPPL program thus effectively encodes the answers to a very large number of possible questions in a very compact form.  In the program above, there are $$3^9=19683$$ possible simple conditions corresponding to conjunctions of events or their negations (because the program has 9 stochastic Boolean-valued functions, each of which can be observed true, observed false, or not observed). Then for each of those conditions there are a roughly comparable number of queries, corresponding to all the possible conjunctions of variables that can be in the return value expression. This makes the total number of simple questions encoded on the order of 100 million. We are beginning to see the sense in which probabilistic programming provides the foundations for constructing a *language of thought*, as described in the Introduction: a finite system of knowledge that compactly and efficiently supports an infinite number of inference and decision tasks.\n",
    "\n",
    "Expressing our knowledge as a probabilistic program of this form also makes it easy to add in new relevant knowledge we may acquire, without altering or interfering with what we already know.  For instance, suppose we decide to consider behavioral and demographic factors that might contribute causally to whether a patient has a given disease:\n"
   ]
  },
  {
   "cell_type": "code",
   "execution_count": 19,
   "metadata": {
    "ExecuteTime": {
     "end_time": "2019-09-10T04:12:05.142445Z",
     "start_time": "2019-09-10T04:11:49.277542Z"
    }
   },
   "outputs": [
    {
     "data": {
      "application/vnd.jupyter.widget-view+json": {
       "model_id": "e85ff00b978346b78c1e452662aa027e",
       "version_major": 2,
       "version_minor": 0
      },
      "text/plain": [
       "HBox(children=(IntProgress(value=0, max=1000), HTML(value='')))"
      ]
     },
     "metadata": {},
     "output_type": "display_data"
    },
    {
     "name": "stdout",
     "output_type": "stream",
     "text": [
      "\n"
     ]
    },
    {
     "data": {
      "application/vnd.jupyter.widget-view+json": {
       "model_id": "a2864e1f521c4028b0782c015a4ec80f",
       "version_major": 2,
       "version_minor": 0
      },
      "text/plain": [
       "HBox(children=(IntProgress(value=0, max=1000), HTML(value='')))"
      ]
     },
     "metadata": {},
     "output_type": "display_data"
    },
    {
     "name": "stdout",
     "output_type": "stream",
     "text": [
      "\n"
     ]
    },
    {
     "data": {
      "image/png": "[encoded data removed]",
      "text/plain": [
       "<Figure size 432x288 with 1 Axes>"
      ]
     },
     "metadata": {
      "needs_background": "light"
     },
     "output_type": "display_data"
    },
    {
     "data": {
      "image/png": "[encoded data removed]",
      "text/plain": [
       "<Figure size 432x288 with 1 Axes>"
      ]
     },
     "metadata": {
      "needs_background": "light"
     },
     "output_type": "display_data"
    }
   ],
   "source": [
    "def model():\n",
    "    works_in_hospital = pflip('hospital', 0.01)\n",
    "    smokes = pflip('smokes', 0.2)\n",
    "    \n",
    "    lung_cancer = (pflip('lung_cancer', 0.01) or \n",
    "                   (smokes and pflip('hospital-lung_cancer', 0.01)))\n",
    "    tb = (pflip('tb', 0.005) or \n",
    "          (works_in_hospital and pflip('hospital-tb', 0.01)))\n",
    "    cold = (pflip('cold', 0.2) or \n",
    "            (works_in_hospital and pflip('hospital-cold', 0.25)))\n",
    "    stomach_flu = pflip('stomach_flu', 0.1)\n",
    "    other = pflip('other', 0.1)\n",
    "\n",
    "    cough = ((cold and pflip('cold-cough', 0.5)) or\n",
    "             (lung_cancer and pflip('lung_cancer-cough', 0.3)) or\n",
    "             (tb and pflip('tb-cough', 0.7)) or\n",
    "             (other and pflip('other-cough', 0.01)))\n",
    "\n",
    "    fever = ((cold and pflip('cold-fever', 0.3)) or\n",
    "             (stomach_flu and pflip('stomach_flu-fever', 0.5)) or\n",
    "             (tb and pflip('tb-fever', 0.2)) or\n",
    "             (other and pflip('other-fever', 0.01)))\n",
    "\n",
    "    chest_pain = ((lung_cancer and pflip('lung_cancer-chest_pain', 0.4)) or\n",
    "                  (tb and pflip('tb-chest_pain', 0.5)) or\n",
    "                  (other and pflip('other-chest_pain', 0.01)))\n",
    "\n",
    "    shortness_of_breath = ((lung_cancer and pflip('lung_cancer-breath', 0.4)) or\n",
    "                           (tb and pflip('tb-breath', 0.5)) or\n",
    "                           (other and pflip('other-breath', 0.01)))\n",
    "\n",
    "\n",
    "    condition('symptoms', cough and chest_pain and shortness_of_breath)\n",
    "    return lung_cancer, tb\n",
    "\n",
    "\n",
    "d_cancer = Infer(\n",
    "    lambda: model()[0], \n",
    "    posterior_method='enumerate', \n",
    "    posterior_kwargs={'method': 'DFS'}, \n",
    "    num_samples=1000\n",
    ")\n",
    "d_tb = Infer(\n",
    "    lambda: model()[1], \n",
    "    posterior_method='enumerate', \n",
    "    posterior_kwargs={'method': 'DFS'}, \n",
    "    num_samples=1000\n",
    ")\n",
    "\n",
    "viz(d_cancer, title='Lung Cancer')\n",
    "viz(d_tb, title='TB')"
   ]
  },
  {
   "cell_type": "markdown",
   "metadata": {},
   "source": [
    "\n",
    "Under this model, a patient with coughing, chest pain and shortness of breath is likely to have either lung cancer or TB.  Modify the above code to see how these conditional inferences shift if you also know that the patient smokes or works in a hospital (where they could be exposed to various infections, including many worse infections than the typical person encounters).  More generally, the causal structure of knowledge representation in a probabilistic program allows us to model intuitive theories that can grow in complexity continually over a lifetime, adding new knowledge without bound.\n"
   ]
  },
  {
   "cell_type": "markdown",
   "metadata": {
    "ExecuteTime": {
     "end_time": "2019-07-10T02:24:51.205512Z",
     "start_time": "2019-07-10T02:24:51.202789Z"
    }
   },
   "source": [
    "# Example: Inverse intuitive physics\n",
    "\n",
    "TODO: physics sim\n",
    "\n",
    "\n",
    "<!--\n",
    "\n",
    "```\n",
    "# makes a floor with evenly spaced buckets\n",
    "def bins(xmin, xmax, width):\n",
    "    if (xmax < xmin + width):  # floor\n",
    "        return {'shape': 'rect', 'static': true, 'dims': [400, 10], 'x': 175, 'y': 500}\n",
    "    return [{'shape': 'rect', 'static': true, dims: [1, 10], x: xmin, y: 490}] \\\n",
    "            .concat(bins(xmin + width, xmax, width))   # bins\n",
    "\n",
    "# add two fixed circles\n",
    "world = [\n",
    "    {shape: 'circle', static: true, dims: [60], x: 60, y: 200},\n",
    "    {shape: 'circle', static: true, dims: [30], x: 300, y: 300}\n",
    "].concat(bins(-1000, 1000, 25))\n",
    "\n",
    "randomBlock = function () {\n",
    "  return {shape: 'circle', static: false, dims: [10], x: uniform(0, worldWidth), y: 0}\n",
    "}\n",
    "\n",
    "```\n",
    "\n",
    "\n",
    "```\n",
    "# makes a floor with evenly spaced buckets\n",
    "def bins(xmin, xmax, width):\n",
    "    if (xmax < xmin + width):  # floor\n",
    "        return {'shape': 'rect', 'static': true, 'dims': [400, 10], 'x': 175, 'y': 500}\n",
    "    return [{'shape': 'rect', 'static': true, dims: [1, 10], x: xmin, y: 490}] \\\n",
    "            .concat(bins(xmin + width, xmax, width))   # bins\n",
    "\n",
    "# add two fixed circles\n",
    "world = [\n",
    "    {shape: 'circle', static: true, dims: [60], x: 60, y: 200},\n",
    "    {shape: 'circle', static: true, dims: [30], x: 300, y: 300}\n",
    "].concat(bins(-1000, 1000, 25))\n",
    "\n",
    "randomBlock = function () {\n",
    "  return {shape: 'circle', static: false, dims: [10], x: uniform(0, worldWidth), y: 0}\n",
    "}\n",
    "\n",
    "getBallX = function(world) {\n",
    "  ball = filter(function(obj) { return !obj.static }, world)[0];\n",
    "  return ball.x;\n",
    "}\n",
    "\n",
    "observedX = 160;\n",
    "\n",
    "model = function() {\n",
    "  initState = world.concat([randomBlock()])\n",
    "  initX = getBallX(initState);\n",
    "  finalState = physics.run(1000, initState);\n",
    "  finalX = getBallX(finalState);\n",
    "  observe(Gaussian({mu: finalX, sigma: 10}), observedX)\n",
    "  return {initX: initX}\n",
    "}\n",
    "\n",
    "initialXDist = Infer(\n",
    "  {method: 'MCMC',\n",
    "   samples: 100,\n",
    "   lag: 10,\n",
    "   callbacks: [editor.MCMCProgress()]\n",
    "  },\n",
    "  model);\n",
    "\n",
    "viz.density(initialXDist, {bounds: [0,350]})\n",
    "```\n",
    "-->"
   ]
  },
  {
   "cell_type": "code",
   "execution_count": null,
   "metadata": {},
   "outputs": [],
   "source": []
  }
 ],
 "metadata": {
  "kernelspec": {
   "display_name": "Python 3",
   "language": "python",
   "name": "python3"
  },
  "language_info": {
   "codemirror_mode": {
    "name": "ipython",
    "version": 3
   },
   "file_extension": ".py",
   "mimetype": "text/x-python",
   "name": "python",
   "nbconvert_exporter": "python",
   "pygments_lexer": "ipython3",
   "version": "3.7.1"
  },
  "toc": {
   "base_numbering": 1,
   "nav_menu": {},
   "number_sections": true,
   "sideBar": true,
   "skip_h1_title": false,
   "title_cell": "Table of Contents",
   "title_sidebar": "Contents",
   "toc_cell": false,
   "toc_position": {},
   "toc_section_display": true,
   "toc_window_display": false
  },
  "varInspector": {
   "cols": {
    "lenName": 16,
    "lenType": 16,
    "lenVar": 40
   },
   "kernels_config": {
    "python": {
     "delete_cmd_postfix": "",
     "delete_cmd_prefix": "del ",
     "library": "var_list.py",
     "varRefreshCmd": "print(var_dic_list())"
    },
    "r": {
     "delete_cmd_postfix": ") ",
     "delete_cmd_prefix": "rm(",
     "library": "var_list.r",
     "varRefreshCmd": "cat(var_dic_list()) "
    }
   },
   "types_to_exclude": [
    "module",
    "function",
    "builtin_function_or_method",
    "instance",
    "_Feature"
   ],
   "window_display": false
  }
 },
 "nbformat": 4,
 "nbformat_minor": 2
}
