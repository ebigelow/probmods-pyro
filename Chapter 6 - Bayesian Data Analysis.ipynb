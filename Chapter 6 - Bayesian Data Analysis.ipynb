{
 "cells": [
  {
   "cell_type": "markdown",
   "metadata": {},
   "source": [
    "## TODO\n",
    "\n",
    "- [ ] test & update code\n",
    "- [ ] new viz methods\n",
    "- [ ] `expectation(..)`\n",
    "- [ ] `observe(..)`\n",
    "- [ ] `Infer` options:\n",
    "    - [ ] `enumerate`\n",
    "    - [ ] `forward`\n",
    "    - [ ] `MCMC`\n",
    "    - [ ] `rejection`\n",
    "\n",
    "- [ ] replace WebPPL refs with Pyro"
   ]
  },
  {
   "cell_type": "markdown",
   "metadata": {
    "heading_collapsed": true
   },
   "source": [
    "## Setup"
   ]
  },
  {
   "cell_type": "code",
   "execution_count": 4,
   "metadata": {
    "ExecuteTime": {
     "end_time": "2019-07-22T05:59:50.133637Z",
     "start_time": "2019-07-22T05:59:49.605930Z"
    },
    "hidden": true
   },
   "outputs": [],
   "source": [
    "%matplotlib inline\n",
    "import matplotlib.pyplot as plt\n",
    "import numpy as np\n",
    "\n",
    "import torch\n",
    "import pyro\n",
    "import pyro.distributions as dist\n",
    "\n",
    "import functools"
   ]
  },
  {
   "cell_type": "code",
   "execution_count": 5,
   "metadata": {
    "ExecuteTime": {
     "end_time": "2019-07-22T05:59:50.156531Z",
     "start_time": "2019-07-22T05:59:50.144827Z"
    },
    "hidden": true
   },
   "outputs": [],
   "source": [
    "def flip(p=0.5):\n",
    "    return torch.distributions.Bernoulli(p).sample()\n",
    "\n",
    "def pflip(p=0.5, var='flip'):\n",
    "    return pyro.sample(var, dist.Bernoulli(p))\n",
    "\n",
    "def repeat(f, n):\n",
    "    return [f() for _ in range(n)]\n",
    "\n",
    "def memoize(fn=None, **kwargs):\n",
    "    if fn is None:\n",
    "        return lambda _fn: memoize(_fn, **kwargs)\n",
    "    return functools.lru_cache(**kwargs)(fn)\n",
    "\n",
    "def viz(data, to_type=(lambda v: v), plot_args={}):\n",
    "    # Histogram\n",
    "    if type(data) in (list, torch.Tensor):\n",
    "        data = [to_type(d) for d in data]\n",
    "        plt.hist(data, weights=np.ones(len(data))/float(len(data)), **plot_args)\n",
    "    \n",
    "    if isinstance(data, pyro.distributions.Distribution):\n",
    "        d = {to_type(s): float(data.log_prob(s).exp()) for s in data.enumerate_support()}\n",
    "        plt.bar(*zip(*d.items()))\n",
    "        \n",
    "    plt.show()\n",
    "    \n",
    "def Infer(model, num_samples=1000):\n",
    "    posterior = pyro.infer.Importance(model, num_samples=num_samples)\n",
    "    marginal = pyro.infer.EmpiricalMarginal(posterior.run())\n",
    "    samples = marginal.sample(torch.Size([num_samples]))\n",
    "    return samples\n",
    "\n",
    "\n",
    "def factor(name, value):\n",
    "    \"\"\"Like factor in webPPL, adds a scalar weight to the log-probability of the trace.\"\"\"\n",
    "    value = value if torch.is_tensor(value) else torch.Tensor([value])\n",
    "    d = dist.Bernoulli(logits=value)\n",
    "    pyro.sample(name, d, obs=torch.ones((value.size() or 1)))\n",
    "    \n",
    "def condition(name, cond):\n",
    "    value = (-99999 if cond else 0)\n",
    "    d = dist.Bernoulli(logits=value)\n",
    "    pyro.sample(name, d, obs=torch.ones(1))"
   ]
  },
  {
   "cell_type": "markdown",
   "metadata": {},
   "source": [
    "## Comments\n",
    "<!--\n",
    "mht: some similar ideas (and examples) are presented in occams razor chapter. make sure the division of labor is good.\n",
    "\n",
    "ndg: after moving earlier in the book, some major revisions are in order:\n",
    "  -remove or move+shorten the spinning coin stuff, which is mostly about cogitive models and then bda of cognitive models.\n",
    "  -start with the existing simple models illustrating the kinds of questions one asks with BDA and the metrics for answers (BF, CI, etc)\n",
    "  -then do a slightly more complex model: regression analysis.\n",
    "  -then do BDA of cognitive models.\n",
    "  -then do full tug-of-war example. needs to be cleaned up for clarity.\n",
    "\n",
    "  -consider splitting into two chapters, with model selection stuff in part 2 occurring after occam's razor chapter. LMER models also make more sense there....\n",
    "  -need to add some discussion of CIs.\n",
    "  -Include illustrations of each point with regression models, as wel as simpler models that are there now.\n",
    "  -include some discussion of contamination models and other stadard BDA model idioms.\n",
    "  -most of the editor.put and .get things are unecessary?\n",
    "  -the data munging is pretty crazy. use more standard DF library?\n",
    "  -dist.MAP() seems suspect....\n",
    "  -posterior predictive checks are not very well explained -- need to show an example of a good result, not just the bad one. (also having only two data points makes it hard to understand the scatter plot...)\n",
    "\n",
    "  -a bit of advanced discussion? eg time varrying data, optional stopping?\n",
    "-->"
   ]
  },
  {
   "cell_type": "markdown",
   "metadata": {},
   "source": [
    "# Intro"
   ]
  },
  {
   "cell_type": "markdown",
   "metadata": {},
   "source": [
    "Inference by conditioning a generative model is a basic building block of Bayesian statistics.\n",
    "In cognitive science this tool can be used in two ways.\n",
    "If the generative model is a hypothesis about a person's model of the world, then we have a Bayesian *cognitive model* -- the main topic of this book.\n",
    "\n",
    "If the generative model is instead the scientist's model of how the data are generated, then we have *Bayesian data analysis*.\n",
    "Bayesian data analysis can be an extremely useful tool to us as scientists, when we are trying to understand what our data mean about psychological hypotheses.\n",
    "\n",
    "This can become confusing: a particular modeling assumption can be something we hypothesize that people assume about the world, or can be something that we as scientists want to assume (but don't assume that people assume).\n",
    "A pithy way of saying this is that we can make assumptions about \"Bayes in the head\" (Bayesian cognitive models) or about \"Bayes in the notebook\" (Bayesian data analysis)."
   ]
  },
  {
   "cell_type": "markdown",
   "metadata": {},
   "source": [
    "## Aside: Spinning coins"
   ]
  },
  {
   "cell_type": "markdown",
   "metadata": {},
   "source": [
    "Coins, in their production, have a number of physical dimensions along which they vary.\n",
    "These idiosyncracies have no impact on the behavior of a coin when flipped.\n",
    "Flipping, it turns out, cross-cuts certain dimensions, and the probability that any modern coin in production will land on heads when flipped is roughly 0.5.\n",
    "\n",
    "It turns out spinning a coin is quite different.\n",
    "The heterogeneity of individual coins can be seen in their behavior when spun: The probability that any given coin will land on heads after being *spun* is not 0.5.\n",
    "The probability that a given coin will spin to heads depends in complicated ways upon the idiosyncracies of that coin.\n",
    "(N.B. This knowledge is attributed to Persi Diaconis, Dept. of Statistics, Stanford, who M.H.T. was fortunate enough to hear  describe his experiments on coins.)"
   ]
  },
  {
   "cell_type": "markdown",
   "metadata": {},
   "source": [
    "## People's models of coins"
   ]
  },
  {
   "cell_type": "markdown",
   "metadata": {},
   "source": [
    "Imagine I give you a coin, and want you to estimate the probability it will spin to heads.\n",
    "Given what you know, the most reasonable prior belief is to expect *any* probability of the coin spinning to heads.\n",
    "This can be captured in a uniform prior on $p$, the probability that a coin when spun will land on heads: `var p = uniform(0,1)`.\n",
    "\n",
    "You conduct an experiment.\n",
    "You spin the coin 20 times.\n",
    "Fifteen out of these 20 times, the coin spins to heads.\n",
    "\n",
    "Let's say you can win \\$10 if you can predict the next coin flip (heads or tail).\n",
    "What would you predict (Heads or Tails)?\n",
    "\n",
    "Let's consider a slightly more challenging question.\n",
    "You pay me \\$10 if you are wrong, but if you are correct, I pay you.\n",
    "How much do you propose you take from me, should you guess correctly?\n",
    "\n",
    "Imagine you demand \\$10 for being correct.\n",
    "\n",
    "(If you guess correctly, you win \\$10. If you guess incorrectly, you lose \\$10.)  TODO - escape markdown\n",
    "\n",
    "If we believed the coin would spin to Heads or Tails with equal probability, this is a fair betting scheme.\n",
    "But if we believe the coin is biased to spin to one side or the other with greater than 50% probability, you should offer me more than \\$10, given that you get to choose which side counts as winning for you."
   ]
  },
  {
   "cell_type": "code",
   "execution_count": null,
   "metadata": {},
   "outputs": [],
   "source": [
    "observer_model = function(){\n",
    "  p = dist.Uniform(0, 1)\n",
    "  coin_spinner = dist.Binomial({n:20, p:p})\n",
    "  observe(coin_spinner, 15)\n",
    "  return p\n",
    "}\n",
    "\n",
    "opts = {method: \"rejection\", samples: 5000}\n",
    "posterior_beliefs = Infer(opts, observer_model)\n",
    "print(\"Expected value = \" + expectation(posterior_beliefs))\n",
    "viz.density(posterior_beliefs, {bounds: [0,1]})"
   ]
  },
  {
   "cell_type": "markdown",
   "metadata": {},
   "source": [
    "The model above is a hypothesis about how a person updates her prior beliefs about the probability of a coin being spun to heads, upon conducting 20 trials of a spinning experiment.\n",
    "We can use this model to make predictions about other kinds of questions we could then ask the observer.\n",
    "For instance, let's take up the bet of whether or not the *next spin* will go to heads.\n",
    "Also, consider if you were to make 10 more spins: How many of them would go to heads?"
   ]
  },
  {
   "cell_type": "code",
   "execution_count": null,
   "metadata": {},
   "outputs": [],
   "source": [
    "observer_model = function(){\n",
    "  p = dist.Uniform(0, 1)\n",
    "  coin_spinner = dist.Binomial({n:20, p:p})\n",
    "  observe(coin_spinner, 15)\n",
    "  return {\n",
    "    next_outcome: bernoulli(p),\n",
    "    next_ten_outcomes: dist.Binomial(p, 10)\n",
    "  }\n",
    "}\n",
    "\n",
    "opts = {method: \"rejection\", samples: 5000}\n",
    "posterior_beliefs = Infer(opts, observer_model)\n",
    "viz_marginals(posterior_beliefs)"
   ]
  },
  {
   "cell_type": "markdown",
   "metadata": {},
   "source": [
    "A model can be used to make predictions about different tasks.\n",
    "Models are useful in this way: *They are tools for thinking through the implications of hypotheses*.\n",
    "In this model, we formalized the hypothesis that people reason about the weight of a coin by assuming the outcomes they observe (i.e., the 15 out of 20 heads) are independent results of spinning the coin, which has some unknown proclivity to be spun to heads.\n",
    "This reasoning supports responses to other types of questions such as \"How likely is the next spin to land on heads?\".\n",
    "We use the same model to see what our hypothesis predicts given this new question.\n",
    "Each question could be thought of as a different experiment you could run to test the same hypothesis/model.\n",
    "\n",
    "Above, we have one hypothesis about a person thinking about the spinning coins experiments.\n",
    "There are other hypotheses we could make about this experiment.\n",
    "Rather than have uniform prior beliefs, maybe people port their knowledge of flipping behavior, and believe with some probability that spinning coins will behave similarly: There is a reasonable chance that spinning coins is as random as flipping coins.\n",
    "But if that belief is not well supported, the observer can accommodate that by inferring that the behavior of spinning coins is quite different than that of flipping coins (as I explained above). If the observer believes the behavior of spinning coins is *different* than that of flipping coins, the model takes on the form of the model above: uniform beliefs about `p`.\n",
    "We'll call the new model that assumes people's expectations about spinning behavior are influenced by their knowledge of flipping behavior (namely, the observer believes the behavior of spinning coins could be the *same* as that of flipping coins) the `skeptical_model` because it is, in a way, skeptical of the story I told you above about spinning coins."
   ]
  },
  {
   "cell_type": "code",
   "execution_count": null,
   "metadata": {},
   "outputs": [],
   "source": [
    "skeptical_model = function(){\n",
    "  same_as_flipping = flip(0.5)\n",
    "  p = same_as_flipping ? 0.5 : dist.Uniform(0, 1)\n",
    "  coin_spinner = dist.Binomial({n:20, p:p})\n",
    "  observe(coin_spinner, 15)\n",
    "  return {\n",
    "    same_as_flipping: same_as_flipping,\n",
    "    p: p,\n",
    "    next_outcome: flip(p),\n",
    "    next_ten_outcomes: dist.Binomial(p, 10)\n",
    "  }\n",
    "}\n",
    "\n",
    "opts = {method: \"rejection\", samples: 5000}\n",
    "posterior_beliefs = Infer(opts, skeptical_model)\n",
    "viz_marginals(posterior_beliefs)"
   ]
  },
  {
   "cell_type": "markdown",
   "metadata": {},
   "source": [
    "The predictions are subtly different.\n",
    "`skeptical_model` pulls the predictions more towards 50/50.\n",
    "Why is that?\n",
    "\n",
    "One way to understand this model is to examine the prior.\n",
    "Try commenting out the `observe` statement and looking at the predictions.\n",
    "Examine the plots for `p` and `next_ten_outcomes`.\n",
    "The prior favors `p` around 0.5 and `next_ten_outcomes` to be about 5.\n",
    "This is because we assume there is a `0.5` probability that the behavior is the same as flipping (`same_as_flipping = flip(0.5)`).\n",
    "If indeed it is the same as flipping, `p = 0.5` and the resulting `next_ten_outcomes` would be biased towards expecting around 5 heads.\n",
    "If it's not the same as flipping, then the predictions are the same as the `observer_model`.\n",
    "The prior is a mixture of these two possibilities."
   ]
  },
  {
   "cell_type": "markdown",
   "metadata": {},
   "source": [
    "## Scientists' models of people"
   ]
  },
  {
   "cell_type": "markdown",
   "metadata": {},
   "source": [
    "The above models instantiate different hypotheses about the coin spinning experiemnts, and  make different predictions about what people will do in this situation.\n",
    "We could recruit volunteers, run experiments in a laboratory, and record our participants' responses.\n",
    "But, how are we to decide which model is better?\n",
    "\n",
    "One way to begin to address this would be to ask ourselves: How much do we believe in each model?\n",
    "At this point, both models seem totally reasonable to me: I would say I believe in each of them equally.\n",
    "Okay, then how are we supposed to update these beliefs?\n",
    "\n",
    "Since each model makes predictions about what we should observe in an experiment, we already know how to update our beliefs in these models based on the experimental data we observed.\n",
    "We simply `observe` the data, assuming that it was generated by the better model.\n",
    "\n",
    "\n",
    "```python\n",
    "scientist_model = function(){\n",
    "\n",
    "  the_better_model = flip(0.5) ? observer_model : skeptical_model\n",
    "\n",
    "  observe(the_better_model, experimental_data)\n",
    "\n",
    "  return the_better_model\n",
    "}\n",
    "```\n",
    "\n",
    "Note that we are assuming \"the better model\" generated the data because that is how we are defining what \"better\" is (i.e., it is a better explanation of how the data were generated).\n",
    "\n",
    "We have now instantiated our scientific process as a probabilistic program, doing Bayesian inference.\n",
    "This is the foundation of Bayesian data analysis.\n",
    "\n",
    "We must specify prior beliefs about which is the better model in this case we say that we don't have any bias in our prior beliefs: each model is equally likely to be better *a priori*.\n",
    "We then seek to update our beliefs about which is the better model, by observing `experimental_data`, assuming that it came from `the_better_model`.\n",
    "\n",
    "Imagine we ran the \"predict the next 10\" experiment with 20 participants, and observed the following responses:\n",
    "\n",
    "\n",
    "<!--\n",
    "to generate expt data:\n",
    "fair_unfair_model = function(){\n",
    "  isFair = flip(0.5)\n",
    "  weight = isFair ? 0.5 : dist.Uniform(0, 1)\n",
    "  coinFlipper = dist.Binomial({n:20, p:weight})\n",
    "  observe(coinFlipper, 15)\n",
    "  return dist.Binomial(weight, 10)\n",
    "}\n",
    "opts = {method: \"rejection\", samples: 5000}\n",
    "posterior_beliefs = Infer(opts, fair_unfair_model)\n",
    "repeat(20, function(){sample(posterior_beliefs)})\n",
    "-->\n",
    "\n",
    "```python\n",
    "experimental_data = [9,8,7,5,4,5,6,7,9,4,8,7,8,3,9,6,5,7,8,5]\n",
    "```\n",
    "\n",
    "Look again at the model predictions for `next_ten_outcomes` for the two models above.\n",
    "Which model do you think is better?\n",
    "\n",
    "We are now ready to put all the pieces together:"
   ]
  },
  {
   "cell_type": "code",
   "execution_count": null,
   "metadata": {},
   "outputs": [],
   "source": [
    "###fold:\n",
    "opts = {method: \"rejection\", samples: 5000}\n",
    "print(\"generating observer model predictions\")\n",
    "observer_model =  Infer(opts, function(){\n",
    "  p = dist.Uniform(0, 1)\n",
    "  coin_spinner = dist.Binomial({n:20, p:p})\n",
    "  observe(coin_spinner, 15)\n",
    "  return dist.Binomial(p, 10)\n",
    "})\n",
    "viz(observer_model)\n",
    "\n",
    "print(\"generating skeptical model predictions\")\n",
    "skeptical_model =  Infer(opts, function(){\n",
    "  same_as_flipping = flip(0.5)\n",
    "  p = same_as_flipping ? 0.5 : dist.Uniform(0, 1)\n",
    "  coin_spinner = dist.Binomial({n:20, p:p})\n",
    "  observe(coin_spinner, 15)\n",
    "  return dist.Binomial(p, 10)\n",
    "})\n",
    "###\n",
    "viz(skeptical_model)\n",
    "\n",
    "experimental_data = [9,8,7,5,4,5,6,7,9,4,8,7,8,3,9,6,5,7,8,5]\n",
    "\n",
    "# package the models up in an Object (for ease of reference)\n",
    "modelObject = {observer_model: observer_model, skeptical_model: skeptical_model}\n",
    "\n",
    "scientist_model = function(){\n",
    "  the_better_model_name = flip(0.5) ? \"observer_model\" : \"skeptical_model\"\n",
    "  the_better_model = modelObject[the_better_model_name]\n",
    "  map(function(d){ observe(the_better_model, d) }, experimental_data)\n",
    "  return {betterModel: the_better_model_name}\n",
    "}\n",
    "\n",
    "model_posterior = Infer({method: \"enumerate\"}, scientist_model)\n",
    "\n",
    "viz(model_posterior)"
   ]
  },
  {
   "cell_type": "markdown",
   "metadata": {},
   "source": [
    "What is the result of the model comparison model (which model is preferred)?\n",
    "\n",
    "Examine the predictions of each individual model and look at the `experimental_data`.\n",
    "The differences in model predictions are subtle.\n",
    "What parts of the experimental data are leading to the `scientist_model` preferring one model over another?"
   ]
  },
  {
   "cell_type": "markdown",
   "metadata": {},
   "source": [
    "### Closing remarks to Prologue"
   ]
  },
  {
   "cell_type": "markdown",
   "metadata": {},
   "source": [
    "We've just walked through a complete example of formalizing a cognitive model (i.e., a hypothesis) in a probabilistic program and building a probabilistic program to decide among competing hypotheses.\n",
    "The rest of this chapter will be focused on examining each part in more detail.\n",
    "\n",
    "<!--\n",
    "#### Introduce a parameter into FairUnfair?\n",
    "-->"
   ]
  },
  {
   "cell_type": "markdown",
   "metadata": {},
   "source": [
    "# Learning about a hypothesis"
   ]
  },
  {
   "cell_type": "markdown",
   "metadata": {},
   "source": [
    "Bayesian data analysis is a general purpose data analysis approach for making explicit hypotheses about the generative process behind the experimental data (i.e., how was the experimental data generated? e.g., the hypothesis that data from two experimental conditions came from two different distributions).\n",
    "After making explicit hypotheses, Bayesian inference can be used to *invert* the model: go from experimental data to updated beliefs about the hypotheses.\n",
    "\n",
    "For further reading on Bayesian data analysis: see [Lee & Wagenmakers (2013)](https://bayesmodels.com/),\n",
    "[Kruschke (2014)](https://sites.google.com/site/doingbayesiandataanalysis/), and [Gelman et al. (2014)](http://www.stat.columbia.edu/~gelman/book/)."
   ]
  },
  {
   "cell_type": "markdown",
   "metadata": {},
   "source": [
    "## Parameters and predictives"
   ]
  },
  {
   "cell_type": "markdown",
   "metadata": {},
   "source": [
    "Models have parameters.\n",
    "Parameters can be of theoretical interest or not (so-called, nuisance parameters).\n",
    "Learning about a hypothesis involves inferences based on the values of parameters.\n",
    "For example, you want to find out how likely it is that Candidate A will win an election.\n",
    "To do this, you try to estimate the proportion of eligible voters in the United States who will vote for Candidate A in the election.\n",
    "\n",
    "Parameters are in general unobservable (or, \"latent\").\n",
    "Trying to estimate how many (voting age, likely to vote) people prefer Candidate A vs. Candidate B would require asking over 100 million people (it's estimated that about 130 million people voted in the US Presidential Elections in 2008 and 2012).\n",
    "It's impractical to measure the whole distribution.\n",
    "Instead, what is done is measuring a sample (maybe we ask 1000 people), and use that to make inference about the \"true population proportion\" (an unobservable parameter).\n",
    "\n",
    "Bayes’ rule provides a bridge between the unobserved parameters of models and the observed data.\n",
    "We can update our beliefs about parameters from data.\n",
    "Additionally, the \"Bayes bridge\" can go from parameters to data: we can use our updated beliefs about a parameter to make predictions about future data sets.\n",
    "\n",
    "For a given Bayesian model (together with data), there are four conceptually distinct distributions of interest:\n",
    "\n",
    "For parameters, we have priors and posteriors:\n",
    "\n",
    "+ The *prior distribution over parameters* captures our initial state of knowledge (or, our beliefs) about the values that the latent parameters could have.\n",
    "+ The *posterior distribution over parameters* captures what we know about the latent parameters having updated our beliefs with the evidence provided by data.\n",
    "\n",
    "We can run either the prior or the posterior model forward, and have it make predictions about data sets:\n",
    "\n",
    "+ The *prior predictive distribution* tells us what data to expect, given our model and our initial beliefs about the parameters.\n",
    "The prior predictive is a distribution over data, and gives the relative probability of different *observable* outcomes before we have seen any data.\n",
    "+ The *posterior predictive distribution* tells us what data to expect, given the same model we started with, but with beliefs that have been updated by the observed data. The posterior predictive is a distribution over data, and gives the relative probability of different observable outcomes, after some data has been seen.\n",
    "\n",
    "Loosely speaking, *predictive* distributions are in \"data space\" and *parameter* distributions are in \"latent parameter space\"."
   ]
  },
  {
   "cell_type": "markdown",
   "metadata": {},
   "source": [
    "## A simple illustration"
   ]
  },
  {
   "cell_type": "markdown",
   "metadata": {},
   "source": [
    "Here, we explore the result of an experiment with 20 trials and binary outcomes (e.g., asking people if they'll vote for Candidate A or Candidate B, ...).\n",
    "Note that is the same model as the \"observer_model\" above."
   ]
  },
  {
   "cell_type": "code",
   "execution_count": null,
   "metadata": {},
   "outputs": [],
   "source": [
    "# observed data\n",
    "k = 1 # number of people who support candidate A\n",
    "n = 20  # number of people asked\n",
    "\n",
    "model = function() {\n",
    "\n",
    "   # true population proportion who support candidate A\n",
    "   p = dist.Uniform(0, 1)\n",
    "\n",
    "   # Observed k people support \"A\"\n",
    "   # Assuming each person's response is independent of each other\n",
    "   observe(dist.Binomial({p : p, n: n}), k)\n",
    "\n",
    "   # predict what the next n will say\n",
    "   posterior_predictive = dist.Binomial(p, n)\n",
    "\n",
    "   # recreate model structure, without observe\n",
    "   prior_p = dist.Uniform(0, 1)\n",
    "   prior_predictive = dist.Binomial(prior_p, n)\n",
    "\n",
    "   return {\n",
    "       prior: prior_p, prior_predictive : prior_predictive,\n",
    "       posterior : p, posterior_predictive : posterior_predictive\n",
    "    }\n",
    "}\n",
    "\n",
    "opts = {method: \"rejection\", samples: 2000}\n",
    "posterior = Infer(opts, model)\n",
    "\n",
    "viz_marginals(posterior)\n"
   ]
  },
  {
   "cell_type": "markdown",
   "metadata": {},
   "source": [
    "Try to interpret each plot, and how they relate to each other.\n",
    "Why are some plots densities and others bar graphs?\n",
    "Understanding these ideas is a key to understanding Bayesian analysis.\n",
    "Check your understanding by trying other data sets, varying both `k` and `n`.\n",
    "\n",
    "<!-- 2. Try different priors on `p`, by changing `p = dist.Uniform(0, 1)` to `p = beta(10,10)`, `beta(1,5)` and `beta(0.1,0.1)`. Use the figures produced to understand the assumptions these priors capture, and how they interact with the same data to produce posterior inferences and predictions.\n",
    "\n",
    "3. Predictive distributions are not restricted to exactly the same experiment as the observed data, and can be used in the context of any experiment where the inferred model parameters make predictions. In the current simple dist.Binomial setting, for example, predictive distributions could be found by an experiment that is different because it has `n' != n` observations. Change the model to implement an example of this.\n",
    " -->"
   ]
  },
  {
   "cell_type": "markdown",
   "metadata": {},
   "source": [
    "## Posterior prediction and model checking"
   ]
  },
  {
   "cell_type": "markdown",
   "metadata": {},
   "source": [
    "The posterior predictive distribution describes what data you should expect to see, given the model you've assumed and the data you've collected so far.\n",
    "If the model is a good description of the data you've collected, then the model shouldn't be surprised if you got the same data by running the experiment again.\n",
    "That is, the most likely data for your model after observing your data should be the data you observed.\n",
    "\n",
    "It's natural then to use the posterior predictive distribution to examine the descriptive adequacy of a model.\n",
    "If these predictions do not match the data *already seen* (i.e., the data used to arrive at the posterior distribution over parameters), the model is descriptively inadequate.\n",
    "\n",
    "Imagine you're a developmental psychologist, piloting a two-alternative forced choice task on young children.\n",
    "(Just for fun, let's pretend it's a helping study, where the child either chooses to help or not help a confederate in need.)\n",
    "You have two research assistants that you send to two different preschools to collect data.\n",
    "You got your first batch of data back today: For one of your research assistants, 10 out of 10 children tested helped the confederate in need. For the other research assitant, 0 out of 10 children tested helped.\n",
    "\n",
    "We'll use the `editor.put()` function to save our results so we can look at the them in different code boxes."
   ]
  },
  {
   "cell_type": "code",
   "execution_count": null,
   "metadata": {},
   "outputs": [],
   "source": [
    "# \"Kids who help\" in 2 experiments\n",
    "k1 = 0\n",
    "k2 = 10\n",
    "\n",
    "# Number of kids in 2 experiments\n",
    "n1 = 10\n",
    "n2 = 10\n",
    "\n",
    "def model():\n",
    "\n",
    "    # \"true effect in the population\"\n",
    "    p = dist.Uniform(0, 1)\n",
    "\n",
    "    # observed data from 2 experiments\n",
    "    observe(dist.Binomial(p, n1), k1)\n",
    "    observe(dist.Binomial(p, n2), k2)\n",
    "\n",
    "    # posterior prediction\n",
    "    posterior_predictive1 = dist.Binomial(p, n1)\n",
    "    posterior_predictive2 = dist.Binomial(p, n2)\n",
    "\n",
    "    return {\n",
    "        'parameter': p,\n",
    "        'predictive': {\n",
    "            'predictive1': posterior_predictive1,\n",
    "            'predictive2': posterior_predictive2\n",
    "        }\n",
    "    }\n",
    "\n",
    "opts = {\n",
    "    method: \"MCMC\", \n",
    "    callbacks: [editor.MCMCProgress()],\n",
    "    samples: 20000, \n",
    "    burn: 10000,\n",
    "}\n",
    "\n",
    "posterior = Infer(opts, model)\n",
    "\n",
    "posterior_predictive = marginalize(posterior, lambda x: x['predictive'])\n",
    "# save results for future code boxes\n",
    "editor.put(\"posterior_predictive\", posterior_predictive)\n",
    "\n",
    "parameter_posterior = marginalize(posterior, lambda x: x['parameter'])\n",
    "viz_density(parameter_posterior, {bounds: [0, 1]})\n"
   ]
  },
  {
   "cell_type": "markdown",
   "metadata": {},
   "source": [
    "Looks like a reasonable posterior distribution.\n",
    "\n",
    "How does the posterior predictive look?"
   ]
  },
  {
   "cell_type": "code",
   "execution_count": null,
   "metadata": {},
   "outputs": [],
   "source": [
    "posterior_predictive = editor.get(\"posterior_predictive\")\n",
    "viz(posterior_predictive)"
   ]
  },
  {
   "cell_type": "markdown",
   "metadata": {},
   "source": [
    "This plot will be a heat map because our posterior predictive distributions is over two dimensions (i.e., future data points collected by experimenter 1 and experimenter 2).\n",
    "The intensity of the color represents the probability.\n",
    "\n",
    "How well does it recreate the observed data?\n",
    "Where in this 2-d grid would our observed data land?\n",
    "\n",
    "Another way of visualizing the model-data fit is to examine a scatterplot.\n",
    "Here, we will plot the \"Maximum A-Posteriori\" value as a point-estimate of the posterior predictive distribution.\n",
    "If the data is well predicted by the posterior predictive (i.e., the model is able to accommodate the data well), it would fall along the y = x line."
   ]
  },
  {
   "cell_type": "code",
   "execution_count": null,
   "metadata": {},
   "outputs": [],
   "source": [
    "k1 = 0, k2 = 10\n",
    "posterior_predictive = editor.get(\"posterior_predictive\")\n",
    "posterior_predictive_MAP = posterior_predictive.MAP().val\n",
    "viz_scatter([\n",
    "   {model: posterior_predictive_MAP.predictive1, data: k1},\n",
    "   {model: posterior_predictive_MAP.predictive2, data: k2}\n",
    "])\n"
   ]
  },
  {
   "cell_type": "markdown",
   "metadata": {},
   "source": [
    "How well does the posterior predictive match the data?\n",
    "What can you conclude about the parameter `p`?\n",
    "\n",
    "<!-- **TODO: This doesn't yet quite make the point about what a model check is. Show example of typical posterior predictive scatter plot?**\n",
    " -->\n",
    "<!--\n",
    "### Exercises 2\n",
    "\n",
    "1.  What do you conclude about the descriptive adequacy of the model, based on the relationship between the observed data and the posterior predictive distribution? Recall the observed data is `k1 = 0 n1 = 10` and  `k2 = 10 n2 = 10`.\n",
    "\n",
    "2. What can you conclude about the parameter `theta`?\n",
    "-->\n",
    "\n",
    "<!--\n",
    "Basics from [PPAML school](http://probmods.github.io/ppaml2016/chapters/5-data.html)\n",
    "-->"
   ]
  },
  {
   "cell_type": "markdown",
   "metadata": {},
   "source": [
    "# Comparing hypotheses"
   ]
  },
  {
   "cell_type": "markdown",
   "metadata": {},
   "source": [
    "In the above examples, we've had a single data-analysis model and used the experimental data to learn about the parameters of the models and the descriptive adequacy of the models.\n",
    "Often as scientists, we are in fortunate position of having multiple, distinct models in hand, and want to decide if one or another is a better description of the data.\n",
    "Indeed, we saw an example with the spinning coins when we decided whether `\"observer_model\"` or  `\"skeptical_model\"` was a better explanation of some data.\n",
    "\n",
    "In that example, model comparison was shown a special case of learning about the parameters of a model.\n",
    "In that case, we defined an uber model (`scientist_model`), that had a binary decision parameter that we wanted to learn about (which one of the models was better).\n",
    "We did this by having a binary decision variable gate between which of our two models we let generate the data.\n",
    "We then go backwards (performing Bayesian inference) to decide which model was more likely to have generated the data we observed.\n",
    "\n",
    "We take the same approach here, articulating a simple data analysis model for model comparison.\n",
    "We observe some number of binary outcomes and want to decide if the pattern we see is random or not (e.g., to see if the helping behavior \"is systematic\" [assuming we've figured out the weird stuff going on with the experimenters before]).\n",
    "This model mimics a simple cognitive model for subjective randomness, which we will explore in another chapter of this book on Subjective Randomness.\n",
    "\n",
    "Formally, a \"true random\" pattern would be generated by a coin with probability of doing one or other binary outcome as 0.5 (a fair coin) a \"non random\" pattern would be generated by a trick coin.\n",
    "We run into our first complication: A fair coin is simple to define: `Bernoulli({p: 0.5})`, but how can we treat a trick coin?\n",
    "For purposes of scientific hypothesis testing, a trick coin is formalized as a coin with some *unknown* weight:\n",
    "\n",
    "```python\n",
    "p = dist.Uniform(0,1)\n",
    "Bernoulli({p: p})\n",
    "```\n",
    "\n",
    "Using this to now compare models:"
   ]
  },
  {
   "cell_type": "code",
   "execution_count": null,
   "metadata": {},
   "outputs": [],
   "source": [
    "k = 7, n = 20\n",
    "\n",
    "compare_models = function() {\n",
    "\n",
    "  # binary decision variable for which hypothesis is better\n",
    "  x = flip(0.5) ? \"simple\" : \"complex\"\n",
    "  p = (x == \"simple\") ? 0.5 : dist.Uniform(0, 1)\n",
    "\n",
    "  observe(dist.Binomial({p: p, n: n}), k)\n",
    "\n",
    "  return {model: x}\n",
    "}\n",
    "\n",
    "opts = {method: \"rejection\", samples: 2000}\n",
    "print(\"We observed \" + k + \" successes out of \" + n + \" attempts\")\n",
    "model_posterior = Infer(opts, compare_models)\n",
    "viz(model_posterior)"
   ]
  },
  {
   "cell_type": "markdown",
   "metadata": {},
   "source": [
    "This model is an example from the classical hypothesis testing framework.\n",
    "We consider a model that fixes one of its parameters to a pre-specified value of interest (here $\\mathcal{H_0} : p = 0.5$).\n",
    "This is sometimes referred to as a *null hypothesis*.\n",
    "The other model says that the parameter is free to vary.\n",
    "In the classical hypothesis testing framework, we would write: ${H_1} : p \\neq 0.5$.\n",
    "With Bayesian hypothesis testing, we must be explicit about what $p$ is (not just what p is not), so we write ${H_1} : p \\sim \\text{Uniform}(0, 1) $.\n",
    "\n",
    "One might have a conceptual worry: Isn't the second model just a more general case of the first model?\n",
    "That is, if the second model has a uniform distribution over `p`, then `p: 0.5` is included in the second model.\n",
    "This is what's called a *nested model*.\n",
    "\n",
    "Shouldn't the more general model always be better?\n",
    "If we're at a track, and you bet on horse A, and I bet on horse A and B, aren't I strictly in a better position than you?\n",
    "The answer is no, and the reason has to do with our metric for winning.\n",
    "Intuitively, we don't care whether your horse won or not, but how much money you win.\n",
    "How much money you win depends on how much money you bet, and the rule is, when we go to track, we have the same amount of money.\n",
    "\n",
    "In probabilistic models, our money is probabilities. Each model must allocate its probability so that it sums to 1.\n",
    "So my act of betting on horse A and horse B actually requires me to split my money (say, betting 50 / 50 on each).\n",
    "On the other hand, you put all your money on horse A (100 on A, 0 on B).\n",
    "If A wins, you will gain more money because you put more money down.\n",
    "\n",
    "This idea is called the principle of parsimony or Occam's razor, and will be discussed at length later in this book.\n",
    "For now, it's sufficient to know that more complex models will be penalized for being more complex, intuitively because they will be diluting their predictions.\n",
    "At the same time, more complex models are more flexible and can capture a wider variety of data (they are able to bet on more horses, which increases the chance that they will win some money).\n",
    "Bayesian model comparison lets us weigh these costs and benefits."
   ]
  },
  {
   "cell_type": "markdown",
   "metadata": {},
   "source": [
    "## Bayes' factor"
   ]
  },
  {
   "cell_type": "markdown",
   "metadata": {},
   "source": [
    "What we are plotting above are **posterior model probabilities**.\n",
    "These are a function of the marginal likelihoods of the data under each hypothesis and the prior model probabilities (here, defined to be equal: `flip(0.5)`).\n",
    "Sometimes, scientists feel a bit strange about reporting values that are based on prior model probabilities (what if scientists have different priors as to the relative plausibility of the hypotheses?) and so often report the ratio of marginal likelihoods, a quantity known as a *Bayes Factor*.\n",
    "\n",
    "Let's compute the Bayes' Factor, by computing the likelihood of the data under each hypothesis."
   ]
  },
  {
   "cell_type": "code",
   "execution_count": null,
   "metadata": {},
   "outputs": [],
   "source": [
    "k = 7, n = 20\n",
    "\n",
    "simple_likelihood = np.exp(dist.Binomial(0.5, n).score(k))\n",
    "\n",
    "complex_model = Infer({method: \"forward\", samples: 10000}, function(){\n",
    "  p = dist.Uniform(0, 1)\n",
    "  return dist.Binomial(p, n)\n",
    "})\n",
    "complex_likelihood = np.exp(complex_model.score(k))\n",
    "\n",
    "bayes_factor_01 = simple_likelihood / complex_likelihood\n",
    "bayes_factor_01\n"
   ]
  },
  {
   "cell_type": "markdown",
   "metadata": {},
   "source": [
    "How does the Bayes Factor in this case relate to posterior model probabilities above?"
   ]
  },
  {
   "cell_type": "markdown",
   "metadata": {},
   "source": [
    "## Savage-Dickey method"
   ]
  },
  {
   "cell_type": "markdown",
   "metadata": {},
   "source": [
    "For this example, the Bayes factor can be obtained by integrating out the model parameter (using `Infer` with `{method: \"forward\"}`).\n",
    "However, it is not always easy to get good estimates of the two marginal probabilities.\n",
    "It turns out, the Bayes factor can also be obtained by considering *only* the more complex hypothesis ($\\mathcal{H}_1$).\n",
    "\n",
    "What you do is look at the distribution over the parameter of interest (here, $p$) at the point of interest (here, $p = 0.5$).\n",
    "Dividing the probability density of the posterior by the density of the prior (of the parameter at the point of interest) also gives you the Bayes Factor!\n",
    "\n",
    "This perhaps surprising result was described by Dickey and Lientz (1970), and they attribute it to Leonard \"Jimmie\" Savage.\n",
    "The method is called the *Savage-Dickey density ratio* and is widely used in experimental science.\n",
    "\n",
    "We would use it like so:"
   ]
  },
  {
   "cell_type": "code",
   "execution_count": 1,
   "metadata": {
    "ExecuteTime": {
     "end_time": "2019-07-22T05:54:33.929855Z",
     "start_time": "2019-07-22T05:54:33.923580Z"
    }
   },
   "outputs": [
    {
     "ename": "SyntaxError",
     "evalue": "invalid syntax (<ipython-input-1-370799a7d653>, line 3)",
     "output_type": "error",
     "traceback": [
      "\u001b[0;36m  File \u001b[0;32m\"<ipython-input-1-370799a7d653>\"\u001b[0;36m, line \u001b[0;32m3\u001b[0m\n\u001b[0;31m    complex_model_prior = Infer({method: \"forward\", samples: 10000}, function(){\u001b[0m\n\u001b[0m                                                                               ^\u001b[0m\n\u001b[0;31mSyntaxError\u001b[0m\u001b[0;31m:\u001b[0m invalid syntax\n"
     ]
    }
   ],
   "source": [
    "k = 7, n = 20\n",
    "\n",
    "complex_model_prior = Infer({method: \"forward\", samples: 10000}, function(){\n",
    "  p = dist.Uniform(0, 1)\n",
    "  return p\n",
    "})\n",
    "\n",
    "complex_model_posterior = Infer({method: \"rejection\", samples: 10000}, function(){\n",
    "  p = dist.Uniform(0, 1)\n",
    "  observe(dist.Binomial({p: p, n: n}), k)\n",
    "  return p\n",
    "})\n",
    "\n",
    "savage_dickey_denominator = expectation(complex_model_prior, lambda x: np.abs(x - 0.5) < 0.05)\n",
    "savage_dickey_numerator = expectation(complex_model_posterior, lambda x: np.abs(x - 0.5) < 0.05)\n",
    "savage_dickey_ratio = savage_dickey_numerator / savage_dickey_denominator\n",
    "print( savage_dickey_ratio )\n"
   ]
  },
  {
   "cell_type": "markdown",
   "metadata": {},
   "source": [
    "(Note that we have approximated the densities by looking at the expectation that $p$ is within $0.05$ of the target value $p=0.5$.)\n",
    "\n",
    "<!--\n",
    "**Discuss difficulties with model comparison? (harmonic mean estimators, mcmc for likelihoods)**\n",
    "-->\n",
    "\n",
    "<!-- # Linking functions\n",
    " -->"
   ]
  },
  {
   "cell_type": "markdown",
   "metadata": {},
   "source": [
    "# Example: Linear regression and tug of war"
   ]
  },
  {
   "cell_type": "markdown",
   "metadata": {},
   "source": [
    "One of the virtues of Bayesian data analysis is its ability to interface with Bayesian models of cognition in a natural way.\n",
    "Bayesian cognitive models are formalizations of hypotheses about cognition, which we then can test with an experiment.\n",
    "We can contrast our rich Bayesian cognitive models with more standard models from data science, like linear regression, and evaluate them all using Bayesian data analysis.\n",
    "\n",
    "Regression is the workhorse of data science.\n",
    "Regression models are useful in situations when you have (1) data and (2) some (potentially vague) hypotheses about how variables relate to each other (e.g., that demographics might predict political party affiliation [in some unspecified way]).\n",
    "In psychology and many other behavioral sciences, experiments are often constructed with discrete/categorical manipulations (e.g., measuring processing time of words vs. pseudowords).\n",
    "The question \"is A greater than B?\" (is the processing time of words faster than the processing time of pseudowords?) can be answered using a regression model.\n",
    "\n",
    "To explore a Bayesian linear regression model, we will use data from the Tug-of-War experiment by @Gerstenberg2012.\n",
    "Let's be good data scientists, and start by just taking a look at the data set, found in the `tow_data` variable (available in this page only)."
   ]
  },
  {
   "cell_type": "code",
   "execution_count": null,
   "metadata": {},
   "outputs": [],
   "source": [
    "levels = function(a, lvl){ return _.uniq(_.map(a, lvl)) }\n",
    "\n",
    "# display single row of the data frame\n",
    "print(tow_data[0])\n",
    "# display unique levels of \"pattern\" variable\n",
    "print(levels(tow_data, \"pattern\"))\n",
    "# display unique levels of \"tournament\" variable\n",
    "print(levels(tow_data, \"tournament\"))\n",
    "# display unique levels of \"nWins\" variable\n",
    "print(levels(tow_data, \"nWins\"))\n",
    "# display unique levels of \"id\" variable [participant id]\n",
    "print(levels(tow_data, \"id\"))\n"
   ]
  },
  {
   "cell_type": "markdown",
   "metadata": {},
   "source": [
    "The first line printed is a line from our data set: one participant on one trial.\n",
    "We see that it has many different fields, including the trial number, their raw rating (\"rating\"), a normalized score (\"ratingZ\"), and information about the experimental condition.\n",
    "Here, this was the condition \"confounded evidence\" in a \"singles\" tournament: here, the target player won 3 times against the same player (for a full list of the experimental conditions see @Gerstenberg2012 Tables 2 and 3).\n",
    "\n",
    "The other lines show the unique values different variables can take on.\n",
    "\n",
    "Let's plot the `ratingZ` variable (a normalized rating)."
   ]
  },
  {
   "cell_type": "markdown",
   "metadata": {},
   "source": [
    "viz_hist(_.map(tow_data, \"ratingZ\"))"
   ]
  },
  {
   "cell_type": "markdown",
   "metadata": {},
   "source": [
    "This distribution of ratings is from all trials, all participants, all experimental conditions.\n",
    "We see that the ratings range from about -2 to 2.\n",
    "The most likely ratings are one standard deviation above or below the mean, though some ratings are at the mean of 0."
   ]
  },
  {
   "cell_type": "markdown",
   "metadata": {},
   "source": [
    "## Single regression"
   ]
  },
  {
   "cell_type": "markdown",
   "metadata": {},
   "source": [
    "Let's say we ran this experiment and hypothesized that the number of times the target character won (`\"nWins\"` in the data set) is a predictor of how participants' ratings of strength.\n",
    "We'll formalize this in a Bayesian regression framework, where ratings of strength $r$ are a linear combination of a fixed intercept $\\beta_0$ and weighted component of number of wins $\\beta_1 *  n_{wins}$.\n",
    "\n",
    "$y_{predicted} = \\beta_0 + \\beta_1 * n_{wins}$\n",
    "\n",
    "Because we're in the business of building generative models, we will have to be explicit about how $y_{predicted}$ relates to the actual rating data we observed.\n",
    "We make the standard assumption that the actual ratings are normally distributed around $y_{predicted}$, with some noise $\\sigma$. [This is analagous to having \"randomly distributed errors\".]\n",
    "\n",
    "$d \\sim \\mathcal{N}(y_{predicted}, \\sigma)$\n",
    "\n",
    "This is a model of our data.\n",
    "As in cognitive models, we will put priors on the parameters: $\\beta_0, \\beta_1, \\sigma$, and infer their likely values by conditioning on the observed data."
   ]
  },
  {
   "cell_type": "code",
   "execution_count": null,
   "metadata": {},
   "outputs": [],
   "source": [
    "# alternative proposal distribution for metropolis-hastings algorithm\n",
    "uniform_kernel = function(prev_val) {\n",
    "  return dist.Uniform({a: prev_val - 0.2, b: prev_val + 0.2})\n",
    "}\n",
    "\n",
    "singleRegression = function(){\n",
    "  # parameters of a simple linear regression\n",
    "  b0 = sample(dist.Uniform({a: -1, b: 1}), {drift_kernel: uniform_kernel})\n",
    "  b1 = sample(dist.Uniform({a: -1, b: 1}), {drift_kernel: uniform_kernel})\n",
    "  sigma = sample(dist.Uniform({a: 0, b: 2}), {drift_kernel: uniform_kernel})\n",
    "\n",
    "  map(function(d){\n",
    "\n",
    "    # linear regression formula\n",
    "    predicted_y = b0 + d.nWins*b1\n",
    "\n",
    "    observe(dist.Normal({mu: predicted_y, sigma: sigma}), d.ratingZ)\n",
    "\n",
    "  }, tow_data)\n",
    "\n",
    "  return {b0: b0, b1: b1, sigma: sigma}\n",
    "}\n",
    "\n",
    "num_samples = 2500\n",
    "opts = { method: \"MCMC\", callbacks: [editor.MCMCProgress()],\n",
    "             samples: num_samples, burn: num_samples/2 }\n",
    "\n",
    "posterior = Infer(opts, singleRegression)\n",
    "\n",
    "editor.put(\"singleRegression\", posterior)"
   ]
  },
  {
   "cell_type": "code",
   "execution_count": null,
   "metadata": {},
   "outputs": [],
   "source": [
    "posterior = editor.get(\"singleRegression\")\n",
    "viz_marginals(posterior)"
   ]
  },
  {
   "cell_type": "markdown",
   "metadata": {},
   "source": [
    "The posteriors are somewhat noisy because we haven't taken that many samples.\n",
    "We see that the intercept $\\beta_0$ is around 0, which we might expect given that our data is normalized.\n",
    "The slope weight $\\beta_1$ is around 0.35, with relatively low variance around that.\n",
    "The fact that it's very unlikely for $\\beta_1$ to be 0 suggests that there is an effect of the number of times the actor has won in Tug of War on participants' judgments of the relative strength of that actor, as we might hope.\n",
    "$\\sigma$ is almost around 0.5, which seems a little bit high given that the full range of the response ratings is 4 (-2 to +2)."
   ]
  },
  {
   "cell_type": "markdown",
   "metadata": {},
   "source": [
    "### Model criticism with posterior prediction"
   ]
  },
  {
   "cell_type": "markdown",
   "metadata": {},
   "source": [
    "We can now critique the model by asking how well it would generate our data.\n",
    "To do this, we look at the posterior predictive distribution.\n",
    "There are 20 different experimental conditions (wins vs. loss, singles vs. doubles, and 4 - 6 different kinds of tournaments).\n",
    "We want to examine our predictions for each of these conditions separately, so we rewrite the model slightly by mapping over each condition variable separately."
   ]
  },
  {
   "cell_type": "code",
   "execution_count": null,
   "metadata": {},
   "outputs": [],
   "source": [
    "merge = function(m, d){\n",
    "  keys = _.keys(d)\n",
    "  map(function(k){return {model: m[k], data: d[k], item:k} }, keys)\n",
    "}\n",
    "\n",
    "levels = function(a, lvl){ return _.uniq(_.map(a, lvl)) }\n",
    "\n",
    "outcomes = levels(tow_data, \"outcome\")\n",
    "tournaments = levels(tow_data, \"tournament\")\n",
    "patterns = {\n",
    "  single: levels(_.filter(tow_data, {tournament: \"single\"}), \"pattern\"),\n",
    "  double: levels(_.filter(tow_data, {tournament: \"double\"}), \"pattern\")\n",
    "}\n",
    "\n",
    "# alternative proposal distribution for metropolis-hastings algorithm\n",
    "uniform_kernel = function(prev_val) {\n",
    "  return dist.Uniform({a: prev_val - 0.2, b: prev_val + 0.2})\n",
    "}\n",
    "\n",
    "singleRegression = function(){\n",
    "  b0 = sample(dist.Uniform({a: -1, b: 1}), {drift_kernel: uniform_kernel})\n",
    "  b1 = sample(dist.Uniform({a: -1, b: 1}), {drift_kernel: uniform_kernel})\n",
    "  sigma = sample(dist.Uniform({a: 0, b: 2}), {drift_kernel: uniform_kernel})\n",
    "\n",
    "  predictions = map(function(tournament){\n",
    "    return map(function(outcome){\n",
    "      return map(function(pattern){\n",
    "\n",
    "        item_info = {pattern: pattern, tournament: tournament, outcome: outcome}\n",
    "        item_data = _.filter(tow_data, item_info)\n",
    "\n",
    "        # linear regression formula\n",
    "        predicted_y = b0 + item_data[0][\"nWins\"]*b1\n",
    "\n",
    "        map(function(d){ observe(dist.Normal({mu: predicted_y, sigma: sigma}), d.ratingZ)}, item_data)\n",
    "\n",
    "        return [pattern + \"_\" + tournament + \"_\" + outcome, predicted_y]\n",
    "\n",
    "      }, patterns[tournament]) # singles tournaments don't have all patterns\n",
    "    }, outcomes)\n",
    "  }, tournaments)\n",
    "\n",
    "  # nasty data munging\n",
    "  return _.fromPairs(_.flattenDepth(predictions, 2))\n",
    "}\n",
    "\n",
    "num_samples = 500\n",
    "opts = { method: \"MCMC\", callbacks: [editor.MCMCProgress()],\n",
    "             samples: num_samples, burn: num_samples/2 }\n",
    "\n",
    "posterior = Infer(opts, singleRegression)\n",
    "\n",
    "model_data_df = merge(posterior.MAP().val, towMeans)\n",
    "\n",
    "viz_scatter(model_data_df)\n",
    "editor.put('singleRegression', posterior)\n",
    "editor.put('model_data_df', model_data_df)"
   ]
  },
  {
   "cell_type": "code",
   "execution_count": null,
   "metadata": {},
   "outputs": [],
   "source": [
    "# Todo: have summary data include match schematics (Tables 2 & 3)\n",
    "# or just include tables 2 and 3 from paper -->\n",
    "\n",
    "###fold:\n",
    "correlation = function(xs, ys) {\n",
    "    mx = sum(xs)/xs.length,\n",
    "        my = sum(ys)/ys.length\n",
    "    num = sum(map2(function(x,y) { (x-mx) * (y-my)}, xs, ys))\n",
    "    den = np.sqrt(sum(map(function(x) { (x-mx) * (x-mx)},xs))) *\n",
    "        np.sqrt(sum(map(function(y) { (y-my) * (y-my)},ys)))\n",
    "    return num/den\n",
    "}\n",
    "###\n",
    "\n",
    "model_data_df = editor.get('model_data_df')\n",
    "\n",
    "summary_data = map(function(x){\n",
    "  return _.extend(x, {sq_err: np.pow(x.model-x.data, 2)})\n",
    "}, model_data_df)\n",
    "\n",
    "print(\"Mean squared error = \" + listMean(_.map(summary_data, \"sq_err\")))\n",
    "\n",
    "variance_explained = np.pow(correlation(_.map(summary_data, \"data\"), _.map(summary_data, \"model\")), 2)\n",
    "print(\"Model explains \" + np.round(variance_explained*100) + \"% of the data\")\n",
    "\n",
    "viz_table(summary_data)"
   ]
  },
  {
   "cell_type": "markdown",
   "metadata": {},
   "source": [
    "The simple linear regression does surprisingly well on this data set (at least at predicting the mean responses).\n",
    "This is important to know; it provides a standard against which we can evaluate richer models.\n",
    "\n",
    "At the same time, we observe in the posterior predictive scatterplot that not all the linear model is predicting certain symmetries that don't come out.\n",
    "Why might that be?"
   ]
  },
  {
   "cell_type": "markdown",
   "metadata": {},
   "source": [
    "## Mutiple regression"
   ]
  },
  {
   "cell_type": "markdown",
   "metadata": {},
   "source": [
    "Now, some of the conditions has Alice winning against the same person, so maybe it's also important how many unique wins she has.\n",
    "\n",
    "$y_{predicted} = \\beta_0 + \\beta_1 * n_{wins} + \\beta_2 * wins_{unique}$"
   ]
  },
  {
   "cell_type": "code",
   "execution_count": null,
   "metadata": {},
   "outputs": [],
   "source": [
    "###fold:\n",
    "levels = function(a, lvl){ return _.uniq(_.map(a, lvl)) }\n",
    "\n",
    "outcomes = levels(tow_data, \"outcome\")\n",
    "tournaments = levels(tow_data, \"tournament\")\n",
    "patterns = {\n",
    "  single: levels(_.filter(tow_data, {tournament: \"single\"}), \"pattern\"),\n",
    "  double: levels(_.filter(tow_data, {tournament: \"double\"}), \"pattern\")\n",
    "}\n",
    "\n",
    "# alternative proposal distribution for metropolis-hastings algorithm\n",
    "uniform_kernel = function(prev_val) {\n",
    "  return dist.Uniform({a: prev_val - 0.2, b: prev_val + 0.2})\n",
    "}\n",
    "###\n",
    "\n",
    "multiple_regression = function(){\n",
    "  b0 = sample(dist.Uniform({a: -1, b: 1}), {drift_kernel: uniform_kernel})\n",
    "  b1 = sample(dist.Uniform({a: -1, b: 1}), {drift_kernel: uniform_kernel})\n",
    "  b2 = sample(dist.Uniform({a: -1, b: 1}), {drift_kernel: uniform_kernel})\n",
    "  sigma = sample(dist.Uniform({a: 0, b: 2}), {drift_kernel: uniform_kernel})\n",
    "\n",
    "\n",
    "  predictions = map(function(tournament){\n",
    "    return map(function(outcome){\n",
    "      return map(function(pattern){\n",
    "\n",
    "        item_info = {pattern: pattern, tournament: tournament, outcome: outcome}\n",
    "        item_data = _.filter(tow_data, item_info)\n",
    "\n",
    "        # linear equation\n",
    "        predicted_y = b0 + item_data[0][\"nWins\"]*b1 + item_data[0][\"nUniqueWins\"]*b2\n",
    "\n",
    "        map(function(d){ observe(dist.Normal({mu: predicted_y, sigma: sigma}), d.ratingZ) }, item_data)\n",
    "\n",
    "        return [pattern + \"_\" + tournament + \"_\" + outcome, predicted_y]\n",
    "\n",
    "      }, patterns[tournament]) # singles tournaments don't have all patterns\n",
    "    }, outcomes)\n",
    "  }, tournaments)\n",
    "\n",
    "  return {\n",
    "    parameters: {b0: b0, b1: b1, b2: b2, sigma: sigma},\n",
    "    predictives: _.fromPairs(_.flattenDepth(predictions, 2))\n",
    "  }\n",
    "}\n",
    "\n",
    "num_samples = 1000\n",
    "opts = { method: \"MCMC\", kernel: 'MH',\n",
    "            callbacks: [editor.MCMCProgress()],\n",
    "             samples: num_samples, burn: num_samples/2 }\n",
    "\n",
    "posterior = Infer(opts, multiple_regression)\n",
    "editor.put('multiRegression', posterior)"
   ]
  },
  {
   "cell_type": "markdown",
   "metadata": {},
   "source": [
    "Look at parameters."
   ]
  },
  {
   "cell_type": "code",
   "execution_count": 2,
   "metadata": {
    "ExecuteTime": {
     "end_time": "2019-07-22T05:57:07.063572Z",
     "start_time": "2019-07-22T05:57:07.059767Z"
    }
   },
   "outputs": [
    {
     "ename": "SyntaxError",
     "evalue": "invalid syntax (<ipython-input-2-731d837cfeb8>, line 2)",
     "output_type": "error",
     "traceback": [
      "\u001b[0;36m  File \u001b[0;32m\"<ipython-input-2-731d837cfeb8>\"\u001b[0;36m, line \u001b[0;32m2\u001b[0m\n\u001b[0;31m    parameterPosterior = marginalize(posterior, function(x){return x.parameters})\u001b[0m\n\u001b[0m                                                           ^\u001b[0m\n\u001b[0;31mSyntaxError\u001b[0m\u001b[0;31m:\u001b[0m invalid syntax\n"
     ]
    }
   ],
   "source": [
    "posterior = editor.get('multiRegression')\n",
    "parameterPosterior = marginalize(posterior, function(x){return x.parameters})\n",
    "viz_marginals(parameterPosterior)"
   ]
  },
  {
   "cell_type": "markdown",
   "metadata": {},
   "source": [
    "We see that $\\beta_2$ is also probably not 0, suggesting that the number of *unique* wins a player has is relavent for predicting participants' judgments of their strength.\n",
    "How well does the model fit the data?"
   ]
  },
  {
   "cell_type": "code",
   "execution_count": null,
   "metadata": {},
   "outputs": [],
   "source": [
    "###fold:\n",
    "merge = function(m, d){\n",
    "  keys = _.keys(d)\n",
    "  return map(function(k){return {model: m[k], data: d[k], item:k} }, keys)\n",
    "}\n",
    "correlation = function(xs, ys) {\n",
    "    mx = sum(xs)/xs.length,\n",
    "        my = sum(ys)/ys.length\n",
    "    num = sum(map2(function(x,y) { (x-mx) * (y-my)}, xs, ys))\n",
    "    den = np.sqrt(sum(map(function(x) { (x-mx) * (x-mx)},xs))) *\n",
    "        np.sqrt(sum(map(function(y) { (y-my) * (y-my)},ys)))\n",
    "    return num/den\n",
    "}\n",
    "###\n",
    "posterior = editor.get('multiRegression')\n",
    "posterior_predictive = marginalize(posterior, function(x){return x.predictives})\n",
    "\n",
    "model_data_df = merge(posterior_predictive.MAP().val, towMeans)\n",
    "\n",
    "\n",
    "summary_data = map(function(x){\n",
    "  return _.extend(x, {sq_err: np.pow(x.model-x.data, 2)})\n",
    "}, model_data_df)\n",
    "\n",
    "print(\"Mean squared error = \" + listMean(_.map(summary_data, \"sq_err\")))\n",
    "variance_explained = np.pow(correlation(_.map(summary_data, \"data\"), _.map(summary_data, \"model\")), 2)\n",
    "print(\"Model explains \" + np.round(variance_explained*100) + \"% of the data\")\n",
    "\n",
    "viz_scatter(model_data_df)\n",
    "\n",
    "viz_table(summary_data)"
   ]
  },
  {
   "cell_type": "markdown",
   "metadata": {},
   "source": [
    "The multiple linear regression model fit is improved a little bit, but still fails to predict meaningful difference between certain conditions.\n",
    "\n",
    "With regressions like these, we're often asking binary questions (e.g., \"is this parameter 0 or not?\").\n",
    "These kinds of questions provide just a few bits of information.\n",
    "Instantiating a hypothesis in a cognitive model can answer more than just categorical questions by testing a richer theory of the data."
   ]
  },
  {
   "cell_type": "markdown",
   "metadata": {},
   "source": [
    "## BDA of Tug-of-war model"
   ]
  },
  {
   "cell_type": "markdown",
   "metadata": {},
   "source": [
    "Recall the Tug-of-war model from the chapter on [conditioning]({{site.baseurl}}/chapters/conditioning.html)."
   ]
  },
  {
   "cell_type": "code",
   "execution_count": null,
   "metadata": {},
   "outputs": [],
   "source": [
    "options = {method: 'rejection', samples: 1000}\n",
    "\n",
    "laziness_prior = 0.3\n",
    "lazy_pulling = 0.5\n",
    "\n",
    "model = function() {\n",
    "\n",
    "  strength = mem(function(person){\n",
    "    return dist.Normal(0, 1)\n",
    "  })\n",
    "  lazy = function(person){\n",
    "    return flip(laziness_prior)\n",
    "  }\n",
    "  pulling = function(person) {\n",
    "    return lazy(person) ?\n",
    "            strength(person) * lazy_pulling :\n",
    "            strength(person)\n",
    "  }\n",
    "  total_pulling = function(team){return sum(map(pulling, team)) }\n",
    "  winner = function(team1, team2){\n",
    "    total_pulling(team1) > total_pulling(team2) ? team1 : team2\n",
    "  }\n",
    "  beat = function(team1,team2){winner(team1,team2) == team1}\n",
    "\n",
    "  condition(beat([\"bob\", \"mary\"], [\"tom\", \"sue\"]))\n",
    "\n",
    "  return strength(\"bob\")\n",
    "}\n",
    "\n",
    "posterior = Infer(options, model)\n",
    "print(\"Bob's strength, given that he and Mary beat Tom and Sue\")\n",
    "\n",
    "print(\"Expected value = \" + expectation(posterior))\n",
    "viz(posterior)"
   ]
  },
  {
   "cell_type": "markdown",
   "metadata": {},
   "source": [
    "### Learning about the Tug-of-War model"
   ]
  },
  {
   "cell_type": "markdown",
   "metadata": {},
   "source": [
    "To learn more about (and test) the tug-of-war model, we're going to connect it to the data from the experiment.\n",
    "You'll notice that we have two parameters in this model: the proportion of a person's strength they pull with when they are being lazy (`lazy_pulling`) and the prior probability of a person being lazy (`laziness_prior`).\n",
    "Above, we set these parameters to be `0.5` and `0.3`, respectively.\n",
    "People are lazy about a third of the time, and when they are lazy, they pull with half their strength.\n",
    "(Technical note: Because we are comparing relative strengths and we have normalized the human ratings, we don't have to infer the parameters of the gaussian in `strength`.\n",
    "We just use the standard normal distribution.)\n",
    "\n",
    "Those parameter values aren't central to our hypothesis.\n",
    "They are peripheral details to the larger hypothesis which is that people reason about team games like Tug of War by running a structured, generative model in their heads and doing posterior inference.\n",
    "Rather than guessing at what values we should put for these parameters, we can use the data to inform our beliefs about what those parameters are likely to be (assuming the general model is a good one)."
   ]
  },
  {
   "cell_type": "code",
   "execution_count": null,
   "metadata": {},
   "outputs": [],
   "source": [
    "###fold:\n",
    "levels = function(a, lvl){ return _.uniq(_.map(a, lvl)) }\n",
    "\n",
    "outcomes = levels(tow_data, \"outcome\")\n",
    "tournaments = levels(tow_data, \"tournament\")\n",
    "patterns = {\n",
    "  single: levels(_.filter(tow_data, {tournament: \"single\"}), \"pattern\"),\n",
    "  double: levels(_.filter(tow_data, {tournament: \"double\"}), \"pattern\")\n",
    "}\n",
    "\n",
    "round = function(x){\n",
    "  return np.round(x*10)/10\n",
    "}\n",
    "\n",
    "bins = map(round, _.range(-2.2, 2.2, 0.1))\n",
    "\n",
    "# alternative proposal distribution for metropolis-hastings algorithm\n",
    "laziness_prior_kernel = function(prev_val) {\n",
    "  return dist.Uniform({a: prev_val - 0.1, b: prev_val + 0.1})\n",
    "}\n",
    "lazy_pullingKernel = function(prev_val) {\n",
    "  return dist.Uniform({a: prev_val - 0.2, b: prev_val + 0.2})\n",
    "}\n",
    "###\n",
    "\n",
    "# add a tiny bit of noise, and make sure every bin has at least epsilon probability\n",
    "smooth_to_bins = function(dist, sigma, bins){\n",
    "  Infer({method: \"enumerate\"}, function(){\n",
    "    x = sample(dist)\n",
    "    smoothedProbs = map(function(b){return Number.EPSILON+np.exp(dist.Normal({mu: x, sigma: sigma}).score(b)) }, bins)\n",
    "    return categorical(smoothedProbs, bins)\n",
    "  })\n",
    "}\n",
    "\n",
    "tug_of_war_Opts = {method: \"rejection\", samples: 500}\n",
    "\n",
    "tug_of_war_Model = function(lazy_pulling, laziness_prior, match_info){\n",
    "  Infer(tug_of_war_Opts, function(){\n",
    "\n",
    "    strength = mem(function(person){\n",
    "      return dist.Normal(0, 1)\n",
    "    })\n",
    "\n",
    "    lazy = function(person){\n",
    "      return flip(laziness_prior)\n",
    "    }\n",
    "    pulling = function(person) {\n",
    "      return lazy(person) ?\n",
    "              strength(person) * lazy_pulling :\n",
    "              strength(person)\n",
    "    }\n",
    "    total_pulling = function(team){return sum(map(pulling, team)) }\n",
    "    winner = function(team1, team2){\n",
    "      total_pulling(team1) > total_pulling(team2) ? team1 : team2\n",
    "    }\n",
    "    beat = function(team1,team2){winner(team1,team2) == team1}\n",
    "\n",
    "    condition(beat(match_info.winner1, match_info.loser1))\n",
    "    condition(beat(match_info.winner2, match_info.loser2))\n",
    "    condition(beat(match_info.winner3, match_info.loser3))\n",
    "\n",
    "    return round(strength(\"A\"))\n",
    "\n",
    "  })\n",
    "}\n",
    "\n",
    "data_analysis_model = function(){\n",
    "  laziness_prior = sample(dist.Uniform({a: 0, b: 0.5}), {drift_kernel: laziness_prior_kernel})\n",
    "  lazy_pulling = sample(dist.Uniform({a: 0, b: 1}), {drift_kernel: lazy_pullingKernel})\n",
    "\n",
    "  predictions = map(function(tournament){\n",
    "    return map(function(outcome){\n",
    "      return map(function(pattern){\n",
    "\n",
    "\n",
    "        item_info = {pattern: pattern, tournament: tournament, outcome: outcome}\n",
    "        # participants' ratings\n",
    "        item_data = _.filter(tow_data, item_info)\n",
    "\n",
    "        # information about the winners and losers\n",
    "        match_information = _.filter(matchConfigurations, item_info)[0]\n",
    "\n",
    "        model_posterior = tug_of_war_Model(lazy_pulling, laziness_prior, match_information)\n",
    "        smoothed_predictions = smooth_to_bins(model_posterior, 0.05, bins)\n",
    "\n",
    "        map(function(d){ observe(smoothed_predictions, d.roundedRating) }, item_data)\n",
    "\n",
    "        return [pattern + \"_\" + tournament + \"_\" + outcome, expectation(model_posterior)]\n",
    "\n",
    "      }, patterns[tournament]) # singles tournaments don't have all patterns\n",
    "    }, outcomes)\n",
    "  }, tournaments)\n",
    "\n",
    "  return {\n",
    "    parameters: {laziness_prior: laziness_prior, lazy_pulling: lazy_pulling},\n",
    "    predictives: _.fromPairs(_.flattenDepth(predictions, 2))\n",
    "  }\n",
    "}\n",
    "\n",
    "num_samples = 20\n",
    "opts = { method: \"MCMC\",\n",
    "            callbacks: [editor.MCMCProgress()],\n",
    "             samples: num_samples, burn: 0 }\n",
    "\n",
    "posterior = Infer(opts, data_analysis_model)\n",
    "editor.put(\"bda_bcm\", posterior)"
   ]
  },
  {
   "cell_type": "markdown",
   "metadata": {},
   "source": [
    "Look at parameters."
   ]
  },
  {
   "cell_type": "code",
   "execution_count": null,
   "metadata": {},
   "outputs": [],
   "source": [
    "posterior = editor.get('bda_bcm')\n",
    "parameter_posterior = marginalize(posterior, function(x) {return x.parameters})\n",
    "viz_marginals(parameter_posterior)"
   ]
  },
  {
   "cell_type": "markdown",
   "metadata": {},
   "source": [
    "Critique posterior predictive"
   ]
  },
  {
   "cell_type": "code",
   "execution_count": 3,
   "metadata": {
    "ExecuteTime": {
     "end_time": "2019-07-22T05:58:29.347894Z",
     "start_time": "2019-07-22T05:58:29.340080Z"
    }
   },
   "outputs": [
    {
     "ename": "SyntaxError",
     "evalue": "invalid syntax (<ipython-input-3-b9fc45374579>, line 2)",
     "output_type": "error",
     "traceback": [
      "\u001b[0;36m  File \u001b[0;32m\"<ipython-input-3-b9fc45374579>\"\u001b[0;36m, line \u001b[0;32m2\u001b[0m\n\u001b[0;31m    merge = function(m, d){\u001b[0m\n\u001b[0m                          ^\u001b[0m\n\u001b[0;31mSyntaxError\u001b[0m\u001b[0;31m:\u001b[0m invalid syntax\n"
     ]
    }
   ],
   "source": [
    "###fold:\n",
    "merge = function(m, d){\n",
    "  keys = _.keys(d)\n",
    "  return map(function(k){return {model: m[k], data: d[k], item:k} }, keys)\n",
    "}\n",
    "correlation = function(xs, ys) {\n",
    "    mx = sum(xs)/xs.length\n",
    "    my = sum(ys)/ys.length\n",
    "    num = sum(map2(function(x,y) { (x-mx) * (y-my)}, xs, ys))\n",
    "    den = np.sqrt(sum(map(function(x) { (x-mx) * (x-mx)},xs))) *\n",
    "        np.sqrt(sum(map(function(y) { (y-my) * (y-my)},ys)))\n",
    "    return num/den\n",
    "}\n",
    "###\n",
    "posterior = editor.get('bda_bcm')\n",
    "posterior_predictive = marginalize(posterior, function(x) {return x.predictives})\n",
    "\n",
    "model_data_df = merge(posterior_predictive.MAP().val, towMeans)\n",
    "\n",
    "\n",
    "summary_data = map(function(x){\n",
    "  return _.extend(x, {sq_err: np.pow(x.model-x.data, 2)})\n",
    "}, model_data_df)\n",
    "\n",
    "print(\"Mean squared error = \" + listMean(_.map(summary_data, \"sq_err\")))\n",
    "variance_explained = np.pow(correlation(_.map(summary_data, \"data\"), _.map(summary_data, \"model\")), 2)\n",
    "print(\"Model explains \" + np.round(variance_explained*100) + \"% of the data\")\n",
    "\n",
    "viz_scatter(model_data_df)\n",
    "viz_table(summary_data)"
   ]
  },
  {
   "cell_type": "markdown",
   "metadata": {},
   "source": [
    "An extended analysis of the Tug of War model (using [RWebPPL](https://github.com/mhtess/rwebppl)) can be found [here](http://rpubs.com/mhtess/bda-tow).\n",
    "<!--TODO: link to a few BDA textbooks here-->\n",
    "\n",
    "Test your knowledge: [Exercises]({{site.baseurl}}/exercises/bayesian-data-analysis.html)\n",
    "\n",
    "Reading & Discussion: [Readings]({{site.baseurl}}/readings/bayesian-data-analysis.html)"
   ]
  }
 ],
 "metadata": {
  "kernelspec": {
   "display_name": "Python 3",
   "language": "python",
   "name": "python3"
  },
  "language_info": {
   "codemirror_mode": {
    "name": "ipython",
    "version": 3
   },
   "file_extension": ".py",
   "mimetype": "text/x-python",
   "name": "python",
   "nbconvert_exporter": "python",
   "pygments_lexer": "ipython3",
   "version": "3.7.1"
  },
  "toc": {
   "base_numbering": 1,
   "nav_menu": {},
   "number_sections": true,
   "sideBar": true,
   "skip_h1_title": false,
   "title_cell": "Table of Contents",
   "title_sidebar": "Contents",
   "toc_cell": false,
   "toc_position": {},
   "toc_section_display": true,
   "toc_window_display": false
  },
  "varInspector": {
   "cols": {
    "lenName": 16,
    "lenType": 16,
    "lenVar": 40
   },
   "kernels_config": {
    "python": {
     "delete_cmd_postfix": "",
     "delete_cmd_prefix": "del ",
     "library": "var_list.py",
     "varRefreshCmd": "print(var_dic_list())"
    },
    "r": {
     "delete_cmd_postfix": ") ",
     "delete_cmd_prefix": "rm(",
     "library": "var_list.r",
     "varRefreshCmd": "cat(var_dic_list()) "
    }
   },
   "types_to_exclude": [
    "module",
    "function",
    "builtin_function_or_method",
    "instance",
    "_Feature"
   ],
   "window_display": false
  }
 },
 "nbformat": 4,
 "nbformat_minor": 2
}
